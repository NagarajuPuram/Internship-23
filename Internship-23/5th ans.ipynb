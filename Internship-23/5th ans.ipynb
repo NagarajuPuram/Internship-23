{
 "cells": [
  {
   "cell_type": "markdown",
   "id": "a5e1c644",
   "metadata": {},
   "source": [
    "Q5: Scrape 100 reviews data from flipkart.com for iphone11 phone. You have to go the link: https://www.flipkart.com/apple-iphone-11-black-64-gb-includes- earpods-power- adapter/p/itm0f37c2240b217?pid=MOBFKCTSVZAXUHGR&lid=LSTMOBFKC TSVZAXUHGREPBFGI&marketplace\n",
    "When you will open the above link you will reach to the below shown webpage .\n",
    "As shown in the above page you have to scrape the tick marked attributes.These are:\n",
    "1. Rating\n",
    "2. Review summary\n",
    "3. Full review\n",
    "4. You have to scrape this data for first 100 reviews.\n",
    "Note: All the steps required during scraping should be done through code only and not manually."
   ]
  },
  {
   "cell_type": "code",
   "execution_count": 1,
   "id": "524e3613",
   "metadata": {},
   "outputs": [],
   "source": [
    "# import required liabraries\n",
    "import selenium\n",
    "from selenium import webdriver\n",
    "import pandas as pd\n",
    "import warnings\n",
    "warnings.filterwarnings(\"ignore\")"
   ]
  },
  {
   "cell_type": "code",
   "execution_count": 2,
   "id": "9a563f79",
   "metadata": {},
   "outputs": [],
   "source": [
    "# coonection to webdriver\n",
    "driver=webdriver.Chrome(\"D:\\Internship Problems\\selenium\\chromedriver_win32\\chromedriver.exe\")"
   ]
  },
  {
   "cell_type": "code",
   "execution_count": 3,
   "id": "fa1f0671",
   "metadata": {},
   "outputs": [],
   "source": [
    "# coonection to webdriver\n",
    "url=\"https://www.flipkart.com/apple-iphone-11-black-64-gb-includes-earpods-power-adapter/p/itm0f37c2240b217?pid=MOBFKCTSVZAXUHGR&lid=LSTMOBFKC\"\n",
    "driver.get(url)"
   ]
  },
  {
   "cell_type": "code",
   "execution_count": 69,
   "id": "5ab9d65f",
   "metadata": {},
   "outputs": [
    {
     "data": {
      "text/plain": [
       "[<selenium.webdriver.remote.webelement.WebElement (session=\"74d64b79f90b871afe772d88a64a8508\", element=\"6f03b872-8473-4201-9d94-fdff01c8898e\")>,\n",
       " <selenium.webdriver.remote.webelement.WebElement (session=\"74d64b79f90b871afe772d88a64a8508\", element=\"b392a4f1-92af-4109-86ee-24f8a9015ee8\")>,\n",
       " <selenium.webdriver.remote.webelement.WebElement (session=\"74d64b79f90b871afe772d88a64a8508\", element=\"00eb42b5-8107-4a88-9579-1bb82c09ee33\")>,\n",
       " <selenium.webdriver.remote.webelement.WebElement (session=\"74d64b79f90b871afe772d88a64a8508\", element=\"b77e6c3a-1932-43b1-8cd4-b60a07909b46\")>,\n",
       " <selenium.webdriver.remote.webelement.WebElement (session=\"74d64b79f90b871afe772d88a64a8508\", element=\"99112f07-143c-4a84-868a-ced5a2f3378f\")>,\n",
       " <selenium.webdriver.remote.webelement.WebElement (session=\"74d64b79f90b871afe772d88a64a8508\", element=\"7d5272ef-523d-4dbf-a961-58e47fa458cb\")>,\n",
       " <selenium.webdriver.remote.webelement.WebElement (session=\"74d64b79f90b871afe772d88a64a8508\", element=\"1e066971-8217-43d2-a15e-e21bf53d3576\")>,\n",
       " <selenium.webdriver.remote.webelement.WebElement (session=\"74d64b79f90b871afe772d88a64a8508\", element=\"0114e640-39a4-47cc-9580-28cc0e088d21\")>,\n",
       " <selenium.webdriver.remote.webelement.WebElement (session=\"74d64b79f90b871afe772d88a64a8508\", element=\"206446a9-182b-4e9e-b9e0-8014b1a72d71\")>,\n",
       " <selenium.webdriver.remote.webelement.WebElement (session=\"74d64b79f90b871afe772d88a64a8508\", element=\"3ca7a233-6a64-44b1-9e5f-510a814fc0db\")>]"
      ]
     },
     "execution_count": 69,
     "metadata": {},
     "output_type": "execute_result"
    }
   ],
   "source": [
    "# scrap rating using xpath\n",
    "rating_tag1=driver.find_elements_by_xpath('//div[@class=\"_3LWZlK _1BLPMq\"]')\n",
    "rating_tag1"
   ]
  },
  {
   "cell_type": "code",
   "execution_count": 70,
   "id": "28576553",
   "metadata": {},
   "outputs": [
    {
     "data": {
      "text/plain": [
       "['5', '5', '5', '5', '5', '5', '5', '5', '3', '5']"
      ]
     },
     "execution_count": 70,
     "metadata": {},
     "output_type": "execute_result"
    }
   ],
   "source": [
    "# scrap the ratings\n",
    "rating1=[]\n",
    "for i in rating_tag1:\n",
    "    rating1.append(i.text)\n",
    "rating1"
   ]
  },
  {
   "cell_type": "code",
   "execution_count": 71,
   "id": "686b2616",
   "metadata": {},
   "outputs": [
    {
     "data": {
      "text/plain": [
       "[<selenium.webdriver.remote.webelement.WebElement (session=\"74d64b79f90b871afe772d88a64a8508\", element=\"d70c15af-6d5b-48e8-ac1c-e674d3bd41ef\")>,\n",
       " <selenium.webdriver.remote.webelement.WebElement (session=\"74d64b79f90b871afe772d88a64a8508\", element=\"384fe81f-094a-489d-8fd2-32021a2ce9f7\")>,\n",
       " <selenium.webdriver.remote.webelement.WebElement (session=\"74d64b79f90b871afe772d88a64a8508\", element=\"abeed610-d21b-4e54-90c8-624bfe2093af\")>,\n",
       " <selenium.webdriver.remote.webelement.WebElement (session=\"74d64b79f90b871afe772d88a64a8508\", element=\"4e49de0d-65f4-4acb-9c8a-c54581237198\")>,\n",
       " <selenium.webdriver.remote.webelement.WebElement (session=\"74d64b79f90b871afe772d88a64a8508\", element=\"a0ec1b9a-659f-450f-b52f-3bccde6512e9\")>,\n",
       " <selenium.webdriver.remote.webelement.WebElement (session=\"74d64b79f90b871afe772d88a64a8508\", element=\"107781eb-58ec-4746-b56f-bb78f8dea359\")>,\n",
       " <selenium.webdriver.remote.webelement.WebElement (session=\"74d64b79f90b871afe772d88a64a8508\", element=\"8aa40cd4-c41a-4430-a591-3bff584c9dfc\")>,\n",
       " <selenium.webdriver.remote.webelement.WebElement (session=\"74d64b79f90b871afe772d88a64a8508\", element=\"9f0cbba1-5f61-4bb5-ab96-ebd1520640da\")>,\n",
       " <selenium.webdriver.remote.webelement.WebElement (session=\"74d64b79f90b871afe772d88a64a8508\", element=\"611d9b63-4970-429c-99af-cc47af3e7d89\")>,\n",
       " <selenium.webdriver.remote.webelement.WebElement (session=\"74d64b79f90b871afe772d88a64a8508\", element=\"28dc5759-a178-4594-842c-6cdf5d1419f2\")>]"
      ]
     },
     "execution_count": 71,
     "metadata": {},
     "output_type": "execute_result"
    }
   ],
   "source": [
    "# scrapping the review sumary by xpath\n",
    "review_sum_tag1=driver.find_elements_by_xpath('//p[@class=\"_2-N8zT\"]')\n",
    "review_sum_tag1"
   ]
  },
  {
   "cell_type": "code",
   "execution_count": 72,
   "id": "5032e724",
   "metadata": {},
   "outputs": [
    {
     "data": {
      "text/plain": [
       "['Excellent',\n",
       " 'Worth every penny',\n",
       " 'Fabulous!',\n",
       " 'Brilliant',\n",
       " 'Just wow!',\n",
       " 'Must buy!',\n",
       " 'Terrific purchase',\n",
       " 'Awesome',\n",
       " 'Decent product',\n",
       " 'Wonderful']"
      ]
     },
     "execution_count": 72,
     "metadata": {},
     "output_type": "execute_result"
    }
   ],
   "source": [
    "# scrap the review sumary\n",
    "review_sum1=[]\n",
    "for i in review_sum_tag1:\n",
    "    review_sum1.append(i.text)\n",
    "review_sum1"
   ]
  },
  {
   "cell_type": "code",
   "execution_count": 73,
   "id": "cb6e3be5",
   "metadata": {},
   "outputs": [
    {
     "data": {
      "text/plain": [
       "[<selenium.webdriver.remote.webelement.WebElement (session=\"74d64b79f90b871afe772d88a64a8508\", element=\"559638cc-5d46-4124-aba0-7ad4e4214269\")>,\n",
       " <selenium.webdriver.remote.webelement.WebElement (session=\"74d64b79f90b871afe772d88a64a8508\", element=\"0eea93aa-fae6-4189-a4b5-011f676cb215\")>,\n",
       " <selenium.webdriver.remote.webelement.WebElement (session=\"74d64b79f90b871afe772d88a64a8508\", element=\"cf37ebd0-a5b1-404d-9c23-a7c4ebb00415\")>,\n",
       " <selenium.webdriver.remote.webelement.WebElement (session=\"74d64b79f90b871afe772d88a64a8508\", element=\"c3d19e4f-22b2-4e59-8e99-6aa1e1068ed1\")>,\n",
       " <selenium.webdriver.remote.webelement.WebElement (session=\"74d64b79f90b871afe772d88a64a8508\", element=\"9a46f62a-13c5-42b2-90fd-1f3e641a47ed\")>,\n",
       " <selenium.webdriver.remote.webelement.WebElement (session=\"74d64b79f90b871afe772d88a64a8508\", element=\"2e52e19d-2f4d-430e-a58b-2daee37735aa\")>,\n",
       " <selenium.webdriver.remote.webelement.WebElement (session=\"74d64b79f90b871afe772d88a64a8508\", element=\"65fa53b6-c8d6-41d7-aca9-cc9a54b6c9ed\")>,\n",
       " <selenium.webdriver.remote.webelement.WebElement (session=\"74d64b79f90b871afe772d88a64a8508\", element=\"800575bd-7fe0-4211-9e51-b35bdd692470\")>,\n",
       " <selenium.webdriver.remote.webelement.WebElement (session=\"74d64b79f90b871afe772d88a64a8508\", element=\"8b1e683d-9fb0-4452-8d5c-8a998a7377de\")>,\n",
       " <selenium.webdriver.remote.webelement.WebElement (session=\"74d64b79f90b871afe772d88a64a8508\", element=\"3116f927-e704-427e-9089-bf2a815d5300\")>]"
      ]
     },
     "execution_count": 73,
     "metadata": {},
     "output_type": "execute_result"
    }
   ],
   "source": [
    "# scrap the full review\n",
    "full_review_tag1=driver.find_elements_by_xpath('//div[@class=\"t-ZTKy\"]')\n",
    "full_review_tag1"
   ]
  },
  {
   "cell_type": "code",
   "execution_count": 74,
   "id": "9057eeb8",
   "metadata": {},
   "outputs": [
    {
     "data": {
      "text/plain": [
       "['A perfect phone and a good battery super camera and the sound is dynamic overall the phone is perfect for upgrading from lower iPhone model to iPhone 11',\n",
       " 'Undoubtedly Iphone 11 is the most successful model till now and its performance is extraordinary and the security features are very impressive, display is more vibrant sound quality Camera Quality 5*****, but Iphone should add accessories too and act like scrooge.',\n",
       " 'I purchased the iPhone 11 a month back. I must say Apple has impressed me yet again . I have been an Apple user for past 5 years . The phone is power packed with amazing features . What impressed me the most was the battery backup the phone offers . Battery can easily run upto 1.5 days in single charge with moderate to\\nHeavy usage . If you’re looking for a value for money device , I don’t see any other phone in the price range which can match the iPhone 11 .\\nOne thing I didn’t like was that ...\\nREAD MORE',\n",
       " 'A wort full value for money decision it’s . Simply go for it in 2021 its still a good decision . Awesome camera , Super smothered performance, Heck of build quality. And Most important it protects your privacy.',\n",
       " 'The ultimate performance\\nCamera is superb\\nThe battery backup also very good i never saw iphone gives this much of battery backup\\nIf any one wana buy iphone 11 definitely i will recommend this mobile\\nIt has the better battery and powerfull processer peak performance glorious camera and the display also 100% high quality lcd display if u had money for for 12 if u dont wana invest much money on that then go for iphone 11 it has maximum same specs only main difference between the 12 and 11 is...\\nREAD MORE',\n",
       " \"Camera is excellent just lack of telephoto mode frankly dose not needed either night mode is just 🙏🙏 12 12 12 mp (2back 1 front) camera lover just don't miss the deal\\nDisplay lcd but feel like super amoled\\nAt46999 with no cost EMI just a best deal\",\n",
       " 'I use a Note10+ and have been using both iOS and Android devices.\\n\\nCamera has really good features and portraits are super good, better than Samsung flagship. Overall camera setup can still be enhanced and hopeful for better upgrades on software in next release\\n\\nOperating system is quite a breeze and user experience of daily usage is very high as compared to Android. I moved to iOS very swiftly in 2 days for all my office work from Note10+\\n\\nBattery holds up quite well with 4 hrs of call and ...\\nREAD MORE',\n",
       " 'The phone is completely good\\nAs far as camera Apple is king of it\\nAnd its a beast in performance\\nAnd the battery is pretty good too',\n",
       " 'Everything u ll like it when u use this iPhone. Simple changes only not many to lower models but it’s nice to use. Little heavy compared to previous models like 7,8',\n",
       " 'Nice value for money good and best price I phone mind blowing camera processor very fast other android mobile I am happy India top selling phone 2020']"
      ]
     },
     "execution_count": 74,
     "metadata": {},
     "output_type": "execute_result"
    }
   ],
   "source": [
    "# scrapp full review\n",
    "full_review1=[]\n",
    "for i in full_review_tag1:\n",
    "    full_review1.append(i.text)\n",
    "full_review1"
   ]
  },
  {
   "cell_type": "code",
   "execution_count": 75,
   "id": "140f22a2",
   "metadata": {},
   "outputs": [],
   "source": [
    "# click on next button\n",
    "next_btn=driver.find_element_by_xpath('//a[@class=\"_1LKTO3\"]')\n",
    "next_btn\n",
    "next_btn.click()"
   ]
  },
  {
   "cell_type": "code",
   "execution_count": 79,
   "id": "fd37a598",
   "metadata": {},
   "outputs": [
    {
     "data": {
      "text/plain": [
       "[<selenium.webdriver.remote.webelement.WebElement (session=\"74d64b79f90b871afe772d88a64a8508\", element=\"e9ed1b67-9d2c-41b6-a31b-028cb9a21fd2\")>,\n",
       " <selenium.webdriver.remote.webelement.WebElement (session=\"74d64b79f90b871afe772d88a64a8508\", element=\"a5529ded-948e-4e80-a340-16abbf08d9f8\")>,\n",
       " <selenium.webdriver.remote.webelement.WebElement (session=\"74d64b79f90b871afe772d88a64a8508\", element=\"5c2f22d7-c740-40b5-bfa8-3ed0c343da5d\")>,\n",
       " <selenium.webdriver.remote.webelement.WebElement (session=\"74d64b79f90b871afe772d88a64a8508\", element=\"6a2d7207-3bfa-455f-849e-4070ac9f71b8\")>,\n",
       " <selenium.webdriver.remote.webelement.WebElement (session=\"74d64b79f90b871afe772d88a64a8508\", element=\"94daebf9-5471-49c7-a13a-709d35dd2150\")>,\n",
       " <selenium.webdriver.remote.webelement.WebElement (session=\"74d64b79f90b871afe772d88a64a8508\", element=\"7937edbb-2965-4a42-9a23-62b70ac54419\")>,\n",
       " <selenium.webdriver.remote.webelement.WebElement (session=\"74d64b79f90b871afe772d88a64a8508\", element=\"caca9111-cfb4-44bd-bb53-b7f2ca1e2855\")>,\n",
       " <selenium.webdriver.remote.webelement.WebElement (session=\"74d64b79f90b871afe772d88a64a8508\", element=\"2df67a66-ae42-4c3c-bc45-fbbb823b0d27\")>,\n",
       " <selenium.webdriver.remote.webelement.WebElement (session=\"74d64b79f90b871afe772d88a64a8508\", element=\"d1e3f365-c90f-4ab3-bd2b-237a35477509\")>,\n",
       " <selenium.webdriver.remote.webelement.WebElement (session=\"74d64b79f90b871afe772d88a64a8508\", element=\"187f4ced-bd89-4599-9ef5-22aeb113ce62\")>]"
      ]
     },
     "execution_count": 79,
     "metadata": {},
     "output_type": "execute_result"
    }
   ],
   "source": [
    "#scrappg review on 2nd page\n",
    "rating_tag2=driver.find_elements_by_xpath('//div[@class=\"_3LWZlK _1BLPMq\"]')\n",
    "rating_tag2"
   ]
  },
  {
   "cell_type": "code",
   "execution_count": 80,
   "id": "606fbb9b",
   "metadata": {},
   "outputs": [
    {
     "data": {
      "text/plain": [
       "['5', '4', '5', '5', '5', '5', '5', '4', '5', '5']"
      ]
     },
     "execution_count": 80,
     "metadata": {},
     "output_type": "execute_result"
    }
   ],
   "source": [
    "# scrap the ratings\n",
    "rating2=[]\n",
    "for i in rating_tag2:\n",
    "    rating2.append(i.text)\n",
    "rating2"
   ]
  },
  {
   "cell_type": "code",
   "execution_count": 29,
   "id": "b44ad94f",
   "metadata": {},
   "outputs": [
    {
     "data": {
      "text/plain": [
       "[<selenium.webdriver.remote.webelement.WebElement (session=\"74d64b79f90b871afe772d88a64a8508\", element=\"ef688466-052d-4460-b4aa-82f74d778c0c\")>,\n",
       " <selenium.webdriver.remote.webelement.WebElement (session=\"74d64b79f90b871afe772d88a64a8508\", element=\"d32af2ba-9a2f-405d-a630-c699d2e74792\")>,\n",
       " <selenium.webdriver.remote.webelement.WebElement (session=\"74d64b79f90b871afe772d88a64a8508\", element=\"95520004-b1f9-4cdc-8162-33155d3146d6\")>,\n",
       " <selenium.webdriver.remote.webelement.WebElement (session=\"74d64b79f90b871afe772d88a64a8508\", element=\"bbc7b213-82aa-485e-8fb7-fdd3fdcfa291\")>,\n",
       " <selenium.webdriver.remote.webelement.WebElement (session=\"74d64b79f90b871afe772d88a64a8508\", element=\"885ef143-866f-491a-be3c-9f582c435aaa\")>,\n",
       " <selenium.webdriver.remote.webelement.WebElement (session=\"74d64b79f90b871afe772d88a64a8508\", element=\"00689bca-db96-449d-8ee3-aad472afdc28\")>,\n",
       " <selenium.webdriver.remote.webelement.WebElement (session=\"74d64b79f90b871afe772d88a64a8508\", element=\"1445b556-4deb-459c-9603-9b9236494a34\")>,\n",
       " <selenium.webdriver.remote.webelement.WebElement (session=\"74d64b79f90b871afe772d88a64a8508\", element=\"6b4b1082-59cf-4294-93aa-c33a3ec43be0\")>,\n",
       " <selenium.webdriver.remote.webelement.WebElement (session=\"74d64b79f90b871afe772d88a64a8508\", element=\"d1ad689b-21f5-4583-baa5-2e373ff5afba\")>,\n",
       " <selenium.webdriver.remote.webelement.WebElement (session=\"74d64b79f90b871afe772d88a64a8508\", element=\"6973f4dd-de72-4eee-85b0-76bf7b4b0a96\")>]"
      ]
     },
     "execution_count": 29,
     "metadata": {},
     "output_type": "execute_result"
    }
   ],
   "source": [
    "# scrapping the review sumary by xpath\n",
    "review_sum_tag2=driver.find_elements_by_xpath('//p[@class=\"_2-N8zT\"]')\n",
    "review_sum_tag2"
   ]
  },
  {
   "cell_type": "code",
   "execution_count": 30,
   "id": "114f2d52",
   "metadata": {},
   "outputs": [
    {
     "data": {
      "text/plain": [
       "['Highly recommended',\n",
       " 'Perfect product!',\n",
       " 'Perfect product!',\n",
       " 'Classy product',\n",
       " 'Perfect product!',\n",
       " 'Highly recommended',\n",
       " 'Worth every penny',\n",
       " 'Simply awesome',\n",
       " 'Worth every penny',\n",
       " 'Worth every penny']"
      ]
     },
     "execution_count": 30,
     "metadata": {},
     "output_type": "execute_result"
    }
   ],
   "source": [
    "# scrap the review sumary\n",
    "review_sum2=[]\n",
    "for i in review_sum_tag2:\n",
    "    review_sum2.append(i.text)\n",
    "review_sum2"
   ]
  },
  {
   "cell_type": "code",
   "execution_count": 31,
   "id": "01c066cc",
   "metadata": {},
   "outputs": [
    {
     "data": {
      "text/plain": [
       "[<selenium.webdriver.remote.webelement.WebElement (session=\"74d64b79f90b871afe772d88a64a8508\", element=\"0d78297f-0517-4bde-8b00-4e54348de9f1\")>,\n",
       " <selenium.webdriver.remote.webelement.WebElement (session=\"74d64b79f90b871afe772d88a64a8508\", element=\"395bb9c2-f29f-471f-8290-fed5d6010d80\")>,\n",
       " <selenium.webdriver.remote.webelement.WebElement (session=\"74d64b79f90b871afe772d88a64a8508\", element=\"92d4cece-9090-49e8-929a-916565e7a9b9\")>,\n",
       " <selenium.webdriver.remote.webelement.WebElement (session=\"74d64b79f90b871afe772d88a64a8508\", element=\"16898376-8cb8-46dc-9b1c-23bbab92f112\")>,\n",
       " <selenium.webdriver.remote.webelement.WebElement (session=\"74d64b79f90b871afe772d88a64a8508\", element=\"e0419692-5f3c-4928-bd4d-f6412ca2ef77\")>,\n",
       " <selenium.webdriver.remote.webelement.WebElement (session=\"74d64b79f90b871afe772d88a64a8508\", element=\"7456f64c-b9fd-4bfa-8043-a5d51f9a1672\")>,\n",
       " <selenium.webdriver.remote.webelement.WebElement (session=\"74d64b79f90b871afe772d88a64a8508\", element=\"3dea0def-dd4f-45f5-8825-1670731844fb\")>,\n",
       " <selenium.webdriver.remote.webelement.WebElement (session=\"74d64b79f90b871afe772d88a64a8508\", element=\"75cb9736-04f6-4585-97af-66511d127fe1\")>,\n",
       " <selenium.webdriver.remote.webelement.WebElement (session=\"74d64b79f90b871afe772d88a64a8508\", element=\"e3c13ee4-b8d7-4601-ae65-6e44ae654ec7\")>,\n",
       " <selenium.webdriver.remote.webelement.WebElement (session=\"74d64b79f90b871afe772d88a64a8508\", element=\"25931316-22c3-49bf-a4c8-a391eb92e266\")>]"
      ]
     },
     "execution_count": 31,
     "metadata": {},
     "output_type": "execute_result"
    }
   ],
   "source": [
    "# scrap the full review\n",
    "full_review_tag2=driver.find_elements_by_xpath('//div[@class=\"t-ZTKy\"]')\n",
    "full_review_tag2"
   ]
  },
  {
   "cell_type": "code",
   "execution_count": 32,
   "id": "0e258563",
   "metadata": {},
   "outputs": [
    {
     "data": {
      "text/plain": [
       "['iphone 11 is a very good phone to buy only if you can compromise for the display. The display on this is device is pretty good but you can get other options with better displays in this price segment.\\nIf you can survive with an HD+ LCD panel with thicker bezels and a notch up top then this is a very good phone for you.\\nCameras are awesome, battery backup excellent, great performance and a decent premium look. Good job Apple !',\n",
       " 'It’s a must buy who is looking for an upgrade from previous generation of iPhones. If you are using XR then still you can hold on for sometime and upgrade to 2020 model else this phone is a must buy . Camera quality is amazing and wide angle is something to count upon. Performance wise it’s amazing and feels premium while holding in hand. So a big YES for this device. Go for 128 GB variant as the 4K videos will occupy lots of space and the storage can get over very quickly. Try to buy it with...\\nREAD MORE',\n",
       " 'Value for money❤️❤️\\nIts awesome mobile phone in the world ...\\nDisplay was very good and bright ..\\nTrust me freinds you r never regret after Buying..\\nJust go for it....\\nI love this phone and i switch to iphone x to 11',\n",
       " 'Totally in love with this ❤ the camera quality is amazing just love it 😘😘😘 itsss dammnnnnnn amazing... Must buy iPhone 11 this is my best experience ever ☀👌👌🧡🧡🧡🧡🧡 thanku apple ❤',\n",
       " \"Iphone is just awesome.. battery backup is very very nice.. continuously for 10 hours we can use it.camera is just awesome.. display is just fab.i love it alot..i had to wait 15 days for it as i pre ordered it..overalll it's worth the price..these all images are clicked by my iPhone..and i love it.\",\n",
       " \"It's my first time to use iOS phone and I am loving my upgradation 😍😍 I love the color, I love the assebility of the phone....I need to learn more about its functionality, but as far as I have seen, it's quite easy and it has a lot of functions to work on, specially if you are a content writer or a blogger you get a lot of content creation platforms and they are really amazing.\\n\\nThis phone not only for good quality photography but a lot of other task too.😍💯\",\n",
       " 'Best budget Iphone till date ❤️ go for it guys without second thought. Let me explain you guys about Camera, Display, battery, and performance.\\n\\nCamera: at this price range there is no comparison of camera, you’ll love the picture quality as well as video quality. I am a Vlogger I wanted an iPhone with 4k video by front camera and I got this phone and I am more than happy 😃\\n\\nBattery: I use this phone roughly as I am active social media person and I have a youtube channel. so the battery ba...\\nREAD MORE',\n",
       " 'Excellent camera, good performance, no lag. The lcd display is also good.. but difference come when we watch movie in prime and Netflix, the colours are not vibrant.. as we see in amoled display.. and the charger in box is of 5 watts.. takes more than 3 hours to charge from 0 to 100.. so guys be prepare to buy 18 watts charger . Finally I am an android user, it was my first Iapple phone, I promise u guys the iOS is so smooth.. overall the phone is damn good.... close eyes to buy it.. thanks t...\\nREAD MORE',\n",
       " 'Smooth like butter, camera like fantabulous, sound is crystal clear & its red color is damn attractive, i am just loving it. Must buy if you love photography.\\n\\nLucky to get it in sale, thank you Flipkart.',\n",
       " 'It’s been almost a month since I have been using this phone. I upgraded from an iPhone 8. The main issue with my 8 was battery and this phone is just awesome when it comes to battery. It lasts a day and a half for me with my regular use , internet connected always with 4g\\nCan’t move forward without saying this. Battery of this phone is a life saver when I am traveling or at work when I don’t get the option to charge\\nCamera is superb. Front cam selfies and back cam photos are just awesome.\\n...\\nREAD MORE']"
      ]
     },
     "execution_count": 32,
     "metadata": {},
     "output_type": "execute_result"
    }
   ],
   "source": [
    "# scrapp full review\n",
    "full_review2=[]\n",
    "for i in full_review_tag2:\n",
    "    full_review2.append(i.text)\n",
    "full_review2"
   ]
  },
  {
   "cell_type": "code",
   "execution_count": 36,
   "id": "b0642a8e",
   "metadata": {},
   "outputs": [],
   "source": [
    "# click on next button\n",
    "next_btn=driver.find_element_by_xpath('/html/body/div[1]/div/div[3]/div/div/div[2]/div[13]/div/div/nav/a[12]')\n",
    "next_btn\n",
    "next_btn.click()"
   ]
  },
  {
   "cell_type": "code",
   "execution_count": 81,
   "id": "6d7e60ad",
   "metadata": {},
   "outputs": [
    {
     "data": {
      "text/plain": [
       "['5', '4', '5', '5', '5', '5', '5', '4', '5', '5']"
      ]
     },
     "execution_count": 81,
     "metadata": {},
     "output_type": "execute_result"
    }
   ],
   "source": [
    "#scrappg review on 2nd page\n",
    "rating_tag3=driver.find_elements_by_xpath('//div[@class=\"_3LWZlK _1BLPMq\"]')\n",
    "rating_tag3\n",
    "# scrap the ratings text\n",
    "rating3=[]\n",
    "for i in rating_tag3:\n",
    "    rating3.append(i.text)\n",
    "rating3"
   ]
  },
  {
   "cell_type": "code",
   "execution_count": 82,
   "id": "fe08357c",
   "metadata": {},
   "outputs": [
    {
     "data": {
      "text/plain": [
       "['Wonderful',\n",
       " 'Nice product',\n",
       " 'Mind-blowing purchase',\n",
       " 'Classy product',\n",
       " 'Terrific',\n",
       " 'Excellent',\n",
       " 'Fabulous!',\n",
       " 'Pretty good',\n",
       " 'Mind-blowing purchase',\n",
       " 'Highly recommended']"
      ]
     },
     "execution_count": 82,
     "metadata": {},
     "output_type": "execute_result"
    }
   ],
   "source": [
    "# scrapping the review sumary by xpath\n",
    "review_sum_tag3=driver.find_elements_by_xpath('//p[@class=\"_2-N8zT\"]')\n",
    "review_sum_tag3\n",
    "# scrap the review sumary text\n",
    "review_sum3=[]\n",
    "for i in review_sum_tag3:\n",
    "    review_sum3.append(i.text)\n",
    "review_sum3"
   ]
  },
  {
   "cell_type": "code",
   "execution_count": 40,
   "id": "d4644fff",
   "metadata": {},
   "outputs": [
    {
     "data": {
      "text/plain": [
       "['This is my first ever I phone. Before this I was using my google nexus 5. But moving from android to iOS is a great experience. It’s worth at this price. I will highly recommend it if you want to move to iOS. The best part of this phone is it’s camera and it’s battery life. This two things have won my heart. I loved it. Happy to have it in my hand. Still exploring its features. And can’t forget to mention Flipkart service. Very prompt service and fast delivery.',\n",
       " 'Really worth of money. i just love it. It is the best phone ever.',\n",
       " 'Awesome Phone. Slightly high price but worth. Better than iPhone XR.\\nCamera is superb and wide angle camera is very clear.\\n12MP selfie camera is also very good.\\nA13 Chip gives a very good and smooth performance.',\n",
       " 'Battery backup is extraordinary, camera is decent & performance offered by A13 bionic is awsome. The display is good in practical usage like the visibility of display is very good in direct sun light compare to pro models. Iam extremely satisfied for the money I spent.',\n",
       " 'Superb Product !!!\\nA big and worthy upgrade from mi 3S to iphone 11 .\\nTotally loved it !',\n",
       " 'I have migrated from OP 7pro... and trust me, iPhone 11 is totally worth it.. following are the reasons:-\\n1)there is ABSOLUTELY NO ISSUE WITH THE DISPLAY... its crisp, sharp and I found it to be much much better than OP7 pro. Netflix, Prime video all run crisply... you won’t miss a thing. True Tone works flawlessly...the display brightness is perfect. OP have not calibrated their screens properly.\\n2) iPhone 11 series have really good cameras... others have spoken in depth about them.\\n3) bat...\\nREAD MORE',\n",
       " 'Looking so good 👍 😍 super 👌 stylish 😎 phone\\nClean box 📦 good 👍 delivery 👌 fast delivery\\nOriginal box Original iphone 📱 👌 😍😍😍',\n",
       " 'It’s an amazing product from apple and the camera is simply superb. Phone is faster.Night shot is simply superb and detailing and colour differentiation from camera is an added advantage\\n\\nThis review I have written from iPhone 11 only and I am glad to say outside.\\n\\nCons wise if we see HD+ display only, no battery percentage indicator as in older iPhone 8.\\nNo assistive touch control button in it\\nNo oleophobic coating on back panel glass and finger prints are visible but since I bought mint gr...\\nREAD MORE',\n",
       " 'I just directly switch from iphone 6s to iphone 11 .The best premium smartphone I recommend to everyone. Excellent quality and colors the iphone have in 11 series.\\nCamera quality is just awesome and the major feel when we hold in our hands. The sound quality and volume is also higher then the previous models.\\nI will recommend to buy iphone 11 instead of pro models , there is nothing much difference as this model contains everything which fulfill our needs.\\n\\nOnly one thing that I dislike abo...\\nREAD MORE',\n",
       " 'After 1 month use I found camera quality best compared to my previous Samsung note 10+.Display not good as note 10 also charging too slow.Apple should add fast charger like 11 plus and pro.Best phone for daily use']"
      ]
     },
     "execution_count": 40,
     "metadata": {},
     "output_type": "execute_result"
    }
   ],
   "source": [
    "# scrap the full review\n",
    "full_review_tag3=driver.find_elements_by_xpath('//div[@class=\"t-ZTKy\"]')\n",
    "full_review_tag3\n",
    "# scrapp full review tag\n",
    "full_review3=[]\n",
    "for i in full_review_tag3:\n",
    "    full_review3.append(i.text)\n",
    "full_review3"
   ]
  },
  {
   "cell_type": "code",
   "execution_count": 41,
   "id": "6b39c17a",
   "metadata": {},
   "outputs": [],
   "source": [
    "# click on next button\n",
    "next_btn=driver.find_element_by_xpath('/html/body/div[1]/div/div[3]/div/div/div[2]/div[13]/div/div/nav/a[12]')\n",
    "next_btn\n",
    "next_btn.click()"
   ]
  },
  {
   "cell_type": "code",
   "execution_count": 83,
   "id": "863efe0c",
   "metadata": {},
   "outputs": [
    {
     "data": {
      "text/plain": [
       "['5', '4', '5', '5', '5', '5', '5', '4', '5', '5']"
      ]
     },
     "execution_count": 83,
     "metadata": {},
     "output_type": "execute_result"
    }
   ],
   "source": [
    "#scrappg review on 2nd page\n",
    "rating_tag4=driver.find_elements_by_xpath('//div[@class=\"_3LWZlK _1BLPMq\"]')\n",
    "rating_tag4\n",
    "# scrap the ratings text\n",
    "rating4=[]\n",
    "for i in rating_tag4:\n",
    "    rating4.append(i.text)\n",
    "rating4"
   ]
  },
  {
   "cell_type": "code",
   "execution_count": 43,
   "id": "fc56d1b9",
   "metadata": {},
   "outputs": [
    {
     "data": {
      "text/plain": [
       "['Simply awesome',\n",
       " 'Terrific purchase',\n",
       " 'Great product',\n",
       " 'Terrific purchase',\n",
       " 'Mind-blowing purchase',\n",
       " 'Excellent',\n",
       " 'Simply awesome',\n",
       " 'Good quality product',\n",
       " 'Very poor',\n",
       " 'Classy product']"
      ]
     },
     "execution_count": 43,
     "metadata": {},
     "output_type": "execute_result"
    }
   ],
   "source": [
    "# scrapping the review sumary by xpath\n",
    "review_sum_tag4=driver.find_elements_by_xpath('//p[@class=\"_2-N8zT\"]')\n",
    "review_sum_tag4\n",
    "# scrap the review sumary text\n",
    "review_sum4=[]\n",
    "for i in review_sum_tag4:\n",
    "    review_sum4.append(i.text)\n",
    "review_sum4"
   ]
  },
  {
   "cell_type": "code",
   "execution_count": 44,
   "id": "19215ac2",
   "metadata": {},
   "outputs": [
    {
     "data": {
      "text/plain": [
       "[\"It's very high performances devise i am like the service of flipkart delevary very fast and packing very nice perfect phone\",\n",
       " 'Upgraded from iphone 6 to 11 best phone for iphone users battery is much better than other iphones camera is awesome love to use it.camera is so clear in night.',\n",
       " 'Well you all know the specifications . One of a kind. Best iPhone till date. Many enhancements to the camera app with many options. Love the glass body with matte finish in the lens area on the back. Lovely colours to choose from. Best battery in an iPhone till date, enough to last more than a day in normal usage. I tested my iPhone 11 battery and lasted for than 24 hours after full charge still with 30% battery charge left. Watched movies for some time. Normal usage on calls, browsing, musi...\\nREAD MORE',\n",
       " 'The built quality is not very premium.\\nThe battery back is great .\\nThe LCD panel is not so sharp but the brightness level is very High .\\nCamera is super duper awesome.\\nThe red colour which people think is bright is actually very soothing and excellent colour to choose from .\\nThe A13 Bionic chip is really a flagship processor and can beat any phone which even has 12 gb ram .\\nCamera module is very great and looks very stylish.',\n",
       " 'This will help you more. See if you are planning to buy iPhone 11. I will say. Yes. But there are some plans I just want to disclose before you buy. 1) If you are an existing iPhone X/XS/XS Max/ XR user, better you guys do not think it to buy. You guys have more or less better gadget. 2) If you are an android user and planning to buy premium phone. I will suggest them to please buy iPhone instead of buying an Android. I bet you will never go back to android after using IOS. Now I want to shar...\\nREAD MORE',\n",
       " 'Amazing camera and feel super machine I am not describe my feeling but this is amazing Phone I am so lucky I have this',\n",
       " 'Really good actually this is my first apple product am using its really awesome performance wise excellent. Am really happy with this iphone11',\n",
       " 'it is very good at performance. Camera is best like before and very smooth response even in water. Don’t buy 12 mini buy iPhone 11 , it is far better than 12 mini believe me ! Have a nice day \\uf8ff ☺️',\n",
       " 'Reviewing again after 5 months. At the beginning the battery and performance was good but it degraded soon. Also I was facing heating issues. The mobile will heat up like a stove sometimes. You cannot even play Pubg even in low settings properly, performance is not a problem but heating is. Also if you play that game for 10 mins the brightness will be automatically down due to over heating even when the auto brightness is set to off. This will not be solved even if u manually increase the bri...\\nREAD MORE',\n",
       " 'We are on apple ecosystem for almost eight years now with couple of iPads and iPhones, including Xr.\\n\\nBought iPhone 11 as a gift to my daughter who loves it. We chose for a purple coloured one. Believe me it is gorgeous and towards the lighter shade. Dazzling and brilliant!\\n\\nThe phone is great and does excellent RAM management like any other Apple device.\\n\\nThe screen, though a LCD and lesser ppi as compared to other flagship phones of competitor brands, is a delight to watch with perfect re...\\nREAD MORE']"
      ]
     },
     "execution_count": 44,
     "metadata": {},
     "output_type": "execute_result"
    }
   ],
   "source": [
    "# scrap the full review\n",
    "full_review_tag4=driver.find_elements_by_xpath('//div[@class=\"t-ZTKy\"]')\n",
    "full_review_tag4\n",
    "# scrapp full review tag\n",
    "full_review4=[]\n",
    "for i in full_review_tag4:\n",
    "    full_review4.append(i.text)\n",
    "full_review4"
   ]
  },
  {
   "cell_type": "code",
   "execution_count": 45,
   "id": "b5477b1a",
   "metadata": {},
   "outputs": [],
   "source": [
    "# click on next button\n",
    "next_btn=driver.find_element_by_xpath('/html/body/div[1]/div/div[3]/div/div/div[2]/div[13]/div/div/nav/a[12]')\n",
    "next_btn\n",
    "next_btn.click()"
   ]
  },
  {
   "cell_type": "code",
   "execution_count": 84,
   "id": "3c7645f7",
   "metadata": {},
   "outputs": [
    {
     "data": {
      "text/plain": [
       "['5', '4', '5', '5', '5', '5', '5', '4', '5', '5']"
      ]
     },
     "execution_count": 84,
     "metadata": {},
     "output_type": "execute_result"
    }
   ],
   "source": [
    "#scrappg review on 2nd page\n",
    "rating_tag5=driver.find_elements_by_xpath('//div[@class=\"_3LWZlK _1BLPMq\"]')\n",
    "rating_tag5\n",
    "# scrap the ratings text\n",
    "rating5=[]\n",
    "for i in rating_tag5:\n",
    "    rating5.append(i.text)\n",
    "rating5"
   ]
  },
  {
   "cell_type": "code",
   "execution_count": 47,
   "id": "a049c2b8",
   "metadata": {},
   "outputs": [
    {
     "data": {
      "text/plain": [
       "['Perfect product!',\n",
       " 'Must buy!',\n",
       " 'Fabulous!',\n",
       " 'Mind-blowing purchase',\n",
       " 'Mind-blowing purchase',\n",
       " 'Wonderful',\n",
       " 'Must buy!',\n",
       " 'Great product',\n",
       " 'Very Good',\n",
       " 'Classy product']"
      ]
     },
     "execution_count": 47,
     "metadata": {},
     "output_type": "execute_result"
    }
   ],
   "source": [
    "# scrapping the review sumary by xpath\n",
    "review_sum_tag5=driver.find_elements_by_xpath('//p[@class=\"_2-N8zT\"]')\n",
    "review_sum_tag5\n",
    "# scrap the review sumary text\n",
    "review_sum5=[]\n",
    "for i in review_sum_tag5:\n",
    "    review_sum5.append(i.text)\n",
    "review_sum5"
   ]
  },
  {
   "cell_type": "code",
   "execution_count": 48,
   "id": "4c5dcd0f",
   "metadata": {},
   "outputs": [
    {
     "data": {
      "text/plain": [
       "['It is just awesome mobile for this price from Apple,\\n\\nAfter 10 days review\\n\\nBattery enough for 1 day even 24*7 Internet will be on and mostly internet usage\\n\\nCamera is just awesome cool , android 64 MP is equal to this just 12 MP\\n\\nA13 Bionic chip will give more high performance without hanging\\n\\nAudio stereo speakers will give Dolby atoms sound with crystal clear\\n\\nVideo recording is like cinematic shots of every sec can be a 4K 60fps. Just awesome this phone\\niPhone 11 loved one',\n",
       " 'Best Apple iPhone that i have bought at a very reasonable price, camera quality is next level just awesome n of superior quality android phones not even close(RIP) to that and also battery is really good but packaging by Flipkart of iPhone was very poor of such a expensive product, firstly im bit worried about the quality of product if i purchased it through online how was the product but i think now this was mine best decision to bought it through Flipkart online because i got genuine Apple...\\nREAD MORE',\n",
       " \"I can say I'm damn impressed with iPhone 11. As they says iPhone 11 have the toughest glass ever in the smartphone which you'll find on the front and back and it's totally smooth. The fit and finish is full apple quality - there's no sense that any cheaping out has happened in the construction. Without saying it's camera features this review won't complete. The iPhone 11 has a dual camera system, consisting of a wide angle len's that's pretty much same as found on the iPhone XR last year, but...\\nREAD MORE\",\n",
       " 'Best Quality Product OF iPhone Series , Sound Quality & Camera quality is very awesome, Battery Life is very Sufficient for 24 hr Backup With Full Internet Access , I love this this Product too much , It is very fast & making me Very fast in all my daily Routine\\nHighlights;\\n1.Camera: 5 STAR\\n2.Video Recording: 5 star\\n3.Night mODE sHOOTING & Camera:4 star\\n4. Audio Quality: Awesome\\n5. Battery : 5 Star\\n6. Touch:5 Star\\n7. Processor: Very Fast\\nThe M...\\nREAD MORE',\n",
       " 'First thanks to Flipkart for this amazing deal and phone is outstanding. I upgraded from iPhone 7 and this is like very big upgrade. But the packaging was very basic I expected a good packaging as they only wrapped one layer of bubble wrap which I don’t think is enough to protect this expensive phone. And I recommend this phone and seller as well.\\n\\nAnd I’m posting this review after using it for 4 days.',\n",
       " 'Superfast delivery by Flipkart. Thanks.\\n\\n1. iPhone 11 is a pretty solid phone for the money you are paying.\\n2. All the bad reviews about the display is confusing. It’s not that bad.\\n3. I switched from a Oneplus 7t. I have no complaints about the display quality of iPhone. Yes, it’s not OLED, so, we are missing on the deep blacks. But that’s it. It is a very colour accurate display. Gets adequately bright and I could not find any pixelation.\\n4. Performance is one of the best, if not best, in ...\\nREAD MORE',\n",
       " 'I rate this product 5* as it has got amazing user experience with the best performing A13 bionic processor. The screen responds and graphics rendering is top notch. With casual gaming and internet browsing, the battery lasts for approx. 1 day. Camera is very good. You will fall in love with the portrait mode. You can call me a loyal Apple customer or whatever but I won’t stop praising the products and overall experience. That user experience matters and is worth every penny you pay.\\n\\nBelow ar...\\nREAD MORE',\n",
       " \"Again back to apple iphone after a gap of 2-3 years. It's pleasure to use iOS and the quality product by Apple. Iphone 11 still works like a beast in 2021 also. It really capable of doing day to day usage as well as hard core gaming. Battery is awesome. I'm really too much satisfied with it. Apart fto the very gorgious IPS LCD (AMOLED will be better) everything is mind boggling. Iphone💕.\",\n",
       " 'impressive super phone and best in class camera ,sound and face unlock is super fast just see and phone is unlock and fast in daily apps use',\n",
       " 'Well while switching from android to iOS the first thing you need to be careful about is that you will loose all your whatsapp chat backups as both are different operating systems. Camera clarity is awesome and though being an lcd screen clarity and resolution is good. Battery backup is also good unlike previous gen iPhone. So far the experience is good will Padre after a few months of usage.\\n\\nP.S the black is more of a dark grey shade and not jet black']"
      ]
     },
     "execution_count": 48,
     "metadata": {},
     "output_type": "execute_result"
    }
   ],
   "source": [
    "# scrap the full review\n",
    "full_review_tag5=driver.find_elements_by_xpath('//div[@class=\"t-ZTKy\"]')\n",
    "full_review_tag5\n",
    "# scrapp full review tag\n",
    "full_review5=[]\n",
    "for i in full_review_tag5:\n",
    "    full_review5.append(i.text)\n",
    "full_review5"
   ]
  },
  {
   "cell_type": "code",
   "execution_count": 49,
   "id": "3a2d20c9",
   "metadata": {},
   "outputs": [],
   "source": [
    "# click on next button\n",
    "next_btn=driver.find_element_by_xpath('/html/body/div[1]/div/div[3]/div/div/div[2]/div[13]/div/div/nav/a[12]')\n",
    "next_btn\n",
    "next_btn.click()"
   ]
  },
  {
   "cell_type": "code",
   "execution_count": 85,
   "id": "aab97e07",
   "metadata": {},
   "outputs": [
    {
     "data": {
      "text/plain": [
       "['5', '4', '5', '5', '5', '5', '5', '4', '5', '5']"
      ]
     },
     "execution_count": 85,
     "metadata": {},
     "output_type": "execute_result"
    }
   ],
   "source": [
    "#scrappg review on 2nd page\n",
    "rating_tag6=driver.find_elements_by_xpath('//div[@class=\"_3LWZlK _1BLPMq\"]')\n",
    "rating_tag6\n",
    "# scrap the ratings text\n",
    "rating6=[]\n",
    "for i in rating_tag6:\n",
    "    rating6.append(i.text)\n",
    "rating6"
   ]
  },
  {
   "cell_type": "code",
   "execution_count": 52,
   "id": "defcac3a",
   "metadata": {},
   "outputs": [
    {
     "data": {
      "text/plain": [
       "['Perfect product!',\n",
       " 'Just wow!',\n",
       " 'Awesome',\n",
       " 'Pretty good',\n",
       " 'Terrific purchase',\n",
       " 'Awesome',\n",
       " 'Classy product',\n",
       " 'Brilliant',\n",
       " 'Terrific',\n",
       " 'Perfect product!']"
      ]
     },
     "execution_count": 52,
     "metadata": {},
     "output_type": "execute_result"
    }
   ],
   "source": [
    "# scrapping the review sumary by xpath\n",
    "review_sum_tag6=driver.find_elements_by_xpath('//p[@class=\"_2-N8zT\"]')\n",
    "review_sum_tag6\n",
    "# scrap the review sumary text\n",
    "review_sum6=[]\n",
    "for i in review_sum_tag6:\n",
    "    review_sum6.append(i.text)\n",
    "review_sum6"
   ]
  },
  {
   "cell_type": "code",
   "execution_count": 54,
   "id": "07e6d163",
   "metadata": {},
   "outputs": [
    {
     "data": {
      "text/plain": [
       "['In love with this iphone great performance,camera ,battery everything. Go for it have a uncompareble battery backup, no doubts in iPhone camera here You can see the picture which is shot on my iPhone In love with this iphone great performance,camera ,battery everything. Go for it have a uncompareble battery backup, no doubts in iPhone camera here You can see the picture which is shot on my iPhone In love with this iphone great performance,camera ,battery everything. Go for it have a uncompare...\\nREAD MORE',\n",
       " 'Best in class. Battery backup is good especially when you play games like Pubg COD. But it is sort of heavy when you hold in hands. Portrait mode is best to click pictures. Stage light effect is awesome. Try to click photos outside in nature because photos inside home or room will not give you the quality in any phone even in DSLR.',\n",
       " 'Very excited to have this phone. This phone has the real power unlike the android phones having SD 855 . The battery life is very good and the camera quality is excellent as comapred to redmi and other phones except google pixel. I M enjoying every single bit of it. Would recommed only if you have the budget.',\n",
       " 'I was using Iphone 6s and also Oneplus 6t. Both mobiles were perfectly alright in Photos, gaming, and smooth interface . My 6s mobile getting battery issue. thought upgrade to 11. Really like this mobile of its Internal storage (compare to 6s) , camera and its touch feeling. Its a worth buying mobile for me.',\n",
       " 'Its Very awesome product working and good camera quality and all about best product and also flipkart is very great deal and offer nice price',\n",
       " 'I am using this phone for 5 days and its one of the best camera out there ❤️ the screen is not oled and i am coming from iphone xs so its little bit not up to the mark i would say\\nBut overall value for money💕😍the battery back up is far better than my iphone xs and its worth in my apple ecosystem💫❤️if u are an apple User and have the eco system then go for it❤️though i will be getting the new iphone but its pretty good💫',\n",
       " 'Best and amazing product.....phone looks so premium.... battary is also good as expected .... Wide angle camera is so addictive ...if you are a IOS lover....then this phone will be the best choice for you all!!💯🔥',\n",
       " 'Excellent camera and display touching very nice and smooth very improvement against iPhone XR and new processor is very fast',\n",
       " \"I got this beast today. And I must say the picture quality of its camera is awesome. Both the cameras works fine.\\n\\nAs for as the processing is concerned, it runs without any lag. You can play and do whatever you want without a glitch.\\n\\nThe battery runs for a day with medium and high workload.\\n\\nThe display is good and the speakers are working fine.\\n\\nThe earphones doesn't have any base and you can use it for calling mostly.\\n\\nThe charging time is approximately for 90 minutes for full charging...\\nREAD MORE\",\n",
       " 'Awesome purchase. Amazing phone with good battery backup. It’s a top notch device. White colour looks amazing. Phone has a few extra feature than iPhone XR. Overall, this is value for money']"
      ]
     },
     "execution_count": 54,
     "metadata": {},
     "output_type": "execute_result"
    }
   ],
   "source": [
    "# scrap the full review\n",
    "full_review_tag6=driver.find_elements_by_xpath('//div[@class=\"t-ZTKy\"]')\n",
    "full_review_tag6\n",
    "# scrapp full review tag\n",
    "full_review6=[]\n",
    "for i in full_review_tag6:\n",
    "    full_review6.append(i.text)\n",
    "full_review6"
   ]
  },
  {
   "cell_type": "code",
   "execution_count": 55,
   "id": "56599333",
   "metadata": {},
   "outputs": [],
   "source": [
    "# click on next button\n",
    "next_btn=driver.find_element_by_xpath('/html/body/div[1]/div/div[3]/div/div/div[2]/div[13]/div/div/nav/a[12]')\n",
    "next_btn\n",
    "next_btn.click()"
   ]
  },
  {
   "cell_type": "code",
   "execution_count": 86,
   "id": "e983ebcc",
   "metadata": {},
   "outputs": [
    {
     "data": {
      "text/plain": [
       "['Super and marvellous phone look very cute and nice sound. I love this phone i think white is good colur.Excellent camer 5*😍😘♥️♥️',\n",
       " \"If you are looking for a premium phone under 55k, this is the one for you.Got the iPhone 11 during the Republic day sale. Performance is top notch in this price range. Camera's do a perfect job in taking good quality photos and videos. Battery backup too is satisfactory. Writing this review after using for a week. Any further observations would be updated.\",\n",
       " 'awesome Phone Smooth Touch Too good Sexyy looks one word Awesome',\n",
       " 'Gifted my man on his 30th birthday 🎂 He loves it.. Him happy so i am more than happy 😍😘❤️🥰',\n",
       " 'I bought iPhone 11 On March 2021, And I am Writing this review after using the phone for 4 Months. I would Say Everything is fine, Top Performance, Nice Camera as Anyone would Expect from any series of iPhone but when the Question comes to Battery it is complicated. The Battery is fully optimised and it comes 3110 mAh capacity but the problem is with the charger. Honestly Apple Removed charger from in Box items in the name of Environment and they are also forcing us to buy any 20W PD 3rd part...\\nREAD MORE',\n",
       " \"Just go for it.\\nThis phone is really amazing. I ordered it for my wife and we click photos on this thing which are better than dslr. I own OnePlus 6t but it's camera sucks. iPhone is really amazing when it comes to camera. It's worth spending 50k on this. Cons- only display is lcd. While using u don't feel it but if u compare with other phone then u can see difference quite easily.\\nChanging from Android to iphone is bit difficult coz most of things u don't know but I liked it. Some of the a...\\nREAD MORE\",\n",
       " 'Everything is perfect pictures come out so clearly and at first I wasn’t sure when I got it then when I started to use it and get the hang of it it was amazing!! I can’t wait to see what the next future phones will be like. The screen display on this bad boy are unbelievable they are so clear and never fail me. The performance is super cool there is a lot of cool features as well I like this phone because I feel that it is easy to use and one of my favorite things about this phone is the Face...\\nREAD MORE',\n",
       " \"I've used this phone for over a month now and here are my takeaways.\\nI would like to first talk about the best things about this phone and then the cons of it.\\n\\nPros:\\nThis phone is a performance beast. It handles large games and applications effortlessly and you won't find any stutters or lags while playing graphic intensive games like pubg, cod , mortal kombat and asphalt.\\n\\nThis phone has only 4gb ram and yet the ram management is amazing, it can keep 3 heavy games in memory without reload...\\nREAD MORE\",\n",
       " 'Excellent camera 📸 And Display touching very Nice And Smooth and very improvement against\\nI phone 11 and new processor is very fast',\n",
       " 'Thanks Flipkart For this amazing deal! I had a dream of owning a iphone since i had known about.\\nIm very happy with my purchase & it is totally worth it.\\nAmazing experience all over !!\\n\\nAnyone who’s thinking of buying it in 2021, i would simply say go for it without any second thoughts ❤️']"
      ]
     },
     "execution_count": 86,
     "metadata": {},
     "output_type": "execute_result"
    }
   ],
   "source": [
    "#scrappg review on 2nd page\n",
    "rating_tag7=driver.find_elements_by_xpath('//div[@class=\"_3LWZlK _1BLPMq\"]')\n",
    "rating_tag7\n",
    "# scrap the ratings text\n",
    "rating7=[]\n",
    "for i in rating_tag7:\n",
    "    rating7.append(i.text)\n",
    "rating7\n",
    "\n",
    "# scrapping the review sumary by xpath\n",
    "review_sum_tag7=driver.find_elements_by_xpath('//p[@class=\"_2-N8zT\"]')\n",
    "review_sum_tag7\n",
    "# scrap the review sumary text\n",
    "review_sum7=[]\n",
    "for i in review_sum_tag7:\n",
    "    review_sum7.append(i.text)\n",
    "review_sum7\n",
    "\n",
    "# scrap the full review\n",
    "full_review_tag7=driver.find_elements_by_xpath('//div[@class=\"t-ZTKy\"]')\n",
    "full_review_tag7\n",
    "# scrapp full review tag\n",
    "full_review7=[]\n",
    "for i in full_review_tag7:\n",
    "    full_review7.append(i.text)\n",
    "full_review7"
   ]
  },
  {
   "cell_type": "code",
   "execution_count": 57,
   "id": "0bb43338",
   "metadata": {},
   "outputs": [],
   "source": [
    "# click on next button\n",
    "next_btn=driver.find_element_by_xpath('/html/body/div[1]/div/div[3]/div/div/div[2]/div[13]/div/div/nav/a[12]')\n",
    "next_btn\n",
    "next_btn.click()"
   ]
  },
  {
   "cell_type": "code",
   "execution_count": 87,
   "id": "e25f2877",
   "metadata": {},
   "outputs": [
    {
     "data": {
      "text/plain": [
       "['Super and marvellous phone look very cute and nice sound. I love this phone i think white is good colur.Excellent camer 5*😍😘♥️♥️',\n",
       " \"If you are looking for a premium phone under 55k, this is the one for you.Got the iPhone 11 during the Republic day sale. Performance is top notch in this price range. Camera's do a perfect job in taking good quality photos and videos. Battery backup too is satisfactory. Writing this review after using for a week. Any further observations would be updated.\",\n",
       " 'awesome Phone Smooth Touch Too good Sexyy looks one word Awesome',\n",
       " 'Gifted my man on his 30th birthday 🎂 He loves it.. Him happy so i am more than happy 😍😘❤️🥰',\n",
       " 'I bought iPhone 11 On March 2021, And I am Writing this review after using the phone for 4 Months. I would Say Everything is fine, Top Performance, Nice Camera as Anyone would Expect from any series of iPhone but when the Question comes to Battery it is complicated. The Battery is fully optimised and it comes 3110 mAh capacity but the problem is with the charger. Honestly Apple Removed charger from in Box items in the name of Environment and they are also forcing us to buy any 20W PD 3rd part...\\nREAD MORE',\n",
       " \"Just go for it.\\nThis phone is really amazing. I ordered it for my wife and we click photos on this thing which are better than dslr. I own OnePlus 6t but it's camera sucks. iPhone is really amazing when it comes to camera. It's worth spending 50k on this. Cons- only display is lcd. While using u don't feel it but if u compare with other phone then u can see difference quite easily.\\nChanging from Android to iphone is bit difficult coz most of things u don't know but I liked it. Some of the a...\\nREAD MORE\",\n",
       " 'Everything is perfect pictures come out so clearly and at first I wasn’t sure when I got it then when I started to use it and get the hang of it it was amazing!! I can’t wait to see what the next future phones will be like. The screen display on this bad boy are unbelievable they are so clear and never fail me. The performance is super cool there is a lot of cool features as well I like this phone because I feel that it is easy to use and one of my favorite things about this phone is the Face...\\nREAD MORE',\n",
       " \"I've used this phone for over a month now and here are my takeaways.\\nI would like to first talk about the best things about this phone and then the cons of it.\\n\\nPros:\\nThis phone is a performance beast. It handles large games and applications effortlessly and you won't find any stutters or lags while playing graphic intensive games like pubg, cod , mortal kombat and asphalt.\\n\\nThis phone has only 4gb ram and yet the ram management is amazing, it can keep 3 heavy games in memory without reload...\\nREAD MORE\",\n",
       " 'Excellent camera 📸 And Display touching very Nice And Smooth and very improvement against\\nI phone 11 and new processor is very fast',\n",
       " 'Thanks Flipkart For this amazing deal! I had a dream of owning a iphone since i had known about.\\nIm very happy with my purchase & it is totally worth it.\\nAmazing experience all over !!\\n\\nAnyone who’s thinking of buying it in 2021, i would simply say go for it without any second thoughts ❤️']"
      ]
     },
     "execution_count": 87,
     "metadata": {},
     "output_type": "execute_result"
    }
   ],
   "source": [
    "#scrappg review on 2nd page\n",
    "rating_tag8=driver.find_elements_by_xpath('//div[@class=\"_3LWZlK _1BLPMq\"]')\n",
    "rating_tag8\n",
    "# scrap the ratings text\n",
    "rating8=[]\n",
    "for i in rating_tag8:\n",
    "    rating8.append(i.text)\n",
    "rating8\n",
    "\n",
    "# scrapping the review sumary by xpath\n",
    "review_sum_tag8=driver.find_elements_by_xpath('//p[@class=\"_2-N8zT\"]')\n",
    "review_sum_tag8\n",
    "# scrap the review sumary text\n",
    "review_sum8=[]\n",
    "for i in review_sum_tag8:\n",
    "    review_sum8.append(i.text)\n",
    "review_sum8\n",
    "\n",
    "# scrap the full review\n",
    "full_review_tag8=driver.find_elements_by_xpath('//div[@class=\"t-ZTKy\"]')\n",
    "full_review_tag8\n",
    "# scrapp full review tag\n",
    "full_review8=[]\n",
    "for i in full_review_tag8:\n",
    "    full_review8.append(i.text)\n",
    "full_review8"
   ]
  },
  {
   "cell_type": "code",
   "execution_count": 59,
   "id": "a173fa34",
   "metadata": {},
   "outputs": [],
   "source": [
    "# click on next button\n",
    "next_btn=driver.find_element_by_xpath('/html/body/div[1]/div/div[3]/div/div/div[2]/div[13]/div/div/nav/a[12]')\n",
    "next_btn\n",
    "next_btn.click()"
   ]
  },
  {
   "cell_type": "code",
   "execution_count": 88,
   "id": "0e4df558",
   "metadata": {},
   "outputs": [
    {
     "data": {
      "text/plain": [
       "['Super and marvellous phone look very cute and nice sound. I love this phone i think white is good colur.Excellent camer 5*😍😘♥️♥️',\n",
       " \"If you are looking for a premium phone under 55k, this is the one for you.Got the iPhone 11 during the Republic day sale. Performance is top notch in this price range. Camera's do a perfect job in taking good quality photos and videos. Battery backup too is satisfactory. Writing this review after using for a week. Any further observations would be updated.\",\n",
       " 'awesome Phone Smooth Touch Too good Sexyy looks one word Awesome',\n",
       " 'Gifted my man on his 30th birthday 🎂 He loves it.. Him happy so i am more than happy 😍😘❤️🥰',\n",
       " 'I bought iPhone 11 On March 2021, And I am Writing this review after using the phone for 4 Months. I would Say Everything is fine, Top Performance, Nice Camera as Anyone would Expect from any series of iPhone but when the Question comes to Battery it is complicated. The Battery is fully optimised and it comes 3110 mAh capacity but the problem is with the charger. Honestly Apple Removed charger from in Box items in the name of Environment and they are also forcing us to buy any 20W PD 3rd part...\\nREAD MORE',\n",
       " \"Just go for it.\\nThis phone is really amazing. I ordered it for my wife and we click photos on this thing which are better than dslr. I own OnePlus 6t but it's camera sucks. iPhone is really amazing when it comes to camera. It's worth spending 50k on this. Cons- only display is lcd. While using u don't feel it but if u compare with other phone then u can see difference quite easily.\\nChanging from Android to iphone is bit difficult coz most of things u don't know but I liked it. Some of the a...\\nREAD MORE\",\n",
       " 'Everything is perfect pictures come out so clearly and at first I wasn’t sure when I got it then when I started to use it and get the hang of it it was amazing!! I can’t wait to see what the next future phones will be like. The screen display on this bad boy are unbelievable they are so clear and never fail me. The performance is super cool there is a lot of cool features as well I like this phone because I feel that it is easy to use and one of my favorite things about this phone is the Face...\\nREAD MORE',\n",
       " \"I've used this phone for over a month now and here are my takeaways.\\nI would like to first talk about the best things about this phone and then the cons of it.\\n\\nPros:\\nThis phone is a performance beast. It handles large games and applications effortlessly and you won't find any stutters or lags while playing graphic intensive games like pubg, cod , mortal kombat and asphalt.\\n\\nThis phone has only 4gb ram and yet the ram management is amazing, it can keep 3 heavy games in memory without reload...\\nREAD MORE\",\n",
       " 'Excellent camera 📸 And Display touching very Nice And Smooth and very improvement against\\nI phone 11 and new processor is very fast',\n",
       " 'Thanks Flipkart For this amazing deal! I had a dream of owning a iphone since i had known about.\\nIm very happy with my purchase & it is totally worth it.\\nAmazing experience all over !!\\n\\nAnyone who’s thinking of buying it in 2021, i would simply say go for it without any second thoughts ❤️']"
      ]
     },
     "execution_count": 88,
     "metadata": {},
     "output_type": "execute_result"
    }
   ],
   "source": [
    "#scrappg review on 2nd page\n",
    "rating_tag9=driver.find_elements_by_xpath('//div[@class=\"_3LWZlK _1BLPMq\"]')\n",
    "rating_tag9\n",
    "# scrap the ratings text\n",
    "rating9=[]\n",
    "for i in rating_tag9:\n",
    "    rating9.append(i.text)\n",
    "rating8\n",
    "\n",
    "# scrapping the review sumary by xpath\n",
    "review_sum_tag9=driver.find_elements_by_xpath('//p[@class=\"_2-N8zT\"]')\n",
    "review_sum_tag9\n",
    "# scrap the review sumary text\n",
    "review_sum9=[]\n",
    "for i in review_sum_tag9:\n",
    "    review_sum9.append(i.text)\n",
    "review_sum9\n",
    "\n",
    "# scrap the full review\n",
    "full_review_tag9=driver.find_elements_by_xpath('//div[@class=\"t-ZTKy\"]')\n",
    "full_review_tag9\n",
    "# scrapp full review tag\n",
    "full_review9=[]\n",
    "for i in full_review_tag9:\n",
    "    full_review9.append(i.text)\n",
    "full_review9"
   ]
  },
  {
   "cell_type": "code",
   "execution_count": 61,
   "id": "fef76fad",
   "metadata": {},
   "outputs": [],
   "source": [
    "# click on next button\n",
    "next_btn=driver.find_element_by_xpath('/html/body/div[1]/div/div[3]/div/div/div[2]/div[13]/div/div/nav/a[12]')\n",
    "next_btn\n",
    "next_btn.click()"
   ]
  },
  {
   "cell_type": "code",
   "execution_count": 89,
   "id": "3853b2bb",
   "metadata": {},
   "outputs": [
    {
     "data": {
      "text/plain": [
       "['Super and marvellous phone look very cute and nice sound. I love this phone i think white is good colur.Excellent camer 5*😍😘♥️♥️',\n",
       " \"If you are looking for a premium phone under 55k, this is the one for you.Got the iPhone 11 during the Republic day sale. Performance is top notch in this price range. Camera's do a perfect job in taking good quality photos and videos. Battery backup too is satisfactory. Writing this review after using for a week. Any further observations would be updated.\",\n",
       " 'awesome Phone Smooth Touch Too good Sexyy looks one word Awesome',\n",
       " 'Gifted my man on his 30th birthday 🎂 He loves it.. Him happy so i am more than happy 😍😘❤️🥰',\n",
       " 'I bought iPhone 11 On March 2021, And I am Writing this review after using the phone for 4 Months. I would Say Everything is fine, Top Performance, Nice Camera as Anyone would Expect from any series of iPhone but when the Question comes to Battery it is complicated. The Battery is fully optimised and it comes 3110 mAh capacity but the problem is with the charger. Honestly Apple Removed charger from in Box items in the name of Environment and they are also forcing us to buy any 20W PD 3rd part...\\nREAD MORE',\n",
       " \"Just go for it.\\nThis phone is really amazing. I ordered it for my wife and we click photos on this thing which are better than dslr. I own OnePlus 6t but it's camera sucks. iPhone is really amazing when it comes to camera. It's worth spending 50k on this. Cons- only display is lcd. While using u don't feel it but if u compare with other phone then u can see difference quite easily.\\nChanging from Android to iphone is bit difficult coz most of things u don't know but I liked it. Some of the a...\\nREAD MORE\",\n",
       " 'Everything is perfect pictures come out so clearly and at first I wasn’t sure when I got it then when I started to use it and get the hang of it it was amazing!! I can’t wait to see what the next future phones will be like. The screen display on this bad boy are unbelievable they are so clear and never fail me. The performance is super cool there is a lot of cool features as well I like this phone because I feel that it is easy to use and one of my favorite things about this phone is the Face...\\nREAD MORE',\n",
       " \"I've used this phone for over a month now and here are my takeaways.\\nI would like to first talk about the best things about this phone and then the cons of it.\\n\\nPros:\\nThis phone is a performance beast. It handles large games and applications effortlessly and you won't find any stutters or lags while playing graphic intensive games like pubg, cod , mortal kombat and asphalt.\\n\\nThis phone has only 4gb ram and yet the ram management is amazing, it can keep 3 heavy games in memory without reload...\\nREAD MORE\",\n",
       " 'Excellent camera 📸 And Display touching very Nice And Smooth and very improvement against\\nI phone 11 and new processor is very fast',\n",
       " 'Thanks Flipkart For this amazing deal! I had a dream of owning a iphone since i had known about.\\nIm very happy with my purchase & it is totally worth it.\\nAmazing experience all over !!\\n\\nAnyone who’s thinking of buying it in 2021, i would simply say go for it without any second thoughts ❤️']"
      ]
     },
     "execution_count": 89,
     "metadata": {},
     "output_type": "execute_result"
    }
   ],
   "source": [
    "#scrappg review on 2nd page\n",
    "rating_tag10=driver.find_elements_by_xpath('//div[@class=\"_3LWZlK _1BLPMq\"]')\n",
    "rating_tag10\n",
    "# scrap the ratings text\n",
    "rating10=[]\n",
    "for i in rating_tag10:\n",
    "    rating10.append(i.text)\n",
    "rating10\n",
    "\n",
    "# scrapping the review sumary by xpath\n",
    "review_sum_tag10=driver.find_elements_by_xpath('//p[@class=\"_2-N8zT\"]')\n",
    "review_sum_tag10\n",
    "# scrap the review sumary text\n",
    "review_sum10=[]\n",
    "for i in review_sum_tag10:\n",
    "    review_sum10.append(i.text)\n",
    "review_sum10\n",
    "\n",
    "# scrap the full review\n",
    "full_review_tag10=driver.find_elements_by_xpath('//div[@class=\"t-ZTKy\"]')\n",
    "full_review_tag10\n",
    "# scrapp full review tag\n",
    "full_review10=[]\n",
    "for i in full_review_tag10:\n",
    "    full_review10.append(i.text)\n",
    "full_review10"
   ]
  },
  {
   "cell_type": "code",
   "execution_count": 90,
   "id": "2d7b19c5",
   "metadata": {},
   "outputs": [
    {
     "data": {
      "text/plain": [
       "100"
      ]
     },
     "execution_count": 90,
     "metadata": {},
     "output_type": "execute_result"
    }
   ],
   "source": [
    "rating=rating1+rating2+rating3+rating4+rating5+rating6+rating7+rating8+rating9+rating10\n",
    "review_sum=review_sum1+review_sum2+review_sum3+review_sum4+review_sum5+review_sum6+review_sum7+review_sum8+review_sum9+review_sum10\n",
    "full_review=full_review1+full_review2+full_review3+full_review4+full_review5+full_review6+full_review7+full_review8+full_review9+full_review10\n"
   ]
  },
  {
   "cell_type": "code",
   "execution_count": 91,
   "id": "d1809726",
   "metadata": {},
   "outputs": [
    {
     "data": {
      "text/html": [
       "<div>\n",
       "<style scoped>\n",
       "    .dataframe tbody tr th:only-of-type {\n",
       "        vertical-align: middle;\n",
       "    }\n",
       "\n",
       "    .dataframe tbody tr th {\n",
       "        vertical-align: top;\n",
       "    }\n",
       "\n",
       "    .dataframe thead th {\n",
       "        text-align: right;\n",
       "    }\n",
       "</style>\n",
       "<table border=\"1\" class=\"dataframe\">\n",
       "  <thead>\n",
       "    <tr style=\"text-align: right;\">\n",
       "      <th></th>\n",
       "      <th>Rating</th>\n",
       "      <th>Review Summary</th>\n",
       "      <th>Full Review</th>\n",
       "    </tr>\n",
       "  </thead>\n",
       "  <tbody>\n",
       "    <tr>\n",
       "      <th>0</th>\n",
       "      <td>5</td>\n",
       "      <td>Excellent</td>\n",
       "      <td>A perfect phone and a good battery super camer...</td>\n",
       "    </tr>\n",
       "    <tr>\n",
       "      <th>1</th>\n",
       "      <td>5</td>\n",
       "      <td>Worth every penny</td>\n",
       "      <td>Undoubtedly Iphone 11 is the most successful m...</td>\n",
       "    </tr>\n",
       "    <tr>\n",
       "      <th>2</th>\n",
       "      <td>5</td>\n",
       "      <td>Fabulous!</td>\n",
       "      <td>I purchased the iPhone 11 a month back. I must...</td>\n",
       "    </tr>\n",
       "    <tr>\n",
       "      <th>3</th>\n",
       "      <td>5</td>\n",
       "      <td>Brilliant</td>\n",
       "      <td>A wort full value for money decision it’s . Si...</td>\n",
       "    </tr>\n",
       "    <tr>\n",
       "      <th>4</th>\n",
       "      <td>5</td>\n",
       "      <td>Just wow!</td>\n",
       "      <td>The ultimate performance\\nCamera is superb\\nTh...</td>\n",
       "    </tr>\n",
       "    <tr>\n",
       "      <th>...</th>\n",
       "      <td>...</td>\n",
       "      <td>...</td>\n",
       "      <td>...</td>\n",
       "    </tr>\n",
       "    <tr>\n",
       "      <th>95</th>\n",
       "      <td>5</td>\n",
       "      <td>Excellent</td>\n",
       "      <td>Just go for it.\\nThis phone is really amazing....</td>\n",
       "    </tr>\n",
       "    <tr>\n",
       "      <th>96</th>\n",
       "      <td>5</td>\n",
       "      <td>Fabulous!</td>\n",
       "      <td>Everything is perfect pictures come out so cle...</td>\n",
       "    </tr>\n",
       "    <tr>\n",
       "      <th>97</th>\n",
       "      <td>4</td>\n",
       "      <td>Pretty good</td>\n",
       "      <td>I've used this phone for over a month now and ...</td>\n",
       "    </tr>\n",
       "    <tr>\n",
       "      <th>98</th>\n",
       "      <td>5</td>\n",
       "      <td>Mind-blowing purchase</td>\n",
       "      <td>Excellent camera 📸 And Display touching very N...</td>\n",
       "    </tr>\n",
       "    <tr>\n",
       "      <th>99</th>\n",
       "      <td>5</td>\n",
       "      <td>Highly recommended</td>\n",
       "      <td>Thanks Flipkart For this amazing deal! I had a...</td>\n",
       "    </tr>\n",
       "  </tbody>\n",
       "</table>\n",
       "<p>100 rows × 3 columns</p>\n",
       "</div>"
      ],
      "text/plain": [
       "   Rating         Review Summary  \\\n",
       "0       5              Excellent   \n",
       "1       5      Worth every penny   \n",
       "2       5              Fabulous!   \n",
       "3       5              Brilliant   \n",
       "4       5              Just wow!   \n",
       "..    ...                    ...   \n",
       "95      5              Excellent   \n",
       "96      5              Fabulous!   \n",
       "97      4            Pretty good   \n",
       "98      5  Mind-blowing purchase   \n",
       "99      5     Highly recommended   \n",
       "\n",
       "                                          Full Review  \n",
       "0   A perfect phone and a good battery super camer...  \n",
       "1   Undoubtedly Iphone 11 is the most successful m...  \n",
       "2   I purchased the iPhone 11 a month back. I must...  \n",
       "3   A wort full value for money decision it’s . Si...  \n",
       "4   The ultimate performance\\nCamera is superb\\nTh...  \n",
       "..                                                ...  \n",
       "95  Just go for it.\\nThis phone is really amazing....  \n",
       "96  Everything is perfect pictures come out so cle...  \n",
       "97  I've used this phone for over a month now and ...  \n",
       "98  Excellent camera 📸 And Display touching very N...  \n",
       "99  Thanks Flipkart For this amazing deal! I had a...  \n",
       "\n",
       "[100 rows x 3 columns]"
      ]
     },
     "execution_count": 91,
     "metadata": {},
     "output_type": "execute_result"
    }
   ],
   "source": [
    "df=pd.DataFrame({\"Rating\":rating,\"Review Summary\":review_sum,\"Full Review\":full_review})\n",
    "df"
   ]
  },
  {
   "cell_type": "code",
   "execution_count": null,
   "id": "4677949c",
   "metadata": {},
   "outputs": [],
   "source": []
  }
 ],
 "metadata": {
  "kernelspec": {
   "display_name": "Python 3",
   "language": "python",
   "name": "python3"
  },
  "language_info": {
   "codemirror_mode": {
    "name": "ipython",
    "version": 3
   },
   "file_extension": ".py",
   "mimetype": "text/x-python",
   "name": "python",
   "nbconvert_exporter": "python",
   "pygments_lexer": "ipython3",
   "version": "3.8.8"
  }
 },
 "nbformat": 4,
 "nbformat_minor": 5
}
