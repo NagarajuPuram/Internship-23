{
 "cells": [
  {
   "cell_type": "markdown",
   "id": "b4fafef9",
   "metadata": {},
   "source": [
    "Q8: Go to webpage https://www.amazon.in/\n",
    "Enter “Laptop” in the search field and then click the search icon.\n",
    "Then set CPU Type filter to “Intel Core i7” and “Intel Core i9” as shown in the below image:\n",
    "After setting the filters scrape first 10 laptops data. You have to scrape 3 attributesfor each laptop:\n",
    "1. Title\n",
    "2. Ratings\n",
    "3. Price\n",
    "As shown in the below image as the tick marked attributes."
   ]
  },
  {
   "cell_type": "code",
   "execution_count": 5,
   "id": "d544932e",
   "metadata": {},
   "outputs": [],
   "source": [
    "# import necessary liabraries\n",
    "import selenium\n",
    "from selenium import webdriver\n",
    "import pandas as pd \n",
    "import warnings\n",
    "warnings.filterwarnings('ignore')"
   ]
  },
  {
   "cell_type": "markdown",
   "id": "523a43ec",
   "metadata": {},
   "source": [
    "## connection to webdriver"
   ]
  },
  {
   "cell_type": "code",
   "execution_count": 6,
   "id": "0490f68e",
   "metadata": {},
   "outputs": [],
   "source": [
    "driver=webdriver.Chrome(\"D:\\Internship Problems\\selenium\\chromedriver_win32\\chromedriver.exe\")"
   ]
  },
  {
   "cell_type": "markdown",
   "id": "dc6ee217",
   "metadata": {},
   "source": [
    "## connection to the url of site"
   ]
  },
  {
   "cell_type": "code",
   "execution_count": 7,
   "id": "b3be4090",
   "metadata": {},
   "outputs": [],
   "source": [
    "url='https://www.amazon.in/'\n",
    "driver.get(url)"
   ]
  },
  {
   "cell_type": "markdown",
   "id": "fee9da61",
   "metadata": {},
   "source": [
    "## finding the webelement search bar job using id"
   ]
  },
  {
   "cell_type": "code",
   "execution_count": 8,
   "id": "1250277e",
   "metadata": {},
   "outputs": [
    {
     "data": {
      "text/plain": [
       "<selenium.webdriver.remote.webelement.WebElement (session=\"a8e1ba283470728d28d69431b464b640\", element=\"f71009c3-1b27-42c7-9a47-da8db6cb9ecb\")>"
      ]
     },
     "execution_count": 8,
     "metadata": {},
     "output_type": "execute_result"
    }
   ],
   "source": [
    "search_job=driver.find_element_by_id(\"twotabsearchtextbox\")\n",
    "search_job"
   ]
  },
  {
   "cell_type": "markdown",
   "id": "3c839535",
   "metadata": {},
   "source": [
    "## write in search bar"
   ]
  },
  {
   "cell_type": "code",
   "execution_count": 10,
   "id": "cc669757",
   "metadata": {},
   "outputs": [],
   "source": [
    "search_job.send_keys('Laptop')"
   ]
  },
  {
   "cell_type": "markdown",
   "id": "ef5b4be0",
   "metadata": {},
   "source": [
    "## Clicking on search button using id"
   ]
  },
  {
   "cell_type": "code",
   "execution_count": 21,
   "id": "9f50722c",
   "metadata": {},
   "outputs": [
    {
     "data": {
      "text/plain": [
       "<selenium.webdriver.remote.webelement.WebElement (session=\"a8e1ba283470728d28d69431b464b640\", element=\"675390c9-4920-4e34-8ef4-6db7045bae9d\")>"
      ]
     },
     "execution_count": 21,
     "metadata": {},
     "output_type": "execute_result"
    }
   ],
   "source": [
    "search_icon=driver.find_element_by_id('nav-search-submit-button')\n",
    "search_icon"
   ]
  },
  {
   "cell_type": "markdown",
   "id": "9c1659d7",
   "metadata": {},
   "source": [
    "## click on search icon"
   ]
  },
  {
   "cell_type": "code",
   "execution_count": 22,
   "id": "e020750b",
   "metadata": {},
   "outputs": [],
   "source": [
    "search_icon.click()"
   ]
  },
  {
   "cell_type": "markdown",
   "id": "6c90850d",
   "metadata": {},
   "source": [
    "## clicking on cpu type in filter using class xpath"
   ]
  },
  {
   "cell_type": "code",
   "execution_count": 37,
   "id": "2d8c7093",
   "metadata": {},
   "outputs": [
    {
     "data": {
      "text/plain": [
       "<selenium.webdriver.remote.webelement.WebElement (session=\"a8e1ba283470728d28d69431b464b640\", element=\"89d51aa0-1e31-4008-a62f-0065ee799dd7\")>"
      ]
     },
     "execution_count": 37,
     "metadata": {},
     "output_type": "execute_result"
    }
   ],
   "source": [
    "cpu_filter_icon=driver.find_element_by_xpath('/html/body/div[1]/div[2]/div[1]/div[2]/div/div[3]/span/div[1]/span/div/div/div[6]/ul[1]/li[13]/span/a/div/label/i')\n",
    "cpu_filter_icon"
   ]
  },
  {
   "cell_type": "code",
   "execution_count": 39,
   "id": "19c07775",
   "metadata": {},
   "outputs": [],
   "source": [
    "# clicking on cpu filter icon\n",
    "cpu_filter_icon.click()"
   ]
  },
  {
   "cell_type": "markdown",
   "id": "ef0bdb9b",
   "metadata": {},
   "source": [
    "## scrapping product names using xpath"
   ]
  },
  {
   "cell_type": "code",
   "execution_count": 43,
   "id": "a049a6ea",
   "metadata": {},
   "outputs": [
    {
     "data": {
      "text/plain": [
       "[<selenium.webdriver.remote.webelement.WebElement (session=\"a8e1ba283470728d28d69431b464b640\", element=\"8b9fa116-45f5-42cd-b6d6-aacc3728524e\")>,\n",
       " <selenium.webdriver.remote.webelement.WebElement (session=\"a8e1ba283470728d28d69431b464b640\", element=\"508708d6-a995-441d-a93a-17e5cf40004c\")>,\n",
       " <selenium.webdriver.remote.webelement.WebElement (session=\"a8e1ba283470728d28d69431b464b640\", element=\"fa88ac68-e134-4fec-8c0d-aefb8ce4610e\")>,\n",
       " <selenium.webdriver.remote.webelement.WebElement (session=\"a8e1ba283470728d28d69431b464b640\", element=\"2df8c7f2-b292-4c43-8608-e99376705e19\")>,\n",
       " <selenium.webdriver.remote.webelement.WebElement (session=\"a8e1ba283470728d28d69431b464b640\", element=\"1ec82d48-058a-4078-8509-fdabfcc288db\")>,\n",
       " <selenium.webdriver.remote.webelement.WebElement (session=\"a8e1ba283470728d28d69431b464b640\", element=\"954f188d-232b-4c51-9ce5-db413d07cf5f\")>,\n",
       " <selenium.webdriver.remote.webelement.WebElement (session=\"a8e1ba283470728d28d69431b464b640\", element=\"3237754a-4be1-4727-8a97-1433179f9a45\")>,\n",
       " <selenium.webdriver.remote.webelement.WebElement (session=\"a8e1ba283470728d28d69431b464b640\", element=\"e5b9368a-f7f5-4364-9e70-82fe59924c7c\")>,\n",
       " <selenium.webdriver.remote.webelement.WebElement (session=\"a8e1ba283470728d28d69431b464b640\", element=\"2b4817a1-695a-43cb-bfcf-d07e203d5078\")>,\n",
       " <selenium.webdriver.remote.webelement.WebElement (session=\"a8e1ba283470728d28d69431b464b640\", element=\"0b3c07e5-157e-44a9-97cb-bced81bdebe0\")>,\n",
       " <selenium.webdriver.remote.webelement.WebElement (session=\"a8e1ba283470728d28d69431b464b640\", element=\"5a937dd6-e1f4-42b3-afac-dd7a042dce93\")>,\n",
       " <selenium.webdriver.remote.webelement.WebElement (session=\"a8e1ba283470728d28d69431b464b640\", element=\"802b0eaf-9765-43c5-b713-ab1488b18bbc\")>,\n",
       " <selenium.webdriver.remote.webelement.WebElement (session=\"a8e1ba283470728d28d69431b464b640\", element=\"27933d8f-1f2d-49e3-ae21-c966358cec75\")>,\n",
       " <selenium.webdriver.remote.webelement.WebElement (session=\"a8e1ba283470728d28d69431b464b640\", element=\"663f1ce3-5e67-49af-a635-5e7d994b69d2\")>,\n",
       " <selenium.webdriver.remote.webelement.WebElement (session=\"a8e1ba283470728d28d69431b464b640\", element=\"179384b1-f505-40e2-b1ab-a48698873d9c\")>,\n",
       " <selenium.webdriver.remote.webelement.WebElement (session=\"a8e1ba283470728d28d69431b464b640\", element=\"c5493805-5e78-49d4-8497-4b76fa145efc\")>,\n",
       " <selenium.webdriver.remote.webelement.WebElement (session=\"a8e1ba283470728d28d69431b464b640\", element=\"c00b10b3-ac0f-4521-ba36-35a318ffff26\")>,\n",
       " <selenium.webdriver.remote.webelement.WebElement (session=\"a8e1ba283470728d28d69431b464b640\", element=\"aa934138-accc-49bb-803b-a4f59ee14286\")>,\n",
       " <selenium.webdriver.remote.webelement.WebElement (session=\"a8e1ba283470728d28d69431b464b640\", element=\"cd5bc413-adf0-425e-85cb-a2efe0942f4e\")>,\n",
       " <selenium.webdriver.remote.webelement.WebElement (session=\"a8e1ba283470728d28d69431b464b640\", element=\"ecb992a8-19f7-4a8d-ac97-e45279b08d8a\")>,\n",
       " <selenium.webdriver.remote.webelement.WebElement (session=\"a8e1ba283470728d28d69431b464b640\", element=\"b35627c4-8b73-4c43-bbf1-ef4ca91bf4f5\")>,\n",
       " <selenium.webdriver.remote.webelement.WebElement (session=\"a8e1ba283470728d28d69431b464b640\", element=\"71c50d26-1aeb-4bf9-be30-f439da5f6457\")>,\n",
       " <selenium.webdriver.remote.webelement.WebElement (session=\"a8e1ba283470728d28d69431b464b640\", element=\"df16b8a7-7bd4-48ca-a4ab-15d24ec26bd9\")>,\n",
       " <selenium.webdriver.remote.webelement.WebElement (session=\"a8e1ba283470728d28d69431b464b640\", element=\"ede2a796-0722-4fad-931d-ec1195029cc5\")>,\n",
       " <selenium.webdriver.remote.webelement.WebElement (session=\"a8e1ba283470728d28d69431b464b640\", element=\"df156003-2b1a-49f3-a636-1f7f54ad29ba\")>,\n",
       " <selenium.webdriver.remote.webelement.WebElement (session=\"a8e1ba283470728d28d69431b464b640\", element=\"b73cc265-660a-400d-8c9d-5d0b3e970953\")>,\n",
       " <selenium.webdriver.remote.webelement.WebElement (session=\"a8e1ba283470728d28d69431b464b640\", element=\"f86d6750-809c-440f-9ac5-2cc3c8ff4b8d\")>,\n",
       " <selenium.webdriver.remote.webelement.WebElement (session=\"a8e1ba283470728d28d69431b464b640\", element=\"4afd2e9e-2dce-42b5-b876-e419b92b0d25\")>,\n",
       " <selenium.webdriver.remote.webelement.WebElement (session=\"a8e1ba283470728d28d69431b464b640\", element=\"3d656afe-720c-41d8-a052-f2cc0a06500c\")>,\n",
       " <selenium.webdriver.remote.webelement.WebElement (session=\"a8e1ba283470728d28d69431b464b640\", element=\"0e0bd96d-7093-4103-8a3a-a2994b7d8e18\")>]"
      ]
     },
     "execution_count": 43,
     "metadata": {},
     "output_type": "execute_result"
    }
   ],
   "source": [
    "product_name=driver.find_elements_by_xpath('//span[@class=\"a-size-medium a-color-base a-text-normal\"]')\n",
    "product_name"
   ]
  },
  {
   "cell_type": "code",
   "execution_count": 47,
   "id": "94ee07ac",
   "metadata": {},
   "outputs": [
    {
     "name": "stdout",
     "output_type": "stream",
     "text": [
      "30\n"
     ]
    },
    {
     "data": {
      "text/plain": [
       "['Dell 14 (2021) i7-1195G7 2in1 Touch Screen Laptop, 16GB, 512GB SSD, Win 10 + MS Office, 14.0\" (35.56 cms) FHD Display, Backlit KB, FPR + Active Pen, Platinum Silver (Inspiron 5410, D560596WIN9S)',\n",
       " 'Mi Notebook Horizon Edition 14 Intel Core i7-10510U 10th Gen Thin and Light Laptop(8GB/512GB SSD/Windows 10/Nvidia MX350 2GB Graphics/Grey/1.35Kg)(Without Webcam) XMA1904-AF',\n",
       " 'Lenovo ThinkBook 13s Intel 11th Gen Core i7 13.3\"(33.78 cm) WQXGA IPS 300 nits 100% sRGB Dolby Vision Thin and Light Laptop (16GB/512GB SSD/Windows 10/MS Office/FPR/Mineral Grey/1.26 Kg), 20V9A05FIH',\n",
       " 'Acer Nitro 5 AN515-57 Gaming Laptop | Intel Core i7-11800H |NVIDIA GeForce RTX 3050 Ti Laptop Graphics |15.6\" FHD 144Hz IPS Display |16GB DDR4 |256GB SSD+1TB HDD |Killer Wi-Fi 6 |RGB Backlit Keyboard',\n",
       " 'HP Pavilion 13, 11th Gen Intel Core i7, 13.3-inch(33.8 cm) FHD,IPS, Micro-Edge Laptop (16GB RAM/ 1TB SSD/ Win 10/ FPR/Audio B&O/Alexa Built-in/MS Office/ Ceramic White/ 1.24 Kg) -13-bb0078TU',\n",
       " 'ASUS TUF Dash F15 (2021), 15.6-inch (39.62 cms) FHD 144Hz, Intel Core i7-11370H 11th Gen, RTX 3050 4GB Graphics Gaming Laptop (16GB RAM/512GB SSD/Windows 10/Gray/2 kg), FX516PC-HN063T',\n",
       " 'LG Gram 17-inches Ultra-Light Intel Evo 11th Gen Core i7,16 GB RAM, 512 GB SSD, New Win-11 Preload, Iris Xe Graphics, USC -C x 2 (with Power), 1.35 kg, 3 Yr Warranty (17Z90P-G.AH85A2, Black)',\n",
       " 'ASUS VivoBook 14 (2021), 14-inch (35.56 cms) FHD, Intel Core i7-1065G7 10th Gen, Thin and Light Laptop (16GB/512GB SSD/Integrated Graphics/Office 2021/Windows 11/Silver/1.6 Kg), X415JA-EK701WS',\n",
       " 'Mi Notebook Horizon Edition 14 Intel Core i7-10510U 10th Gen Thin and Light Laptop(8GB/512GB SSD/Windows 10/Nvidia MX350 2GB Graphics/Grey/1.35Kg)(Without Webcam) XMA1904-AF',\n",
       " 'ASUS TUF Dash F15 (2021), 15.6\" (39.62 cms) FHD 144Hz, Intel Core i7-11370H 11th Gen, RTX 3050 Ti 4GB Graphics, Gaming Laptop (16GB/1TB SSD/Office 2019/Windows 10/Eclipse Gray/2 kg), FX516PE-HN088TS']"
      ]
     },
     "execution_count": 47,
     "metadata": {},
     "output_type": "execute_result"
    }
   ],
   "source": [
    "names=[]  # empty list to store\n",
    "for i in product_name:\n",
    "    names.append(i.text)\n",
    "print(len(names))\n",
    "names=names[:10]\n",
    "names"
   ]
  },
  {
   "cell_type": "code",
   "execution_count": 70,
   "id": "14f2a2fd",
   "metadata": {},
   "outputs": [
    {
     "data": {
      "text/plain": [
       "[<selenium.webdriver.remote.webelement.WebElement (session=\"a8e1ba283470728d28d69431b464b640\", element=\"b63d18bd-9746-43ea-a469-607064c9a145\")>]"
      ]
     },
     "execution_count": 70,
     "metadata": {},
     "output_type": "execute_result"
    }
   ],
   "source": [
    "# SCRAPPING RATING \n",
    "rating=driver.find_elements_by_xpath('/html/body/div[1]/div[2]/div[1]/div[1]/div/span[3]/div[2]/div[2]/div/span/div/div/div/div/div[2]/div[2]/div/div/div[2]/div/span[1]')\n",
    "rating"
   ]
  },
  {
   "cell_type": "code",
   "execution_count": 71,
   "id": "6fc4cc49",
   "metadata": {},
   "outputs": [
    {
     "data": {
      "text/plain": [
       "['']"
      ]
     },
     "execution_count": 71,
     "metadata": {},
     "output_type": "execute_result"
    }
   ],
   "source": [
    "# scrapping top 10 ratings\n",
    "ratings=[]\n",
    "for i in rating:\n",
    "    ratings.append(i.text)\n",
    "ratings=ratings[:10]\n",
    "ratings"
   ]
  },
  {
   "cell_type": "code",
   "execution_count": 73,
   "id": "5dccdfc6",
   "metadata": {},
   "outputs": [
    {
     "data": {
      "text/plain": [
       "[<selenium.webdriver.remote.webelement.WebElement (session=\"a8e1ba283470728d28d69431b464b640\", element=\"4350719e-7e21-419a-92c9-fcb4bb53222d\")>,\n",
       " <selenium.webdriver.remote.webelement.WebElement (session=\"a8e1ba283470728d28d69431b464b640\", element=\"d78cb940-6cd8-4efd-b6e9-4497be5e3e5e\")>,\n",
       " <selenium.webdriver.remote.webelement.WebElement (session=\"a8e1ba283470728d28d69431b464b640\", element=\"ca4a9d3f-ba88-41fb-93c1-fd138f82efa0\")>,\n",
       " <selenium.webdriver.remote.webelement.WebElement (session=\"a8e1ba283470728d28d69431b464b640\", element=\"fa2f56b2-836c-4e80-afee-74383c2ea10e\")>,\n",
       " <selenium.webdriver.remote.webelement.WebElement (session=\"a8e1ba283470728d28d69431b464b640\", element=\"d0ee7bad-7581-44f5-b243-b374b2dfaf46\")>,\n",
       " <selenium.webdriver.remote.webelement.WebElement (session=\"a8e1ba283470728d28d69431b464b640\", element=\"c2d968f0-e291-4f26-aa74-7ac55426f1b3\")>,\n",
       " <selenium.webdriver.remote.webelement.WebElement (session=\"a8e1ba283470728d28d69431b464b640\", element=\"4f2b6517-ff43-4aea-b540-f9369d11dc08\")>,\n",
       " <selenium.webdriver.remote.webelement.WebElement (session=\"a8e1ba283470728d28d69431b464b640\", element=\"a9541f13-ba72-4411-970f-d2536c91f85f\")>,\n",
       " <selenium.webdriver.remote.webelement.WebElement (session=\"a8e1ba283470728d28d69431b464b640\", element=\"5eb56ca2-e668-43c6-ba47-cb1d47a6f893\")>,\n",
       " <selenium.webdriver.remote.webelement.WebElement (session=\"a8e1ba283470728d28d69431b464b640\", element=\"6c459a6a-36b3-437b-8eaf-68e2d73aa92e\")>,\n",
       " <selenium.webdriver.remote.webelement.WebElement (session=\"a8e1ba283470728d28d69431b464b640\", element=\"ed2f57fd-3a9c-42df-ae37-0a9d458f64cf\")>,\n",
       " <selenium.webdriver.remote.webelement.WebElement (session=\"a8e1ba283470728d28d69431b464b640\", element=\"7040d14a-5807-424d-b082-764a68fbb82d\")>,\n",
       " <selenium.webdriver.remote.webelement.WebElement (session=\"a8e1ba283470728d28d69431b464b640\", element=\"80eb08a1-1f65-44e2-ad49-0bc4bae5d888\")>,\n",
       " <selenium.webdriver.remote.webelement.WebElement (session=\"a8e1ba283470728d28d69431b464b640\", element=\"97ec13b6-a98a-4c58-9b71-d97199a1355b\")>,\n",
       " <selenium.webdriver.remote.webelement.WebElement (session=\"a8e1ba283470728d28d69431b464b640\", element=\"ff9c192a-56d9-4786-9e5c-d831c6bd02a7\")>,\n",
       " <selenium.webdriver.remote.webelement.WebElement (session=\"a8e1ba283470728d28d69431b464b640\", element=\"9e6440a6-b104-4cf0-95aa-a225a5a4f4ce\")>,\n",
       " <selenium.webdriver.remote.webelement.WebElement (session=\"a8e1ba283470728d28d69431b464b640\", element=\"8d0e442c-4f9e-49ef-a085-43688f091f97\")>,\n",
       " <selenium.webdriver.remote.webelement.WebElement (session=\"a8e1ba283470728d28d69431b464b640\", element=\"45807665-1b23-4fbe-84aa-683cca8f4a3d\")>,\n",
       " <selenium.webdriver.remote.webelement.WebElement (session=\"a8e1ba283470728d28d69431b464b640\", element=\"89d4b6aa-4588-4b97-a844-313a34829381\")>,\n",
       " <selenium.webdriver.remote.webelement.WebElement (session=\"a8e1ba283470728d28d69431b464b640\", element=\"0963a39d-cef2-4916-b616-a6f27f98d9d0\")>,\n",
       " <selenium.webdriver.remote.webelement.WebElement (session=\"a8e1ba283470728d28d69431b464b640\", element=\"1c633b1b-c6f3-4e89-9d07-b0702325702a\")>,\n",
       " <selenium.webdriver.remote.webelement.WebElement (session=\"a8e1ba283470728d28d69431b464b640\", element=\"9e178b5c-0f76-49a5-adc9-6bb8ded08110\")>,\n",
       " <selenium.webdriver.remote.webelement.WebElement (session=\"a8e1ba283470728d28d69431b464b640\", element=\"6db1d879-f0db-41bf-b886-50607150a197\")>,\n",
       " <selenium.webdriver.remote.webelement.WebElement (session=\"a8e1ba283470728d28d69431b464b640\", element=\"ea6c2deb-fdd4-46ae-9c63-9a3064400a19\")>,\n",
       " <selenium.webdriver.remote.webelement.WebElement (session=\"a8e1ba283470728d28d69431b464b640\", element=\"c03a5e80-ecd7-4105-bbf1-7c454c4e2c39\")>,\n",
       " <selenium.webdriver.remote.webelement.WebElement (session=\"a8e1ba283470728d28d69431b464b640\", element=\"1136f53b-6d6d-458a-a732-d9506ed5f63c\")>,\n",
       " <selenium.webdriver.remote.webelement.WebElement (session=\"a8e1ba283470728d28d69431b464b640\", element=\"894ffdd8-a70b-45a7-a460-0f4dbb3feb2a\")>,\n",
       " <selenium.webdriver.remote.webelement.WebElement (session=\"a8e1ba283470728d28d69431b464b640\", element=\"2d12c1f9-f0cf-4666-bd7a-a9f5c1f963bb\")>,\n",
       " <selenium.webdriver.remote.webelement.WebElement (session=\"a8e1ba283470728d28d69431b464b640\", element=\"02f65a87-8c7b-4660-8491-cf3023378ed2\")>,\n",
       " <selenium.webdriver.remote.webelement.WebElement (session=\"a8e1ba283470728d28d69431b464b640\", element=\"ccb5fd3d-7823-41e2-aad5-2fa25484e2da\")>]"
      ]
     },
     "execution_count": 73,
     "metadata": {},
     "output_type": "execute_result"
    }
   ],
   "source": [
    "# scrapping price of product\n",
    "price=driver.find_elements_by_xpath('//span[@class=\"a-price-whole\"]')\n",
    "price"
   ]
  },
  {
   "cell_type": "code",
   "execution_count": 74,
   "id": "ba89b07b",
   "metadata": {},
   "outputs": [
    {
     "data": {
      "text/plain": [
       "['94,490',\n",
       " '57,990',\n",
       " '79,990',\n",
       " '89,990',\n",
       " '86,990',\n",
       " '82,990',\n",
       " '99,990',\n",
       " '59,990',\n",
       " '57,990',\n",
       " '95,990']"
      ]
     },
     "execution_count": 74,
     "metadata": {},
     "output_type": "execute_result"
    }
   ],
   "source": [
    "# scrapping top 10 prices of product\n",
    "prices=[]\n",
    "for i in price:\n",
    "    prices.append(i.text)\n",
    "prices=prices[:10]\n",
    "prices"
   ]
  },
  {
   "cell_type": "code",
   "execution_count": 75,
   "id": "5b7116a5",
   "metadata": {},
   "outputs": [
    {
     "ename": "ValueError",
     "evalue": "arrays must all be same length",
     "output_type": "error",
     "traceback": [
      "\u001b[1;31m---------------------------------------------------------------------------\u001b[0m",
      "\u001b[1;31mValueError\u001b[0m                                Traceback (most recent call last)",
      "\u001b[1;32m<ipython-input-75-2c5e84ecea85>\u001b[0m in \u001b[0;36m<module>\u001b[1;34m\u001b[0m\n\u001b[0;32m      1\u001b[0m \u001b[1;31m# create a dataframe\u001b[0m\u001b[1;33m\u001b[0m\u001b[1;33m\u001b[0m\u001b[1;33m\u001b[0m\u001b[0m\n\u001b[1;32m----> 2\u001b[1;33m \u001b[0mdf\u001b[0m\u001b[1;33m=\u001b[0m\u001b[0mpd\u001b[0m\u001b[1;33m.\u001b[0m\u001b[0mDataFrame\u001b[0m\u001b[1;33m(\u001b[0m\u001b[1;33m{\u001b[0m\u001b[1;34m\"Laptop Name\"\u001b[0m\u001b[1;33m:\u001b[0m\u001b[0mnames\u001b[0m\u001b[1;33m,\u001b[0m\u001b[1;34m\"Rating\"\u001b[0m\u001b[1;33m:\u001b[0m\u001b[0mratings\u001b[0m\u001b[1;33m,\u001b[0m\u001b[1;34m'Price'\u001b[0m\u001b[1;33m:\u001b[0m\u001b[0mprices\u001b[0m\u001b[1;33m}\u001b[0m\u001b[1;33m)\u001b[0m\u001b[1;33m\u001b[0m\u001b[1;33m\u001b[0m\u001b[0m\n\u001b[0m\u001b[0;32m      3\u001b[0m \u001b[0mdf\u001b[0m\u001b[1;33m\u001b[0m\u001b[1;33m\u001b[0m\u001b[0m\n",
      "\u001b[1;32m~\\anaconda3\\lib\\site-packages\\pandas\\core\\frame.py\u001b[0m in \u001b[0;36m__init__\u001b[1;34m(self, data, index, columns, dtype, copy)\u001b[0m\n\u001b[0;32m    527\u001b[0m \u001b[1;33m\u001b[0m\u001b[0m\n\u001b[0;32m    528\u001b[0m         \u001b[1;32melif\u001b[0m \u001b[0misinstance\u001b[0m\u001b[1;33m(\u001b[0m\u001b[0mdata\u001b[0m\u001b[1;33m,\u001b[0m \u001b[0mdict\u001b[0m\u001b[1;33m)\u001b[0m\u001b[1;33m:\u001b[0m\u001b[1;33m\u001b[0m\u001b[1;33m\u001b[0m\u001b[0m\n\u001b[1;32m--> 529\u001b[1;33m             \u001b[0mmgr\u001b[0m \u001b[1;33m=\u001b[0m \u001b[0minit_dict\u001b[0m\u001b[1;33m(\u001b[0m\u001b[0mdata\u001b[0m\u001b[1;33m,\u001b[0m \u001b[0mindex\u001b[0m\u001b[1;33m,\u001b[0m \u001b[0mcolumns\u001b[0m\u001b[1;33m,\u001b[0m \u001b[0mdtype\u001b[0m\u001b[1;33m=\u001b[0m\u001b[0mdtype\u001b[0m\u001b[1;33m)\u001b[0m\u001b[1;33m\u001b[0m\u001b[1;33m\u001b[0m\u001b[0m\n\u001b[0m\u001b[0;32m    530\u001b[0m         \u001b[1;32melif\u001b[0m \u001b[0misinstance\u001b[0m\u001b[1;33m(\u001b[0m\u001b[0mdata\u001b[0m\u001b[1;33m,\u001b[0m \u001b[0mma\u001b[0m\u001b[1;33m.\u001b[0m\u001b[0mMaskedArray\u001b[0m\u001b[1;33m)\u001b[0m\u001b[1;33m:\u001b[0m\u001b[1;33m\u001b[0m\u001b[1;33m\u001b[0m\u001b[0m\n\u001b[0;32m    531\u001b[0m             \u001b[1;32mimport\u001b[0m \u001b[0mnumpy\u001b[0m\u001b[1;33m.\u001b[0m\u001b[0mma\u001b[0m\u001b[1;33m.\u001b[0m\u001b[0mmrecords\u001b[0m \u001b[1;32mas\u001b[0m \u001b[0mmrecords\u001b[0m\u001b[1;33m\u001b[0m\u001b[1;33m\u001b[0m\u001b[0m\n",
      "\u001b[1;32m~\\anaconda3\\lib\\site-packages\\pandas\\core\\internals\\construction.py\u001b[0m in \u001b[0;36minit_dict\u001b[1;34m(data, index, columns, dtype)\u001b[0m\n\u001b[0;32m    285\u001b[0m             \u001b[0marr\u001b[0m \u001b[1;32mif\u001b[0m \u001b[1;32mnot\u001b[0m \u001b[0mis_datetime64tz_dtype\u001b[0m\u001b[1;33m(\u001b[0m\u001b[0marr\u001b[0m\u001b[1;33m)\u001b[0m \u001b[1;32melse\u001b[0m \u001b[0marr\u001b[0m\u001b[1;33m.\u001b[0m\u001b[0mcopy\u001b[0m\u001b[1;33m(\u001b[0m\u001b[1;33m)\u001b[0m \u001b[1;32mfor\u001b[0m \u001b[0marr\u001b[0m \u001b[1;32min\u001b[0m \u001b[0marrays\u001b[0m\u001b[1;33m\u001b[0m\u001b[1;33m\u001b[0m\u001b[0m\n\u001b[0;32m    286\u001b[0m         ]\n\u001b[1;32m--> 287\u001b[1;33m     \u001b[1;32mreturn\u001b[0m \u001b[0marrays_to_mgr\u001b[0m\u001b[1;33m(\u001b[0m\u001b[0marrays\u001b[0m\u001b[1;33m,\u001b[0m \u001b[0mdata_names\u001b[0m\u001b[1;33m,\u001b[0m \u001b[0mindex\u001b[0m\u001b[1;33m,\u001b[0m \u001b[0mcolumns\u001b[0m\u001b[1;33m,\u001b[0m \u001b[0mdtype\u001b[0m\u001b[1;33m=\u001b[0m\u001b[0mdtype\u001b[0m\u001b[1;33m)\u001b[0m\u001b[1;33m\u001b[0m\u001b[1;33m\u001b[0m\u001b[0m\n\u001b[0m\u001b[0;32m    288\u001b[0m \u001b[1;33m\u001b[0m\u001b[0m\n\u001b[0;32m    289\u001b[0m \u001b[1;33m\u001b[0m\u001b[0m\n",
      "\u001b[1;32m~\\anaconda3\\lib\\site-packages\\pandas\\core\\internals\\construction.py\u001b[0m in \u001b[0;36marrays_to_mgr\u001b[1;34m(arrays, arr_names, index, columns, dtype, verify_integrity)\u001b[0m\n\u001b[0;32m     78\u001b[0m         \u001b[1;31m# figure out the index, if necessary\u001b[0m\u001b[1;33m\u001b[0m\u001b[1;33m\u001b[0m\u001b[1;33m\u001b[0m\u001b[0m\n\u001b[0;32m     79\u001b[0m         \u001b[1;32mif\u001b[0m \u001b[0mindex\u001b[0m \u001b[1;32mis\u001b[0m \u001b[1;32mNone\u001b[0m\u001b[1;33m:\u001b[0m\u001b[1;33m\u001b[0m\u001b[1;33m\u001b[0m\u001b[0m\n\u001b[1;32m---> 80\u001b[1;33m             \u001b[0mindex\u001b[0m \u001b[1;33m=\u001b[0m \u001b[0mextract_index\u001b[0m\u001b[1;33m(\u001b[0m\u001b[0marrays\u001b[0m\u001b[1;33m)\u001b[0m\u001b[1;33m\u001b[0m\u001b[1;33m\u001b[0m\u001b[0m\n\u001b[0m\u001b[0;32m     81\u001b[0m         \u001b[1;32melse\u001b[0m\u001b[1;33m:\u001b[0m\u001b[1;33m\u001b[0m\u001b[1;33m\u001b[0m\u001b[0m\n\u001b[0;32m     82\u001b[0m             \u001b[0mindex\u001b[0m \u001b[1;33m=\u001b[0m \u001b[0mensure_index\u001b[0m\u001b[1;33m(\u001b[0m\u001b[0mindex\u001b[0m\u001b[1;33m)\u001b[0m\u001b[1;33m\u001b[0m\u001b[1;33m\u001b[0m\u001b[0m\n",
      "\u001b[1;32m~\\anaconda3\\lib\\site-packages\\pandas\\core\\internals\\construction.py\u001b[0m in \u001b[0;36mextract_index\u001b[1;34m(data)\u001b[0m\n\u001b[0;32m    399\u001b[0m             \u001b[0mlengths\u001b[0m \u001b[1;33m=\u001b[0m \u001b[0mlist\u001b[0m\u001b[1;33m(\u001b[0m\u001b[0mset\u001b[0m\u001b[1;33m(\u001b[0m\u001b[0mraw_lengths\u001b[0m\u001b[1;33m)\u001b[0m\u001b[1;33m)\u001b[0m\u001b[1;33m\u001b[0m\u001b[1;33m\u001b[0m\u001b[0m\n\u001b[0;32m    400\u001b[0m             \u001b[1;32mif\u001b[0m \u001b[0mlen\u001b[0m\u001b[1;33m(\u001b[0m\u001b[0mlengths\u001b[0m\u001b[1;33m)\u001b[0m \u001b[1;33m>\u001b[0m \u001b[1;36m1\u001b[0m\u001b[1;33m:\u001b[0m\u001b[1;33m\u001b[0m\u001b[1;33m\u001b[0m\u001b[0m\n\u001b[1;32m--> 401\u001b[1;33m                 \u001b[1;32mraise\u001b[0m \u001b[0mValueError\u001b[0m\u001b[1;33m(\u001b[0m\u001b[1;34m\"arrays must all be same length\"\u001b[0m\u001b[1;33m)\u001b[0m\u001b[1;33m\u001b[0m\u001b[1;33m\u001b[0m\u001b[0m\n\u001b[0m\u001b[0;32m    402\u001b[0m \u001b[1;33m\u001b[0m\u001b[0m\n\u001b[0;32m    403\u001b[0m             \u001b[1;32mif\u001b[0m \u001b[0mhave_dicts\u001b[0m\u001b[1;33m:\u001b[0m\u001b[1;33m\u001b[0m\u001b[1;33m\u001b[0m\u001b[0m\n",
      "\u001b[1;31mValueError\u001b[0m: arrays must all be same length"
     ]
    }
   ],
   "source": [
    "# create a dataframe\n",
    "df=pd.DataFrame({\"Laptop Name\":names,\"Rating\":ratings,'Price':prices})\n",
    "df"
   ]
  },
  {
   "cell_type": "code",
   "execution_count": null,
   "id": "42b78199",
   "metadata": {},
   "outputs": [],
   "source": []
  }
 ],
 "metadata": {
  "kernelspec": {
   "display_name": "Python 3",
   "language": "python",
   "name": "python3"
  },
  "language_info": {
   "codemirror_mode": {
    "name": "ipython",
    "version": 3
   },
   "file_extension": ".py",
   "mimetype": "text/x-python",
   "name": "python",
   "nbconvert_exporter": "python",
   "pygments_lexer": "ipython3",
   "version": "3.8.8"
  }
 },
 "nbformat": 4,
 "nbformat_minor": 5
}
