{
 "cells": [
  {
   "cell_type": "markdown",
   "id": "f677b338",
   "metadata": {},
   "source": [
    "Q3: In this question you have to scrape data using the filters available on the webpage as shown below:\n",
    "        You have to use the location and salary filter.\n",
    "You have to scrape data for “Data Scientist” designation for first 10 job results.\n",
    "You have to scrape the job-title, job-location, company name, experience required. The location filter to be used is “Delhi/NCR”. The salary filter to be used is “3-6” lakhs\n",
    "The task will be done as shown in the below steps:\n",
    "1. first get the webpage https://www.naukri.com/\n",
    "2. Enter “Data Scientist” in “Skill, Designations, and Companies” field.\n",
    "3. Then click the search button.\n",
    "4. Then apply the location filter and salary filter by checking the respective boxes\n",
    "5. Then scrape the data for the first 10 jobs results you get.\n",
    "6. Finally create a dataframe of the scraped data.\n",
    "Note: All of the above steps have to be done in code. No step is to be done manually."
   ]
  },
  {
   "cell_type": "markdown",
   "id": "7c66beab",
   "metadata": {},
   "source": [
    "## import necessary liabraries"
   ]
  },
  {
   "cell_type": "code",
   "execution_count": 1,
   "id": "e6b9e2fc",
   "metadata": {},
   "outputs": [],
   "source": [
    "import selenium\n",
    "from selenium import webdriver\n",
    "import numpy as np\n",
    "import pandas as pd \n",
    "import warnings\n",
    "warnings.filterwarnings ('ignore')"
   ]
  },
  {
   "cell_type": "markdown",
   "id": "4aadfe18",
   "metadata": {},
   "source": [
    "## Connection to the webdriver"
   ]
  },
  {
   "cell_type": "code",
   "execution_count": 14,
   "id": "9cecfc08",
   "metadata": {},
   "outputs": [],
   "source": [
    "driver=webdriver.Chrome(\"D:\\Internship Problems\\selenium\\chromedriver_win32\\chromedriver.exe\")"
   ]
  },
  {
   "cell_type": "markdown",
   "id": "7fa3f2c0",
   "metadata": {},
   "source": [
    "## Connection to url"
   ]
  },
  {
   "cell_type": "code",
   "execution_count": 15,
   "id": "b6569f96",
   "metadata": {},
   "outputs": [],
   "source": [
    "url='https://www.naukri.com/'\n",
    "driver.get(url)"
   ]
  },
  {
   "cell_type": "code",
   "execution_count": 16,
   "id": "d9982236",
   "metadata": {},
   "outputs": [],
   "source": [
    "# find element using xpath for search job id\n",
    "search_job=driver.find_element_by_xpath('/html/body/div/div[2]/div[3]/div/div/div[1]/div/div/div/input')"
   ]
  },
  {
   "cell_type": "code",
   "execution_count": 17,
   "id": "8a252913",
   "metadata": {},
   "outputs": [],
   "source": [
    "# write in search job field\n",
    "search_job.send_keys(\"Data Scientist\")"
   ]
  },
  {
   "cell_type": "code",
   "execution_count": 18,
   "id": "78d1c3cc",
   "metadata": {},
   "outputs": [],
   "source": [
    "# find elemnt for location field using xpath\n",
    "location=driver.find_element_by_xpath('/html/body/div/div[2]/div[3]/div/div/div[3]/div/div/div/input')"
   ]
  },
  {
   "cell_type": "code",
   "execution_count": 19,
   "id": "d2562a8f",
   "metadata": {},
   "outputs": [],
   "source": [
    "# writing in location field\n",
    "location.send_keys('Delhi/NCR')"
   ]
  },
  {
   "cell_type": "code",
   "execution_count": 22,
   "id": "eb87f15c",
   "metadata": {},
   "outputs": [],
   "source": [
    "# clicking on search button\n",
    "search=driver.find_element_by_xpath('/html/body/div/div[2]/div[3]/div/div/div[6]')"
   ]
  },
  {
   "cell_type": "code",
   "execution_count": 23,
   "id": "57765b45",
   "metadata": {},
   "outputs": [],
   "source": [
    "# clicking on button\n",
    "search.click()"
   ]
  },
  {
   "cell_type": "code",
   "execution_count": 24,
   "id": "82719fa5",
   "metadata": {},
   "outputs": [],
   "source": [
    "# check salary check filter\n",
    "salry_check_filter=driver.find_element_by_xpath('/html/body/div[1]/div[3]/div[2]/section[1]/div[2]/div[4]/div[2]/div[2]/label/i')"
   ]
  },
  {
   "cell_type": "code",
   "execution_count": 25,
   "id": "721a9213",
   "metadata": {},
   "outputs": [],
   "source": [
    "# click on salary check filter\n",
    "salry_check_filter.click()"
   ]
  },
  {
   "cell_type": "code",
   "execution_count": 26,
   "id": "7f35dc21",
   "metadata": {},
   "outputs": [],
   "source": [
    "#scrapping the job title by xpath\n",
    "job_title=driver.find_elements_by_xpath('//a[@class=\"title fw500 ellipsis\"]')"
   ]
  },
  {
   "cell_type": "code",
   "execution_count": 29,
   "id": "cc39da70",
   "metadata": {},
   "outputs": [],
   "source": [
    "titles=[]\n",
    "for i in job_title:\n",
    "    titles.append(i.text)\n",
    "titles=titles[:10]"
   ]
  },
  {
   "cell_type": "code",
   "execution_count": 42,
   "id": "abc0116b",
   "metadata": {},
   "outputs": [],
   "source": [
    "# scrapping for location using xpath\n",
    "location_name=driver.find_elements_by_xpath('//li[@class=\"fleft grey-text br2 placeHolderLi location\"]')"
   ]
  },
  {
   "cell_type": "code",
   "execution_count": 44,
   "id": "ff5aaaf2",
   "metadata": {},
   "outputs": [],
   "source": [
    "locations=[]\n",
    "for i in location_name:\n",
    "    locations.append(i.text)\n",
    "#locations=locations[2::3]\n",
    "locations=locations[:10]"
   ]
  },
  {
   "cell_type": "code",
   "execution_count": 45,
   "id": "8c5dfd3f",
   "metadata": {},
   "outputs": [],
   "source": [
    "# company by xpath\n",
    "company_name=driver.find_elements_by_xpath('//a[@class=\"subTitle ellipsis fleft\"]')"
   ]
  },
  {
   "cell_type": "code",
   "execution_count": 47,
   "id": "0f51134d",
   "metadata": {},
   "outputs": [],
   "source": [
    "company=[]\n",
    "for i in company_name:\n",
    "    company.append(i.text)\n",
    "company=company[:10]"
   ]
  },
  {
   "cell_type": "code",
   "execution_count": 51,
   "id": "23d67dab",
   "metadata": {},
   "outputs": [],
   "source": [
    "# scrap experience required\n",
    "experience=driver.find_elements_by_xpath('//li[@class=\"fleft grey-text br2 placeHolderLi experience\"]')"
   ]
  },
  {
   "cell_type": "code",
   "execution_count": 53,
   "id": "b4b6ff97",
   "metadata": {},
   "outputs": [],
   "source": [
    "experience_=[]\n",
    "for i in experience:\n",
    "    experience_.append(i.text)\n",
    "experience_=experience_[:10]"
   ]
  },
  {
   "cell_type": "code",
   "execution_count": 54,
   "id": "dccc5f1d",
   "metadata": {},
   "outputs": [
    {
     "data": {
      "text/html": [
       "<div>\n",
       "<style scoped>\n",
       "    .dataframe tbody tr th:only-of-type {\n",
       "        vertical-align: middle;\n",
       "    }\n",
       "\n",
       "    .dataframe tbody tr th {\n",
       "        vertical-align: top;\n",
       "    }\n",
       "\n",
       "    .dataframe thead th {\n",
       "        text-align: right;\n",
       "    }\n",
       "</style>\n",
       "<table border=\"1\" class=\"dataframe\">\n",
       "  <thead>\n",
       "    <tr style=\"text-align: right;\">\n",
       "      <th></th>\n",
       "      <th>Job Title</th>\n",
       "      <th>Company Name</th>\n",
       "      <th>Experience Required</th>\n",
       "      <th>Location</th>\n",
       "    </tr>\n",
       "  </thead>\n",
       "  <tbody>\n",
       "    <tr>\n",
       "      <th>0</th>\n",
       "      <td>Data Scientist | Python | Machine Learning | D...</td>\n",
       "      <td>Schlesinger Group</td>\n",
       "      <td>0-3 Yrs</td>\n",
       "      <td>Noida, Gurgaon/Gurugram, Delhi / NCR</td>\n",
       "    </tr>\n",
       "    <tr>\n",
       "      <th>1</th>\n",
       "      <td>Job Opportunity || Data Scientist || HCL Techn...</td>\n",
       "      <td>HCL</td>\n",
       "      <td>2-6 Yrs</td>\n",
       "      <td>Delhi / NCR</td>\n",
       "    </tr>\n",
       "    <tr>\n",
       "      <th>2</th>\n",
       "      <td>Senior Data Scientist I</td>\n",
       "      <td>Delhivery</td>\n",
       "      <td>3-7 Yrs</td>\n",
       "      <td>Gurgaon/Gurugram</td>\n",
       "    </tr>\n",
       "    <tr>\n",
       "      <th>3</th>\n",
       "      <td>Openings For Jr/mid/Sr level data Scientists</td>\n",
       "      <td>Pluto seven business solutions (p) limited</td>\n",
       "      <td>2-6 Yrs</td>\n",
       "      <td>Kolkata, Hyderabad/Secunderabad, Pune, Ahmedab...</td>\n",
       "    </tr>\n",
       "    <tr>\n",
       "      <th>4</th>\n",
       "      <td>Data Scientist</td>\n",
       "      <td>T &amp; A Solutions</td>\n",
       "      <td>2-6 Yrs</td>\n",
       "      <td>Gurgaon/Gurugram</td>\n",
       "    </tr>\n",
       "    <tr>\n",
       "      <th>5</th>\n",
       "      <td>Urgent Hiring For Data Scientist</td>\n",
       "      <td>Mount Talent Consulting Private Limited</td>\n",
       "      <td>1-6 Yrs</td>\n",
       "      <td>Gurgaon/Gurugram, Bangalore/Bengaluru</td>\n",
       "    </tr>\n",
       "    <tr>\n",
       "      <th>6</th>\n",
       "      <td>Urgent Hiring For Data Scientist</td>\n",
       "      <td>Mount Talent Consulting Private Limited</td>\n",
       "      <td>1-6 Yrs</td>\n",
       "      <td>Gurgaon/Gurugram, Bangalore/Bengaluru</td>\n",
       "    </tr>\n",
       "    <tr>\n",
       "      <th>7</th>\n",
       "      <td>Data Scientist role</td>\n",
       "      <td>Mount Talent Consulting Private Limited</td>\n",
       "      <td>1-4 Yrs</td>\n",
       "      <td>Noida, Hyderabad/Secunderabad, Pune, Gurgaon/G...</td>\n",
       "    </tr>\n",
       "    <tr>\n",
       "      <th>8</th>\n",
       "      <td>Data Scientist role</td>\n",
       "      <td>Mount Talent Consulting Private Limited</td>\n",
       "      <td>1-3 Yrs</td>\n",
       "      <td>Noida, Hyderabad/Secunderabad, Pune, Gurgaon/G...</td>\n",
       "    </tr>\n",
       "    <tr>\n",
       "      <th>9</th>\n",
       "      <td>Data Scientist role</td>\n",
       "      <td>Mount Talent Consulting Private Limited</td>\n",
       "      <td>1-3 Yrs</td>\n",
       "      <td>Noida, Hyderabad/Secunderabad, Pune, Gurgaon/G...</td>\n",
       "    </tr>\n",
       "  </tbody>\n",
       "</table>\n",
       "</div>"
      ],
      "text/plain": [
       "                                           Job Title  \\\n",
       "0  Data Scientist | Python | Machine Learning | D...   \n",
       "1  Job Opportunity || Data Scientist || HCL Techn...   \n",
       "2                            Senior Data Scientist I   \n",
       "3       Openings For Jr/mid/Sr level data Scientists   \n",
       "4                                     Data Scientist   \n",
       "5                   Urgent Hiring For Data Scientist   \n",
       "6                   Urgent Hiring For Data Scientist   \n",
       "7                                Data Scientist role   \n",
       "8                                Data Scientist role   \n",
       "9                                Data Scientist role   \n",
       "\n",
       "                                 Company Name Experience Required  \\\n",
       "0                           Schlesinger Group             0-3 Yrs   \n",
       "1                                         HCL             2-6 Yrs   \n",
       "2                                   Delhivery             3-7 Yrs   \n",
       "3  Pluto seven business solutions (p) limited             2-6 Yrs   \n",
       "4                             T & A Solutions             2-6 Yrs   \n",
       "5     Mount Talent Consulting Private Limited             1-6 Yrs   \n",
       "6     Mount Talent Consulting Private Limited             1-6 Yrs   \n",
       "7     Mount Talent Consulting Private Limited             1-4 Yrs   \n",
       "8     Mount Talent Consulting Private Limited             1-3 Yrs   \n",
       "9     Mount Talent Consulting Private Limited             1-3 Yrs   \n",
       "\n",
       "                                            Location  \n",
       "0               Noida, Gurgaon/Gurugram, Delhi / NCR  \n",
       "1                                        Delhi / NCR  \n",
       "2                                   Gurgaon/Gurugram  \n",
       "3  Kolkata, Hyderabad/Secunderabad, Pune, Ahmedab...  \n",
       "4                                   Gurgaon/Gurugram  \n",
       "5              Gurgaon/Gurugram, Bangalore/Bengaluru  \n",
       "6              Gurgaon/Gurugram, Bangalore/Bengaluru  \n",
       "7  Noida, Hyderabad/Secunderabad, Pune, Gurgaon/G...  \n",
       "8  Noida, Hyderabad/Secunderabad, Pune, Gurgaon/G...  \n",
       "9  Noida, Hyderabad/Secunderabad, Pune, Gurgaon/G...  "
      ]
     },
     "execution_count": 54,
     "metadata": {},
     "output_type": "execute_result"
    }
   ],
   "source": [
    "## create Dataframe\n",
    "data=pd.DataFrame({\"Job Title\":titles,\"Company Name\":company,'Experience Required':experience_,\"Location\":locations})\n",
    "data"
   ]
  },
  {
   "cell_type": "code",
   "execution_count": null,
   "id": "3c6d067f",
   "metadata": {},
   "outputs": [],
   "source": []
  }
 ],
 "metadata": {
  "kernelspec": {
   "display_name": "Python 3",
   "language": "python",
   "name": "python3"
  },
  "language_info": {
   "codemirror_mode": {
    "name": "ipython",
    "version": 3
   },
   "file_extension": ".py",
   "mimetype": "text/x-python",
   "name": "python",
   "nbconvert_exporter": "python",
   "pygments_lexer": "ipython3",
   "version": "3.8.8"
  }
 },
 "nbformat": 4,
 "nbformat_minor": 5
}
