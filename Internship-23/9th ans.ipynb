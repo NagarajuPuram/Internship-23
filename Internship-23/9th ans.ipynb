{
 "cells": [
  {
   "cell_type": "markdown",
   "id": "a081b449",
   "metadata": {},
   "source": [
    "Q9: Write a python program to scrape data for first 10 job results for Data Scientist Designation in Noida location. You have to scrape company name, No. of days ago when job was posted, Rating of the company. This task will be done in following steps:\n",
    "1. First get the webpage https://www.ambitionbox.com/\n",
    "2. Click on the Job option as shown in the image\n",
    "3. After reaching to the next webpage, In place of “Search by Designations, Companies, Skills” enter “Data Scientist” and click on search button.\n",
    "4. You will reach to the following web page click on location and in place of “Search location” enter “Noida” and select location “Noida”.\n",
    "5. Then scrape the data for the first 10 jobs results you get on the above shown page.\n",
    "6. Finally create a dataframe of the scraped data.\n",
    "Note: All the steps required during scraping should be done through code only and not manually."
   ]
  },
  {
   "cell_type": "markdown",
   "id": "eb763596",
   "metadata": {},
   "source": [
    "## import necessary liabrary"
   ]
  },
  {
   "cell_type": "code",
   "execution_count": 2,
   "id": "2b65451c",
   "metadata": {},
   "outputs": [],
   "source": [
    "import selenium\n",
    "from selenium import webdriver\n",
    "import pandas as pd \n",
    "import numpy as np\n",
    "import warnings\n",
    "warnings.filterwarnings('ignore')"
   ]
  },
  {
   "cell_type": "markdown",
   "id": "83584893",
   "metadata": {},
   "source": [
    "## connect to the webdriver"
   ]
  },
  {
   "cell_type": "code",
   "execution_count": 3,
   "id": "0075a4ac",
   "metadata": {},
   "outputs": [],
   "source": [
    "driver=webdriver.Chrome(\"D:\\Internship Problems\\selenium\\chromedriver_win32\\chromedriver.exe\")"
   ]
  },
  {
   "cell_type": "markdown",
   "id": "928368be",
   "metadata": {},
   "source": [
    "## connection to url of site"
   ]
  },
  {
   "cell_type": "code",
   "execution_count": 4,
   "id": "861f1440",
   "metadata": {},
   "outputs": [],
   "source": [
    "url='https://www.ambitionbox.com/'\n",
    "driver.get(url)"
   ]
  },
  {
   "cell_type": "code",
   "execution_count": 5,
   "id": "716bbaee",
   "metadata": {},
   "outputs": [
    {
     "data": {
      "text/plain": [
       "<selenium.webdriver.remote.webelement.WebElement (session=\"a14881dcd3966925c7c0dc4ec8d16f71\", element=\"1860dfc7-86eb-4e8b-a7c1-6954d67d5fc2\")>"
      ]
     },
     "execution_count": 5,
     "metadata": {},
     "output_type": "execute_result"
    }
   ],
   "source": [
    "# clicking job tab using xpath\n",
    "job_tab=driver.find_element_by_xpath('/html/body/div[1]/nav/nav/a[6]')\n",
    "job_tab"
   ]
  },
  {
   "cell_type": "code",
   "execution_count": 6,
   "id": "66755347",
   "metadata": {},
   "outputs": [],
   "source": [
    "job_tab.click()"
   ]
  },
  {
   "cell_type": "code",
   "execution_count": 7,
   "id": "eb940d0e",
   "metadata": {},
   "outputs": [
    {
     "data": {
      "text/plain": [
       "<selenium.webdriver.remote.webelement.WebElement (session=\"a14881dcd3966925c7c0dc4ec8d16f71\", element=\"f85b41ee-5186-420e-ac34-988d8d82b280\")>"
      ]
     },
     "execution_count": 7,
     "metadata": {},
     "output_type": "execute_result"
    }
   ],
   "source": [
    "# search job bar using xpath\n",
    "search_job=driver.find_element_by_xpath('/html/body/div/div/div/div[2]/div[1]/div/div/div/div/span/input')\n",
    "search_job"
   ]
  },
  {
   "cell_type": "code",
   "execution_count": 8,
   "id": "1be73d0a",
   "metadata": {},
   "outputs": [],
   "source": [
    "# write in search job bar\n",
    "search_job.send_keys(\"Data Scientist\")"
   ]
  },
  {
   "cell_type": "code",
   "execution_count": 11,
   "id": "ee2d1550",
   "metadata": {},
   "outputs": [
    {
     "data": {
      "text/plain": [
       "<selenium.webdriver.remote.webelement.WebElement (session=\"a14881dcd3966925c7c0dc4ec8d16f71\", element=\"7e7020b3-69f9-446a-9fa3-ccae2f60febe\")>"
      ]
     },
     "execution_count": 11,
     "metadata": {},
     "output_type": "execute_result"
    }
   ],
   "source": [
    "# clicking on search tab\n",
    "search_tab=driver.find_element_by_xpath(\"/html/body/div/div/div/div[2]/div[1]/div/div/div/button\")\n",
    "search_tab"
   ]
  },
  {
   "cell_type": "code",
   "execution_count": 12,
   "id": "145a2d9f",
   "metadata": {},
   "outputs": [],
   "source": [
    "# click on tab of search\n",
    "search_tab.click()"
   ]
  },
  {
   "cell_type": "code",
   "execution_count": 13,
   "id": "9e70ef41",
   "metadata": {},
   "outputs": [
    {
     "data": {
      "text/plain": [
       "<selenium.webdriver.remote.webelement.WebElement (session=\"a14881dcd3966925c7c0dc4ec8d16f71\", element=\"bb0270a1-9ed7-48d1-8ac1-f0eb0983f527\")>"
      ]
     },
     "execution_count": 13,
     "metadata": {},
     "output_type": "execute_result"
    }
   ],
   "source": [
    "# click on location tab bar using xpath\n",
    "location_tab=driver.find_element_by_xpath('/html/body/div/div/div/div[2]/div[2]/div[1]/div/div/div/div[2]/div[1]/p')\n",
    "location_tab"
   ]
  },
  {
   "cell_type": "code",
   "execution_count": 14,
   "id": "b5eded51",
   "metadata": {},
   "outputs": [],
   "source": [
    "# click on location tab\n",
    "location_tab.click()"
   ]
  },
  {
   "cell_type": "code",
   "execution_count": 15,
   "id": "a80c6822",
   "metadata": {},
   "outputs": [
    {
     "data": {
      "text/plain": [
       "<selenium.webdriver.remote.webelement.WebElement (session=\"a14881dcd3966925c7c0dc4ec8d16f71\", element=\"6e465236-2eb3-47c6-9c2a-f2d3fc70dde9\")>"
      ]
     },
     "execution_count": 15,
     "metadata": {},
     "output_type": "execute_result"
    }
   ],
   "source": [
    "# writing in search location bar using xpath\n",
    "locn_search=driver.find_element_by_xpath('/html/body/div/div/div/div[2]/div[2]/div[1]/div/div/div/div[2]/div[2]/div/div[2]/input')\n",
    "locn_search"
   ]
  },
  {
   "cell_type": "code",
   "execution_count": 16,
   "id": "c09a4d96",
   "metadata": {},
   "outputs": [],
   "source": [
    "# write in location search box\n",
    "locn_search.send_keys('Noida')"
   ]
  },
  {
   "cell_type": "code",
   "execution_count": 27,
   "id": "a54fa044",
   "metadata": {},
   "outputs": [
    {
     "data": {
      "text/plain": [
       "<selenium.webdriver.remote.webelement.WebElement (session=\"a14881dcd3966925c7c0dc4ec8d16f71\", element=\"040ee66f-71ff-42b8-8230-c6b84f76623f\")>"
      ]
     },
     "execution_count": 27,
     "metadata": {},
     "output_type": "execute_result"
    }
   ],
   "source": [
    "# clicking on noida tab using xpaht\n",
    "tab=driver.find_element_by_xpath('/html/body/div/div/div/div[2]/div[2]/div[1]/div/div/div/div[2]/div[2]/div/div[3]/div[1]/div[1]/div/label')\n",
    "tab"
   ]
  },
  {
   "cell_type": "code",
   "execution_count": 28,
   "id": "62f986c8",
   "metadata": {},
   "outputs": [],
   "source": [
    "tab.click()"
   ]
  },
  {
   "cell_type": "code",
   "execution_count": 32,
   "id": "a799ae11",
   "metadata": {},
   "outputs": [
    {
     "data": {
      "text/plain": [
       "[<selenium.webdriver.remote.webelement.WebElement (session=\"a14881dcd3966925c7c0dc4ec8d16f71\", element=\"3d2b1877-001d-4cd5-ab90-81f143ba35b3\")>,\n",
       " <selenium.webdriver.remote.webelement.WebElement (session=\"a14881dcd3966925c7c0dc4ec8d16f71\", element=\"86a33bcb-aad7-4410-92e1-e1019c9cda6a\")>,\n",
       " <selenium.webdriver.remote.webelement.WebElement (session=\"a14881dcd3966925c7c0dc4ec8d16f71\", element=\"cf634a5d-c677-4c86-9fa7-f1dbcb7e6c2c\")>,\n",
       " <selenium.webdriver.remote.webelement.WebElement (session=\"a14881dcd3966925c7c0dc4ec8d16f71\", element=\"f09a71aa-c4c6-435b-9677-9d863fda8ead\")>,\n",
       " <selenium.webdriver.remote.webelement.WebElement (session=\"a14881dcd3966925c7c0dc4ec8d16f71\", element=\"12cbe5b7-cc08-422c-835d-81db410d87df\")>,\n",
       " <selenium.webdriver.remote.webelement.WebElement (session=\"a14881dcd3966925c7c0dc4ec8d16f71\", element=\"bf11fd40-ff0f-4350-a831-c29b85a438fa\")>,\n",
       " <selenium.webdriver.remote.webelement.WebElement (session=\"a14881dcd3966925c7c0dc4ec8d16f71\", element=\"9065b264-0c7b-4884-bf9a-079ef41fee54\")>,\n",
       " <selenium.webdriver.remote.webelement.WebElement (session=\"a14881dcd3966925c7c0dc4ec8d16f71\", element=\"a77b5baa-898b-49e4-88e3-5f8d15e550ce\")>,\n",
       " <selenium.webdriver.remote.webelement.WebElement (session=\"a14881dcd3966925c7c0dc4ec8d16f71\", element=\"05e3bd8c-e4fe-4cb9-8524-4e8c33671f59\")>,\n",
       " <selenium.webdriver.remote.webelement.WebElement (session=\"a14881dcd3966925c7c0dc4ec8d16f71\", element=\"1d2f0d04-05d6-4679-a477-d2ca52249a53\")>]"
      ]
     },
     "execution_count": 32,
     "metadata": {},
     "output_type": "execute_result"
    }
   ],
   "source": [
    "# scrap comapany name using xpath\n",
    "company_name=driver.find_elements_by_xpath('//p[@class=\"company body-medium\"]')\n",
    "company_name"
   ]
  },
  {
   "cell_type": "code",
   "execution_count": 34,
   "id": "671c39ae",
   "metadata": {},
   "outputs": [
    {
     "data": {
      "text/plain": [
       "['Nokia Solutions and Networks India (P)Ltd.',\n",
       " 'Paytm',\n",
       " 'Jubilant Foodworks Limited',\n",
       " 'CHT Sapiense',\n",
       " 'CHT Sapiense',\n",
       " 'GI Group',\n",
       " 'GI Group',\n",
       " 'GI Group',\n",
       " 'RMS Risk Management Solutions',\n",
       " 'Paytm']"
      ]
     },
     "execution_count": 34,
     "metadata": {},
     "output_type": "execute_result"
    }
   ],
   "source": [
    "# scrapping forst 10 names\n",
    "company=[]\n",
    "for i in company_name:\n",
    "    company.append(i.text)\n",
    "company"
   ]
  },
  {
   "cell_type": "code",
   "execution_count": 35,
   "id": "cc9ceaf2",
   "metadata": {},
   "outputs": [
    {
     "data": {
      "text/plain": [
       "[<selenium.webdriver.remote.webelement.WebElement (session=\"a14881dcd3966925c7c0dc4ec8d16f71\", element=\"e0ec8e56-88ed-414e-9529-c3a5dd2946d0\")>,\n",
       " <selenium.webdriver.remote.webelement.WebElement (session=\"a14881dcd3966925c7c0dc4ec8d16f71\", element=\"6ee5c355-989f-4734-8d8e-64f1e7b88392\")>,\n",
       " <selenium.webdriver.remote.webelement.WebElement (session=\"a14881dcd3966925c7c0dc4ec8d16f71\", element=\"69595724-0818-4009-9a12-b881aad08019\")>,\n",
       " <selenium.webdriver.remote.webelement.WebElement (session=\"a14881dcd3966925c7c0dc4ec8d16f71\", element=\"6e69437c-774f-438f-b4ff-2bd21bf10657\")>,\n",
       " <selenium.webdriver.remote.webelement.WebElement (session=\"a14881dcd3966925c7c0dc4ec8d16f71\", element=\"ebbccff0-a90f-4d65-bd69-9405a0cc5e42\")>,\n",
       " <selenium.webdriver.remote.webelement.WebElement (session=\"a14881dcd3966925c7c0dc4ec8d16f71\", element=\"93b3b5a1-de1a-4cce-9873-8f1b13a7758b\")>,\n",
       " <selenium.webdriver.remote.webelement.WebElement (session=\"a14881dcd3966925c7c0dc4ec8d16f71\", element=\"1add5540-4154-472f-8fcb-b77a90ccb722\")>,\n",
       " <selenium.webdriver.remote.webelement.WebElement (session=\"a14881dcd3966925c7c0dc4ec8d16f71\", element=\"ee624726-7fe8-4339-9b5d-8363b23239a1\")>,\n",
       " <selenium.webdriver.remote.webelement.WebElement (session=\"a14881dcd3966925c7c0dc4ec8d16f71\", element=\"683f9b2c-cf24-487f-87cc-86f21fe60594\")>,\n",
       " <selenium.webdriver.remote.webelement.WebElement (session=\"a14881dcd3966925c7c0dc4ec8d16f71\", element=\"2dd90afa-b27f-43ae-963b-3577e4ff478c\")>,\n",
       " <selenium.webdriver.remote.webelement.WebElement (session=\"a14881dcd3966925c7c0dc4ec8d16f71\", element=\"552fcba1-a88b-45b0-9f59-a08788e91a7f\")>,\n",
       " <selenium.webdriver.remote.webelement.WebElement (session=\"a14881dcd3966925c7c0dc4ec8d16f71\", element=\"ba6b32f3-7d17-465e-acd2-5016a74c5b59\")>,\n",
       " <selenium.webdriver.remote.webelement.WebElement (session=\"a14881dcd3966925c7c0dc4ec8d16f71\", element=\"704a1b1f-52d8-4ce2-8d12-b0d7f1124cc0\")>,\n",
       " <selenium.webdriver.remote.webelement.WebElement (session=\"a14881dcd3966925c7c0dc4ec8d16f71\", element=\"a963eece-2abd-49bf-aa87-dd5408778782\")>,\n",
       " <selenium.webdriver.remote.webelement.WebElement (session=\"a14881dcd3966925c7c0dc4ec8d16f71\", element=\"9e6b9f27-a5b7-4da5-9373-089d9921b2be\")>,\n",
       " <selenium.webdriver.remote.webelement.WebElement (session=\"a14881dcd3966925c7c0dc4ec8d16f71\", element=\"5ec14606-0d33-43cb-b504-0336e57b915b\")>,\n",
       " <selenium.webdriver.remote.webelement.WebElement (session=\"a14881dcd3966925c7c0dc4ec8d16f71\", element=\"d88ddda7-6b8a-455b-a5f0-ce9df4270886\")>,\n",
       " <selenium.webdriver.remote.webelement.WebElement (session=\"a14881dcd3966925c7c0dc4ec8d16f71\", element=\"0e7af435-cb88-466c-91d4-c9e71b79ca39\")>,\n",
       " <selenium.webdriver.remote.webelement.WebElement (session=\"a14881dcd3966925c7c0dc4ec8d16f71\", element=\"7fbf0516-b60d-419c-b638-05123de2d674\")>,\n",
       " <selenium.webdriver.remote.webelement.WebElement (session=\"a14881dcd3966925c7c0dc4ec8d16f71\", element=\"f2a89d26-bccd-4389-953e-bd632f9c4528\")>]"
      ]
     },
     "execution_count": 35,
     "metadata": {},
     "output_type": "execute_result"
    }
   ],
   "source": [
    "# scrapping job posted ago data using xpath\n",
    "job_posted=driver.find_elements_by_xpath('//span[@class=\"body-small-l\"]')\n",
    "job_posted"
   ]
  },
  {
   "cell_type": "code",
   "execution_count": 38,
   "id": "6c786b07",
   "metadata": {},
   "outputs": [
    {
     "data": {
      "text/plain": [
       "['12d ago',\n",
       " '6d ago',\n",
       " '23d ago',\n",
       " '7d ago',\n",
       " '8d ago',\n",
       " '19d ago',\n",
       " '19d ago',\n",
       " '19d ago',\n",
       " '19hr ago',\n",
       " '27d ago']"
      ]
     },
     "execution_count": 38,
     "metadata": {},
     "output_type": "execute_result"
    }
   ],
   "source": [
    "job=[]\n",
    "for i in job_posted:\n",
    "    job.append(i.text)\n",
    "job=job[::2]\n",
    "job"
   ]
  },
  {
   "cell_type": "code",
   "execution_count": 39,
   "id": "29f06cab",
   "metadata": {},
   "outputs": [
    {
     "data": {
      "text/plain": [
       "[<selenium.webdriver.remote.webelement.WebElement (session=\"a14881dcd3966925c7c0dc4ec8d16f71\", element=\"beacd098-9220-46e1-abb4-c842cf91176c\")>,\n",
       " <selenium.webdriver.remote.webelement.WebElement (session=\"a14881dcd3966925c7c0dc4ec8d16f71\", element=\"02b5de5b-4718-4835-931f-20c79af7891a\")>,\n",
       " <selenium.webdriver.remote.webelement.WebElement (session=\"a14881dcd3966925c7c0dc4ec8d16f71\", element=\"f24b95c7-440e-4583-8370-9ae795207334\")>,\n",
       " <selenium.webdriver.remote.webelement.WebElement (session=\"a14881dcd3966925c7c0dc4ec8d16f71\", element=\"5e0dc8ad-b151-44c6-b93c-7964271be670\")>,\n",
       " <selenium.webdriver.remote.webelement.WebElement (session=\"a14881dcd3966925c7c0dc4ec8d16f71\", element=\"6ecb9507-5b26-42ba-a9d5-4b73a9c0387a\")>,\n",
       " <selenium.webdriver.remote.webelement.WebElement (session=\"a14881dcd3966925c7c0dc4ec8d16f71\", element=\"1fb7823a-cadd-407c-96ff-02f279a12c13\")>,\n",
       " <selenium.webdriver.remote.webelement.WebElement (session=\"a14881dcd3966925c7c0dc4ec8d16f71\", element=\"be8c7dc0-0c5f-4f6f-b070-b687e739b180\")>,\n",
       " <selenium.webdriver.remote.webelement.WebElement (session=\"a14881dcd3966925c7c0dc4ec8d16f71\", element=\"db3e38a0-2b79-4031-8529-a99f3078bbc1\")>,\n",
       " <selenium.webdriver.remote.webelement.WebElement (session=\"a14881dcd3966925c7c0dc4ec8d16f71\", element=\"d83168be-775a-4097-90c3-6aaaa4c02037\")>,\n",
       " <selenium.webdriver.remote.webelement.WebElement (session=\"a14881dcd3966925c7c0dc4ec8d16f71\", element=\"dd010297-01b2-4812-a8a1-f759e287269e\")>]"
      ]
     },
     "execution_count": 39,
     "metadata": {},
     "output_type": "execute_result"
    }
   ],
   "source": [
    "# scrapping rating of company using xpath\n",
    "rating=driver.find_elements_by_xpath('//span[@class=\"body-small\"]')\n",
    "rating"
   ]
  },
  {
   "cell_type": "code",
   "execution_count": 40,
   "id": "0b2af793",
   "metadata": {},
   "outputs": [
    {
     "data": {
      "text/plain": [
       "['4.3', '3.7', '3.9', '3.7', '3.7', '4.1', '4.1', '4.1', '3.5', '3.7']"
      ]
     },
     "execution_count": 40,
     "metadata": {},
     "output_type": "execute_result"
    }
   ],
   "source": [
    "rating_=[]  # empty list to store\n",
    "for i in rating:\n",
    "    rating_.append(i.text)\n",
    "rating_"
   ]
  },
  {
   "cell_type": "markdown",
   "id": "5f136311",
   "metadata": {},
   "source": [
    "## create dataframe"
   ]
  },
  {
   "cell_type": "code",
   "execution_count": 41,
   "id": "1d175b73",
   "metadata": {},
   "outputs": [
    {
     "data": {
      "text/html": [
       "<div>\n",
       "<style scoped>\n",
       "    .dataframe tbody tr th:only-of-type {\n",
       "        vertical-align: middle;\n",
       "    }\n",
       "\n",
       "    .dataframe tbody tr th {\n",
       "        vertical-align: top;\n",
       "    }\n",
       "\n",
       "    .dataframe thead th {\n",
       "        text-align: right;\n",
       "    }\n",
       "</style>\n",
       "<table border=\"1\" class=\"dataframe\">\n",
       "  <thead>\n",
       "    <tr style=\"text-align: right;\">\n",
       "      <th></th>\n",
       "      <th>Company Name</th>\n",
       "      <th>Job Posted</th>\n",
       "      <th>Rating</th>\n",
       "    </tr>\n",
       "  </thead>\n",
       "  <tbody>\n",
       "    <tr>\n",
       "      <th>0</th>\n",
       "      <td>Nokia Solutions and Networks India (P)Ltd.</td>\n",
       "      <td>12d ago</td>\n",
       "      <td>4.3</td>\n",
       "    </tr>\n",
       "    <tr>\n",
       "      <th>1</th>\n",
       "      <td>Paytm</td>\n",
       "      <td>6d ago</td>\n",
       "      <td>3.7</td>\n",
       "    </tr>\n",
       "    <tr>\n",
       "      <th>2</th>\n",
       "      <td>Jubilant Foodworks Limited</td>\n",
       "      <td>23d ago</td>\n",
       "      <td>3.9</td>\n",
       "    </tr>\n",
       "    <tr>\n",
       "      <th>3</th>\n",
       "      <td>CHT Sapiense</td>\n",
       "      <td>7d ago</td>\n",
       "      <td>3.7</td>\n",
       "    </tr>\n",
       "    <tr>\n",
       "      <th>4</th>\n",
       "      <td>CHT Sapiense</td>\n",
       "      <td>8d ago</td>\n",
       "      <td>3.7</td>\n",
       "    </tr>\n",
       "    <tr>\n",
       "      <th>5</th>\n",
       "      <td>GI Group</td>\n",
       "      <td>19d ago</td>\n",
       "      <td>4.1</td>\n",
       "    </tr>\n",
       "    <tr>\n",
       "      <th>6</th>\n",
       "      <td>GI Group</td>\n",
       "      <td>19d ago</td>\n",
       "      <td>4.1</td>\n",
       "    </tr>\n",
       "    <tr>\n",
       "      <th>7</th>\n",
       "      <td>GI Group</td>\n",
       "      <td>19d ago</td>\n",
       "      <td>4.1</td>\n",
       "    </tr>\n",
       "    <tr>\n",
       "      <th>8</th>\n",
       "      <td>RMS Risk Management Solutions</td>\n",
       "      <td>19hr ago</td>\n",
       "      <td>3.5</td>\n",
       "    </tr>\n",
       "    <tr>\n",
       "      <th>9</th>\n",
       "      <td>Paytm</td>\n",
       "      <td>27d ago</td>\n",
       "      <td>3.7</td>\n",
       "    </tr>\n",
       "  </tbody>\n",
       "</table>\n",
       "</div>"
      ],
      "text/plain": [
       "                                 Company Name Job Posted Rating\n",
       "0  Nokia Solutions and Networks India (P)Ltd.    12d ago    4.3\n",
       "1                                       Paytm     6d ago    3.7\n",
       "2                  Jubilant Foodworks Limited    23d ago    3.9\n",
       "3                                CHT Sapiense     7d ago    3.7\n",
       "4                                CHT Sapiense     8d ago    3.7\n",
       "5                                    GI Group    19d ago    4.1\n",
       "6                                    GI Group    19d ago    4.1\n",
       "7                                    GI Group    19d ago    4.1\n",
       "8               RMS Risk Management Solutions   19hr ago    3.5\n",
       "9                                       Paytm    27d ago    3.7"
      ]
     },
     "execution_count": 41,
     "metadata": {},
     "output_type": "execute_result"
    }
   ],
   "source": [
    "Data_Scientist_jobs=pd.DataFrame({\"Company Name\":company,\"Job Posted\":job,\"Rating\":rating_})\n",
    "Data_Scientist_jobs"
   ]
  },
  {
   "cell_type": "code",
   "execution_count": null,
   "id": "57b72e06",
   "metadata": {},
   "outputs": [],
   "source": []
  }
 ],
 "metadata": {
  "kernelspec": {
   "display_name": "Python 3",
   "language": "python",
   "name": "python3"
  },
  "language_info": {
   "codemirror_mode": {
    "name": "ipython",
    "version": 3
   },
   "file_extension": ".py",
   "mimetype": "text/x-python",
   "name": "python",
   "nbconvert_exporter": "python",
   "pygments_lexer": "ipython3",
   "version": "3.8.8"
  }
 },
 "nbformat": 4,
 "nbformat_minor": 5
}
