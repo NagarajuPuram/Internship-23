{
 "cells": [
  {
   "cell_type": "markdown",
   "id": "da0623c2",
   "metadata": {},
   "source": [
    " Q6: Scrape data for first 100 sneakers you find when you visit flipkart.com andsearch for “sneakers” in the search field.\n",
    " You have to scrape 4 attributes of each sneaker:\n",
    "1. Brand\n",
    "2. Product Description\n",
    "3. Price\n",
    "As shown in the below image, you have to scrape the tick marked attributes."
   ]
  },
  {
   "cell_type": "code",
   "execution_count": 2,
   "id": "5c0d6b13",
   "metadata": {},
   "outputs": [],
   "source": [
    "# import required liabraries\n",
    "import selenium\n",
    "from selenium import webdriver\n",
    "import pandas as pd\n",
    "import warnings\n",
    "warnings.filterwarnings(\"ignore\")"
   ]
  },
  {
   "cell_type": "code",
   "execution_count": 3,
   "id": "c43e5afe",
   "metadata": {},
   "outputs": [
    {
     "data": {
      "text/plain": [
       "<selenium.webdriver.chrome.webdriver.WebDriver (session=\"63d393c92ffff89783f145c34ef7bbf8\")>"
      ]
     },
     "execution_count": 3,
     "metadata": {},
     "output_type": "execute_result"
    }
   ],
   "source": [
    "# coonection to webdriver\n",
    "driver=webdriver.Chrome(\"D:\\Internship Problems\\selenium\\chromedriver_win32\\chromedriver.exe\")\n",
    "driver"
   ]
  },
  {
   "cell_type": "code",
   "execution_count": 4,
   "id": "56f30678",
   "metadata": {},
   "outputs": [],
   "source": [
    "# coonection to webdriver\n",
    "url=\"https://www.flipkart.com/\"\n",
    "driver.get(url)"
   ]
  },
  {
   "cell_type": "code",
   "execution_count": 11,
   "id": "071cc05d",
   "metadata": {},
   "outputs": [
    {
     "data": {
      "text/plain": [
       "<selenium.webdriver.remote.webelement.WebElement (session=\"63d393c92ffff89783f145c34ef7bbf8\", element=\"8424b9cc-3481-475f-a19f-724ae04a0f9f\")>"
      ]
     },
     "execution_count": 11,
     "metadata": {},
     "output_type": "execute_result"
    }
   ],
   "source": [
    "# finding the webelement search job bar using xpath\n",
    "search_product=driver.find_element_by_xpath('/html/body/div[1]/div/div[1]/div[1]/div[2]/div[2]/form/div/div/input')\n",
    "search_product"
   ]
  },
  {
   "cell_type": "code",
   "execution_count": 12,
   "id": "3b76c782",
   "metadata": {},
   "outputs": [],
   "source": [
    "# write on search bar\n",
    "search_product.send_keys(\"sneakers\")"
   ]
  },
  {
   "cell_type": "code",
   "execution_count": 14,
   "id": "c29c0192",
   "metadata": {},
   "outputs": [
    {
     "data": {
      "text/plain": [
       "<selenium.webdriver.remote.webelement.WebElement (session=\"63d393c92ffff89783f145c34ef7bbf8\", element=\"2ce944e5-2ee2-4be0-86e8-4dbeba76d802\")>"
      ]
     },
     "execution_count": 14,
     "metadata": {},
     "output_type": "execute_result"
    }
   ],
   "source": [
    "# clicking on search button\n",
    "search_btn=driver.find_element_by_xpath('//button[@class=\"L0Z3Pu\"]')\n",
    "search_btn"
   ]
  },
  {
   "cell_type": "code",
   "execution_count": 15,
   "id": "5a2a5234",
   "metadata": {},
   "outputs": [],
   "source": [
    "# click on search button\n",
    "search_btn.click()"
   ]
  },
  {
   "cell_type": "code",
   "execution_count": 17,
   "id": "641e59e1",
   "metadata": {},
   "outputs": [],
   "source": [
    "# scrapping the products name by using xpath\n",
    "product_tag1=driver.find_elements_by_xpath('//div[@class=\"_2WkVRV\"]')"
   ]
  },
  {
   "cell_type": "code",
   "execution_count": 18,
   "id": "76fb7ad8",
   "metadata": {},
   "outputs": [
    {
     "data": {
      "text/plain": [
       "40"
      ]
     },
     "execution_count": 18,
     "metadata": {},
     "output_type": "execute_result"
    }
   ],
   "source": [
    "# scrapping for brand names\n",
    "brand_names=[]\n",
    "for i in product_tag1:\n",
    "    brand_names.append(i.text)\n",
    "len(brand_names)"
   ]
  },
  {
   "cell_type": "code",
   "execution_count": 69,
   "id": "8361b005",
   "metadata": {},
   "outputs": [
    {
     "data": {
      "text/plain": [
       "[<selenium.webdriver.remote.webelement.WebElement (session=\"63d393c92ffff89783f145c34ef7bbf8\", element=\"7153ea33-4d16-43da-bb98-37fa31434983\")>,\n",
       " <selenium.webdriver.remote.webelement.WebElement (session=\"63d393c92ffff89783f145c34ef7bbf8\", element=\"34e40ec6-9018-4110-8785-60439c54f4fd\")>,\n",
       " <selenium.webdriver.remote.webelement.WebElement (session=\"63d393c92ffff89783f145c34ef7bbf8\", element=\"4018dc8c-7358-4681-807d-65516429e8a9\")>,\n",
       " <selenium.webdriver.remote.webelement.WebElement (session=\"63d393c92ffff89783f145c34ef7bbf8\", element=\"6cb2ac80-6f97-4551-afde-a9e1170ff738\")>,\n",
       " <selenium.webdriver.remote.webelement.WebElement (session=\"63d393c92ffff89783f145c34ef7bbf8\", element=\"f67340ed-8bde-4d58-9c8b-23b169bd9212\")>,\n",
       " <selenium.webdriver.remote.webelement.WebElement (session=\"63d393c92ffff89783f145c34ef7bbf8\", element=\"7a18392e-f7e1-4ff8-808f-56d4e88fdd40\")>,\n",
       " <selenium.webdriver.remote.webelement.WebElement (session=\"63d393c92ffff89783f145c34ef7bbf8\", element=\"ea07e453-138b-4e95-bd5f-5bcd75a8c713\")>,\n",
       " <selenium.webdriver.remote.webelement.WebElement (session=\"63d393c92ffff89783f145c34ef7bbf8\", element=\"3ddc5e71-37ac-405b-81db-7307d4716b2e\")>,\n",
       " <selenium.webdriver.remote.webelement.WebElement (session=\"63d393c92ffff89783f145c34ef7bbf8\", element=\"1edb6d04-a187-4fa8-bc8b-b4ace6e88e89\")>,\n",
       " <selenium.webdriver.remote.webelement.WebElement (session=\"63d393c92ffff89783f145c34ef7bbf8\", element=\"58c39e3c-091a-4157-8380-39e47de154da\")>,\n",
       " <selenium.webdriver.remote.webelement.WebElement (session=\"63d393c92ffff89783f145c34ef7bbf8\", element=\"5d65c311-3538-42c5-9569-169d0031857b\")>,\n",
       " <selenium.webdriver.remote.webelement.WebElement (session=\"63d393c92ffff89783f145c34ef7bbf8\", element=\"3ddb727c-4fd5-47ff-9f14-16e45b9eb1be\")>,\n",
       " <selenium.webdriver.remote.webelement.WebElement (session=\"63d393c92ffff89783f145c34ef7bbf8\", element=\"c060a7c9-5407-4f66-8ac1-6690ec72e935\")>,\n",
       " <selenium.webdriver.remote.webelement.WebElement (session=\"63d393c92ffff89783f145c34ef7bbf8\", element=\"25d0d214-7803-4b31-b612-d9e93b673439\")>,\n",
       " <selenium.webdriver.remote.webelement.WebElement (session=\"63d393c92ffff89783f145c34ef7bbf8\", element=\"7358b3c5-f16f-49b3-9fff-7be775f2e2bc\")>,\n",
       " <selenium.webdriver.remote.webelement.WebElement (session=\"63d393c92ffff89783f145c34ef7bbf8\", element=\"c1aaece3-ce87-4126-a219-333a9619c096\")>,\n",
       " <selenium.webdriver.remote.webelement.WebElement (session=\"63d393c92ffff89783f145c34ef7bbf8\", element=\"02bf8134-0c3e-4bb1-8f9b-3a6ddad473a8\")>,\n",
       " <selenium.webdriver.remote.webelement.WebElement (session=\"63d393c92ffff89783f145c34ef7bbf8\", element=\"e06b363e-64d0-4ae8-8983-13c26396d39b\")>,\n",
       " <selenium.webdriver.remote.webelement.WebElement (session=\"63d393c92ffff89783f145c34ef7bbf8\", element=\"56769592-2aae-4a7a-8257-f7ddf77f2c3c\")>,\n",
       " <selenium.webdriver.remote.webelement.WebElement (session=\"63d393c92ffff89783f145c34ef7bbf8\", element=\"b6f41516-3055-43df-9cd8-1f4c9a8918ad\")>,\n",
       " <selenium.webdriver.remote.webelement.WebElement (session=\"63d393c92ffff89783f145c34ef7bbf8\", element=\"8852657a-180a-47bb-9309-ba7437830bc4\")>,\n",
       " <selenium.webdriver.remote.webelement.WebElement (session=\"63d393c92ffff89783f145c34ef7bbf8\", element=\"d9a7e278-5e7a-488d-b5d9-2c5af33ea4e6\")>,\n",
       " <selenium.webdriver.remote.webelement.WebElement (session=\"63d393c92ffff89783f145c34ef7bbf8\", element=\"60b199bc-450d-445d-81ab-773a53831c75\")>,\n",
       " <selenium.webdriver.remote.webelement.WebElement (session=\"63d393c92ffff89783f145c34ef7bbf8\", element=\"ede59533-5b6c-44ca-969c-563235d248f8\")>,\n",
       " <selenium.webdriver.remote.webelement.WebElement (session=\"63d393c92ffff89783f145c34ef7bbf8\", element=\"8c9646ff-d6d4-4a12-88c1-b359d913515e\")>,\n",
       " <selenium.webdriver.remote.webelement.WebElement (session=\"63d393c92ffff89783f145c34ef7bbf8\", element=\"8850115c-407c-41f2-a2d7-ef605eb58f04\")>,\n",
       " <selenium.webdriver.remote.webelement.WebElement (session=\"63d393c92ffff89783f145c34ef7bbf8\", element=\"7b61baf4-3263-42e0-87d6-9f5786d49e68\")>,\n",
       " <selenium.webdriver.remote.webelement.WebElement (session=\"63d393c92ffff89783f145c34ef7bbf8\", element=\"7dc6fc49-9168-4784-b96b-ca4cac62721c\")>,\n",
       " <selenium.webdriver.remote.webelement.WebElement (session=\"63d393c92ffff89783f145c34ef7bbf8\", element=\"37e5467f-7db2-497b-b680-88781991e88b\")>,\n",
       " <selenium.webdriver.remote.webelement.WebElement (session=\"63d393c92ffff89783f145c34ef7bbf8\", element=\"550c6bad-66c2-4537-83eb-b78a1c6db25a\")>,\n",
       " <selenium.webdriver.remote.webelement.WebElement (session=\"63d393c92ffff89783f145c34ef7bbf8\", element=\"a517c640-7353-45d3-b169-b13c3ebabe53\")>,\n",
       " <selenium.webdriver.remote.webelement.WebElement (session=\"63d393c92ffff89783f145c34ef7bbf8\", element=\"a0dcecb0-c0a3-4867-b83d-16d8c57683f2\")>,\n",
       " <selenium.webdriver.remote.webelement.WebElement (session=\"63d393c92ffff89783f145c34ef7bbf8\", element=\"f05213ee-2f09-4c1e-8c6c-1c776b2d1690\")>,\n",
       " <selenium.webdriver.remote.webelement.WebElement (session=\"63d393c92ffff89783f145c34ef7bbf8\", element=\"02873059-25d2-47fc-aeda-d0c30907f956\")>]"
      ]
     },
     "execution_count": 69,
     "metadata": {},
     "output_type": "execute_result"
    }
   ],
   "source": [
    "# scrapping product description using xpath\n",
    "descr_tag1=driver.find_elements_by_xpath('//a[@class=\"IRpwTa\"]')\n",
    "descr_tag1"
   ]
  },
  {
   "cell_type": "code",
   "execution_count": 70,
   "id": "3795985a",
   "metadata": {},
   "outputs": [
    {
     "data": {
      "text/plain": [
       "34"
      ]
     },
     "execution_count": 70,
     "metadata": {},
     "output_type": "execute_result"
    }
   ],
   "source": [
    "brand_descr1=[]\n",
    "for i in descr_tag1:\n",
    "    brand_descr1.append(i.text)\n",
    "len(brand_descr1)"
   ]
  },
  {
   "cell_type": "code",
   "execution_count": 26,
   "id": "0b381c42",
   "metadata": {},
   "outputs": [],
   "source": [
    "# scrapping price by xpath\n",
    "price_tag1=driver.find_elements_by_xpath('//div[@class=\"_30jeq3\"]')"
   ]
  },
  {
   "cell_type": "code",
   "execution_count": 28,
   "id": "c5fcdfd2",
   "metadata": {},
   "outputs": [
    {
     "data": {
      "text/plain": [
       "40"
      ]
     },
     "execution_count": 28,
     "metadata": {},
     "output_type": "execute_result"
    }
   ],
   "source": [
    "# price\n",
    "price_1=[]\n",
    "for i in price_tag1:\n",
    "    price_1.append(i.text)\n",
    "len(price_1)"
   ]
  },
  {
   "cell_type": "code",
   "execution_count": 38,
   "id": "4f5e7354",
   "metadata": {},
   "outputs": [],
   "source": [
    "# scrapping discount by xpath\n",
    "disc_tag1=driver.find_elements_by_xpath('//div[@class=\"_3Ay6Sb\"]')"
   ]
  },
  {
   "cell_type": "code",
   "execution_count": 39,
   "id": "726a2bb5",
   "metadata": {},
   "outputs": [
    {
     "data": {
      "text/plain": [
       "39"
      ]
     },
     "execution_count": 39,
     "metadata": {},
     "output_type": "execute_result"
    }
   ],
   "source": [
    "discount1=[]\n",
    "for i in disc_tag1:\n",
    "    discount1.append(i.text)\n",
    "len(discount1)"
   ]
  },
  {
   "cell_type": "code",
   "execution_count": 40,
   "id": "ae28ecae",
   "metadata": {},
   "outputs": [],
   "source": [
    "# click on next button\n",
    "next_btn=driver.find_element_by_xpath('//a[@class=\"_1LKTO3\"]')\n",
    "next_btn.click()"
   ]
  },
  {
   "cell_type": "code",
   "execution_count": 41,
   "id": "7a823820",
   "metadata": {},
   "outputs": [
    {
     "data": {
      "text/plain": [
       "40"
      ]
     },
     "execution_count": 41,
     "metadata": {},
     "output_type": "execute_result"
    }
   ],
   "source": [
    "# scrapping the products name by using xpath\n",
    "product_tag2=driver.find_elements_by_xpath('//div[@class=\"_2WkVRV\"]')\n",
    "# scrapping for brand names\n",
    "brand_names2=[]\n",
    "for i in product_tag2:\n",
    "    brand_names2.append(i.text)\n",
    "len(brand_names2)"
   ]
  },
  {
   "cell_type": "code",
   "execution_count": 71,
   "id": "e66be48c",
   "metadata": {},
   "outputs": [
    {
     "data": {
      "text/plain": [
       "[<selenium.webdriver.remote.webelement.WebElement (session=\"63d393c92ffff89783f145c34ef7bbf8\", element=\"7153ea33-4d16-43da-bb98-37fa31434983\")>,\n",
       " <selenium.webdriver.remote.webelement.WebElement (session=\"63d393c92ffff89783f145c34ef7bbf8\", element=\"34e40ec6-9018-4110-8785-60439c54f4fd\")>,\n",
       " <selenium.webdriver.remote.webelement.WebElement (session=\"63d393c92ffff89783f145c34ef7bbf8\", element=\"4018dc8c-7358-4681-807d-65516429e8a9\")>,\n",
       " <selenium.webdriver.remote.webelement.WebElement (session=\"63d393c92ffff89783f145c34ef7bbf8\", element=\"6cb2ac80-6f97-4551-afde-a9e1170ff738\")>,\n",
       " <selenium.webdriver.remote.webelement.WebElement (session=\"63d393c92ffff89783f145c34ef7bbf8\", element=\"f67340ed-8bde-4d58-9c8b-23b169bd9212\")>,\n",
       " <selenium.webdriver.remote.webelement.WebElement (session=\"63d393c92ffff89783f145c34ef7bbf8\", element=\"7a18392e-f7e1-4ff8-808f-56d4e88fdd40\")>,\n",
       " <selenium.webdriver.remote.webelement.WebElement (session=\"63d393c92ffff89783f145c34ef7bbf8\", element=\"ea07e453-138b-4e95-bd5f-5bcd75a8c713\")>,\n",
       " <selenium.webdriver.remote.webelement.WebElement (session=\"63d393c92ffff89783f145c34ef7bbf8\", element=\"3ddc5e71-37ac-405b-81db-7307d4716b2e\")>,\n",
       " <selenium.webdriver.remote.webelement.WebElement (session=\"63d393c92ffff89783f145c34ef7bbf8\", element=\"1edb6d04-a187-4fa8-bc8b-b4ace6e88e89\")>,\n",
       " <selenium.webdriver.remote.webelement.WebElement (session=\"63d393c92ffff89783f145c34ef7bbf8\", element=\"58c39e3c-091a-4157-8380-39e47de154da\")>,\n",
       " <selenium.webdriver.remote.webelement.WebElement (session=\"63d393c92ffff89783f145c34ef7bbf8\", element=\"5d65c311-3538-42c5-9569-169d0031857b\")>,\n",
       " <selenium.webdriver.remote.webelement.WebElement (session=\"63d393c92ffff89783f145c34ef7bbf8\", element=\"3ddb727c-4fd5-47ff-9f14-16e45b9eb1be\")>,\n",
       " <selenium.webdriver.remote.webelement.WebElement (session=\"63d393c92ffff89783f145c34ef7bbf8\", element=\"c060a7c9-5407-4f66-8ac1-6690ec72e935\")>,\n",
       " <selenium.webdriver.remote.webelement.WebElement (session=\"63d393c92ffff89783f145c34ef7bbf8\", element=\"25d0d214-7803-4b31-b612-d9e93b673439\")>,\n",
       " <selenium.webdriver.remote.webelement.WebElement (session=\"63d393c92ffff89783f145c34ef7bbf8\", element=\"7358b3c5-f16f-49b3-9fff-7be775f2e2bc\")>,\n",
       " <selenium.webdriver.remote.webelement.WebElement (session=\"63d393c92ffff89783f145c34ef7bbf8\", element=\"c1aaece3-ce87-4126-a219-333a9619c096\")>,\n",
       " <selenium.webdriver.remote.webelement.WebElement (session=\"63d393c92ffff89783f145c34ef7bbf8\", element=\"02bf8134-0c3e-4bb1-8f9b-3a6ddad473a8\")>,\n",
       " <selenium.webdriver.remote.webelement.WebElement (session=\"63d393c92ffff89783f145c34ef7bbf8\", element=\"e06b363e-64d0-4ae8-8983-13c26396d39b\")>,\n",
       " <selenium.webdriver.remote.webelement.WebElement (session=\"63d393c92ffff89783f145c34ef7bbf8\", element=\"56769592-2aae-4a7a-8257-f7ddf77f2c3c\")>,\n",
       " <selenium.webdriver.remote.webelement.WebElement (session=\"63d393c92ffff89783f145c34ef7bbf8\", element=\"b6f41516-3055-43df-9cd8-1f4c9a8918ad\")>,\n",
       " <selenium.webdriver.remote.webelement.WebElement (session=\"63d393c92ffff89783f145c34ef7bbf8\", element=\"8852657a-180a-47bb-9309-ba7437830bc4\")>,\n",
       " <selenium.webdriver.remote.webelement.WebElement (session=\"63d393c92ffff89783f145c34ef7bbf8\", element=\"d9a7e278-5e7a-488d-b5d9-2c5af33ea4e6\")>,\n",
       " <selenium.webdriver.remote.webelement.WebElement (session=\"63d393c92ffff89783f145c34ef7bbf8\", element=\"60b199bc-450d-445d-81ab-773a53831c75\")>,\n",
       " <selenium.webdriver.remote.webelement.WebElement (session=\"63d393c92ffff89783f145c34ef7bbf8\", element=\"ede59533-5b6c-44ca-969c-563235d248f8\")>,\n",
       " <selenium.webdriver.remote.webelement.WebElement (session=\"63d393c92ffff89783f145c34ef7bbf8\", element=\"8c9646ff-d6d4-4a12-88c1-b359d913515e\")>,\n",
       " <selenium.webdriver.remote.webelement.WebElement (session=\"63d393c92ffff89783f145c34ef7bbf8\", element=\"8850115c-407c-41f2-a2d7-ef605eb58f04\")>,\n",
       " <selenium.webdriver.remote.webelement.WebElement (session=\"63d393c92ffff89783f145c34ef7bbf8\", element=\"7b61baf4-3263-42e0-87d6-9f5786d49e68\")>,\n",
       " <selenium.webdriver.remote.webelement.WebElement (session=\"63d393c92ffff89783f145c34ef7bbf8\", element=\"7dc6fc49-9168-4784-b96b-ca4cac62721c\")>,\n",
       " <selenium.webdriver.remote.webelement.WebElement (session=\"63d393c92ffff89783f145c34ef7bbf8\", element=\"37e5467f-7db2-497b-b680-88781991e88b\")>,\n",
       " <selenium.webdriver.remote.webelement.WebElement (session=\"63d393c92ffff89783f145c34ef7bbf8\", element=\"550c6bad-66c2-4537-83eb-b78a1c6db25a\")>,\n",
       " <selenium.webdriver.remote.webelement.WebElement (session=\"63d393c92ffff89783f145c34ef7bbf8\", element=\"a517c640-7353-45d3-b169-b13c3ebabe53\")>,\n",
       " <selenium.webdriver.remote.webelement.WebElement (session=\"63d393c92ffff89783f145c34ef7bbf8\", element=\"a0dcecb0-c0a3-4867-b83d-16d8c57683f2\")>,\n",
       " <selenium.webdriver.remote.webelement.WebElement (session=\"63d393c92ffff89783f145c34ef7bbf8\", element=\"f05213ee-2f09-4c1e-8c6c-1c776b2d1690\")>,\n",
       " <selenium.webdriver.remote.webelement.WebElement (session=\"63d393c92ffff89783f145c34ef7bbf8\", element=\"02873059-25d2-47fc-aeda-d0c30907f956\")>]"
      ]
     },
     "execution_count": 71,
     "metadata": {},
     "output_type": "execute_result"
    }
   ],
   "source": [
    "# scrapping product description using xpath\n",
    "descr_tag2=driver.find_elements_by_xpath('//a[@class=\"IRpwTa\"]')\n",
    "descr_tag2"
   ]
  },
  {
   "cell_type": "code",
   "execution_count": 72,
   "id": "70474902",
   "metadata": {},
   "outputs": [
    {
     "data": {
      "text/plain": [
       "34"
      ]
     },
     "execution_count": 72,
     "metadata": {},
     "output_type": "execute_result"
    }
   ],
   "source": [
    "brand_descr2=[]\n",
    "for i in descr_tag2:\n",
    "    brand_descr2.append(i.text)\n",
    "len(brand_descr2)"
   ]
  },
  {
   "cell_type": "code",
   "execution_count": 46,
   "id": "1be58669",
   "metadata": {},
   "outputs": [
    {
     "data": {
      "text/plain": [
       "40"
      ]
     },
     "execution_count": 46,
     "metadata": {},
     "output_type": "execute_result"
    }
   ],
   "source": [
    "# scrapping price by xpath\n",
    "price_tag2=driver.find_elements_by_xpath('//div[@class=\"_30jeq3\"]')\n",
    "# price\n",
    "price_2=[]\n",
    "for i in price_tag2:\n",
    "    price_2.append(i.text)\n",
    "len(price_2)"
   ]
  },
  {
   "cell_type": "code",
   "execution_count": 47,
   "id": "5c6426b0",
   "metadata": {},
   "outputs": [
    {
     "data": {
      "text/plain": [
       "38"
      ]
     },
     "execution_count": 47,
     "metadata": {},
     "output_type": "execute_result"
    }
   ],
   "source": [
    "# scrapping discount by xpath\n",
    "disc_tag2=driver.find_elements_by_xpath('//div[@class=\"_3Ay6Sb\"]')\n",
    "discount2=[]\n",
    "for i in disc_tag2:\n",
    "    discount2.append(i.text)\n",
    "len(discount2)"
   ]
  },
  {
   "cell_type": "code",
   "execution_count": 50,
   "id": "ff395320",
   "metadata": {},
   "outputs": [],
   "source": [
    "# click on next button\n",
    "next_btn=driver.find_element_by_xpath('/html/body/div[1]/div/div[3]/div[1]/div[2]/div[12]/div/div/nav/a[12]/span')\n",
    "next_btn.click()"
   ]
  },
  {
   "cell_type": "code",
   "execution_count": 56,
   "id": "709ffd7d",
   "metadata": {},
   "outputs": [
    {
     "data": {
      "text/plain": [
       "40"
      ]
     },
     "execution_count": 56,
     "metadata": {},
     "output_type": "execute_result"
    }
   ],
   "source": [
    "# scrapping the products name by using xpath\n",
    "product_tag3=driver.find_elements_by_xpath('//div[@class=\"_2WkVRV\"]')\n",
    "# scrapping for brand names\n",
    "brand_names3=[]\n",
    "for i in product_tag3:\n",
    "    brand_names3.append(i.text)\n",
    "len(brand_names3)"
   ]
  },
  {
   "cell_type": "code",
   "execution_count": 73,
   "id": "e1485999",
   "metadata": {},
   "outputs": [
    {
     "data": {
      "text/plain": [
       "[<selenium.webdriver.remote.webelement.WebElement (session=\"63d393c92ffff89783f145c34ef7bbf8\", element=\"7153ea33-4d16-43da-bb98-37fa31434983\")>,\n",
       " <selenium.webdriver.remote.webelement.WebElement (session=\"63d393c92ffff89783f145c34ef7bbf8\", element=\"34e40ec6-9018-4110-8785-60439c54f4fd\")>,\n",
       " <selenium.webdriver.remote.webelement.WebElement (session=\"63d393c92ffff89783f145c34ef7bbf8\", element=\"4018dc8c-7358-4681-807d-65516429e8a9\")>,\n",
       " <selenium.webdriver.remote.webelement.WebElement (session=\"63d393c92ffff89783f145c34ef7bbf8\", element=\"6cb2ac80-6f97-4551-afde-a9e1170ff738\")>,\n",
       " <selenium.webdriver.remote.webelement.WebElement (session=\"63d393c92ffff89783f145c34ef7bbf8\", element=\"f67340ed-8bde-4d58-9c8b-23b169bd9212\")>,\n",
       " <selenium.webdriver.remote.webelement.WebElement (session=\"63d393c92ffff89783f145c34ef7bbf8\", element=\"7a18392e-f7e1-4ff8-808f-56d4e88fdd40\")>,\n",
       " <selenium.webdriver.remote.webelement.WebElement (session=\"63d393c92ffff89783f145c34ef7bbf8\", element=\"ea07e453-138b-4e95-bd5f-5bcd75a8c713\")>,\n",
       " <selenium.webdriver.remote.webelement.WebElement (session=\"63d393c92ffff89783f145c34ef7bbf8\", element=\"3ddc5e71-37ac-405b-81db-7307d4716b2e\")>,\n",
       " <selenium.webdriver.remote.webelement.WebElement (session=\"63d393c92ffff89783f145c34ef7bbf8\", element=\"1edb6d04-a187-4fa8-bc8b-b4ace6e88e89\")>,\n",
       " <selenium.webdriver.remote.webelement.WebElement (session=\"63d393c92ffff89783f145c34ef7bbf8\", element=\"58c39e3c-091a-4157-8380-39e47de154da\")>,\n",
       " <selenium.webdriver.remote.webelement.WebElement (session=\"63d393c92ffff89783f145c34ef7bbf8\", element=\"5d65c311-3538-42c5-9569-169d0031857b\")>,\n",
       " <selenium.webdriver.remote.webelement.WebElement (session=\"63d393c92ffff89783f145c34ef7bbf8\", element=\"3ddb727c-4fd5-47ff-9f14-16e45b9eb1be\")>,\n",
       " <selenium.webdriver.remote.webelement.WebElement (session=\"63d393c92ffff89783f145c34ef7bbf8\", element=\"c060a7c9-5407-4f66-8ac1-6690ec72e935\")>,\n",
       " <selenium.webdriver.remote.webelement.WebElement (session=\"63d393c92ffff89783f145c34ef7bbf8\", element=\"25d0d214-7803-4b31-b612-d9e93b673439\")>,\n",
       " <selenium.webdriver.remote.webelement.WebElement (session=\"63d393c92ffff89783f145c34ef7bbf8\", element=\"7358b3c5-f16f-49b3-9fff-7be775f2e2bc\")>,\n",
       " <selenium.webdriver.remote.webelement.WebElement (session=\"63d393c92ffff89783f145c34ef7bbf8\", element=\"c1aaece3-ce87-4126-a219-333a9619c096\")>,\n",
       " <selenium.webdriver.remote.webelement.WebElement (session=\"63d393c92ffff89783f145c34ef7bbf8\", element=\"02bf8134-0c3e-4bb1-8f9b-3a6ddad473a8\")>,\n",
       " <selenium.webdriver.remote.webelement.WebElement (session=\"63d393c92ffff89783f145c34ef7bbf8\", element=\"e06b363e-64d0-4ae8-8983-13c26396d39b\")>,\n",
       " <selenium.webdriver.remote.webelement.WebElement (session=\"63d393c92ffff89783f145c34ef7bbf8\", element=\"56769592-2aae-4a7a-8257-f7ddf77f2c3c\")>,\n",
       " <selenium.webdriver.remote.webelement.WebElement (session=\"63d393c92ffff89783f145c34ef7bbf8\", element=\"b6f41516-3055-43df-9cd8-1f4c9a8918ad\")>,\n",
       " <selenium.webdriver.remote.webelement.WebElement (session=\"63d393c92ffff89783f145c34ef7bbf8\", element=\"8852657a-180a-47bb-9309-ba7437830bc4\")>,\n",
       " <selenium.webdriver.remote.webelement.WebElement (session=\"63d393c92ffff89783f145c34ef7bbf8\", element=\"d9a7e278-5e7a-488d-b5d9-2c5af33ea4e6\")>,\n",
       " <selenium.webdriver.remote.webelement.WebElement (session=\"63d393c92ffff89783f145c34ef7bbf8\", element=\"60b199bc-450d-445d-81ab-773a53831c75\")>,\n",
       " <selenium.webdriver.remote.webelement.WebElement (session=\"63d393c92ffff89783f145c34ef7bbf8\", element=\"ede59533-5b6c-44ca-969c-563235d248f8\")>,\n",
       " <selenium.webdriver.remote.webelement.WebElement (session=\"63d393c92ffff89783f145c34ef7bbf8\", element=\"8c9646ff-d6d4-4a12-88c1-b359d913515e\")>,\n",
       " <selenium.webdriver.remote.webelement.WebElement (session=\"63d393c92ffff89783f145c34ef7bbf8\", element=\"8850115c-407c-41f2-a2d7-ef605eb58f04\")>,\n",
       " <selenium.webdriver.remote.webelement.WebElement (session=\"63d393c92ffff89783f145c34ef7bbf8\", element=\"7b61baf4-3263-42e0-87d6-9f5786d49e68\")>,\n",
       " <selenium.webdriver.remote.webelement.WebElement (session=\"63d393c92ffff89783f145c34ef7bbf8\", element=\"7dc6fc49-9168-4784-b96b-ca4cac62721c\")>,\n",
       " <selenium.webdriver.remote.webelement.WebElement (session=\"63d393c92ffff89783f145c34ef7bbf8\", element=\"37e5467f-7db2-497b-b680-88781991e88b\")>,\n",
       " <selenium.webdriver.remote.webelement.WebElement (session=\"63d393c92ffff89783f145c34ef7bbf8\", element=\"550c6bad-66c2-4537-83eb-b78a1c6db25a\")>,\n",
       " <selenium.webdriver.remote.webelement.WebElement (session=\"63d393c92ffff89783f145c34ef7bbf8\", element=\"a517c640-7353-45d3-b169-b13c3ebabe53\")>,\n",
       " <selenium.webdriver.remote.webelement.WebElement (session=\"63d393c92ffff89783f145c34ef7bbf8\", element=\"a0dcecb0-c0a3-4867-b83d-16d8c57683f2\")>,\n",
       " <selenium.webdriver.remote.webelement.WebElement (session=\"63d393c92ffff89783f145c34ef7bbf8\", element=\"f05213ee-2f09-4c1e-8c6c-1c776b2d1690\")>,\n",
       " <selenium.webdriver.remote.webelement.WebElement (session=\"63d393c92ffff89783f145c34ef7bbf8\", element=\"02873059-25d2-47fc-aeda-d0c30907f956\")>]"
      ]
     },
     "execution_count": 73,
     "metadata": {},
     "output_type": "execute_result"
    }
   ],
   "source": [
    "# scrapping product description using xpath\n",
    "descr_tag3=driver.find_elements_by_xpath('//a[@class=\"IRpwTa\"]')\n",
    "descr_tag3"
   ]
  },
  {
   "cell_type": "code",
   "execution_count": 74,
   "id": "560ad063",
   "metadata": {},
   "outputs": [
    {
     "data": {
      "text/plain": [
       "34"
      ]
     },
     "execution_count": 74,
     "metadata": {},
     "output_type": "execute_result"
    }
   ],
   "source": [
    "brand_descr3=[]\n",
    "for i in descr_tag3:\n",
    "    brand_descr3.append(i.text)\n",
    "len(brand_descr3)"
   ]
  },
  {
   "cell_type": "code",
   "execution_count": 59,
   "id": "4cc8b51e",
   "metadata": {},
   "outputs": [
    {
     "data": {
      "text/plain": [
       "40"
      ]
     },
     "execution_count": 59,
     "metadata": {},
     "output_type": "execute_result"
    }
   ],
   "source": [
    "# scrapping price by xpath\n",
    "price_tag3=driver.find_elements_by_xpath('//div[@class=\"_30jeq3\"]')\n",
    "# price\n",
    "price_3=[]\n",
    "for i in price_tag3:\n",
    "    price_3.append(i.text)\n",
    "len(price_3)"
   ]
  },
  {
   "cell_type": "code",
   "execution_count": 60,
   "id": "5ea74649",
   "metadata": {},
   "outputs": [
    {
     "data": {
      "text/plain": [
       "40"
      ]
     },
     "execution_count": 60,
     "metadata": {},
     "output_type": "execute_result"
    }
   ],
   "source": [
    "# scrapping discount by xpath\n",
    "disc_tag3=driver.find_elements_by_xpath('//div[@class=\"_3Ay6Sb\"]')\n",
    "discount3=[]\n",
    "for i in disc_tag3:\n",
    "    discount3.append(i.text)\n",
    "len(discount3)"
   ]
  },
  {
   "cell_type": "code",
   "execution_count": 77,
   "id": "53c36605",
   "metadata": {},
   "outputs": [
    {
     "name": "stdout",
     "output_type": "stream",
     "text": [
      "100\n",
      "100\n",
      "100\n",
      "100\n"
     ]
    }
   ],
   "source": [
    "brand=brand_names+brand_names2+brand_names3\n",
    "brand=brand[:100]\n",
    "descr=brand_descr1+brand_descr2+brand_descr3\n",
    "descr=descr[:100]\n",
    "price=price_1+price_2+price_3\n",
    "price=price[:100]\n",
    "discount=discount1+discount2+discount3\n",
    "discount=discount[:100]\n",
    "print(len(brand))\n",
    "print(len(descr))\n",
    "print(len(price))\n",
    "print(len(discount))"
   ]
  },
  {
   "cell_type": "code",
   "execution_count": 78,
   "id": "f3af8650",
   "metadata": {},
   "outputs": [
    {
     "data": {
      "text/html": [
       "<div>\n",
       "<style scoped>\n",
       "    .dataframe tbody tr th:only-of-type {\n",
       "        vertical-align: middle;\n",
       "    }\n",
       "\n",
       "    .dataframe tbody tr th {\n",
       "        vertical-align: top;\n",
       "    }\n",
       "\n",
       "    .dataframe thead th {\n",
       "        text-align: right;\n",
       "    }\n",
       "</style>\n",
       "<table border=\"1\" class=\"dataframe\">\n",
       "  <thead>\n",
       "    <tr style=\"text-align: right;\">\n",
       "      <th></th>\n",
       "      <th>Brand</th>\n",
       "      <th>Product_description</th>\n",
       "      <th>Price</th>\n",
       "      <th>Discount</th>\n",
       "    </tr>\n",
       "  </thead>\n",
       "  <tbody>\n",
       "    <tr>\n",
       "      <th>0</th>\n",
       "      <td>Vigglo Fashion</td>\n",
       "      <td>Modern &amp; Trendy Collection Combo Pack of 02 Sh...</td>\n",
       "      <td>₹599</td>\n",
       "      <td>60% off</td>\n",
       "    </tr>\n",
       "    <tr>\n",
       "      <th>1</th>\n",
       "      <td>Chevit</td>\n",
       "      <td>Sneakers For Men</td>\n",
       "      <td>₹769</td>\n",
       "      <td>48% off</td>\n",
       "    </tr>\n",
       "    <tr>\n",
       "      <th>2</th>\n",
       "      <td>BRUTON</td>\n",
       "      <td>Luxury Fashionable casual sneaker shoes Sneake...</td>\n",
       "      <td>₹499</td>\n",
       "      <td>80% off</td>\n",
       "    </tr>\n",
       "    <tr>\n",
       "      <th>3</th>\n",
       "      <td>Magnolia</td>\n",
       "      <td>Modern Trendy Shoes Combo pack of 4 Sneakers F...</td>\n",
       "      <td>₹398</td>\n",
       "      <td>60% off</td>\n",
       "    </tr>\n",
       "    <tr>\n",
       "      <th>4</th>\n",
       "      <td>luxury fashion</td>\n",
       "      <td>Sneakers Sneakers For Men</td>\n",
       "      <td>₹449</td>\n",
       "      <td>65% off</td>\n",
       "    </tr>\n",
       "    <tr>\n",
       "      <th>...</th>\n",
       "      <td>...</td>\n",
       "      <td>...</td>\n",
       "      <td>...</td>\n",
       "      <td>...</td>\n",
       "    </tr>\n",
       "    <tr>\n",
       "      <th>95</th>\n",
       "      <td>BIRDE</td>\n",
       "      <td>Shark-41 Sneakers For Men</td>\n",
       "      <td>₹348</td>\n",
       "      <td>55% off</td>\n",
       "    </tr>\n",
       "    <tr>\n",
       "      <th>96</th>\n",
       "      <td>believe</td>\n",
       "      <td>casual for men (blue 06) Sneakers For Men</td>\n",
       "      <td>₹449</td>\n",
       "      <td>52% off</td>\n",
       "    </tr>\n",
       "    <tr>\n",
       "      <th>97</th>\n",
       "      <td>Robbie jones</td>\n",
       "      <td>Sneakers For Men</td>\n",
       "      <td>₹474</td>\n",
       "      <td>40% off</td>\n",
       "    </tr>\n",
       "    <tr>\n",
       "      <th>98</th>\n",
       "      <td>Rzisbo</td>\n",
       "      <td>sneaker men red 1258 - 6 Sneakers For Men</td>\n",
       "      <td>₹599</td>\n",
       "      <td>78% off</td>\n",
       "    </tr>\n",
       "    <tr>\n",
       "      <th>99</th>\n",
       "      <td>BRUTON</td>\n",
       "      <td>Trendy Fashion Combo Pack of 2 Sneakers For Men</td>\n",
       "      <td>₹527</td>\n",
       "      <td>75% off</td>\n",
       "    </tr>\n",
       "  </tbody>\n",
       "</table>\n",
       "<p>100 rows × 4 columns</p>\n",
       "</div>"
      ],
      "text/plain": [
       "             Brand                                Product_description Price  \\\n",
       "0   Vigglo Fashion  Modern & Trendy Collection Combo Pack of 02 Sh...  ₹599   \n",
       "1           Chevit                                   Sneakers For Men  ₹769   \n",
       "2           BRUTON  Luxury Fashionable casual sneaker shoes Sneake...  ₹499   \n",
       "3         Magnolia  Modern Trendy Shoes Combo pack of 4 Sneakers F...  ₹398   \n",
       "4   luxury fashion                          Sneakers Sneakers For Men  ₹449   \n",
       "..             ...                                                ...   ...   \n",
       "95           BIRDE                          Shark-41 Sneakers For Men  ₹348   \n",
       "96         believe          casual for men (blue 06) Sneakers For Men  ₹449   \n",
       "97    Robbie jones                                   Sneakers For Men  ₹474   \n",
       "98          Rzisbo          sneaker men red 1258 - 6 Sneakers For Men  ₹599   \n",
       "99          BRUTON    Trendy Fashion Combo Pack of 2 Sneakers For Men  ₹527   \n",
       "\n",
       "   Discount  \n",
       "0   60% off  \n",
       "1   48% off  \n",
       "2   80% off  \n",
       "3   60% off  \n",
       "4   65% off  \n",
       "..      ...  \n",
       "95  55% off  \n",
       "96  52% off  \n",
       "97  40% off  \n",
       "98  78% off  \n",
       "99  75% off  \n",
       "\n",
       "[100 rows x 4 columns]"
      ]
     },
     "execution_count": 78,
     "metadata": {},
     "output_type": "execute_result"
    }
   ],
   "source": [
    "df=pd.DataFrame({\"Brand\":brand,\"Product_description\":descr,\"Price\":price,\"Discount\":discount})\n",
    "df"
   ]
  },
  {
   "cell_type": "code",
   "execution_count": null,
   "id": "c81760df",
   "metadata": {},
   "outputs": [],
   "source": []
  }
 ],
 "metadata": {
  "kernelspec": {
   "display_name": "Python 3",
   "language": "python",
   "name": "python3"
  },
  "language_info": {
   "codemirror_mode": {
    "name": "ipython",
    "version": 3
   },
   "file_extension": ".py",
   "mimetype": "text/x-python",
   "name": "python",
   "nbconvert_exporter": "python",
   "pygments_lexer": "ipython3",
   "version": "3.8.8"
  }
 },
 "nbformat": 4,
 "nbformat_minor": 5
}
