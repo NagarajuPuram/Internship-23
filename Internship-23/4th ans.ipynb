{
 "cells": [
  {
   "cell_type": "raw",
   "id": "f5fc66b4",
   "metadata": {},
   "source": [
    "Q4: Scrape data of first 100 sunglasses listings on flipkart.com. You have to scrape four attributes:\n",
    "1. Brand\n",
    "2. Product Description\n",
    "3. Price\n",
    "To scrape the data you have to go through following steps:\n",
    "1. Go to Flipkart webpage by url : https://www.flipkart.com/\n",
    "2. Enter “sunglasses” in the search field where “search for products, brands andmore” is written and click the search icon\n",
    "3. After that you will reach to the page having a lot of sunglasses. From this pageyou can scrap the required data as usual.\n",
    "4. After scraping data from the first page, go to the “Next” Button at the bottom ofthe page , then click on it.\n",
    "5. Now scrape data from this page as usual\n",
    "6. Repeat this until you get data for 100 sunglasses.\n",
    "Note: That all of the above steps have to be done by coding only and not manually."
   ]
  },
  {
   "cell_type": "code",
   "execution_count": 59,
   "id": "2bba7468",
   "metadata": {},
   "outputs": [],
   "source": [
    "# import reqired library\n",
    "import selenium\n",
    "from selenium import webdriver\n",
    "import pandas as pd\n",
    "import warnings\n",
    "warnings.filterwarnings(\"ignore\")"
   ]
  },
  {
   "cell_type": "code",
   "execution_count": 60,
   "id": "a7803f26",
   "metadata": {},
   "outputs": [],
   "source": [
    "# coonection to webdriver\n",
    "driver=webdriver.Chrome(\"D:\\Internship Problems\\selenium\\chromedriver_win32\\chromedriver.exe\")"
   ]
  },
  {
   "cell_type": "code",
   "execution_count": 61,
   "id": "0be4bff0",
   "metadata": {},
   "outputs": [],
   "source": [
    "# connecting to url of site \n",
    "url=\"https://www.flipkart.com/\"\n",
    "driver.get(url)"
   ]
  },
  {
   "cell_type": "code",
   "execution_count": 62,
   "id": "8647975c",
   "metadata": {},
   "outputs": [
    {
     "data": {
      "text/plain": [
       "<selenium.webdriver.remote.webelement.WebElement (session=\"ded8356a58d99f34492682bef19413e2\", element=\"8f98ed40-8180-4967-8548-8c509c3a43a3\")>"
      ]
     },
     "execution_count": 62,
     "metadata": {},
     "output_type": "execute_result"
    }
   ],
   "source": [
    "# finding the webelement search job bar using xpath\n",
    "search_job=driver.find_element_by_xpath(\"/html/body/div[1]/div/div[1]/div[1]/div[2]/div[2]/form/div/div/input\")\n",
    "search_job"
   ]
  },
  {
   "cell_type": "code",
   "execution_count": 63,
   "id": "f7742cf6",
   "metadata": {},
   "outputs": [],
   "source": [
    "# writing in search bar\n",
    "search_job.send_keys(\"sunglasses\")"
   ]
  },
  {
   "cell_type": "code",
   "execution_count": 66,
   "id": "f7d3ec2b",
   "metadata": {},
   "outputs": [
    {
     "data": {
      "text/plain": [
       "<selenium.webdriver.remote.webelement.WebElement (session=\"ded8356a58d99f34492682bef19413e2\", element=\"ff645d4e-6bcb-4422-a7e6-26c720951155\")>"
      ]
     },
     "execution_count": 66,
     "metadata": {},
     "output_type": "execute_result"
    }
   ],
   "source": [
    "# clicking on search bar using xpath\n",
    "search_icon=driver.find_element_by_xpath('//button[@class=\"L0Z3Pu\"]')\n",
    "search_icon"
   ]
  },
  {
   "cell_type": "code",
   "execution_count": 67,
   "id": "c4b702e6",
   "metadata": {},
   "outputs": [],
   "source": [
    "# clicking the button\n",
    "search_icon.click()"
   ]
  },
  {
   "cell_type": "code",
   "execution_count": 68,
   "id": "2f2d03c4",
   "metadata": {},
   "outputs": [
    {
     "data": {
      "text/plain": [
       "[<selenium.webdriver.remote.webelement.WebElement (session=\"ded8356a58d99f34492682bef19413e2\", element=\"fd7c125b-905e-48ff-a0a1-046337b463b2\")>,\n",
       " <selenium.webdriver.remote.webelement.WebElement (session=\"ded8356a58d99f34492682bef19413e2\", element=\"aa77e10d-0640-41e4-be02-1552421e3588\")>,\n",
       " <selenium.webdriver.remote.webelement.WebElement (session=\"ded8356a58d99f34492682bef19413e2\", element=\"222075ee-9739-4407-8592-9fd24ad61eaa\")>,\n",
       " <selenium.webdriver.remote.webelement.WebElement (session=\"ded8356a58d99f34492682bef19413e2\", element=\"3c79aab0-f5d9-4baf-a71c-cc914e01d21a\")>,\n",
       " <selenium.webdriver.remote.webelement.WebElement (session=\"ded8356a58d99f34492682bef19413e2\", element=\"24a74afd-ca3b-4fc0-940d-775576cf5534\")>,\n",
       " <selenium.webdriver.remote.webelement.WebElement (session=\"ded8356a58d99f34492682bef19413e2\", element=\"3c8e4674-9f53-4aca-8911-e1813d9587aa\")>,\n",
       " <selenium.webdriver.remote.webelement.WebElement (session=\"ded8356a58d99f34492682bef19413e2\", element=\"fb0b454e-b13a-4646-bb35-c6d3323b88c5\")>,\n",
       " <selenium.webdriver.remote.webelement.WebElement (session=\"ded8356a58d99f34492682bef19413e2\", element=\"fe76d53d-f733-4174-85ca-724088395b79\")>,\n",
       " <selenium.webdriver.remote.webelement.WebElement (session=\"ded8356a58d99f34492682bef19413e2\", element=\"4ffb14f4-ed30-4918-857d-5a09dd81db01\")>,\n",
       " <selenium.webdriver.remote.webelement.WebElement (session=\"ded8356a58d99f34492682bef19413e2\", element=\"f94f82b9-797d-4a4c-bec0-9ba823b6f55b\")>,\n",
       " <selenium.webdriver.remote.webelement.WebElement (session=\"ded8356a58d99f34492682bef19413e2\", element=\"37aab5d8-1927-4661-8319-f71eb7fe44ba\")>,\n",
       " <selenium.webdriver.remote.webelement.WebElement (session=\"ded8356a58d99f34492682bef19413e2\", element=\"d627856b-ac84-4d7b-82f7-b238274303ed\")>,\n",
       " <selenium.webdriver.remote.webelement.WebElement (session=\"ded8356a58d99f34492682bef19413e2\", element=\"de891471-6d57-44dd-a512-9795e441092e\")>,\n",
       " <selenium.webdriver.remote.webelement.WebElement (session=\"ded8356a58d99f34492682bef19413e2\", element=\"e0efd0f7-e95e-4332-9115-ee7b87cdecb6\")>,\n",
       " <selenium.webdriver.remote.webelement.WebElement (session=\"ded8356a58d99f34492682bef19413e2\", element=\"2685033c-4f0e-47ad-affe-70709fe602c2\")>,\n",
       " <selenium.webdriver.remote.webelement.WebElement (session=\"ded8356a58d99f34492682bef19413e2\", element=\"0acc31cf-17bf-430c-87e1-722008bcb227\")>,\n",
       " <selenium.webdriver.remote.webelement.WebElement (session=\"ded8356a58d99f34492682bef19413e2\", element=\"bf4ce98a-628d-4700-8bd3-94cee1a2b425\")>,\n",
       " <selenium.webdriver.remote.webelement.WebElement (session=\"ded8356a58d99f34492682bef19413e2\", element=\"df8231dc-0f35-4298-b275-edb1009d7c79\")>,\n",
       " <selenium.webdriver.remote.webelement.WebElement (session=\"ded8356a58d99f34492682bef19413e2\", element=\"71cf8f71-9660-4749-a7dd-22033ab916a7\")>,\n",
       " <selenium.webdriver.remote.webelement.WebElement (session=\"ded8356a58d99f34492682bef19413e2\", element=\"3190b3b4-19f3-4ab9-8e60-dabe9534919f\")>,\n",
       " <selenium.webdriver.remote.webelement.WebElement (session=\"ded8356a58d99f34492682bef19413e2\", element=\"62e8a750-914d-4a47-8d84-2a1aa946aa16\")>,\n",
       " <selenium.webdriver.remote.webelement.WebElement (session=\"ded8356a58d99f34492682bef19413e2\", element=\"6da1e772-bc5e-4cbe-8627-fe59eae09331\")>,\n",
       " <selenium.webdriver.remote.webelement.WebElement (session=\"ded8356a58d99f34492682bef19413e2\", element=\"5a73a5f7-9e76-4965-8d29-dcf992119a14\")>,\n",
       " <selenium.webdriver.remote.webelement.WebElement (session=\"ded8356a58d99f34492682bef19413e2\", element=\"572ee15a-8c46-493a-801f-c22836d9b4a8\")>,\n",
       " <selenium.webdriver.remote.webelement.WebElement (session=\"ded8356a58d99f34492682bef19413e2\", element=\"663984ac-dbe1-4b92-a356-f8d1b571b078\")>,\n",
       " <selenium.webdriver.remote.webelement.WebElement (session=\"ded8356a58d99f34492682bef19413e2\", element=\"d4379197-8f50-4fe1-a7f0-e279ba866610\")>,\n",
       " <selenium.webdriver.remote.webelement.WebElement (session=\"ded8356a58d99f34492682bef19413e2\", element=\"578d0078-201f-4b1f-b104-52fc269abe13\")>,\n",
       " <selenium.webdriver.remote.webelement.WebElement (session=\"ded8356a58d99f34492682bef19413e2\", element=\"d55bf92c-2d1b-4c69-854e-ed6c2a8ce754\")>,\n",
       " <selenium.webdriver.remote.webelement.WebElement (session=\"ded8356a58d99f34492682bef19413e2\", element=\"48323365-d5d4-4f18-9856-3f82428551ca\")>,\n",
       " <selenium.webdriver.remote.webelement.WebElement (session=\"ded8356a58d99f34492682bef19413e2\", element=\"27dac314-869e-45f6-aa40-698d040a25de\")>,\n",
       " <selenium.webdriver.remote.webelement.WebElement (session=\"ded8356a58d99f34492682bef19413e2\", element=\"b0463912-103b-426e-b1df-57e54edb1a5f\")>,\n",
       " <selenium.webdriver.remote.webelement.WebElement (session=\"ded8356a58d99f34492682bef19413e2\", element=\"d372aca9-e5b3-4c01-97fa-0d70c2fc4d05\")>,\n",
       " <selenium.webdriver.remote.webelement.WebElement (session=\"ded8356a58d99f34492682bef19413e2\", element=\"4d348adf-df75-4a7a-bac2-937185e4152a\")>,\n",
       " <selenium.webdriver.remote.webelement.WebElement (session=\"ded8356a58d99f34492682bef19413e2\", element=\"1060b38b-668d-48a8-9ced-102cc1552a97\")>,\n",
       " <selenium.webdriver.remote.webelement.WebElement (session=\"ded8356a58d99f34492682bef19413e2\", element=\"b63e0d4c-ca78-44a9-ac22-f41c0027a8b4\")>,\n",
       " <selenium.webdriver.remote.webelement.WebElement (session=\"ded8356a58d99f34492682bef19413e2\", element=\"0759addd-71a3-4692-96c1-75eca72a4403\")>,\n",
       " <selenium.webdriver.remote.webelement.WebElement (session=\"ded8356a58d99f34492682bef19413e2\", element=\"60afa28d-4739-41e2-90c1-009eb55921ad\")>,\n",
       " <selenium.webdriver.remote.webelement.WebElement (session=\"ded8356a58d99f34492682bef19413e2\", element=\"51db878b-4314-40d1-b684-87bba4ea25b4\")>,\n",
       " <selenium.webdriver.remote.webelement.WebElement (session=\"ded8356a58d99f34492682bef19413e2\", element=\"9393ee4f-062e-46ea-84a5-8f70ff621e10\")>,\n",
       " <selenium.webdriver.remote.webelement.WebElement (session=\"ded8356a58d99f34492682bef19413e2\", element=\"b3de971a-d31d-4cd6-8008-c60fc6a25884\")>]"
      ]
     },
     "execution_count": 68,
     "metadata": {},
     "output_type": "execute_result"
    }
   ],
   "source": [
    "# scrapping the products name\n",
    "product_tag=driver.find_elements_by_xpath('//div[@class=\"_2WkVRV\"]')\n",
    "product_tag"
   ]
  },
  {
   "cell_type": "code",
   "execution_count": 69,
   "id": "6c528036",
   "metadata": {},
   "outputs": [
    {
     "data": {
      "text/plain": [
       "40"
      ]
     },
     "execution_count": 69,
     "metadata": {},
     "output_type": "execute_result"
    }
   ],
   "source": [
    "# scrapping the products names\n",
    "product_names=[]\n",
    "for i in product_tag:\n",
    "    product_names.append(i.text)\n",
    "len(product_names)"
   ]
  },
  {
   "cell_type": "code",
   "execution_count": 70,
   "id": "815bfcf8",
   "metadata": {},
   "outputs": [
    {
     "data": {
      "text/plain": [
       "[<selenium.webdriver.remote.webelement.WebElement (session=\"ded8356a58d99f34492682bef19413e2\", element=\"595e6c96-ceb7-476e-adf4-f625f2481c74\")>,\n",
       " <selenium.webdriver.remote.webelement.WebElement (session=\"ded8356a58d99f34492682bef19413e2\", element=\"7013ba6d-6102-409b-9bca-d005a962ce63\")>,\n",
       " <selenium.webdriver.remote.webelement.WebElement (session=\"ded8356a58d99f34492682bef19413e2\", element=\"74486f9d-a99e-4bbc-bff9-d278d81c1dfe\")>,\n",
       " <selenium.webdriver.remote.webelement.WebElement (session=\"ded8356a58d99f34492682bef19413e2\", element=\"beac90e9-3324-4c73-abad-067727605b5e\")>,\n",
       " <selenium.webdriver.remote.webelement.WebElement (session=\"ded8356a58d99f34492682bef19413e2\", element=\"d0c29b37-b8b0-4caf-a24b-02b8896fe9ad\")>,\n",
       " <selenium.webdriver.remote.webelement.WebElement (session=\"ded8356a58d99f34492682bef19413e2\", element=\"bce19f44-e641-4943-86bb-ab3d4c23af33\")>,\n",
       " <selenium.webdriver.remote.webelement.WebElement (session=\"ded8356a58d99f34492682bef19413e2\", element=\"e34a926a-2fcb-4b6f-85bb-e17f03450215\")>,\n",
       " <selenium.webdriver.remote.webelement.WebElement (session=\"ded8356a58d99f34492682bef19413e2\", element=\"8a95007d-ea85-4a79-b25e-82e3a740a4dc\")>,\n",
       " <selenium.webdriver.remote.webelement.WebElement (session=\"ded8356a58d99f34492682bef19413e2\", element=\"d39ffc67-e5c8-434a-bf1f-ff729179a257\")>,\n",
       " <selenium.webdriver.remote.webelement.WebElement (session=\"ded8356a58d99f34492682bef19413e2\", element=\"47e01d5a-f480-4f89-9f97-1d3db1556d4b\")>,\n",
       " <selenium.webdriver.remote.webelement.WebElement (session=\"ded8356a58d99f34492682bef19413e2\", element=\"da40ade1-8881-4ee8-9fca-8c51990c979f\")>,\n",
       " <selenium.webdriver.remote.webelement.WebElement (session=\"ded8356a58d99f34492682bef19413e2\", element=\"dd7e7d25-0dbd-4857-9ead-178ff5d37f11\")>,\n",
       " <selenium.webdriver.remote.webelement.WebElement (session=\"ded8356a58d99f34492682bef19413e2\", element=\"20e2446d-e70a-494e-89f2-27036939ae56\")>,\n",
       " <selenium.webdriver.remote.webelement.WebElement (session=\"ded8356a58d99f34492682bef19413e2\", element=\"6da7157e-8264-485a-b3e9-2f2e04fb8554\")>,\n",
       " <selenium.webdriver.remote.webelement.WebElement (session=\"ded8356a58d99f34492682bef19413e2\", element=\"c0bbef57-477d-471a-9c14-361741f990d8\")>,\n",
       " <selenium.webdriver.remote.webelement.WebElement (session=\"ded8356a58d99f34492682bef19413e2\", element=\"9a647a6b-53df-4b4c-8889-f74d88733ae8\")>,\n",
       " <selenium.webdriver.remote.webelement.WebElement (session=\"ded8356a58d99f34492682bef19413e2\", element=\"167cb57d-8310-4523-8690-85600f558a1b\")>,\n",
       " <selenium.webdriver.remote.webelement.WebElement (session=\"ded8356a58d99f34492682bef19413e2\", element=\"2e754226-29a0-4580-bcfc-dd95d77c5e33\")>,\n",
       " <selenium.webdriver.remote.webelement.WebElement (session=\"ded8356a58d99f34492682bef19413e2\", element=\"9f29531e-e053-45de-864d-95c7decb05f5\")>,\n",
       " <selenium.webdriver.remote.webelement.WebElement (session=\"ded8356a58d99f34492682bef19413e2\", element=\"b29405b6-2b04-49d8-908f-bbc46832d8c2\")>,\n",
       " <selenium.webdriver.remote.webelement.WebElement (session=\"ded8356a58d99f34492682bef19413e2\", element=\"eae2475e-1a2a-4ed7-a95a-a4bd20181702\")>,\n",
       " <selenium.webdriver.remote.webelement.WebElement (session=\"ded8356a58d99f34492682bef19413e2\", element=\"a473cc3c-2cfe-4f52-a06e-a690938eab31\")>,\n",
       " <selenium.webdriver.remote.webelement.WebElement (session=\"ded8356a58d99f34492682bef19413e2\", element=\"fb4439c3-e61a-4137-ba1a-a84079c5e944\")>,\n",
       " <selenium.webdriver.remote.webelement.WebElement (session=\"ded8356a58d99f34492682bef19413e2\", element=\"635ecf0c-fed6-4b84-ab12-a48803e7b15e\")>,\n",
       " <selenium.webdriver.remote.webelement.WebElement (session=\"ded8356a58d99f34492682bef19413e2\", element=\"5d1d9073-969e-47e1-b948-867cdd08eed1\")>,\n",
       " <selenium.webdriver.remote.webelement.WebElement (session=\"ded8356a58d99f34492682bef19413e2\", element=\"c094ccbf-fd35-409a-adc7-11f2f69e214f\")>,\n",
       " <selenium.webdriver.remote.webelement.WebElement (session=\"ded8356a58d99f34492682bef19413e2\", element=\"92033a7a-63d0-4c0c-aca6-6dc12944fbbf\")>,\n",
       " <selenium.webdriver.remote.webelement.WebElement (session=\"ded8356a58d99f34492682bef19413e2\", element=\"4653d73b-b3e1-4842-b182-7a3bb87e2118\")>,\n",
       " <selenium.webdriver.remote.webelement.WebElement (session=\"ded8356a58d99f34492682bef19413e2\", element=\"c9430381-b9b6-484c-80dd-8e8ea4b81e19\")>,\n",
       " <selenium.webdriver.remote.webelement.WebElement (session=\"ded8356a58d99f34492682bef19413e2\", element=\"7f9e4611-0cc3-4e84-a3b5-a88cea45cc59\")>,\n",
       " <selenium.webdriver.remote.webelement.WebElement (session=\"ded8356a58d99f34492682bef19413e2\", element=\"c09720d3-e882-45ee-b4ea-1d66ad79748d\")>,\n",
       " <selenium.webdriver.remote.webelement.WebElement (session=\"ded8356a58d99f34492682bef19413e2\", element=\"82eeae8c-db9f-493a-82d8-9204afd79535\")>,\n",
       " <selenium.webdriver.remote.webelement.WebElement (session=\"ded8356a58d99f34492682bef19413e2\", element=\"42a83043-82a0-4577-8ac7-47a124bfe661\")>,\n",
       " <selenium.webdriver.remote.webelement.WebElement (session=\"ded8356a58d99f34492682bef19413e2\", element=\"8c649043-8488-430d-b9cc-961c1d4c5ab8\")>,\n",
       " <selenium.webdriver.remote.webelement.WebElement (session=\"ded8356a58d99f34492682bef19413e2\", element=\"fcfe2f66-0ca3-4594-b668-2698f44bb040\")>,\n",
       " <selenium.webdriver.remote.webelement.WebElement (session=\"ded8356a58d99f34492682bef19413e2\", element=\"8df76104-b65c-4d47-b586-67d0efb673e6\")>,\n",
       " <selenium.webdriver.remote.webelement.WebElement (session=\"ded8356a58d99f34492682bef19413e2\", element=\"c3f23e2f-e382-4503-8166-da16dfd2b94f\")>,\n",
       " <selenium.webdriver.remote.webelement.WebElement (session=\"ded8356a58d99f34492682bef19413e2\", element=\"c6ece586-fb7e-41f3-9805-992b918b97b9\")>,\n",
       " <selenium.webdriver.remote.webelement.WebElement (session=\"ded8356a58d99f34492682bef19413e2\", element=\"56638912-1411-4191-abd4-a6791c263b0e\")>,\n",
       " <selenium.webdriver.remote.webelement.WebElement (session=\"ded8356a58d99f34492682bef19413e2\", element=\"e1dc9e65-ad23-4b57-a78c-082bf15c5dd4\")>]"
      ]
     },
     "execution_count": 70,
     "metadata": {},
     "output_type": "execute_result"
    }
   ],
   "source": [
    "# scrapping the descr\n",
    "descr=driver.find_elements_by_xpath('//a[@class=\"IRpwTa\"]')\n",
    "descr"
   ]
  },
  {
   "cell_type": "code",
   "execution_count": 71,
   "id": "884cf83c",
   "metadata": {},
   "outputs": [
    {
     "data": {
      "text/plain": [
       "40"
      ]
     },
     "execution_count": 71,
     "metadata": {},
     "output_type": "execute_result"
    }
   ],
   "source": [
    "# scrapping the products descr\n",
    "descr_=[]\n",
    "for i in descr:\n",
    "    descr_.append(i.text)\n",
    "len(descr_)"
   ]
  },
  {
   "cell_type": "code",
   "execution_count": 72,
   "id": "7e6e7b96",
   "metadata": {},
   "outputs": [
    {
     "data": {
      "text/plain": [
       "[<selenium.webdriver.remote.webelement.WebElement (session=\"ded8356a58d99f34492682bef19413e2\", element=\"26c007e0-45d6-4f19-9e85-6440ab85e261\")>,\n",
       " <selenium.webdriver.remote.webelement.WebElement (session=\"ded8356a58d99f34492682bef19413e2\", element=\"dcfea6ef-0c37-49c8-9419-078867eaafee\")>,\n",
       " <selenium.webdriver.remote.webelement.WebElement (session=\"ded8356a58d99f34492682bef19413e2\", element=\"e62fd535-e2d1-47fc-bead-ebba7cab8d72\")>,\n",
       " <selenium.webdriver.remote.webelement.WebElement (session=\"ded8356a58d99f34492682bef19413e2\", element=\"c982db39-4fd3-4a66-9473-6621d056140a\")>,\n",
       " <selenium.webdriver.remote.webelement.WebElement (session=\"ded8356a58d99f34492682bef19413e2\", element=\"e18bcee0-33f0-4a8b-824a-7f753125fabd\")>,\n",
       " <selenium.webdriver.remote.webelement.WebElement (session=\"ded8356a58d99f34492682bef19413e2\", element=\"a6fcb922-2df1-4bfd-a973-4ac537f662d5\")>,\n",
       " <selenium.webdriver.remote.webelement.WebElement (session=\"ded8356a58d99f34492682bef19413e2\", element=\"ae49503d-6f3d-4ed9-b2ec-9522ae697648\")>,\n",
       " <selenium.webdriver.remote.webelement.WebElement (session=\"ded8356a58d99f34492682bef19413e2\", element=\"c6227009-b344-441b-84f3-f212e24a17fa\")>,\n",
       " <selenium.webdriver.remote.webelement.WebElement (session=\"ded8356a58d99f34492682bef19413e2\", element=\"12c95485-fc60-423c-be77-e0ce59ded1a2\")>,\n",
       " <selenium.webdriver.remote.webelement.WebElement (session=\"ded8356a58d99f34492682bef19413e2\", element=\"e35f59b8-ae1e-430e-b5e5-6e1ae50aa555\")>,\n",
       " <selenium.webdriver.remote.webelement.WebElement (session=\"ded8356a58d99f34492682bef19413e2\", element=\"1fb36391-a21f-488d-bef3-87a808cdbb56\")>,\n",
       " <selenium.webdriver.remote.webelement.WebElement (session=\"ded8356a58d99f34492682bef19413e2\", element=\"b64d7db3-8d86-4f30-88a6-b46adfa77307\")>,\n",
       " <selenium.webdriver.remote.webelement.WebElement (session=\"ded8356a58d99f34492682bef19413e2\", element=\"5a8270fa-4c2f-4582-8fd1-f5c7f5009a2c\")>,\n",
       " <selenium.webdriver.remote.webelement.WebElement (session=\"ded8356a58d99f34492682bef19413e2\", element=\"2353ef54-0cb6-4d88-8564-30da7ecf2160\")>,\n",
       " <selenium.webdriver.remote.webelement.WebElement (session=\"ded8356a58d99f34492682bef19413e2\", element=\"046c84b5-c618-42e2-bc43-65b286a65b6a\")>,\n",
       " <selenium.webdriver.remote.webelement.WebElement (session=\"ded8356a58d99f34492682bef19413e2\", element=\"7573416e-6b64-4986-942d-f28473367447\")>,\n",
       " <selenium.webdriver.remote.webelement.WebElement (session=\"ded8356a58d99f34492682bef19413e2\", element=\"5d5fd621-e72f-4fcd-a17c-eb8ba3666540\")>,\n",
       " <selenium.webdriver.remote.webelement.WebElement (session=\"ded8356a58d99f34492682bef19413e2\", element=\"0715d4ad-31fb-433a-af6d-ca956ceb84f6\")>,\n",
       " <selenium.webdriver.remote.webelement.WebElement (session=\"ded8356a58d99f34492682bef19413e2\", element=\"44afb241-aa6a-44ee-91f5-fe3ee7919ab2\")>,\n",
       " <selenium.webdriver.remote.webelement.WebElement (session=\"ded8356a58d99f34492682bef19413e2\", element=\"3c028a09-5ccf-40cf-8bc2-6b3b685ef186\")>,\n",
       " <selenium.webdriver.remote.webelement.WebElement (session=\"ded8356a58d99f34492682bef19413e2\", element=\"aaa8a210-d1b0-4757-ba05-d7a58ccac143\")>,\n",
       " <selenium.webdriver.remote.webelement.WebElement (session=\"ded8356a58d99f34492682bef19413e2\", element=\"b1bcbff7-eebc-43eb-91e3-c371f6c5e4b0\")>,\n",
       " <selenium.webdriver.remote.webelement.WebElement (session=\"ded8356a58d99f34492682bef19413e2\", element=\"dc67e82b-be73-41ef-a3b0-149f8393c97b\")>,\n",
       " <selenium.webdriver.remote.webelement.WebElement (session=\"ded8356a58d99f34492682bef19413e2\", element=\"1186ac16-57e1-40c0-96f0-95323f233bf6\")>,\n",
       " <selenium.webdriver.remote.webelement.WebElement (session=\"ded8356a58d99f34492682bef19413e2\", element=\"39f101d4-d32c-4a2b-b4cc-0b13474badb1\")>,\n",
       " <selenium.webdriver.remote.webelement.WebElement (session=\"ded8356a58d99f34492682bef19413e2\", element=\"172f247b-9c2a-429c-bfb8-a8c7c91a22af\")>,\n",
       " <selenium.webdriver.remote.webelement.WebElement (session=\"ded8356a58d99f34492682bef19413e2\", element=\"61d35a1f-b960-4988-b9b3-58e1e92dce5a\")>,\n",
       " <selenium.webdriver.remote.webelement.WebElement (session=\"ded8356a58d99f34492682bef19413e2\", element=\"b8a8d174-3f73-4c0e-acc0-14d8fa3b7f7b\")>,\n",
       " <selenium.webdriver.remote.webelement.WebElement (session=\"ded8356a58d99f34492682bef19413e2\", element=\"eb01882f-0955-4a14-a6fa-857d3c351fbe\")>,\n",
       " <selenium.webdriver.remote.webelement.WebElement (session=\"ded8356a58d99f34492682bef19413e2\", element=\"ca294e65-c7d9-4453-830f-dda4ab6da550\")>,\n",
       " <selenium.webdriver.remote.webelement.WebElement (session=\"ded8356a58d99f34492682bef19413e2\", element=\"836ab0f8-731d-422c-a4ab-b02593a01c99\")>,\n",
       " <selenium.webdriver.remote.webelement.WebElement (session=\"ded8356a58d99f34492682bef19413e2\", element=\"70afecbf-314f-40a8-850b-fe1c06a4325f\")>,\n",
       " <selenium.webdriver.remote.webelement.WebElement (session=\"ded8356a58d99f34492682bef19413e2\", element=\"2720265a-14e6-40e1-9815-d53de5069225\")>,\n",
       " <selenium.webdriver.remote.webelement.WebElement (session=\"ded8356a58d99f34492682bef19413e2\", element=\"99ab3604-dcfb-48ea-bcb4-8e694904846e\")>,\n",
       " <selenium.webdriver.remote.webelement.WebElement (session=\"ded8356a58d99f34492682bef19413e2\", element=\"c650185b-a05c-4929-ba33-f4706c536f5c\")>,\n",
       " <selenium.webdriver.remote.webelement.WebElement (session=\"ded8356a58d99f34492682bef19413e2\", element=\"fe4a462e-3a67-4cec-83bc-9e5d631eebd1\")>,\n",
       " <selenium.webdriver.remote.webelement.WebElement (session=\"ded8356a58d99f34492682bef19413e2\", element=\"495ff1b7-ba96-4303-9b8e-daddc7b80cc2\")>,\n",
       " <selenium.webdriver.remote.webelement.WebElement (session=\"ded8356a58d99f34492682bef19413e2\", element=\"2c99e26f-b0ac-4f4d-be63-121fb265a387\")>,\n",
       " <selenium.webdriver.remote.webelement.WebElement (session=\"ded8356a58d99f34492682bef19413e2\", element=\"0553f651-7d72-459b-a631-e0cc73dc4753\")>,\n",
       " <selenium.webdriver.remote.webelement.WebElement (session=\"ded8356a58d99f34492682bef19413e2\", element=\"c0509364-1894-4960-bf84-3c1dec24af0d\")>]"
      ]
     },
     "execution_count": 72,
     "metadata": {},
     "output_type": "execute_result"
    }
   ],
   "source": [
    "# scrapping the products names tag by xpath\n",
    "price_tag=driver.find_elements_by_xpath('//div[@class=\"_30jeq3\"]')\n",
    "price_tag"
   ]
  },
  {
   "cell_type": "code",
   "execution_count": 73,
   "id": "f227d305",
   "metadata": {},
   "outputs": [
    {
     "data": {
      "text/plain": [
       "40"
      ]
     },
     "execution_count": 73,
     "metadata": {},
     "output_type": "execute_result"
    }
   ],
   "source": [
    "# scrapping the product price \n",
    "price=[]\n",
    "for i in price_tag:\n",
    "    price.append(i.text)\n",
    "len(price)"
   ]
  },
  {
   "cell_type": "code",
   "execution_count": 74,
   "id": "db0bd6f0",
   "metadata": {},
   "outputs": [
    {
     "data": {
      "text/plain": [
       "[<selenium.webdriver.remote.webelement.WebElement (session=\"ded8356a58d99f34492682bef19413e2\", element=\"a2c60cf4-3172-42ac-b1de-27f3929b73db\")>,\n",
       " <selenium.webdriver.remote.webelement.WebElement (session=\"ded8356a58d99f34492682bef19413e2\", element=\"66e0d70d-38b6-4aad-8277-f108270f4564\")>,\n",
       " <selenium.webdriver.remote.webelement.WebElement (session=\"ded8356a58d99f34492682bef19413e2\", element=\"09db4c70-042f-4c9a-acbe-bce1512bdf2d\")>,\n",
       " <selenium.webdriver.remote.webelement.WebElement (session=\"ded8356a58d99f34492682bef19413e2\", element=\"d44e389c-1322-4315-b207-0a132cd4a4ad\")>,\n",
       " <selenium.webdriver.remote.webelement.WebElement (session=\"ded8356a58d99f34492682bef19413e2\", element=\"60c67863-b343-4a6a-9aa8-2ee367c81b0c\")>,\n",
       " <selenium.webdriver.remote.webelement.WebElement (session=\"ded8356a58d99f34492682bef19413e2\", element=\"3d565674-4b8c-4f6b-ae22-a83806f42e02\")>,\n",
       " <selenium.webdriver.remote.webelement.WebElement (session=\"ded8356a58d99f34492682bef19413e2\", element=\"b41fb0bc-77fb-40b6-8b29-f092a2299391\")>,\n",
       " <selenium.webdriver.remote.webelement.WebElement (session=\"ded8356a58d99f34492682bef19413e2\", element=\"ffa23ad4-c444-4cb9-a3dd-9aad27615c2a\")>,\n",
       " <selenium.webdriver.remote.webelement.WebElement (session=\"ded8356a58d99f34492682bef19413e2\", element=\"a406c8e0-a0c3-4074-82f1-48cb3cae8ae7\")>,\n",
       " <selenium.webdriver.remote.webelement.WebElement (session=\"ded8356a58d99f34492682bef19413e2\", element=\"c2ee3ad1-03f7-4d75-afd5-90dd50ff022e\")>,\n",
       " <selenium.webdriver.remote.webelement.WebElement (session=\"ded8356a58d99f34492682bef19413e2\", element=\"8d1868bf-1445-48aa-8678-0a5184c2f0c3\")>,\n",
       " <selenium.webdriver.remote.webelement.WebElement (session=\"ded8356a58d99f34492682bef19413e2\", element=\"d9b4626c-99cd-48f7-8f3c-b57f717f5567\")>,\n",
       " <selenium.webdriver.remote.webelement.WebElement (session=\"ded8356a58d99f34492682bef19413e2\", element=\"7bdf2070-c2f4-4b6e-986c-1defbb0bd19c\")>,\n",
       " <selenium.webdriver.remote.webelement.WebElement (session=\"ded8356a58d99f34492682bef19413e2\", element=\"3d72ea23-a5a3-43e3-8b18-1ba11ded7436\")>,\n",
       " <selenium.webdriver.remote.webelement.WebElement (session=\"ded8356a58d99f34492682bef19413e2\", element=\"bf60eb6d-34de-4c18-91d8-aafdda289a01\")>,\n",
       " <selenium.webdriver.remote.webelement.WebElement (session=\"ded8356a58d99f34492682bef19413e2\", element=\"ce406119-b542-435f-a4a1-ad8af072ad1c\")>,\n",
       " <selenium.webdriver.remote.webelement.WebElement (session=\"ded8356a58d99f34492682bef19413e2\", element=\"f7d274ec-e20f-465f-8406-ac46c8a8bda0\")>,\n",
       " <selenium.webdriver.remote.webelement.WebElement (session=\"ded8356a58d99f34492682bef19413e2\", element=\"849fcf19-eb60-4a0f-9f65-99c7ba1530f5\")>,\n",
       " <selenium.webdriver.remote.webelement.WebElement (session=\"ded8356a58d99f34492682bef19413e2\", element=\"c2a16036-10c2-4326-8df8-e1cbab6556ca\")>,\n",
       " <selenium.webdriver.remote.webelement.WebElement (session=\"ded8356a58d99f34492682bef19413e2\", element=\"3c550442-ee02-4e25-8df6-08d40f1d7efb\")>,\n",
       " <selenium.webdriver.remote.webelement.WebElement (session=\"ded8356a58d99f34492682bef19413e2\", element=\"2dd38288-b520-4fd6-9e90-815dc2d3d1b4\")>,\n",
       " <selenium.webdriver.remote.webelement.WebElement (session=\"ded8356a58d99f34492682bef19413e2\", element=\"4253ed04-c0ed-4990-9355-9143870ddc9e\")>,\n",
       " <selenium.webdriver.remote.webelement.WebElement (session=\"ded8356a58d99f34492682bef19413e2\", element=\"45997678-7d96-4a94-8b3a-aed2b7369fcf\")>,\n",
       " <selenium.webdriver.remote.webelement.WebElement (session=\"ded8356a58d99f34492682bef19413e2\", element=\"8a7fd6ff-9ae2-49a4-be30-2685ce234cee\")>,\n",
       " <selenium.webdriver.remote.webelement.WebElement (session=\"ded8356a58d99f34492682bef19413e2\", element=\"b2fdd861-ae3c-46ec-a62c-a690555a84c7\")>,\n",
       " <selenium.webdriver.remote.webelement.WebElement (session=\"ded8356a58d99f34492682bef19413e2\", element=\"56f0279e-2f9c-4c8d-8810-88cb6d281aa5\")>,\n",
       " <selenium.webdriver.remote.webelement.WebElement (session=\"ded8356a58d99f34492682bef19413e2\", element=\"d9800656-71c7-413b-a336-4fe724cac164\")>,\n",
       " <selenium.webdriver.remote.webelement.WebElement (session=\"ded8356a58d99f34492682bef19413e2\", element=\"f725613e-f8be-4168-a0ac-8d15febfe9e9\")>,\n",
       " <selenium.webdriver.remote.webelement.WebElement (session=\"ded8356a58d99f34492682bef19413e2\", element=\"d94e8d14-4d51-492d-a9a4-a809a356efe3\")>,\n",
       " <selenium.webdriver.remote.webelement.WebElement (session=\"ded8356a58d99f34492682bef19413e2\", element=\"13ed7f18-0908-47ef-bd91-61da5f29d9b7\")>,\n",
       " <selenium.webdriver.remote.webelement.WebElement (session=\"ded8356a58d99f34492682bef19413e2\", element=\"5ad132c8-5073-49a4-ae4c-fb936fd9ea95\")>,\n",
       " <selenium.webdriver.remote.webelement.WebElement (session=\"ded8356a58d99f34492682bef19413e2\", element=\"3ffc93f9-0067-4a15-8918-0be3f5786050\")>,\n",
       " <selenium.webdriver.remote.webelement.WebElement (session=\"ded8356a58d99f34492682bef19413e2\", element=\"09262d66-88d0-4aab-9b46-855d7ad59585\")>,\n",
       " <selenium.webdriver.remote.webelement.WebElement (session=\"ded8356a58d99f34492682bef19413e2\", element=\"bbe02d25-a96a-44dc-8d2c-6e9d82c0b073\")>,\n",
       " <selenium.webdriver.remote.webelement.WebElement (session=\"ded8356a58d99f34492682bef19413e2\", element=\"3d2dcca2-a3d1-4d40-95bf-6fa6a6e80245\")>,\n",
       " <selenium.webdriver.remote.webelement.WebElement (session=\"ded8356a58d99f34492682bef19413e2\", element=\"12931001-7240-4f82-bfa9-ff7d241463ea\")>,\n",
       " <selenium.webdriver.remote.webelement.WebElement (session=\"ded8356a58d99f34492682bef19413e2\", element=\"0dde591c-491d-477e-82ee-9569068d8ea5\")>,\n",
       " <selenium.webdriver.remote.webelement.WebElement (session=\"ded8356a58d99f34492682bef19413e2\", element=\"67d4535b-f908-42a7-998b-05254b6bef67\")>,\n",
       " <selenium.webdriver.remote.webelement.WebElement (session=\"ded8356a58d99f34492682bef19413e2\", element=\"c1314c2c-c368-40c9-ac15-5b9a4e3f0998\")>,\n",
       " <selenium.webdriver.remote.webelement.WebElement (session=\"ded8356a58d99f34492682bef19413e2\", element=\"6fd4ad21-7b7b-45d8-9328-802069d7e5ac\")>]"
      ]
     },
     "execution_count": 74,
     "metadata": {},
     "output_type": "execute_result"
    }
   ],
   "source": [
    "#scrapping discount tag by xpath\n",
    "discount_tag_pg1=driver.find_elements_by_xpath('//div[@class=\"_3Ay6Sb\"]')\n",
    "discount_tag_pg1"
   ]
  },
  {
   "cell_type": "code",
   "execution_count": 75,
   "id": "b05d204d",
   "metadata": {},
   "outputs": [
    {
     "data": {
      "text/plain": [
       "40"
      ]
     },
     "execution_count": 75,
     "metadata": {},
     "output_type": "execute_result"
    }
   ],
   "source": [
    "discount_pg1=[]\n",
    "for i in discount_tag_pg1:\n",
    "    discount_pg1.append(i.text)\n",
    "len(discount_pg1)"
   ]
  },
  {
   "cell_type": "code",
   "execution_count": 76,
   "id": "0f770176",
   "metadata": {},
   "outputs": [
    {
     "data": {
      "text/plain": [
       "<selenium.webdriver.remote.webelement.WebElement (session=\"ded8356a58d99f34492682bef19413e2\", element=\"eec51574-2cac-469a-9f7b-3403a38e7d50\")>"
      ]
     },
     "execution_count": 76,
     "metadata": {},
     "output_type": "execute_result"
    }
   ],
   "source": [
    "# click on next button\n",
    "next_btn=driver.find_element_by_xpath(\"/html/body/div[1]/div/div[3]/div[1]/div[2]/div[12]/div/div/nav/a[11]/span\")\n",
    "next_btn"
   ]
  },
  {
   "cell_type": "code",
   "execution_count": 77,
   "id": "709efc31",
   "metadata": {},
   "outputs": [],
   "source": [
    "next_btn.click()"
   ]
  },
  {
   "cell_type": "code",
   "execution_count": 98,
   "id": "373c82b1",
   "metadata": {},
   "outputs": [
    {
     "data": {
      "text/plain": [
       "[<selenium.webdriver.remote.webelement.WebElement (session=\"ded8356a58d99f34492682bef19413e2\", element=\"eeade6d1-625b-4fbc-bf39-44b8a5dd0086\")>,\n",
       " <selenium.webdriver.remote.webelement.WebElement (session=\"ded8356a58d99f34492682bef19413e2\", element=\"6ba69edd-e9e1-4556-a035-66e91ab004a6\")>,\n",
       " <selenium.webdriver.remote.webelement.WebElement (session=\"ded8356a58d99f34492682bef19413e2\", element=\"0141e02d-cd24-4fad-8089-9c85fd0377c4\")>,\n",
       " <selenium.webdriver.remote.webelement.WebElement (session=\"ded8356a58d99f34492682bef19413e2\", element=\"8ea00a19-374e-4aec-a586-b7caa7b85945\")>,\n",
       " <selenium.webdriver.remote.webelement.WebElement (session=\"ded8356a58d99f34492682bef19413e2\", element=\"2a221f8c-cefb-4a63-85b5-e60008ca506d\")>,\n",
       " <selenium.webdriver.remote.webelement.WebElement (session=\"ded8356a58d99f34492682bef19413e2\", element=\"7a913cae-8f56-4e90-8066-236b8de8700e\")>,\n",
       " <selenium.webdriver.remote.webelement.WebElement (session=\"ded8356a58d99f34492682bef19413e2\", element=\"fa86450f-522e-49f6-8d0c-a518914d3df4\")>,\n",
       " <selenium.webdriver.remote.webelement.WebElement (session=\"ded8356a58d99f34492682bef19413e2\", element=\"4087c3d4-1d9a-4bee-ba35-6173c5883463\")>,\n",
       " <selenium.webdriver.remote.webelement.WebElement (session=\"ded8356a58d99f34492682bef19413e2\", element=\"9dfd5180-d0cb-4dd0-8db5-7890feb0fd3d\")>,\n",
       " <selenium.webdriver.remote.webelement.WebElement (session=\"ded8356a58d99f34492682bef19413e2\", element=\"28747781-d3ed-4e64-a6db-5803ad665509\")>,\n",
       " <selenium.webdriver.remote.webelement.WebElement (session=\"ded8356a58d99f34492682bef19413e2\", element=\"13664d9b-94ad-46d5-93d1-98810c0643b2\")>,\n",
       " <selenium.webdriver.remote.webelement.WebElement (session=\"ded8356a58d99f34492682bef19413e2\", element=\"14cbeb43-294a-479f-a3ad-12b95f1f02a5\")>,\n",
       " <selenium.webdriver.remote.webelement.WebElement (session=\"ded8356a58d99f34492682bef19413e2\", element=\"6c6d15db-4ddb-4734-a63a-8209ab0f60ef\")>,\n",
       " <selenium.webdriver.remote.webelement.WebElement (session=\"ded8356a58d99f34492682bef19413e2\", element=\"05cc44bf-0dc8-4daa-b8dc-9e1ea63b3ef7\")>,\n",
       " <selenium.webdriver.remote.webelement.WebElement (session=\"ded8356a58d99f34492682bef19413e2\", element=\"edbddb3d-eeed-4e47-b143-8efd81790b80\")>,\n",
       " <selenium.webdriver.remote.webelement.WebElement (session=\"ded8356a58d99f34492682bef19413e2\", element=\"d5ea114a-01ef-46b6-bb62-dd7172a2acdf\")>,\n",
       " <selenium.webdriver.remote.webelement.WebElement (session=\"ded8356a58d99f34492682bef19413e2\", element=\"b01b425e-af56-4a06-8626-326aa9e8135c\")>,\n",
       " <selenium.webdriver.remote.webelement.WebElement (session=\"ded8356a58d99f34492682bef19413e2\", element=\"e27b8b84-92aa-4b2b-82e0-9656765406be\")>,\n",
       " <selenium.webdriver.remote.webelement.WebElement (session=\"ded8356a58d99f34492682bef19413e2\", element=\"b541bdb1-ff38-4aa4-9cd2-d19be57ab943\")>,\n",
       " <selenium.webdriver.remote.webelement.WebElement (session=\"ded8356a58d99f34492682bef19413e2\", element=\"3795cafd-7747-47d6-9d14-49eb4600f3fe\")>,\n",
       " <selenium.webdriver.remote.webelement.WebElement (session=\"ded8356a58d99f34492682bef19413e2\", element=\"c941feb1-630d-4ccf-b8ac-f8059369300b\")>,\n",
       " <selenium.webdriver.remote.webelement.WebElement (session=\"ded8356a58d99f34492682bef19413e2\", element=\"f9f2211c-4c38-410e-8418-a19f77fe2e0b\")>,\n",
       " <selenium.webdriver.remote.webelement.WebElement (session=\"ded8356a58d99f34492682bef19413e2\", element=\"da438c1a-de15-4779-964d-28d95f4af9e2\")>,\n",
       " <selenium.webdriver.remote.webelement.WebElement (session=\"ded8356a58d99f34492682bef19413e2\", element=\"c6d90050-6875-49e7-9595-ef05c3ace8a3\")>,\n",
       " <selenium.webdriver.remote.webelement.WebElement (session=\"ded8356a58d99f34492682bef19413e2\", element=\"2e1c19ac-97bc-46ce-94aa-f39e89e87efe\")>,\n",
       " <selenium.webdriver.remote.webelement.WebElement (session=\"ded8356a58d99f34492682bef19413e2\", element=\"1d1748f3-f65e-4d21-b11f-d71e0da72b51\")>,\n",
       " <selenium.webdriver.remote.webelement.WebElement (session=\"ded8356a58d99f34492682bef19413e2\", element=\"69ce2d79-d31b-43fd-9640-a5980be99f49\")>,\n",
       " <selenium.webdriver.remote.webelement.WebElement (session=\"ded8356a58d99f34492682bef19413e2\", element=\"5220a89f-242a-44f5-b083-de43e0361816\")>,\n",
       " <selenium.webdriver.remote.webelement.WebElement (session=\"ded8356a58d99f34492682bef19413e2\", element=\"0abd8452-d4cd-40b4-9444-652bc56011fc\")>,\n",
       " <selenium.webdriver.remote.webelement.WebElement (session=\"ded8356a58d99f34492682bef19413e2\", element=\"12adb1d7-7ca3-48fe-94b7-4a69daec802e\")>,\n",
       " <selenium.webdriver.remote.webelement.WebElement (session=\"ded8356a58d99f34492682bef19413e2\", element=\"29d52f02-c079-4f7b-b629-99f049bd6efc\")>,\n",
       " <selenium.webdriver.remote.webelement.WebElement (session=\"ded8356a58d99f34492682bef19413e2\", element=\"9d3dec2f-a2ae-4f53-8799-02aafe27b02d\")>,\n",
       " <selenium.webdriver.remote.webelement.WebElement (session=\"ded8356a58d99f34492682bef19413e2\", element=\"d8c1f24c-cdcd-483c-a76a-45fe0d77d6be\")>,\n",
       " <selenium.webdriver.remote.webelement.WebElement (session=\"ded8356a58d99f34492682bef19413e2\", element=\"8aadc2a7-c7a0-455b-b777-6003d17df610\")>,\n",
       " <selenium.webdriver.remote.webelement.WebElement (session=\"ded8356a58d99f34492682bef19413e2\", element=\"5c171ab7-f8a3-4bce-a75e-f1d91eb07dd1\")>,\n",
       " <selenium.webdriver.remote.webelement.WebElement (session=\"ded8356a58d99f34492682bef19413e2\", element=\"ab46387d-36f3-4293-8968-f4fe57672d25\")>,\n",
       " <selenium.webdriver.remote.webelement.WebElement (session=\"ded8356a58d99f34492682bef19413e2\", element=\"2941a236-cb81-4247-9608-745412ee37ce\")>,\n",
       " <selenium.webdriver.remote.webelement.WebElement (session=\"ded8356a58d99f34492682bef19413e2\", element=\"f47069fc-0766-48bd-a7dc-69647953c189\")>,\n",
       " <selenium.webdriver.remote.webelement.WebElement (session=\"ded8356a58d99f34492682bef19413e2\", element=\"213863ce-7e0e-4973-9724-e0e902bdd2d9\")>,\n",
       " <selenium.webdriver.remote.webelement.WebElement (session=\"ded8356a58d99f34492682bef19413e2\", element=\"073caebb-c669-4271-8fa5-5a5cb99dab36\")>]"
      ]
     },
     "execution_count": 98,
     "metadata": {},
     "output_type": "execute_result"
    }
   ],
   "source": [
    "product_tag2=driver.find_elements_by_xpath('//div[@class=\"_2WkVRV\"]')\n",
    "product_tag2"
   ]
  },
  {
   "cell_type": "code",
   "execution_count": 99,
   "id": "2044fb70",
   "metadata": {},
   "outputs": [
    {
     "data": {
      "text/plain": [
       "['hipe',\n",
       " 'Singco India',\n",
       " 'Lee Topper',\n",
       " 'ROZZETTA CRAFT',\n",
       " 'kingsunglasses',\n",
       " 'Fastrack',\n",
       " 'kingsunglasses',\n",
       " 'ROZZETTA CRAFT',\n",
       " 'ROZZETTA CRAFT',\n",
       " 'Fastrack',\n",
       " 'PIRASO',\n",
       " 'ROZZETTA CRAFT',\n",
       " 'ROYAL SON',\n",
       " 'PIRASO',\n",
       " 'AISLIN',\n",
       " 'AISLIN',\n",
       " 'IDEE',\n",
       " 'PIRASO',\n",
       " 'Fastrack',\n",
       " 'AISLIN',\n",
       " 'hipe',\n",
       " 'PHENOMENAL',\n",
       " 'IDEE',\n",
       " 'AISLIN',\n",
       " 'PIRASO',\n",
       " 'kingsunglasses',\n",
       " 'PHENOMENAL',\n",
       " 'VINCENT CHASE',\n",
       " 'Johaena',\n",
       " 'Fastrack',\n",
       " 'Rich Club',\n",
       " 'AISLIN',\n",
       " 'ROZZETTA CRAFT',\n",
       " 'Fastrack',\n",
       " 'elegante',\n",
       " 'NuVew',\n",
       " 'ROYAL SON',\n",
       " 'Singco India',\n",
       " 'AISLIN',\n",
       " 'NuVew']"
      ]
     },
     "execution_count": 99,
     "metadata": {},
     "output_type": "execute_result"
    }
   ],
   "source": [
    "product_name2=[]\n",
    "for i in product_tag2:\n",
    "    product_name2.append(i.text)\n",
    "product_name2"
   ]
  },
  {
   "cell_type": "code",
   "execution_count": 100,
   "id": "569cd350",
   "metadata": {},
   "outputs": [
    {
     "data": {
      "text/plain": [
       "[<selenium.webdriver.remote.webelement.WebElement (session=\"ded8356a58d99f34492682bef19413e2\", element=\"c4028002-3372-4751-b083-30e998ae92a8\")>,\n",
       " <selenium.webdriver.remote.webelement.WebElement (session=\"ded8356a58d99f34492682bef19413e2\", element=\"37ffac68-88a3-47ce-9c13-e9f565d8c8a7\")>,\n",
       " <selenium.webdriver.remote.webelement.WebElement (session=\"ded8356a58d99f34492682bef19413e2\", element=\"84cf4e4d-faa9-4186-8d11-d70a01744120\")>,\n",
       " <selenium.webdriver.remote.webelement.WebElement (session=\"ded8356a58d99f34492682bef19413e2\", element=\"ef819dd7-34d1-416c-bfd6-c9d2be9c7a71\")>,\n",
       " <selenium.webdriver.remote.webelement.WebElement (session=\"ded8356a58d99f34492682bef19413e2\", element=\"6d4b7178-605c-4c62-ad1e-01e3a51407d8\")>,\n",
       " <selenium.webdriver.remote.webelement.WebElement (session=\"ded8356a58d99f34492682bef19413e2\", element=\"facfed0c-6166-4ba7-a673-1f455032a2a1\")>,\n",
       " <selenium.webdriver.remote.webelement.WebElement (session=\"ded8356a58d99f34492682bef19413e2\", element=\"1701a9c8-f588-47a8-bd74-a999cda9e092\")>,\n",
       " <selenium.webdriver.remote.webelement.WebElement (session=\"ded8356a58d99f34492682bef19413e2\", element=\"963f60ab-3612-4bbf-9f6e-9d09ea21918f\")>,\n",
       " <selenium.webdriver.remote.webelement.WebElement (session=\"ded8356a58d99f34492682bef19413e2\", element=\"b5b1f1ae-1c2c-4a12-8bfc-7524c415d3e3\")>,\n",
       " <selenium.webdriver.remote.webelement.WebElement (session=\"ded8356a58d99f34492682bef19413e2\", element=\"e3c645ac-abb2-4047-8357-0c956aa7748a\")>,\n",
       " <selenium.webdriver.remote.webelement.WebElement (session=\"ded8356a58d99f34492682bef19413e2\", element=\"f9eef306-3a2c-4732-8516-3cbf5c0b7083\")>,\n",
       " <selenium.webdriver.remote.webelement.WebElement (session=\"ded8356a58d99f34492682bef19413e2\", element=\"103c7a16-a2ac-4ac2-9ee2-2ce7480940fe\")>,\n",
       " <selenium.webdriver.remote.webelement.WebElement (session=\"ded8356a58d99f34492682bef19413e2\", element=\"60a4c943-22a7-478f-a8a2-aaa2db16ae92\")>,\n",
       " <selenium.webdriver.remote.webelement.WebElement (session=\"ded8356a58d99f34492682bef19413e2\", element=\"a61e1e07-0de7-4718-a94d-302de716b36a\")>,\n",
       " <selenium.webdriver.remote.webelement.WebElement (session=\"ded8356a58d99f34492682bef19413e2\", element=\"88919db3-f201-4fe0-b2ee-eb1999a80c51\")>,\n",
       " <selenium.webdriver.remote.webelement.WebElement (session=\"ded8356a58d99f34492682bef19413e2\", element=\"47f479bc-44a3-438f-9e62-d49071c26911\")>,\n",
       " <selenium.webdriver.remote.webelement.WebElement (session=\"ded8356a58d99f34492682bef19413e2\", element=\"dc061ce5-b43c-4925-8a00-f9028a6c4aa4\")>,\n",
       " <selenium.webdriver.remote.webelement.WebElement (session=\"ded8356a58d99f34492682bef19413e2\", element=\"a4f37368-f093-41ba-86a9-c0a5f417e87b\")>,\n",
       " <selenium.webdriver.remote.webelement.WebElement (session=\"ded8356a58d99f34492682bef19413e2\", element=\"69d8bef4-122c-4c3f-bb21-b6d4504ab52e\")>,\n",
       " <selenium.webdriver.remote.webelement.WebElement (session=\"ded8356a58d99f34492682bef19413e2\", element=\"f0cd8407-4046-438d-85d2-b9e94c3bb281\")>,\n",
       " <selenium.webdriver.remote.webelement.WebElement (session=\"ded8356a58d99f34492682bef19413e2\", element=\"0249c3c0-4876-4e2e-a09d-87808628b944\")>,\n",
       " <selenium.webdriver.remote.webelement.WebElement (session=\"ded8356a58d99f34492682bef19413e2\", element=\"30367f48-8f4d-42f8-b98b-31b538103c4e\")>,\n",
       " <selenium.webdriver.remote.webelement.WebElement (session=\"ded8356a58d99f34492682bef19413e2\", element=\"72c4e49e-62ad-4a98-8234-45abc2270472\")>,\n",
       " <selenium.webdriver.remote.webelement.WebElement (session=\"ded8356a58d99f34492682bef19413e2\", element=\"028cb6dd-cd36-4af1-87a8-ab9f948a848a\")>,\n",
       " <selenium.webdriver.remote.webelement.WebElement (session=\"ded8356a58d99f34492682bef19413e2\", element=\"f27eb7c6-6b8b-4d8f-84d4-6bed1bfb577a\")>,\n",
       " <selenium.webdriver.remote.webelement.WebElement (session=\"ded8356a58d99f34492682bef19413e2\", element=\"730ccd35-0511-42f2-afb4-b55a7ad4a987\")>,\n",
       " <selenium.webdriver.remote.webelement.WebElement (session=\"ded8356a58d99f34492682bef19413e2\", element=\"3cf88d19-b2c4-4da1-907e-6893d4a66898\")>,\n",
       " <selenium.webdriver.remote.webelement.WebElement (session=\"ded8356a58d99f34492682bef19413e2\", element=\"eb86ba2f-bfce-4197-b49b-99cbcfad9c14\")>,\n",
       " <selenium.webdriver.remote.webelement.WebElement (session=\"ded8356a58d99f34492682bef19413e2\", element=\"e784c89b-179f-44c5-83de-c2d620366e82\")>,\n",
       " <selenium.webdriver.remote.webelement.WebElement (session=\"ded8356a58d99f34492682bef19413e2\", element=\"69b52d96-862b-4418-a9e9-52ab5189ba2a\")>,\n",
       " <selenium.webdriver.remote.webelement.WebElement (session=\"ded8356a58d99f34492682bef19413e2\", element=\"32271eb0-6a36-4b07-be60-37e3cde1acd6\")>,\n",
       " <selenium.webdriver.remote.webelement.WebElement (session=\"ded8356a58d99f34492682bef19413e2\", element=\"8204166d-9bbb-4848-b14b-ed889fb0db23\")>,\n",
       " <selenium.webdriver.remote.webelement.WebElement (session=\"ded8356a58d99f34492682bef19413e2\", element=\"f7de7511-2009-4073-a428-98dca8da292b\")>,\n",
       " <selenium.webdriver.remote.webelement.WebElement (session=\"ded8356a58d99f34492682bef19413e2\", element=\"6561a800-c14f-4ed0-b388-49387eefd447\")>,\n",
       " <selenium.webdriver.remote.webelement.WebElement (session=\"ded8356a58d99f34492682bef19413e2\", element=\"2693549c-4a3e-404f-93c8-40d2bc1ae054\")>,\n",
       " <selenium.webdriver.remote.webelement.WebElement (session=\"ded8356a58d99f34492682bef19413e2\", element=\"d63bceaf-68e4-4236-952e-6b6786f7d0d5\")>,\n",
       " <selenium.webdriver.remote.webelement.WebElement (session=\"ded8356a58d99f34492682bef19413e2\", element=\"3cd74431-178b-48e3-b431-fc2de3bc216c\")>,\n",
       " <selenium.webdriver.remote.webelement.WebElement (session=\"ded8356a58d99f34492682bef19413e2\", element=\"322ebabd-eb46-4bf4-be23-f8c246d7947d\")>,\n",
       " <selenium.webdriver.remote.webelement.WebElement (session=\"ded8356a58d99f34492682bef19413e2\", element=\"68106647-1b9c-47ec-98a9-457e85acc1fb\")>,\n",
       " <selenium.webdriver.remote.webelement.WebElement (session=\"ded8356a58d99f34492682bef19413e2\", element=\"18987e2b-77d2-40e9-a9cb-dad50583a07d\")>]"
      ]
     },
     "execution_count": 100,
     "metadata": {},
     "output_type": "execute_result"
    }
   ],
   "source": [
    "# scrapping by xpath\n",
    "descr2=driver.find_elements_by_xpath('//a[@class=\"IRpwTa\"]')\n",
    "descr2"
   ]
  },
  {
   "cell_type": "code",
   "execution_count": 101,
   "id": "cc34d70c",
   "metadata": {},
   "outputs": [
    {
     "data": {
      "text/plain": [
       "40"
      ]
     },
     "execution_count": 101,
     "metadata": {},
     "output_type": "execute_result"
    }
   ],
   "source": [
    "descr2_=[]\n",
    "for i in descr2:\n",
    "    descr2_.append(i.text)\n",
    "len(descr2_)"
   ]
  },
  {
   "cell_type": "code",
   "execution_count": 102,
   "id": "f08c45ef",
   "metadata": {},
   "outputs": [
    {
     "data": {
      "text/plain": [
       "[<selenium.webdriver.remote.webelement.WebElement (session=\"ded8356a58d99f34492682bef19413e2\", element=\"ce2a10e4-387c-452a-a889-58522700af5e\")>,\n",
       " <selenium.webdriver.remote.webelement.WebElement (session=\"ded8356a58d99f34492682bef19413e2\", element=\"28391257-4766-4925-b335-a17b31f7018c\")>,\n",
       " <selenium.webdriver.remote.webelement.WebElement (session=\"ded8356a58d99f34492682bef19413e2\", element=\"22fd6fa4-92fa-4c7f-a8dc-df0561bbf1c2\")>,\n",
       " <selenium.webdriver.remote.webelement.WebElement (session=\"ded8356a58d99f34492682bef19413e2\", element=\"b04cf076-04c3-42d7-8af5-3f8b31325f4b\")>,\n",
       " <selenium.webdriver.remote.webelement.WebElement (session=\"ded8356a58d99f34492682bef19413e2\", element=\"9da68eea-5746-42a0-9376-433dd0b2cd84\")>,\n",
       " <selenium.webdriver.remote.webelement.WebElement (session=\"ded8356a58d99f34492682bef19413e2\", element=\"dc952fdd-19fd-4004-afd6-851acbc62b2c\")>,\n",
       " <selenium.webdriver.remote.webelement.WebElement (session=\"ded8356a58d99f34492682bef19413e2\", element=\"dc6f398d-9fba-4980-a2be-9b0cc27b5ace\")>,\n",
       " <selenium.webdriver.remote.webelement.WebElement (session=\"ded8356a58d99f34492682bef19413e2\", element=\"09d64203-f433-4475-b022-dc23ac7dac78\")>,\n",
       " <selenium.webdriver.remote.webelement.WebElement (session=\"ded8356a58d99f34492682bef19413e2\", element=\"3bddc8cc-4d4b-41ba-b248-17dfd8cb2eb0\")>,\n",
       " <selenium.webdriver.remote.webelement.WebElement (session=\"ded8356a58d99f34492682bef19413e2\", element=\"1e34d653-1f68-4ce7-99e9-506c3cd84c10\")>,\n",
       " <selenium.webdriver.remote.webelement.WebElement (session=\"ded8356a58d99f34492682bef19413e2\", element=\"5559c8ee-8baf-489c-9803-adba09e0b6ba\")>,\n",
       " <selenium.webdriver.remote.webelement.WebElement (session=\"ded8356a58d99f34492682bef19413e2\", element=\"b100c208-c3e5-4d19-b9b1-a555f8bb8d2e\")>,\n",
       " <selenium.webdriver.remote.webelement.WebElement (session=\"ded8356a58d99f34492682bef19413e2\", element=\"2da2d437-6ede-4844-887a-09071fede671\")>,\n",
       " <selenium.webdriver.remote.webelement.WebElement (session=\"ded8356a58d99f34492682bef19413e2\", element=\"9a859c63-0234-47d5-9c87-314747e43ce8\")>,\n",
       " <selenium.webdriver.remote.webelement.WebElement (session=\"ded8356a58d99f34492682bef19413e2\", element=\"57cda80d-66b8-4bd8-991d-4b9b905180b7\")>,\n",
       " <selenium.webdriver.remote.webelement.WebElement (session=\"ded8356a58d99f34492682bef19413e2\", element=\"c2f6dbf7-3867-47ce-80b5-d3525c2fa588\")>,\n",
       " <selenium.webdriver.remote.webelement.WebElement (session=\"ded8356a58d99f34492682bef19413e2\", element=\"e21004e8-5c9f-433c-a5f9-5da7179ffcbb\")>,\n",
       " <selenium.webdriver.remote.webelement.WebElement (session=\"ded8356a58d99f34492682bef19413e2\", element=\"786821d5-77f8-496e-9fc3-56844f38f04b\")>,\n",
       " <selenium.webdriver.remote.webelement.WebElement (session=\"ded8356a58d99f34492682bef19413e2\", element=\"e63c782c-9870-4a45-aaba-2eebc84108c0\")>,\n",
       " <selenium.webdriver.remote.webelement.WebElement (session=\"ded8356a58d99f34492682bef19413e2\", element=\"72211e86-42bc-4c65-8d38-5746feb4e253\")>,\n",
       " <selenium.webdriver.remote.webelement.WebElement (session=\"ded8356a58d99f34492682bef19413e2\", element=\"6ab60416-b9f0-4b28-bd44-620c6b329990\")>,\n",
       " <selenium.webdriver.remote.webelement.WebElement (session=\"ded8356a58d99f34492682bef19413e2\", element=\"1d552a84-4004-48a0-82f1-c11661029e8c\")>,\n",
       " <selenium.webdriver.remote.webelement.WebElement (session=\"ded8356a58d99f34492682bef19413e2\", element=\"e90ee3d4-6362-4f79-a4f5-34d4c2b5c667\")>,\n",
       " <selenium.webdriver.remote.webelement.WebElement (session=\"ded8356a58d99f34492682bef19413e2\", element=\"297942bc-3ff3-46c7-835f-452b7a32b99c\")>,\n",
       " <selenium.webdriver.remote.webelement.WebElement (session=\"ded8356a58d99f34492682bef19413e2\", element=\"113798e3-35db-4410-872e-2083197c9d7d\")>,\n",
       " <selenium.webdriver.remote.webelement.WebElement (session=\"ded8356a58d99f34492682bef19413e2\", element=\"a325f9b8-d017-46ac-aed6-cc37dfc7aa3d\")>,\n",
       " <selenium.webdriver.remote.webelement.WebElement (session=\"ded8356a58d99f34492682bef19413e2\", element=\"47ecad4d-b7d2-400c-9c87-a216032bf6d7\")>,\n",
       " <selenium.webdriver.remote.webelement.WebElement (session=\"ded8356a58d99f34492682bef19413e2\", element=\"7cb20ef8-55c7-4384-b845-bde3bd576966\")>,\n",
       " <selenium.webdriver.remote.webelement.WebElement (session=\"ded8356a58d99f34492682bef19413e2\", element=\"cac4ae65-2ead-4aff-983d-786eafe68294\")>,\n",
       " <selenium.webdriver.remote.webelement.WebElement (session=\"ded8356a58d99f34492682bef19413e2\", element=\"7837ca36-5e8e-48d7-afc6-b79ad2eae6f6\")>,\n",
       " <selenium.webdriver.remote.webelement.WebElement (session=\"ded8356a58d99f34492682bef19413e2\", element=\"387c645f-ac35-4e8b-a20e-9d2498a1c0e9\")>,\n",
       " <selenium.webdriver.remote.webelement.WebElement (session=\"ded8356a58d99f34492682bef19413e2\", element=\"15197220-5691-4588-9e30-9566bff351b7\")>,\n",
       " <selenium.webdriver.remote.webelement.WebElement (session=\"ded8356a58d99f34492682bef19413e2\", element=\"c3520803-5dbe-45d5-bc97-5c5219adedd1\")>,\n",
       " <selenium.webdriver.remote.webelement.WebElement (session=\"ded8356a58d99f34492682bef19413e2\", element=\"959d6e5b-5e3a-47e3-a311-b94f089233c2\")>,\n",
       " <selenium.webdriver.remote.webelement.WebElement (session=\"ded8356a58d99f34492682bef19413e2\", element=\"ccf8f268-5c4c-4169-9fe8-6c11801c5596\")>,\n",
       " <selenium.webdriver.remote.webelement.WebElement (session=\"ded8356a58d99f34492682bef19413e2\", element=\"06ce8a81-bc9b-4d0f-b9f0-7901fd4c4f30\")>,\n",
       " <selenium.webdriver.remote.webelement.WebElement (session=\"ded8356a58d99f34492682bef19413e2\", element=\"05d5a840-020f-48da-a08b-c142ad4fc8a5\")>,\n",
       " <selenium.webdriver.remote.webelement.WebElement (session=\"ded8356a58d99f34492682bef19413e2\", element=\"c18a05bd-6aa6-462a-b9a7-3d2a7ac79ce4\")>,\n",
       " <selenium.webdriver.remote.webelement.WebElement (session=\"ded8356a58d99f34492682bef19413e2\", element=\"c2c30ba0-9af7-490e-bc60-c003ccf696a5\")>,\n",
       " <selenium.webdriver.remote.webelement.WebElement (session=\"ded8356a58d99f34492682bef19413e2\", element=\"cfbc6b07-1966-4e35-830a-0db70ca2bf9b\")>]"
      ]
     },
     "execution_count": 102,
     "metadata": {},
     "output_type": "execute_result"
    }
   ],
   "source": [
    "price2=driver.find_elements_by_xpath('//div[@class=\"_30jeq3\"]')\n",
    "price2"
   ]
  },
  {
   "cell_type": "code",
   "execution_count": 103,
   "id": "dced125c",
   "metadata": {},
   "outputs": [
    {
     "data": {
      "text/plain": [
       "40"
      ]
     },
     "execution_count": 103,
     "metadata": {},
     "output_type": "execute_result"
    }
   ],
   "source": [
    "price2_=[]\n",
    "for i in price2:\n",
    "    price2_.append(i.text)\n",
    "len(price2_)"
   ]
  },
  {
   "cell_type": "code",
   "execution_count": 104,
   "id": "1363d5e6",
   "metadata": {},
   "outputs": [
    {
     "data": {
      "text/plain": [
       "[<selenium.webdriver.remote.webelement.WebElement (session=\"ded8356a58d99f34492682bef19413e2\", element=\"c272ba45-3a4b-4fe2-8fd8-83020867dab1\")>,\n",
       " <selenium.webdriver.remote.webelement.WebElement (session=\"ded8356a58d99f34492682bef19413e2\", element=\"c77197fc-9ca4-49b1-b7b2-fb60b4c8e418\")>,\n",
       " <selenium.webdriver.remote.webelement.WebElement (session=\"ded8356a58d99f34492682bef19413e2\", element=\"fdb4dc27-08d1-4b8c-972b-114220637fc8\")>,\n",
       " <selenium.webdriver.remote.webelement.WebElement (session=\"ded8356a58d99f34492682bef19413e2\", element=\"b14026cd-0cf2-4d33-8020-eed64cf5d99e\")>,\n",
       " <selenium.webdriver.remote.webelement.WebElement (session=\"ded8356a58d99f34492682bef19413e2\", element=\"a9a86e37-6fa4-4fc2-b38d-390fdeb950cd\")>,\n",
       " <selenium.webdriver.remote.webelement.WebElement (session=\"ded8356a58d99f34492682bef19413e2\", element=\"9dfd606d-330b-4d17-b3b8-b10200cce13f\")>,\n",
       " <selenium.webdriver.remote.webelement.WebElement (session=\"ded8356a58d99f34492682bef19413e2\", element=\"2489d5ef-7c87-4522-8d66-77af56a84f84\")>,\n",
       " <selenium.webdriver.remote.webelement.WebElement (session=\"ded8356a58d99f34492682bef19413e2\", element=\"d12e3113-37ca-4001-948a-0c0cf93eb2e4\")>,\n",
       " <selenium.webdriver.remote.webelement.WebElement (session=\"ded8356a58d99f34492682bef19413e2\", element=\"24aa7ecf-ef01-416f-ac09-e5e7f770e0b8\")>,\n",
       " <selenium.webdriver.remote.webelement.WebElement (session=\"ded8356a58d99f34492682bef19413e2\", element=\"049ede71-3f6f-4e33-a402-4e691a855638\")>,\n",
       " <selenium.webdriver.remote.webelement.WebElement (session=\"ded8356a58d99f34492682bef19413e2\", element=\"b1c5779d-ab40-4f81-a719-c30fdbe459d0\")>,\n",
       " <selenium.webdriver.remote.webelement.WebElement (session=\"ded8356a58d99f34492682bef19413e2\", element=\"a3879e31-696e-446b-90f2-6fc96d99b72a\")>,\n",
       " <selenium.webdriver.remote.webelement.WebElement (session=\"ded8356a58d99f34492682bef19413e2\", element=\"aeeba079-aedb-45d0-9515-8c3fc35e32fc\")>,\n",
       " <selenium.webdriver.remote.webelement.WebElement (session=\"ded8356a58d99f34492682bef19413e2\", element=\"1656d703-f51f-4cb4-9859-bd13584cc199\")>,\n",
       " <selenium.webdriver.remote.webelement.WebElement (session=\"ded8356a58d99f34492682bef19413e2\", element=\"3e1f6967-fe3a-41da-8c93-fe320445d381\")>,\n",
       " <selenium.webdriver.remote.webelement.WebElement (session=\"ded8356a58d99f34492682bef19413e2\", element=\"2cf4c967-38be-49a2-85b8-35d8a58b4f74\")>,\n",
       " <selenium.webdriver.remote.webelement.WebElement (session=\"ded8356a58d99f34492682bef19413e2\", element=\"7db52f53-6bd3-434e-8f9f-7ba212c8deb4\")>,\n",
       " <selenium.webdriver.remote.webelement.WebElement (session=\"ded8356a58d99f34492682bef19413e2\", element=\"b5303fa5-ccfb-4fb8-ab66-2b419f0bb240\")>,\n",
       " <selenium.webdriver.remote.webelement.WebElement (session=\"ded8356a58d99f34492682bef19413e2\", element=\"3256157c-aa1e-4755-86f8-5c8d9c653b03\")>,\n",
       " <selenium.webdriver.remote.webelement.WebElement (session=\"ded8356a58d99f34492682bef19413e2\", element=\"a089b7e1-a47b-406b-830f-6f65eaae553d\")>,\n",
       " <selenium.webdriver.remote.webelement.WebElement (session=\"ded8356a58d99f34492682bef19413e2\", element=\"80c5a02b-0573-4a66-a064-fa6074ebf4f4\")>,\n",
       " <selenium.webdriver.remote.webelement.WebElement (session=\"ded8356a58d99f34492682bef19413e2\", element=\"c52c3850-0b03-4301-974f-c5b08b9ee7f7\")>,\n",
       " <selenium.webdriver.remote.webelement.WebElement (session=\"ded8356a58d99f34492682bef19413e2\", element=\"53fa691b-5b59-4be4-97b2-0a7126a32a43\")>,\n",
       " <selenium.webdriver.remote.webelement.WebElement (session=\"ded8356a58d99f34492682bef19413e2\", element=\"9b969010-4eea-4cf9-bd92-54e296e62cc8\")>,\n",
       " <selenium.webdriver.remote.webelement.WebElement (session=\"ded8356a58d99f34492682bef19413e2\", element=\"95ffc134-63ee-404d-82be-b9f943768fa3\")>,\n",
       " <selenium.webdriver.remote.webelement.WebElement (session=\"ded8356a58d99f34492682bef19413e2\", element=\"6e5e50f7-72be-42ac-aca5-435298918bec\")>,\n",
       " <selenium.webdriver.remote.webelement.WebElement (session=\"ded8356a58d99f34492682bef19413e2\", element=\"965d7d66-de77-4ec6-a9ee-c38574e97e6a\")>,\n",
       " <selenium.webdriver.remote.webelement.WebElement (session=\"ded8356a58d99f34492682bef19413e2\", element=\"51545819-e4f4-4066-9b7f-1c15ac9df3fb\")>,\n",
       " <selenium.webdriver.remote.webelement.WebElement (session=\"ded8356a58d99f34492682bef19413e2\", element=\"3fb74caa-ea60-4108-9eb9-b5c8a5b1d542\")>,\n",
       " <selenium.webdriver.remote.webelement.WebElement (session=\"ded8356a58d99f34492682bef19413e2\", element=\"dc7e173e-e4ee-40f5-a0b9-53c3a493de8f\")>,\n",
       " <selenium.webdriver.remote.webelement.WebElement (session=\"ded8356a58d99f34492682bef19413e2\", element=\"7a689541-77b7-4f10-aa63-edc207bf543b\")>,\n",
       " <selenium.webdriver.remote.webelement.WebElement (session=\"ded8356a58d99f34492682bef19413e2\", element=\"3ceb3237-8381-4d15-8b6c-f3f6fd105073\")>,\n",
       " <selenium.webdriver.remote.webelement.WebElement (session=\"ded8356a58d99f34492682bef19413e2\", element=\"c8b1acbe-417f-4c24-84f8-bb96e7abdc28\")>,\n",
       " <selenium.webdriver.remote.webelement.WebElement (session=\"ded8356a58d99f34492682bef19413e2\", element=\"bd5dd99e-e696-4479-b4b2-1fec9a738940\")>,\n",
       " <selenium.webdriver.remote.webelement.WebElement (session=\"ded8356a58d99f34492682bef19413e2\", element=\"57e65fc2-7574-41c8-8613-32672e04d4ca\")>,\n",
       " <selenium.webdriver.remote.webelement.WebElement (session=\"ded8356a58d99f34492682bef19413e2\", element=\"e664fdc5-6fa4-4879-8c63-846654901aea\")>,\n",
       " <selenium.webdriver.remote.webelement.WebElement (session=\"ded8356a58d99f34492682bef19413e2\", element=\"e86cbb7c-1d7c-48b7-8ce1-3d53109ec13c\")>,\n",
       " <selenium.webdriver.remote.webelement.WebElement (session=\"ded8356a58d99f34492682bef19413e2\", element=\"7cf787bd-de52-4b09-8182-2ae327d7e0ff\")>,\n",
       " <selenium.webdriver.remote.webelement.WebElement (session=\"ded8356a58d99f34492682bef19413e2\", element=\"01f04f66-9729-4461-8689-ac8441042ac0\")>,\n",
       " <selenium.webdriver.remote.webelement.WebElement (session=\"ded8356a58d99f34492682bef19413e2\", element=\"ac6105a4-8ce6-4c3a-8de3-5f856451963e\")>]"
      ]
     },
     "execution_count": 104,
     "metadata": {},
     "output_type": "execute_result"
    }
   ],
   "source": [
    "dicount_tag_pg2=driver.find_elements_by_xpath('//div[@class=\"_3Ay6Sb\"]')\n",
    "dicount_tag_pg2"
   ]
  },
  {
   "cell_type": "code",
   "execution_count": 105,
   "id": "a553da94",
   "metadata": {},
   "outputs": [
    {
     "data": {
      "text/plain": [
       "40"
      ]
     },
     "execution_count": 105,
     "metadata": {},
     "output_type": "execute_result"
    }
   ],
   "source": [
    "discount_pg2=[]\n",
    "for i in dicount_tag_pg2:\n",
    "    discount_pg2.append(i.text)\n",
    "len(discount_pg2)"
   ]
  },
  {
   "cell_type": "code",
   "execution_count": 106,
   "id": "51fc9063",
   "metadata": {},
   "outputs": [
    {
     "data": {
      "text/plain": [
       "<selenium.webdriver.remote.webelement.WebElement (session=\"ded8356a58d99f34492682bef19413e2\", element=\"c3763577-9392-4d8e-b7a8-c38ff14375e0\")>"
      ]
     },
     "execution_count": 106,
     "metadata": {},
     "output_type": "execute_result"
    }
   ],
   "source": [
    "# clicking on next button\n",
    "next_icn=driver.find_element_by_xpath('/html/body/div[1]/div/div[3]/div[1]/div[2]/div[12]/div/div/nav/a[12]')\n",
    "next_icn"
   ]
  },
  {
   "cell_type": "code",
   "execution_count": 107,
   "id": "61e8673a",
   "metadata": {},
   "outputs": [],
   "source": [
    "next_icn.click()"
   ]
  },
  {
   "cell_type": "code",
   "execution_count": 116,
   "id": "59818563",
   "metadata": {},
   "outputs": [
    {
     "data": {
      "text/plain": [
       "[<selenium.webdriver.remote.webelement.WebElement (session=\"ded8356a58d99f34492682bef19413e2\", element=\"e600ff8f-5d6d-4ff5-abc3-3b8267ab70c5\")>,\n",
       " <selenium.webdriver.remote.webelement.WebElement (session=\"ded8356a58d99f34492682bef19413e2\", element=\"08d4d538-60d3-4817-8a7a-c7649c03fb43\")>,\n",
       " <selenium.webdriver.remote.webelement.WebElement (session=\"ded8356a58d99f34492682bef19413e2\", element=\"e34c1788-0c81-41e1-b234-d2cb505e76b1\")>,\n",
       " <selenium.webdriver.remote.webelement.WebElement (session=\"ded8356a58d99f34492682bef19413e2\", element=\"056d98e9-d134-4115-bf75-f5cf9f5e44eb\")>,\n",
       " <selenium.webdriver.remote.webelement.WebElement (session=\"ded8356a58d99f34492682bef19413e2\", element=\"b6de9f64-8045-4fbf-8664-1c787586685f\")>,\n",
       " <selenium.webdriver.remote.webelement.WebElement (session=\"ded8356a58d99f34492682bef19413e2\", element=\"7fa924ed-3c79-422f-9734-888db58ff00f\")>,\n",
       " <selenium.webdriver.remote.webelement.WebElement (session=\"ded8356a58d99f34492682bef19413e2\", element=\"36867c78-bfd4-4c21-917d-3b7dd89200d5\")>,\n",
       " <selenium.webdriver.remote.webelement.WebElement (session=\"ded8356a58d99f34492682bef19413e2\", element=\"045df05c-cd6b-417a-a769-c955824b4fa7\")>,\n",
       " <selenium.webdriver.remote.webelement.WebElement (session=\"ded8356a58d99f34492682bef19413e2\", element=\"58841347-4a02-4b12-8092-594912b3d423\")>,\n",
       " <selenium.webdriver.remote.webelement.WebElement (session=\"ded8356a58d99f34492682bef19413e2\", element=\"d181becb-3d17-4d1f-bb08-d8e46b5568d0\")>,\n",
       " <selenium.webdriver.remote.webelement.WebElement (session=\"ded8356a58d99f34492682bef19413e2\", element=\"a2479ea6-e35a-464e-a27f-632d03ac7deb\")>,\n",
       " <selenium.webdriver.remote.webelement.WebElement (session=\"ded8356a58d99f34492682bef19413e2\", element=\"191508a5-ba5f-4129-b5c8-d48c0e2f9301\")>,\n",
       " <selenium.webdriver.remote.webelement.WebElement (session=\"ded8356a58d99f34492682bef19413e2\", element=\"8e9d6fed-e130-4671-a035-21b2f058859e\")>,\n",
       " <selenium.webdriver.remote.webelement.WebElement (session=\"ded8356a58d99f34492682bef19413e2\", element=\"5d6e355e-ddde-44c3-a684-3f3c64ccb0b5\")>,\n",
       " <selenium.webdriver.remote.webelement.WebElement (session=\"ded8356a58d99f34492682bef19413e2\", element=\"64a9b20e-380c-4191-8693-7cad8ff48c90\")>,\n",
       " <selenium.webdriver.remote.webelement.WebElement (session=\"ded8356a58d99f34492682bef19413e2\", element=\"97258f7b-5527-4b98-b21e-b47ad199a1fb\")>,\n",
       " <selenium.webdriver.remote.webelement.WebElement (session=\"ded8356a58d99f34492682bef19413e2\", element=\"cfa0984c-a184-4564-bc88-4db344fec099\")>,\n",
       " <selenium.webdriver.remote.webelement.WebElement (session=\"ded8356a58d99f34492682bef19413e2\", element=\"2e39eff1-1dce-410b-9327-2dbb2ffdecd9\")>,\n",
       " <selenium.webdriver.remote.webelement.WebElement (session=\"ded8356a58d99f34492682bef19413e2\", element=\"26d230e7-5a71-4d26-8ce1-b55cdda9c1b9\")>,\n",
       " <selenium.webdriver.remote.webelement.WebElement (session=\"ded8356a58d99f34492682bef19413e2\", element=\"b13c850b-5914-4571-8fd6-66afb9cfe8ff\")>,\n",
       " <selenium.webdriver.remote.webelement.WebElement (session=\"ded8356a58d99f34492682bef19413e2\", element=\"4e3b6d48-2f82-4ab0-bc28-4b45a031985c\")>,\n",
       " <selenium.webdriver.remote.webelement.WebElement (session=\"ded8356a58d99f34492682bef19413e2\", element=\"08d53d5c-51d1-4948-8ef2-5081e0339fda\")>,\n",
       " <selenium.webdriver.remote.webelement.WebElement (session=\"ded8356a58d99f34492682bef19413e2\", element=\"8262a5a9-b96b-40de-90cf-41a26220677a\")>,\n",
       " <selenium.webdriver.remote.webelement.WebElement (session=\"ded8356a58d99f34492682bef19413e2\", element=\"82aff0b9-00f5-4c7b-b068-3b8eebee1e7a\")>,\n",
       " <selenium.webdriver.remote.webelement.WebElement (session=\"ded8356a58d99f34492682bef19413e2\", element=\"c34840f1-aa9f-4893-a233-13c70fd36656\")>,\n",
       " <selenium.webdriver.remote.webelement.WebElement (session=\"ded8356a58d99f34492682bef19413e2\", element=\"dccaf78a-f75a-40aa-957e-981334b01f89\")>,\n",
       " <selenium.webdriver.remote.webelement.WebElement (session=\"ded8356a58d99f34492682bef19413e2\", element=\"d39a1a60-b85a-4f0c-a447-d1a19f88b3b5\")>,\n",
       " <selenium.webdriver.remote.webelement.WebElement (session=\"ded8356a58d99f34492682bef19413e2\", element=\"80ff5868-17b1-4c6b-86a9-785a4b60cc53\")>,\n",
       " <selenium.webdriver.remote.webelement.WebElement (session=\"ded8356a58d99f34492682bef19413e2\", element=\"a8f60e4a-3a63-48c0-988a-65a902cc1a81\")>,\n",
       " <selenium.webdriver.remote.webelement.WebElement (session=\"ded8356a58d99f34492682bef19413e2\", element=\"070a8d29-8a7a-49bc-86ca-e172c73f51ec\")>,\n",
       " <selenium.webdriver.remote.webelement.WebElement (session=\"ded8356a58d99f34492682bef19413e2\", element=\"e3ec21a2-3680-49f7-8bd5-683839ce60d2\")>,\n",
       " <selenium.webdriver.remote.webelement.WebElement (session=\"ded8356a58d99f34492682bef19413e2\", element=\"01197f03-d8a6-42a6-b785-0f218e2fefa4\")>,\n",
       " <selenium.webdriver.remote.webelement.WebElement (session=\"ded8356a58d99f34492682bef19413e2\", element=\"66f8e439-0e97-4d04-86d9-7f2136d5ffd9\")>,\n",
       " <selenium.webdriver.remote.webelement.WebElement (session=\"ded8356a58d99f34492682bef19413e2\", element=\"f65d4a32-9c1c-4467-91ec-e51660f8d0cd\")>,\n",
       " <selenium.webdriver.remote.webelement.WebElement (session=\"ded8356a58d99f34492682bef19413e2\", element=\"6c9471b1-f877-422d-b2ad-5f8cd982212c\")>,\n",
       " <selenium.webdriver.remote.webelement.WebElement (session=\"ded8356a58d99f34492682bef19413e2\", element=\"1bca5d29-3d08-47ee-84f4-d404ccdd91e1\")>,\n",
       " <selenium.webdriver.remote.webelement.WebElement (session=\"ded8356a58d99f34492682bef19413e2\", element=\"48ba19e0-e6b3-42a3-ae9f-bef41c1f9944\")>,\n",
       " <selenium.webdriver.remote.webelement.WebElement (session=\"ded8356a58d99f34492682bef19413e2\", element=\"fecddce0-374e-47f4-88b3-41a94d1da86e\")>,\n",
       " <selenium.webdriver.remote.webelement.WebElement (session=\"ded8356a58d99f34492682bef19413e2\", element=\"aff9b6e9-a4b8-47d0-8fee-5335cca66707\")>,\n",
       " <selenium.webdriver.remote.webelement.WebElement (session=\"ded8356a58d99f34492682bef19413e2\", element=\"b810f7d6-d01e-4992-afc2-902869185297\")>]"
      ]
     },
     "execution_count": 116,
     "metadata": {},
     "output_type": "execute_result"
    }
   ],
   "source": [
    "product3=driver.find_elements_by_xpath('//div[@class=\"_2WkVRV\"]')\n",
    "product3"
   ]
  },
  {
   "cell_type": "code",
   "execution_count": 117,
   "id": "a68bac65",
   "metadata": {},
   "outputs": [
    {
     "data": {
      "text/plain": [
       "20"
      ]
     },
     "execution_count": 117,
     "metadata": {},
     "output_type": "execute_result"
    }
   ],
   "source": [
    "product3_=[]\n",
    "for i in product3:\n",
    "    product3_.append(i.text)\n",
    "product3_=product3_[:20]\n",
    "len(product3_)"
   ]
  },
  {
   "cell_type": "code",
   "execution_count": 109,
   "id": "e07c0424",
   "metadata": {},
   "outputs": [
    {
     "data": {
      "text/plain": [
       "[<selenium.webdriver.remote.webelement.WebElement (session=\"ded8356a58d99f34492682bef19413e2\", element=\"370665e1-4625-4c26-a501-1d50675fc92c\")>,\n",
       " <selenium.webdriver.remote.webelement.WebElement (session=\"ded8356a58d99f34492682bef19413e2\", element=\"cf96c7f3-c32b-4dc6-9943-fc441c7e1187\")>,\n",
       " <selenium.webdriver.remote.webelement.WebElement (session=\"ded8356a58d99f34492682bef19413e2\", element=\"be137c99-0a78-482c-8154-e1dc1a2429fb\")>,\n",
       " <selenium.webdriver.remote.webelement.WebElement (session=\"ded8356a58d99f34492682bef19413e2\", element=\"f9d67455-1b1c-49a7-adc6-7b8f8a70f89d\")>,\n",
       " <selenium.webdriver.remote.webelement.WebElement (session=\"ded8356a58d99f34492682bef19413e2\", element=\"8bd9130d-db9b-4c2e-bfe9-a1de931f84ad\")>,\n",
       " <selenium.webdriver.remote.webelement.WebElement (session=\"ded8356a58d99f34492682bef19413e2\", element=\"bf4dfe33-fe08-4c47-b417-c7f463856019\")>,\n",
       " <selenium.webdriver.remote.webelement.WebElement (session=\"ded8356a58d99f34492682bef19413e2\", element=\"ea39798a-d726-417c-b5c7-2a85d913614e\")>,\n",
       " <selenium.webdriver.remote.webelement.WebElement (session=\"ded8356a58d99f34492682bef19413e2\", element=\"6e1a6310-e0a0-4966-98ce-15de61390b9f\")>,\n",
       " <selenium.webdriver.remote.webelement.WebElement (session=\"ded8356a58d99f34492682bef19413e2\", element=\"bfbdcabe-667d-40a1-97e8-683bccd69684\")>,\n",
       " <selenium.webdriver.remote.webelement.WebElement (session=\"ded8356a58d99f34492682bef19413e2\", element=\"5d6d74dd-0e52-4dfb-8fd0-16732a8ec4bf\")>,\n",
       " <selenium.webdriver.remote.webelement.WebElement (session=\"ded8356a58d99f34492682bef19413e2\", element=\"99d5c78f-208d-4189-ab7e-fa9446a60797\")>,\n",
       " <selenium.webdriver.remote.webelement.WebElement (session=\"ded8356a58d99f34492682bef19413e2\", element=\"17d3958a-5151-4e35-ac84-ee0631688ee0\")>,\n",
       " <selenium.webdriver.remote.webelement.WebElement (session=\"ded8356a58d99f34492682bef19413e2\", element=\"592e73cc-ac19-48cd-9058-f0625f6946bb\")>,\n",
       " <selenium.webdriver.remote.webelement.WebElement (session=\"ded8356a58d99f34492682bef19413e2\", element=\"42f18c57-2372-4b8b-a141-345ba8422635\")>,\n",
       " <selenium.webdriver.remote.webelement.WebElement (session=\"ded8356a58d99f34492682bef19413e2\", element=\"b1c75b06-3478-4bb1-94ab-c4d402613cf0\")>,\n",
       " <selenium.webdriver.remote.webelement.WebElement (session=\"ded8356a58d99f34492682bef19413e2\", element=\"baeba5cd-4095-4eb4-925f-7a658bbcaf5a\")>,\n",
       " <selenium.webdriver.remote.webelement.WebElement (session=\"ded8356a58d99f34492682bef19413e2\", element=\"aaa5f053-050a-408e-8609-7de594490e25\")>,\n",
       " <selenium.webdriver.remote.webelement.WebElement (session=\"ded8356a58d99f34492682bef19413e2\", element=\"093bbb40-b645-41af-b56c-eceac9d3c53b\")>,\n",
       " <selenium.webdriver.remote.webelement.WebElement (session=\"ded8356a58d99f34492682bef19413e2\", element=\"c134e625-fc15-4a2d-a329-280ac48f73fe\")>,\n",
       " <selenium.webdriver.remote.webelement.WebElement (session=\"ded8356a58d99f34492682bef19413e2\", element=\"27eea794-6519-4b0c-9286-1080a61742c6\")>,\n",
       " <selenium.webdriver.remote.webelement.WebElement (session=\"ded8356a58d99f34492682bef19413e2\", element=\"18f9db03-1210-4658-8f6f-f8e1ef256462\")>,\n",
       " <selenium.webdriver.remote.webelement.WebElement (session=\"ded8356a58d99f34492682bef19413e2\", element=\"2272a807-fab9-474c-a233-f8e591e6b25c\")>,\n",
       " <selenium.webdriver.remote.webelement.WebElement (session=\"ded8356a58d99f34492682bef19413e2\", element=\"38377894-bb0b-455f-b5ba-54cfecc4b5fc\")>,\n",
       " <selenium.webdriver.remote.webelement.WebElement (session=\"ded8356a58d99f34492682bef19413e2\", element=\"bd4c2bc4-1518-43bf-8f1b-325bbef224bf\")>,\n",
       " <selenium.webdriver.remote.webelement.WebElement (session=\"ded8356a58d99f34492682bef19413e2\", element=\"1002f57e-9b06-4508-b39f-c221d5768e9f\")>,\n",
       " <selenium.webdriver.remote.webelement.WebElement (session=\"ded8356a58d99f34492682bef19413e2\", element=\"9128dbb4-71fc-4ab3-9907-5e959c43026a\")>,\n",
       " <selenium.webdriver.remote.webelement.WebElement (session=\"ded8356a58d99f34492682bef19413e2\", element=\"521916f6-2e17-4bc7-bd0a-2002e8d04cab\")>,\n",
       " <selenium.webdriver.remote.webelement.WebElement (session=\"ded8356a58d99f34492682bef19413e2\", element=\"03066c9d-35ab-4f7c-a044-c6bbdb09e879\")>,\n",
       " <selenium.webdriver.remote.webelement.WebElement (session=\"ded8356a58d99f34492682bef19413e2\", element=\"0114db29-af3b-4533-bd46-e02c20bc596b\")>,\n",
       " <selenium.webdriver.remote.webelement.WebElement (session=\"ded8356a58d99f34492682bef19413e2\", element=\"f318674d-5a76-441d-9277-9c131b4aeb4c\")>,\n",
       " <selenium.webdriver.remote.webelement.WebElement (session=\"ded8356a58d99f34492682bef19413e2\", element=\"0621426d-4dda-44f3-81d2-b8feaa7ec07c\")>,\n",
       " <selenium.webdriver.remote.webelement.WebElement (session=\"ded8356a58d99f34492682bef19413e2\", element=\"1ab2b979-964b-473b-988a-e3e67abed3ef\")>,\n",
       " <selenium.webdriver.remote.webelement.WebElement (session=\"ded8356a58d99f34492682bef19413e2\", element=\"c2d778d8-22e0-433f-870e-4487d6b56fe4\")>,\n",
       " <selenium.webdriver.remote.webelement.WebElement (session=\"ded8356a58d99f34492682bef19413e2\", element=\"604fefb4-310b-4624-8f27-7eeb7e4d7846\")>,\n",
       " <selenium.webdriver.remote.webelement.WebElement (session=\"ded8356a58d99f34492682bef19413e2\", element=\"eb320ef1-1179-47d4-8356-12e76ddaf170\")>,\n",
       " <selenium.webdriver.remote.webelement.WebElement (session=\"ded8356a58d99f34492682bef19413e2\", element=\"fbff4eaf-d850-45c3-a072-791a9adb2c0e\")>,\n",
       " <selenium.webdriver.remote.webelement.WebElement (session=\"ded8356a58d99f34492682bef19413e2\", element=\"eaeaef3b-69c7-4240-b1ef-8bb36ccb30db\")>,\n",
       " <selenium.webdriver.remote.webelement.WebElement (session=\"ded8356a58d99f34492682bef19413e2\", element=\"2d77ad6c-7b62-49a0-9301-49c10c211403\")>,\n",
       " <selenium.webdriver.remote.webelement.WebElement (session=\"ded8356a58d99f34492682bef19413e2\", element=\"51e61fde-9662-4b6e-ad64-9941438c6f61\")>,\n",
       " <selenium.webdriver.remote.webelement.WebElement (session=\"ded8356a58d99f34492682bef19413e2\", element=\"45707732-4d82-4409-b7b3-add23989f83b\")>]"
      ]
     },
     "execution_count": 109,
     "metadata": {},
     "output_type": "execute_result"
    }
   ],
   "source": [
    "descr3=driver.find_elements_by_xpath('//a[@class=\"IRpwTa\"]')\n",
    "descr3"
   ]
  },
  {
   "cell_type": "code",
   "execution_count": 110,
   "id": "744c7b69",
   "metadata": {},
   "outputs": [
    {
     "data": {
      "text/plain": [
       "20"
      ]
     },
     "execution_count": 110,
     "metadata": {},
     "output_type": "execute_result"
    }
   ],
   "source": [
    "# dscr on pg3\n",
    "descr3_=[]\n",
    "for i in descr3:\n",
    "    descr3_.append(i.text)\n",
    "descr3_=descr3_[:20]\n",
    "len(descr3_)"
   ]
  },
  {
   "cell_type": "code",
   "execution_count": 111,
   "id": "410ed2d9",
   "metadata": {},
   "outputs": [
    {
     "data": {
      "text/plain": [
       "[<selenium.webdriver.remote.webelement.WebElement (session=\"ded8356a58d99f34492682bef19413e2\", element=\"7679c8be-5ae1-4d4d-9ac5-aea85596c265\")>,\n",
       " <selenium.webdriver.remote.webelement.WebElement (session=\"ded8356a58d99f34492682bef19413e2\", element=\"520db468-7c99-4be8-a8f9-a928dcaafbcd\")>,\n",
       " <selenium.webdriver.remote.webelement.WebElement (session=\"ded8356a58d99f34492682bef19413e2\", element=\"5545e153-e13a-4392-b31d-de9ca78102ba\")>,\n",
       " <selenium.webdriver.remote.webelement.WebElement (session=\"ded8356a58d99f34492682bef19413e2\", element=\"8cb5fdee-7952-4b9e-924e-d6b9f9f7593b\")>,\n",
       " <selenium.webdriver.remote.webelement.WebElement (session=\"ded8356a58d99f34492682bef19413e2\", element=\"b823e3bc-8314-44ea-9cfe-6f1f2bf9a66c\")>,\n",
       " <selenium.webdriver.remote.webelement.WebElement (session=\"ded8356a58d99f34492682bef19413e2\", element=\"2abaaef5-10e9-4ea0-91e3-a0eb2f260022\")>,\n",
       " <selenium.webdriver.remote.webelement.WebElement (session=\"ded8356a58d99f34492682bef19413e2\", element=\"1f30fc5d-c824-45d4-b42b-75ff86756377\")>,\n",
       " <selenium.webdriver.remote.webelement.WebElement (session=\"ded8356a58d99f34492682bef19413e2\", element=\"b6458555-e91c-4593-8922-9374017de0d0\")>,\n",
       " <selenium.webdriver.remote.webelement.WebElement (session=\"ded8356a58d99f34492682bef19413e2\", element=\"923e25fb-9c1b-4e03-a174-9bb87343f647\")>,\n",
       " <selenium.webdriver.remote.webelement.WebElement (session=\"ded8356a58d99f34492682bef19413e2\", element=\"2542a6da-e71a-42c9-81b1-351601776101\")>,\n",
       " <selenium.webdriver.remote.webelement.WebElement (session=\"ded8356a58d99f34492682bef19413e2\", element=\"45c1cb5a-dfea-4c7b-ac0b-1c512cd0f899\")>,\n",
       " <selenium.webdriver.remote.webelement.WebElement (session=\"ded8356a58d99f34492682bef19413e2\", element=\"a197f8e9-7202-410d-8a0a-ddcd4ad626d4\")>,\n",
       " <selenium.webdriver.remote.webelement.WebElement (session=\"ded8356a58d99f34492682bef19413e2\", element=\"0f1a5f2b-0db9-4ebf-8fdf-2fe9197a4112\")>,\n",
       " <selenium.webdriver.remote.webelement.WebElement (session=\"ded8356a58d99f34492682bef19413e2\", element=\"06aa29b3-9d3d-448d-9782-19aad4ec459d\")>,\n",
       " <selenium.webdriver.remote.webelement.WebElement (session=\"ded8356a58d99f34492682bef19413e2\", element=\"5fef4199-e906-4da6-b9f4-2ba1f85575f7\")>,\n",
       " <selenium.webdriver.remote.webelement.WebElement (session=\"ded8356a58d99f34492682bef19413e2\", element=\"01bf124f-a7eb-402c-bd28-1168b234383d\")>,\n",
       " <selenium.webdriver.remote.webelement.WebElement (session=\"ded8356a58d99f34492682bef19413e2\", element=\"67690b02-c80c-4d31-8763-673b3074020f\")>,\n",
       " <selenium.webdriver.remote.webelement.WebElement (session=\"ded8356a58d99f34492682bef19413e2\", element=\"dd3e9ca0-fdda-4bc5-af02-faeb65623b74\")>,\n",
       " <selenium.webdriver.remote.webelement.WebElement (session=\"ded8356a58d99f34492682bef19413e2\", element=\"398e4479-3693-4882-a3c5-15e9cc7914bb\")>,\n",
       " <selenium.webdriver.remote.webelement.WebElement (session=\"ded8356a58d99f34492682bef19413e2\", element=\"43dd3dbd-a9bc-4bab-8016-674995fba200\")>,\n",
       " <selenium.webdriver.remote.webelement.WebElement (session=\"ded8356a58d99f34492682bef19413e2\", element=\"657e9edd-fd09-43ad-b79b-49a8ba7a23eb\")>,\n",
       " <selenium.webdriver.remote.webelement.WebElement (session=\"ded8356a58d99f34492682bef19413e2\", element=\"bebaf56a-b19a-4953-b329-fc53d30767b5\")>,\n",
       " <selenium.webdriver.remote.webelement.WebElement (session=\"ded8356a58d99f34492682bef19413e2\", element=\"0d9923d0-f5f4-49af-9ca9-dd9455c79bf4\")>,\n",
       " <selenium.webdriver.remote.webelement.WebElement (session=\"ded8356a58d99f34492682bef19413e2\", element=\"09c82023-155f-4e94-9501-1d840e9b628b\")>,\n",
       " <selenium.webdriver.remote.webelement.WebElement (session=\"ded8356a58d99f34492682bef19413e2\", element=\"dce73015-fbed-471e-b1a8-b8cee985c03e\")>,\n",
       " <selenium.webdriver.remote.webelement.WebElement (session=\"ded8356a58d99f34492682bef19413e2\", element=\"bbf157e0-b106-428f-8aae-a2011e29e76f\")>,\n",
       " <selenium.webdriver.remote.webelement.WebElement (session=\"ded8356a58d99f34492682bef19413e2\", element=\"8d0844ff-8c9f-4008-902a-9b104738ee71\")>,\n",
       " <selenium.webdriver.remote.webelement.WebElement (session=\"ded8356a58d99f34492682bef19413e2\", element=\"46a8153f-ce64-4add-8a94-9498e95d8a8c\")>,\n",
       " <selenium.webdriver.remote.webelement.WebElement (session=\"ded8356a58d99f34492682bef19413e2\", element=\"84bb057d-5847-431b-8c44-6f75c2d947d9\")>,\n",
       " <selenium.webdriver.remote.webelement.WebElement (session=\"ded8356a58d99f34492682bef19413e2\", element=\"12b50781-5af1-45e2-b322-07ad4532b136\")>,\n",
       " <selenium.webdriver.remote.webelement.WebElement (session=\"ded8356a58d99f34492682bef19413e2\", element=\"da4ed832-30c8-4a2d-ab9f-9ad7290974f6\")>,\n",
       " <selenium.webdriver.remote.webelement.WebElement (session=\"ded8356a58d99f34492682bef19413e2\", element=\"87dda1b0-fa19-44d2-89e7-e99e0b8c67e4\")>,\n",
       " <selenium.webdriver.remote.webelement.WebElement (session=\"ded8356a58d99f34492682bef19413e2\", element=\"12f09cf6-0daa-4d7f-bba9-8297b54886a7\")>,\n",
       " <selenium.webdriver.remote.webelement.WebElement (session=\"ded8356a58d99f34492682bef19413e2\", element=\"a54c85e7-b5f2-495e-b777-780e5e377f34\")>,\n",
       " <selenium.webdriver.remote.webelement.WebElement (session=\"ded8356a58d99f34492682bef19413e2\", element=\"516bd987-c5ad-4b30-9f9f-4a9f0158ed23\")>,\n",
       " <selenium.webdriver.remote.webelement.WebElement (session=\"ded8356a58d99f34492682bef19413e2\", element=\"0159c987-e385-45b4-92e6-6825141935b5\")>,\n",
       " <selenium.webdriver.remote.webelement.WebElement (session=\"ded8356a58d99f34492682bef19413e2\", element=\"b7d2b3d5-01ed-4cec-9ad1-06d1a2e69077\")>,\n",
       " <selenium.webdriver.remote.webelement.WebElement (session=\"ded8356a58d99f34492682bef19413e2\", element=\"fb15e19a-5950-4770-ab38-e5b482028736\")>,\n",
       " <selenium.webdriver.remote.webelement.WebElement (session=\"ded8356a58d99f34492682bef19413e2\", element=\"9ea64e35-d468-4fb7-9fc3-d6a29040b07e\")>,\n",
       " <selenium.webdriver.remote.webelement.WebElement (session=\"ded8356a58d99f34492682bef19413e2\", element=\"97eb4bc0-bb0a-459f-a357-3e82bc3077d0\")>]"
      ]
     },
     "execution_count": 111,
     "metadata": {},
     "output_type": "execute_result"
    }
   ],
   "source": [
    "# finding by search tag\n",
    "price3=driver.find_elements_by_xpath('//div[@class=\"_30jeq3\"]')\n",
    "price3"
   ]
  },
  {
   "cell_type": "code",
   "execution_count": 112,
   "id": "2ffe7ea3",
   "metadata": {},
   "outputs": [
    {
     "data": {
      "text/plain": [
       "20"
      ]
     },
     "execution_count": 112,
     "metadata": {},
     "output_type": "execute_result"
    }
   ],
   "source": [
    "#discount on page3\n",
    "price3_=[]\n",
    "for i in price3:\n",
    "    price3_.append(i.text)\n",
    "price3_=price3_[:20]\n",
    "len(price3_)"
   ]
  },
  {
   "cell_type": "code",
   "execution_count": 113,
   "id": "75c0e5e4",
   "metadata": {},
   "outputs": [
    {
     "data": {
      "text/plain": [
       "[<selenium.webdriver.remote.webelement.WebElement (session=\"ded8356a58d99f34492682bef19413e2\", element=\"7c7f4719-fc67-4d56-ad65-9fec91eced34\")>,\n",
       " <selenium.webdriver.remote.webelement.WebElement (session=\"ded8356a58d99f34492682bef19413e2\", element=\"1be217a5-d75b-4687-a17a-32d41527888e\")>,\n",
       " <selenium.webdriver.remote.webelement.WebElement (session=\"ded8356a58d99f34492682bef19413e2\", element=\"af00b298-dcc9-41c6-bb8e-e36867835773\")>,\n",
       " <selenium.webdriver.remote.webelement.WebElement (session=\"ded8356a58d99f34492682bef19413e2\", element=\"b2451551-0186-4eea-90cd-d2bbbb9fab71\")>,\n",
       " <selenium.webdriver.remote.webelement.WebElement (session=\"ded8356a58d99f34492682bef19413e2\", element=\"9f8141a2-05d8-4071-b972-27600f704f5f\")>,\n",
       " <selenium.webdriver.remote.webelement.WebElement (session=\"ded8356a58d99f34492682bef19413e2\", element=\"7cd44006-3519-44c9-b20e-b3ce3a827539\")>,\n",
       " <selenium.webdriver.remote.webelement.WebElement (session=\"ded8356a58d99f34492682bef19413e2\", element=\"25a22e8e-fe05-42f0-9df5-ea4d3140ef55\")>,\n",
       " <selenium.webdriver.remote.webelement.WebElement (session=\"ded8356a58d99f34492682bef19413e2\", element=\"075f2516-a460-48e6-9df8-4919d2adbd95\")>,\n",
       " <selenium.webdriver.remote.webelement.WebElement (session=\"ded8356a58d99f34492682bef19413e2\", element=\"f06fb5bb-e354-4f94-902d-f5be59f06acb\")>,\n",
       " <selenium.webdriver.remote.webelement.WebElement (session=\"ded8356a58d99f34492682bef19413e2\", element=\"3e069f06-5d3b-4410-abbe-7170d6473c15\")>,\n",
       " <selenium.webdriver.remote.webelement.WebElement (session=\"ded8356a58d99f34492682bef19413e2\", element=\"f0ee4c77-a55a-4f10-8062-a54d96f3ceca\")>,\n",
       " <selenium.webdriver.remote.webelement.WebElement (session=\"ded8356a58d99f34492682bef19413e2\", element=\"b2dbde6e-61b8-4453-b52a-10540b4e1499\")>,\n",
       " <selenium.webdriver.remote.webelement.WebElement (session=\"ded8356a58d99f34492682bef19413e2\", element=\"d38b2e98-3341-4f3d-a467-52ed81fec7be\")>,\n",
       " <selenium.webdriver.remote.webelement.WebElement (session=\"ded8356a58d99f34492682bef19413e2\", element=\"1e56b9ed-8ce2-4a45-8072-8a6e8474b40e\")>,\n",
       " <selenium.webdriver.remote.webelement.WebElement (session=\"ded8356a58d99f34492682bef19413e2\", element=\"371ec2d1-7df6-442c-be25-5326b487ca8b\")>,\n",
       " <selenium.webdriver.remote.webelement.WebElement (session=\"ded8356a58d99f34492682bef19413e2\", element=\"a6736f73-8377-4488-b50b-16694dbce85e\")>,\n",
       " <selenium.webdriver.remote.webelement.WebElement (session=\"ded8356a58d99f34492682bef19413e2\", element=\"ad6f32e1-1730-4fb5-8675-9a7c685dd1ef\")>,\n",
       " <selenium.webdriver.remote.webelement.WebElement (session=\"ded8356a58d99f34492682bef19413e2\", element=\"f963c1ee-557b-4671-8bc2-7e1e6c4e9a54\")>,\n",
       " <selenium.webdriver.remote.webelement.WebElement (session=\"ded8356a58d99f34492682bef19413e2\", element=\"36114cd0-157b-464e-8f54-e49b45dbb28d\")>,\n",
       " <selenium.webdriver.remote.webelement.WebElement (session=\"ded8356a58d99f34492682bef19413e2\", element=\"0683c682-0159-49c8-a4bb-a40b7c51a88b\")>,\n",
       " <selenium.webdriver.remote.webelement.WebElement (session=\"ded8356a58d99f34492682bef19413e2\", element=\"8079926c-1abf-4d11-8e47-089a3c68a6cf\")>,\n",
       " <selenium.webdriver.remote.webelement.WebElement (session=\"ded8356a58d99f34492682bef19413e2\", element=\"a2c54880-44fc-444d-a410-4c482a21f2e9\")>,\n",
       " <selenium.webdriver.remote.webelement.WebElement (session=\"ded8356a58d99f34492682bef19413e2\", element=\"6ec7210f-9553-466a-b4a4-6ff2e2bb653d\")>,\n",
       " <selenium.webdriver.remote.webelement.WebElement (session=\"ded8356a58d99f34492682bef19413e2\", element=\"2c3f2a4e-d1eb-4b68-b6bc-f143698ba5ff\")>,\n",
       " <selenium.webdriver.remote.webelement.WebElement (session=\"ded8356a58d99f34492682bef19413e2\", element=\"11d17701-99f1-4f8d-883c-dd7a2f9ed3e3\")>,\n",
       " <selenium.webdriver.remote.webelement.WebElement (session=\"ded8356a58d99f34492682bef19413e2\", element=\"3499a2fc-4ae7-41ff-9ee7-4caaf95a89aa\")>,\n",
       " <selenium.webdriver.remote.webelement.WebElement (session=\"ded8356a58d99f34492682bef19413e2\", element=\"2abbf4b7-2978-484a-b9b5-e9112d0b7a17\")>,\n",
       " <selenium.webdriver.remote.webelement.WebElement (session=\"ded8356a58d99f34492682bef19413e2\", element=\"a56baa27-abcf-42f5-b19a-b64f179b76ea\")>,\n",
       " <selenium.webdriver.remote.webelement.WebElement (session=\"ded8356a58d99f34492682bef19413e2\", element=\"28f6b736-f9ed-42cb-93aa-507f6c2262f1\")>,\n",
       " <selenium.webdriver.remote.webelement.WebElement (session=\"ded8356a58d99f34492682bef19413e2\", element=\"8e584ab9-d6f8-45ef-9eaf-2ad152c124ea\")>,\n",
       " <selenium.webdriver.remote.webelement.WebElement (session=\"ded8356a58d99f34492682bef19413e2\", element=\"5c0dc2c0-f635-4d8b-8776-7ef42c6e518c\")>,\n",
       " <selenium.webdriver.remote.webelement.WebElement (session=\"ded8356a58d99f34492682bef19413e2\", element=\"88ae23f0-bf5b-4505-b719-9e58ae75202a\")>,\n",
       " <selenium.webdriver.remote.webelement.WebElement (session=\"ded8356a58d99f34492682bef19413e2\", element=\"ac8e11b8-3a46-40d8-a71b-b50004e95350\")>,\n",
       " <selenium.webdriver.remote.webelement.WebElement (session=\"ded8356a58d99f34492682bef19413e2\", element=\"d5753f68-1480-41bc-88b3-03b4f27b37ed\")>,\n",
       " <selenium.webdriver.remote.webelement.WebElement (session=\"ded8356a58d99f34492682bef19413e2\", element=\"b4b85dcb-a6a3-4afb-8c77-cd96eb2915e7\")>,\n",
       " <selenium.webdriver.remote.webelement.WebElement (session=\"ded8356a58d99f34492682bef19413e2\", element=\"343f8a22-13f4-445c-9a29-e65a4667f545\")>,\n",
       " <selenium.webdriver.remote.webelement.WebElement (session=\"ded8356a58d99f34492682bef19413e2\", element=\"c985d1b2-1eb1-46e8-9370-18ea1a36a07e\")>,\n",
       " <selenium.webdriver.remote.webelement.WebElement (session=\"ded8356a58d99f34492682bef19413e2\", element=\"ce8a7044-e963-4134-898e-1f8a8d7388b7\")>,\n",
       " <selenium.webdriver.remote.webelement.WebElement (session=\"ded8356a58d99f34492682bef19413e2\", element=\"dc45d151-6d5b-4453-a51a-3597caa2a3fc\")>,\n",
       " <selenium.webdriver.remote.webelement.WebElement (session=\"ded8356a58d99f34492682bef19413e2\", element=\"f344979b-2587-4457-ab52-7a3a80635968\")>]"
      ]
     },
     "execution_count": 113,
     "metadata": {},
     "output_type": "execute_result"
    }
   ],
   "source": [
    "# finding discount tag on page 3 by xpath\n",
    "discount_tag_pg3=driver.find_elements_by_xpath('//div[@class=\"_3Ay6Sb\"]')\n",
    "discount_tag_pg3"
   ]
  },
  {
   "cell_type": "code",
   "execution_count": 114,
   "id": "b0bdfea6",
   "metadata": {},
   "outputs": [
    {
     "data": {
      "text/plain": [
       "20"
      ]
     },
     "execution_count": 114,
     "metadata": {},
     "output_type": "execute_result"
    }
   ],
   "source": [
    "# finding discount on page 3\n",
    "discount_pg3=[]\n",
    "for i in discount_tag_pg3:\n",
    "    discount_pg3.append(i.text)\n",
    "discount_pg3=discount_pg3[:20]\n",
    "len(discount_pg3)"
   ]
  },
  {
   "cell_type": "code",
   "execution_count": 118,
   "id": "a1009636",
   "metadata": {},
   "outputs": [
    {
     "name": "stdout",
     "output_type": "stream",
     "text": [
      "100\n",
      "100\n",
      "100\n",
      "100\n"
     ]
    }
   ],
   "source": [
    "final_product_list=product_names+product_name2+product3_\n",
    "print(len(final_product_list))\n",
    "final_product_descr=descr_+descr2_+descr3_\n",
    "print(len(final_product_descr))\n",
    "final_product_price=price+price2_+price3_\n",
    "print(len(final_product_price))\n",
    "final_product_discount=discount_pg1+discount_pg2+discount_pg3\n",
    "print(len(final_product_discount))"
   ]
  },
  {
   "cell_type": "code",
   "execution_count": 119,
   "id": "e2d00061",
   "metadata": {},
   "outputs": [
    {
     "data": {
      "text/html": [
       "<div>\n",
       "<style scoped>\n",
       "    .dataframe tbody tr th:only-of-type {\n",
       "        vertical-align: middle;\n",
       "    }\n",
       "\n",
       "    .dataframe tbody tr th {\n",
       "        vertical-align: top;\n",
       "    }\n",
       "\n",
       "    .dataframe thead th {\n",
       "        text-align: right;\n",
       "    }\n",
       "</style>\n",
       "<table border=\"1\" class=\"dataframe\">\n",
       "  <thead>\n",
       "    <tr style=\"text-align: right;\">\n",
       "      <th></th>\n",
       "      <th>Sunglass Name</th>\n",
       "      <th>Description</th>\n",
       "      <th>Price</th>\n",
       "      <th>Discount</th>\n",
       "    </tr>\n",
       "  </thead>\n",
       "  <tbody>\n",
       "    <tr>\n",
       "      <th>0</th>\n",
       "      <td>NuVew</td>\n",
       "      <td>UV Protection, Mirrored Wayfarer, Rectangular ...</td>\n",
       "      <td>₹323</td>\n",
       "      <td>69% off</td>\n",
       "    </tr>\n",
       "    <tr>\n",
       "      <th>1</th>\n",
       "      <td>VINCENT CHASE</td>\n",
       "      <td>by Lenskart Polarized, UV Protection Aviator S...</td>\n",
       "      <td>₹999</td>\n",
       "      <td>60% off</td>\n",
       "    </tr>\n",
       "    <tr>\n",
       "      <th>2</th>\n",
       "      <td>SRPM</td>\n",
       "      <td>UV Protection Wayfarer Sunglasses (56)</td>\n",
       "      <td>₹188</td>\n",
       "      <td>85% off</td>\n",
       "    </tr>\n",
       "    <tr>\n",
       "      <th>3</th>\n",
       "      <td>Elligator</td>\n",
       "      <td>UV Protection Round Sunglasses (54)</td>\n",
       "      <td>₹248</td>\n",
       "      <td>90% off</td>\n",
       "    </tr>\n",
       "    <tr>\n",
       "      <th>4</th>\n",
       "      <td>kingsunglasses</td>\n",
       "      <td>UV Protection Round Sunglasses (54)</td>\n",
       "      <td>₹188</td>\n",
       "      <td>81% off</td>\n",
       "    </tr>\n",
       "    <tr>\n",
       "      <th>...</th>\n",
       "      <td>...</td>\n",
       "      <td>...</td>\n",
       "      <td>...</td>\n",
       "      <td>...</td>\n",
       "    </tr>\n",
       "    <tr>\n",
       "      <th>95</th>\n",
       "      <td>VINCENT CHASE</td>\n",
       "      <td>by Lenskart UV Protection Aviator Sunglasses (53)</td>\n",
       "      <td>₹999</td>\n",
       "      <td>50% off</td>\n",
       "    </tr>\n",
       "    <tr>\n",
       "      <th>96</th>\n",
       "      <td>Fastrack</td>\n",
       "      <td>UV Protection Wayfarer Sunglasses (Free Size)</td>\n",
       "      <td>₹719</td>\n",
       "      <td>10% off</td>\n",
       "    </tr>\n",
       "    <tr>\n",
       "      <th>97</th>\n",
       "      <td>GANSTA</td>\n",
       "      <td>UV Protection, Gradient Wayfarer Sunglasses (53)</td>\n",
       "      <td>₹296</td>\n",
       "      <td>85% off</td>\n",
       "    </tr>\n",
       "    <tr>\n",
       "      <th>98</th>\n",
       "      <td>povty</td>\n",
       "      <td>UV Protection Retro Square Sunglasses (Free Size)</td>\n",
       "      <td>₹319</td>\n",
       "      <td>68% off</td>\n",
       "    </tr>\n",
       "    <tr>\n",
       "      <th>99</th>\n",
       "      <td>ROZZETTA CRAFT</td>\n",
       "      <td>UV Protection Retro Square Sunglasses (Free Size)</td>\n",
       "      <td>₹474</td>\n",
       "      <td>78% off</td>\n",
       "    </tr>\n",
       "  </tbody>\n",
       "</table>\n",
       "<p>100 rows × 4 columns</p>\n",
       "</div>"
      ],
      "text/plain": [
       "     Sunglass Name                                        Description Price  \\\n",
       "0            NuVew  UV Protection, Mirrored Wayfarer, Rectangular ...  ₹323   \n",
       "1    VINCENT CHASE  by Lenskart Polarized, UV Protection Aviator S...  ₹999   \n",
       "2             SRPM             UV Protection Wayfarer Sunglasses (56)  ₹188   \n",
       "3        Elligator                UV Protection Round Sunglasses (54)  ₹248   \n",
       "4   kingsunglasses                UV Protection Round Sunglasses (54)  ₹188   \n",
       "..             ...                                                ...   ...   \n",
       "95   VINCENT CHASE  by Lenskart UV Protection Aviator Sunglasses (53)  ₹999   \n",
       "96        Fastrack      UV Protection Wayfarer Sunglasses (Free Size)  ₹719   \n",
       "97          GANSTA   UV Protection, Gradient Wayfarer Sunglasses (53)  ₹296   \n",
       "98           povty  UV Protection Retro Square Sunglasses (Free Size)  ₹319   \n",
       "99  ROZZETTA CRAFT  UV Protection Retro Square Sunglasses (Free Size)  ₹474   \n",
       "\n",
       "   Discount  \n",
       "0   69% off  \n",
       "1   60% off  \n",
       "2   85% off  \n",
       "3   90% off  \n",
       "4   81% off  \n",
       "..      ...  \n",
       "95  50% off  \n",
       "96  10% off  \n",
       "97  85% off  \n",
       "98  68% off  \n",
       "99  78% off  \n",
       "\n",
       "[100 rows x 4 columns]"
      ]
     },
     "execution_count": 119,
     "metadata": {},
     "output_type": "execute_result"
    }
   ],
   "source": [
    "Flipkart_sunglass=pd.DataFrame({\"Sunglass Name\":final_product_list,\"Description\":final_product_descr,\"Price\":final_product_price,\"Discount\":final_product_discount})\n",
    "Flipkart_sunglass"
   ]
  },
  {
   "cell_type": "code",
   "execution_count": null,
   "id": "51dc8da2",
   "metadata": {},
   "outputs": [],
   "source": []
  },
  {
   "cell_type": "code",
   "execution_count": null,
   "id": "16be3191",
   "metadata": {},
   "outputs": [],
   "source": []
  }
 ],
 "metadata": {
  "kernelspec": {
   "display_name": "Python 3",
   "language": "python",
   "name": "python3"
  },
  "language_info": {
   "codemirror_mode": {
    "name": "ipython",
    "version": 3
   },
   "file_extension": ".py",
   "mimetype": "text/x-python",
   "name": "python",
   "nbconvert_exporter": "python",
   "pygments_lexer": "ipython3",
   "version": "3.8.8"
  }
 },
 "nbformat": 4,
 "nbformat_minor": 5
}
