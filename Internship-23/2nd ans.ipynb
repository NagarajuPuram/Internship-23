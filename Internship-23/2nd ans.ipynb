{
 "cells": [
  {
   "cell_type": "markdown",
   "id": "d21863ec",
   "metadata": {},
   "source": [
    "Q2: Write a python program to scrape data for “Data Scientist” Job position in “Bangalore” location. You have to scrape the job-title, job-location, company_name. You have to scrape first 10 jobs data.\n",
    "This task will be done in following steps:\n",
    "1. First get the webpage https://www.naukri.com/\n",
    "2. Enter “Data Scientist” in “Skill, Designations, Companies” field and enter “Bangalore” in “enter the location” field.\n",
    "3. Then click the search button.\n",
    "4. Then scrape the data for the first 10 jobs results you get.\n",
    "5. Finally create a dataframe of the scraped data.\n",
    "Note: All of the above steps have to be done in code. No step is to be done manually."
   ]
  },
  {
   "cell_type": "code",
   "execution_count": 1,
   "id": "4d19b1bf",
   "metadata": {},
   "outputs": [],
   "source": [
    "# import required liabraries\n",
    "import selenium\n",
    "from selenium import webdriver\n",
    "import pandas as pd\n",
    "import warnings\n",
    "warnings.filterwarnings(\"ignore\")"
   ]
  },
  {
   "cell_type": "code",
   "execution_count": 2,
   "id": "99614746",
   "metadata": {},
   "outputs": [],
   "source": [
    "# coonection to webdriver\n",
    "driver=webdriver.Chrome(\"D:\\Internship Problems\\selenium\\chromedriver_win32\\chromedriver.exe\")"
   ]
  },
  {
   "cell_type": "code",
   "execution_count": 3,
   "id": "6b8e9d1b",
   "metadata": {},
   "outputs": [],
   "source": [
    "# connect to url\n",
    "url=\"https://www.naukri.com/\"\n",
    "driver.get(url)"
   ]
  },
  {
   "cell_type": "code",
   "execution_count": 5,
   "id": "df246ce9",
   "metadata": {},
   "outputs": [
    {
     "data": {
      "text/plain": [
       "<selenium.webdriver.remote.webelement.WebElement (session=\"b1f484633895333a04fd652cf02c6903\", element=\"54a43fac-d8fe-433f-a5e5-76e3368b098d\")>"
      ]
     },
     "execution_count": 5,
     "metadata": {},
     "output_type": "execute_result"
    }
   ],
   "source": [
    "# finding the webelement search job bar using id\n",
    "search_job=driver.find_element_by_xpath(\"/html/body/div/div[2]/div[3]/div/div/div[1]/div/div/div/input\")\n",
    "search_job"
   ]
  },
  {
   "cell_type": "code",
   "execution_count": 6,
   "id": "8d56c493",
   "metadata": {},
   "outputs": [],
   "source": [
    "# write on search bar\n",
    "search_job.send_keys(\"Data Scientist\")"
   ]
  },
  {
   "cell_type": "code",
   "execution_count": 9,
   "id": "5d927b1b",
   "metadata": {},
   "outputs": [
    {
     "data": {
      "text/plain": [
       "<selenium.webdriver.remote.webelement.WebElement (session=\"b1f484633895333a04fd652cf02c6903\", element=\"2a116469-8907-4e7e-81d1-c7f64129da56\")>"
      ]
     },
     "execution_count": 9,
     "metadata": {},
     "output_type": "execute_result"
    }
   ],
   "source": [
    "# finding the webelement search bar for location\n",
    "location=driver.find_element_by_xpath(\"/html/body/div/div[2]/div[3]/div/div/div[3]/div/div/div/input\")\n",
    "location"
   ]
  },
  {
   "cell_type": "code",
   "execution_count": 10,
   "id": "bfc41f62",
   "metadata": {},
   "outputs": [],
   "source": [
    "# write in location search bar\n",
    "location.send_keys(\"Bengalore\")"
   ]
  },
  {
   "cell_type": "code",
   "execution_count": 12,
   "id": "92f00968",
   "metadata": {},
   "outputs": [
    {
     "data": {
      "text/plain": [
       "<selenium.webdriver.remote.webelement.WebElement (session=\"b1f484633895333a04fd652cf02c6903\", element=\"3187eadb-e287-4c97-8c76-f11779266ebc\")>"
      ]
     },
     "execution_count": 12,
     "metadata": {},
     "output_type": "execute_result"
    }
   ],
   "source": [
    "# clicking on search button\n",
    "search_btn=driver.find_element_by_xpath(\"/html/body/div/div[2]/div[3]/div/div/div[6]\")\n",
    "search_btn"
   ]
  },
  {
   "cell_type": "code",
   "execution_count": 13,
   "id": "93c44b31",
   "metadata": {},
   "outputs": [],
   "source": [
    "search_btn.click()"
   ]
  },
  {
   "cell_type": "code",
   "execution_count": 14,
   "id": "cafb9096",
   "metadata": {},
   "outputs": [
    {
     "data": {
      "text/plain": [
       "[<selenium.webdriver.remote.webelement.WebElement (session=\"b1f484633895333a04fd652cf02c6903\", element=\"184d9cf4-7964-4897-abdb-e902083f1da0\")>,\n",
       " <selenium.webdriver.remote.webelement.WebElement (session=\"b1f484633895333a04fd652cf02c6903\", element=\"35be27c1-fc03-4bb6-add7-b95eed696ad5\")>,\n",
       " <selenium.webdriver.remote.webelement.WebElement (session=\"b1f484633895333a04fd652cf02c6903\", element=\"666b40a5-e89f-4046-b68e-7b0391c5ecd4\")>,\n",
       " <selenium.webdriver.remote.webelement.WebElement (session=\"b1f484633895333a04fd652cf02c6903\", element=\"03a77d12-badd-4aea-88b6-d99d9f0ef069\")>,\n",
       " <selenium.webdriver.remote.webelement.WebElement (session=\"b1f484633895333a04fd652cf02c6903\", element=\"0ec7e52c-87b6-46bb-bbf5-591afd9d311a\")>,\n",
       " <selenium.webdriver.remote.webelement.WebElement (session=\"b1f484633895333a04fd652cf02c6903\", element=\"2a9108e6-d3ac-4278-a11a-ad6738091fa6\")>,\n",
       " <selenium.webdriver.remote.webelement.WebElement (session=\"b1f484633895333a04fd652cf02c6903\", element=\"37ffbe99-6a56-4b67-ae3c-5b8ea72b6623\")>,\n",
       " <selenium.webdriver.remote.webelement.WebElement (session=\"b1f484633895333a04fd652cf02c6903\", element=\"bbf8df1c-abee-474c-b9cf-6e123620536e\")>,\n",
       " <selenium.webdriver.remote.webelement.WebElement (session=\"b1f484633895333a04fd652cf02c6903\", element=\"933f8d78-5698-4bbb-a8b1-68bb76b4a714\")>,\n",
       " <selenium.webdriver.remote.webelement.WebElement (session=\"b1f484633895333a04fd652cf02c6903\", element=\"f3c9e1e1-9de3-48f3-a0f8-33b879014f23\")>,\n",
       " <selenium.webdriver.remote.webelement.WebElement (session=\"b1f484633895333a04fd652cf02c6903\", element=\"7e204b8e-3c19-429a-8486-3acb7ca2bd9f\")>,\n",
       " <selenium.webdriver.remote.webelement.WebElement (session=\"b1f484633895333a04fd652cf02c6903\", element=\"e682b503-7a2e-4add-99e5-d31d05fe165f\")>,\n",
       " <selenium.webdriver.remote.webelement.WebElement (session=\"b1f484633895333a04fd652cf02c6903\", element=\"dd5a49af-322f-421f-bff3-b8992c5cf41e\")>,\n",
       " <selenium.webdriver.remote.webelement.WebElement (session=\"b1f484633895333a04fd652cf02c6903\", element=\"b7a69e97-5a44-4bd3-8bfc-324f4fbf55bf\")>,\n",
       " <selenium.webdriver.remote.webelement.WebElement (session=\"b1f484633895333a04fd652cf02c6903\", element=\"ff6d3aec-9e24-460e-88ff-5638334e8e8a\")>,\n",
       " <selenium.webdriver.remote.webelement.WebElement (session=\"b1f484633895333a04fd652cf02c6903\", element=\"5a67bd9d-20ea-4aa5-8f2d-c124aa9facf2\")>,\n",
       " <selenium.webdriver.remote.webelement.WebElement (session=\"b1f484633895333a04fd652cf02c6903\", element=\"7f706a0d-8332-467a-abde-6de3561eac6b\")>,\n",
       " <selenium.webdriver.remote.webelement.WebElement (session=\"b1f484633895333a04fd652cf02c6903\", element=\"ea802ea5-a2a7-45ff-932a-8ff96968fe52\")>,\n",
       " <selenium.webdriver.remote.webelement.WebElement (session=\"b1f484633895333a04fd652cf02c6903\", element=\"beac18a3-ca92-4095-88b4-c6076346b178\")>,\n",
       " <selenium.webdriver.remote.webelement.WebElement (session=\"b1f484633895333a04fd652cf02c6903\", element=\"49055206-2f81-44e8-b2ba-f95305c07ab7\")>]"
      ]
     },
     "execution_count": 14,
     "metadata": {},
     "output_type": "execute_result"
    }
   ],
   "source": [
    "# extracting job title\n",
    "title_tag=driver.find_elements_by_xpath('//a[@class=\"title fw500 ellipsis\"]')\n",
    "title_tag"
   ]
  },
  {
   "cell_type": "code",
   "execution_count": 15,
   "id": "ff7f47bc",
   "metadata": {},
   "outputs": [
    {
     "data": {
      "text/plain": [
       "['Sr Data Scientist',\n",
       " 'Senior/Lead Data Scientist - (Revenue Management)',\n",
       " 'Senior/Lead - Data Scientist (Supply Chain)',\n",
       " 'Associate Data Scientist',\n",
       " 'Junior Programmer - Data Scientist',\n",
       " 'Lead/Senior Data Scientist (NLP)',\n",
       " 'Sr . Data Scientist',\n",
       " 'Sr. Data Scientist',\n",
       " 'Senior Data Scientist, Data Sciences',\n",
       " 'Lead Data Scientist']"
      ]
     },
     "execution_count": 15,
     "metadata": {},
     "output_type": "execute_result"
    }
   ],
   "source": [
    "# find the text of job title\n",
    "titles=[]\n",
    "for i in title_tag:\n",
    "    titles.append(i.text)\n",
    "titles=titles[:10]\n",
    "titles"
   ]
  },
  {
   "cell_type": "code",
   "execution_count": 16,
   "id": "a1001a48",
   "metadata": {},
   "outputs": [
    {
     "data": {
      "text/plain": [
       "[<selenium.webdriver.remote.webelement.WebElement (session=\"b1f484633895333a04fd652cf02c6903\", element=\"9e410977-db60-4dea-8b56-88caf173272e\")>,\n",
       " <selenium.webdriver.remote.webelement.WebElement (session=\"b1f484633895333a04fd652cf02c6903\", element=\"61561a12-1898-49a9-be85-e0fe0589646c\")>,\n",
       " <selenium.webdriver.remote.webelement.WebElement (session=\"b1f484633895333a04fd652cf02c6903\", element=\"5e018db6-f099-4897-a9e8-7164233eb8db\")>,\n",
       " <selenium.webdriver.remote.webelement.WebElement (session=\"b1f484633895333a04fd652cf02c6903\", element=\"66e0bf07-9e91-45aa-bb29-d51723257be2\")>,\n",
       " <selenium.webdriver.remote.webelement.WebElement (session=\"b1f484633895333a04fd652cf02c6903\", element=\"003e4897-b8aa-4056-8b34-a7bfe8aad9c8\")>,\n",
       " <selenium.webdriver.remote.webelement.WebElement (session=\"b1f484633895333a04fd652cf02c6903\", element=\"dee4fc7a-8fb7-48ee-895d-0b8b0107895e\")>,\n",
       " <selenium.webdriver.remote.webelement.WebElement (session=\"b1f484633895333a04fd652cf02c6903\", element=\"a375b5b0-1f18-41c1-bfee-eb8729a4531d\")>,\n",
       " <selenium.webdriver.remote.webelement.WebElement (session=\"b1f484633895333a04fd652cf02c6903\", element=\"e8484e42-590f-4339-9c2f-e1c61547c9d7\")>,\n",
       " <selenium.webdriver.remote.webelement.WebElement (session=\"b1f484633895333a04fd652cf02c6903\", element=\"8f822f39-3107-4d28-81d1-bb44e523edd7\")>,\n",
       " <selenium.webdriver.remote.webelement.WebElement (session=\"b1f484633895333a04fd652cf02c6903\", element=\"21a8880b-c06d-414a-90b4-7213a914e9f9\")>,\n",
       " <selenium.webdriver.remote.webelement.WebElement (session=\"b1f484633895333a04fd652cf02c6903\", element=\"72cd98ae-c7ea-494e-ac92-8aa30767324f\")>,\n",
       " <selenium.webdriver.remote.webelement.WebElement (session=\"b1f484633895333a04fd652cf02c6903\", element=\"76b9a0d7-d9e7-4df4-9194-4f3dc5d9613f\")>,\n",
       " <selenium.webdriver.remote.webelement.WebElement (session=\"b1f484633895333a04fd652cf02c6903\", element=\"916b86a0-5489-471d-af03-9715c9ca990e\")>,\n",
       " <selenium.webdriver.remote.webelement.WebElement (session=\"b1f484633895333a04fd652cf02c6903\", element=\"28a8c247-52f6-4af8-9cfa-0d2c777ba668\")>,\n",
       " <selenium.webdriver.remote.webelement.WebElement (session=\"b1f484633895333a04fd652cf02c6903\", element=\"cc7da5d4-7e47-478f-acf6-5bf0cd152ca7\")>,\n",
       " <selenium.webdriver.remote.webelement.WebElement (session=\"b1f484633895333a04fd652cf02c6903\", element=\"eac52b22-6a4a-4e34-8a63-bbc91cc49493\")>,\n",
       " <selenium.webdriver.remote.webelement.WebElement (session=\"b1f484633895333a04fd652cf02c6903\", element=\"60d83ef8-8f5a-4b2d-b12d-7780261b4b6a\")>,\n",
       " <selenium.webdriver.remote.webelement.WebElement (session=\"b1f484633895333a04fd652cf02c6903\", element=\"48f7dd0d-a574-4d09-9503-7a6ebf1d9590\")>,\n",
       " <selenium.webdriver.remote.webelement.WebElement (session=\"b1f484633895333a04fd652cf02c6903\", element=\"94c56ac2-ab19-4b4c-9289-c7e7083a1ef9\")>,\n",
       " <selenium.webdriver.remote.webelement.WebElement (session=\"b1f484633895333a04fd652cf02c6903\", element=\"523668ec-1dbf-4953-b5e8-99a950350153\")>]"
      ]
     },
     "execution_count": 16,
     "metadata": {},
     "output_type": "execute_result"
    }
   ],
   "source": [
    "# scrapping the location\n",
    "location_tag=driver.find_elements_by_xpath('//li[@class=\"fleft grey-text br2 placeHolderLi location\"]')\n",
    "location_tag"
   ]
  },
  {
   "cell_type": "code",
   "execution_count": 17,
   "id": "764cce4a",
   "metadata": {},
   "outputs": [
    {
     "data": {
      "text/plain": [
       "['Bangalore/Bengaluru',\n",
       " 'Bangalore/Bengaluru',\n",
       " 'Bangalore/Bengaluru',\n",
       " 'Chennai, Bangalore/Bengaluru',\n",
       " 'Bangalore/Bengaluru',\n",
       " 'Bangalore/Bengaluru\\n(WFH during Covid)',\n",
       " 'Mumbai, Bangalore/Bengaluru',\n",
       " 'Pune, Bangalore/Bengaluru, Mumbai (All Areas)\\n(WFH during Covid)',\n",
       " 'Bangalore/Bengaluru',\n",
       " 'Bangalore/Bengaluru\\n(WFH during Covid)']"
      ]
     },
     "execution_count": 17,
     "metadata": {},
     "output_type": "execute_result"
    }
   ],
   "source": [
    "# scrapping all locations\n",
    "location=[]\n",
    "for i in location_tag:\n",
    "    location.append(i.text)\n",
    "location=location[:10]\n",
    "location"
   ]
  },
  {
   "cell_type": "code",
   "execution_count": 18,
   "id": "18ce19f8",
   "metadata": {},
   "outputs": [
    {
     "data": {
      "text/plain": [
       "[<selenium.webdriver.remote.webelement.WebElement (session=\"b1f484633895333a04fd652cf02c6903\", element=\"6e828466-bd85-4507-ab16-c7618670175b\")>,\n",
       " <selenium.webdriver.remote.webelement.WebElement (session=\"b1f484633895333a04fd652cf02c6903\", element=\"cfcb1785-afbf-446a-ac60-b615f82e036f\")>,\n",
       " <selenium.webdriver.remote.webelement.WebElement (session=\"b1f484633895333a04fd652cf02c6903\", element=\"ab58ac83-9e51-4e50-9776-97861609564b\")>,\n",
       " <selenium.webdriver.remote.webelement.WebElement (session=\"b1f484633895333a04fd652cf02c6903\", element=\"e62f0903-5451-4c5b-ac5d-34233ca9c93d\")>,\n",
       " <selenium.webdriver.remote.webelement.WebElement (session=\"b1f484633895333a04fd652cf02c6903\", element=\"cdbeb6eb-56b8-4532-b0be-2fad953f1cc9\")>,\n",
       " <selenium.webdriver.remote.webelement.WebElement (session=\"b1f484633895333a04fd652cf02c6903\", element=\"0726bfbc-c9b7-4fa9-8261-8471789cb728\")>,\n",
       " <selenium.webdriver.remote.webelement.WebElement (session=\"b1f484633895333a04fd652cf02c6903\", element=\"daba4873-5250-4f67-a509-da3c97e000db\")>,\n",
       " <selenium.webdriver.remote.webelement.WebElement (session=\"b1f484633895333a04fd652cf02c6903\", element=\"26b77f5f-3be6-4249-bb3a-ea4d2cfd19b9\")>,\n",
       " <selenium.webdriver.remote.webelement.WebElement (session=\"b1f484633895333a04fd652cf02c6903\", element=\"929518e2-f721-4c13-9fe0-3189e3d924d9\")>,\n",
       " <selenium.webdriver.remote.webelement.WebElement (session=\"b1f484633895333a04fd652cf02c6903\", element=\"a49200bc-4221-4563-98b9-c0d7b251fa37\")>,\n",
       " <selenium.webdriver.remote.webelement.WebElement (session=\"b1f484633895333a04fd652cf02c6903\", element=\"b19475f9-fd4d-42ce-bfe9-3617a8a7a116\")>,\n",
       " <selenium.webdriver.remote.webelement.WebElement (session=\"b1f484633895333a04fd652cf02c6903\", element=\"b52101c5-9f69-4ff9-8da8-dae94da3f40d\")>,\n",
       " <selenium.webdriver.remote.webelement.WebElement (session=\"b1f484633895333a04fd652cf02c6903\", element=\"2adfb162-62ca-48cb-959b-fde36c761e8d\")>,\n",
       " <selenium.webdriver.remote.webelement.WebElement (session=\"b1f484633895333a04fd652cf02c6903\", element=\"237a346d-9c47-417f-a85e-aa1a4bebf770\")>,\n",
       " <selenium.webdriver.remote.webelement.WebElement (session=\"b1f484633895333a04fd652cf02c6903\", element=\"8f4bc6bf-0500-4dc4-a125-f9b994bf095d\")>,\n",
       " <selenium.webdriver.remote.webelement.WebElement (session=\"b1f484633895333a04fd652cf02c6903\", element=\"87fa300f-cc75-4e96-a90c-f70112c672c7\")>,\n",
       " <selenium.webdriver.remote.webelement.WebElement (session=\"b1f484633895333a04fd652cf02c6903\", element=\"b17c6727-3473-40ec-8fa4-c2acdbef39d5\")>,\n",
       " <selenium.webdriver.remote.webelement.WebElement (session=\"b1f484633895333a04fd652cf02c6903\", element=\"3c123b1f-9eda-4e92-818b-57c4866e0388\")>,\n",
       " <selenium.webdriver.remote.webelement.WebElement (session=\"b1f484633895333a04fd652cf02c6903\", element=\"7a8978de-8dd0-4bb8-ab13-4b748cca7f1c\")>,\n",
       " <selenium.webdriver.remote.webelement.WebElement (session=\"b1f484633895333a04fd652cf02c6903\", element=\"18286d91-ef7b-4352-9357-4d5125c82dd8\")>]"
      ]
     },
     "execution_count": 18,
     "metadata": {},
     "output_type": "execute_result"
    }
   ],
   "source": [
    "# scrapping company name\n",
    "company_tag=driver.find_elements_by_xpath('//a[@class=\"subTitle ellipsis fleft\"]')\n",
    "company_tag"
   ]
  },
  {
   "cell_type": "code",
   "execution_count": 19,
   "id": "67c3c978",
   "metadata": {},
   "outputs": [
    {
     "data": {
      "text/plain": [
       "['Siemens',\n",
       " 'o9 Solutions Management India Private Limited',\n",
       " 'o9 Solutions Management India Private Limited',\n",
       " 'Shell',\n",
       " 'GSK India',\n",
       " 'Samya.AI A FRACTAL Entity',\n",
       " 'RKSV',\n",
       " 'NutaNXT Technologies',\n",
       " 'Vmware',\n",
       " 'Gadgeon Smart Systems']"
      ]
     },
     "execution_count": 19,
     "metadata": {},
     "output_type": "execute_result"
    }
   ],
   "source": [
    "company_name=[]\n",
    "for i in company_tag:\n",
    "    company_name.append(i.text)\n",
    "company_name=company_name[:10]\n",
    "company_name"
   ]
  },
  {
   "cell_type": "code",
   "execution_count": 21,
   "id": "36ef099c",
   "metadata": {},
   "outputs": [
    {
     "data": {
      "text/html": [
       "<div>\n",
       "<style scoped>\n",
       "    .dataframe tbody tr th:only-of-type {\n",
       "        vertical-align: middle;\n",
       "    }\n",
       "\n",
       "    .dataframe tbody tr th {\n",
       "        vertical-align: top;\n",
       "    }\n",
       "\n",
       "    .dataframe thead th {\n",
       "        text-align: right;\n",
       "    }\n",
       "</style>\n",
       "<table border=\"1\" class=\"dataframe\">\n",
       "  <thead>\n",
       "    <tr style=\"text-align: right;\">\n",
       "      <th></th>\n",
       "      <th>Job Title</th>\n",
       "      <th>Company Name</th>\n",
       "      <th>Location</th>\n",
       "    </tr>\n",
       "  </thead>\n",
       "  <tbody>\n",
       "    <tr>\n",
       "      <th>0</th>\n",
       "      <td>Sr Data Scientist</td>\n",
       "      <td>Siemens</td>\n",
       "      <td>Bangalore/Bengaluru</td>\n",
       "    </tr>\n",
       "    <tr>\n",
       "      <th>1</th>\n",
       "      <td>Senior/Lead Data Scientist - (Revenue Management)</td>\n",
       "      <td>o9 Solutions Management India Private Limited</td>\n",
       "      <td>Bangalore/Bengaluru</td>\n",
       "    </tr>\n",
       "    <tr>\n",
       "      <th>2</th>\n",
       "      <td>Senior/Lead - Data Scientist (Supply Chain)</td>\n",
       "      <td>o9 Solutions Management India Private Limited</td>\n",
       "      <td>Bangalore/Bengaluru</td>\n",
       "    </tr>\n",
       "    <tr>\n",
       "      <th>3</th>\n",
       "      <td>Associate Data Scientist</td>\n",
       "      <td>Shell</td>\n",
       "      <td>Chennai, Bangalore/Bengaluru</td>\n",
       "    </tr>\n",
       "    <tr>\n",
       "      <th>4</th>\n",
       "      <td>Junior Programmer - Data Scientist</td>\n",
       "      <td>GSK India</td>\n",
       "      <td>Bangalore/Bengaluru</td>\n",
       "    </tr>\n",
       "    <tr>\n",
       "      <th>5</th>\n",
       "      <td>Lead/Senior Data Scientist (NLP)</td>\n",
       "      <td>Samya.AI A FRACTAL Entity</td>\n",
       "      <td>Bangalore/Bengaluru\\n(WFH during Covid)</td>\n",
       "    </tr>\n",
       "    <tr>\n",
       "      <th>6</th>\n",
       "      <td>Sr . Data Scientist</td>\n",
       "      <td>RKSV</td>\n",
       "      <td>Mumbai, Bangalore/Bengaluru</td>\n",
       "    </tr>\n",
       "    <tr>\n",
       "      <th>7</th>\n",
       "      <td>Sr. Data Scientist</td>\n",
       "      <td>NutaNXT Technologies</td>\n",
       "      <td>Pune, Bangalore/Bengaluru, Mumbai (All Areas)\\...</td>\n",
       "    </tr>\n",
       "    <tr>\n",
       "      <th>8</th>\n",
       "      <td>Senior Data Scientist, Data Sciences</td>\n",
       "      <td>Vmware</td>\n",
       "      <td>Bangalore/Bengaluru</td>\n",
       "    </tr>\n",
       "    <tr>\n",
       "      <th>9</th>\n",
       "      <td>Lead Data Scientist</td>\n",
       "      <td>Gadgeon Smart Systems</td>\n",
       "      <td>Bangalore/Bengaluru\\n(WFH during Covid)</td>\n",
       "    </tr>\n",
       "  </tbody>\n",
       "</table>\n",
       "</div>"
      ],
      "text/plain": [
       "                                           Job Title  \\\n",
       "0                                  Sr Data Scientist   \n",
       "1  Senior/Lead Data Scientist - (Revenue Management)   \n",
       "2        Senior/Lead - Data Scientist (Supply Chain)   \n",
       "3                           Associate Data Scientist   \n",
       "4                 Junior Programmer - Data Scientist   \n",
       "5                   Lead/Senior Data Scientist (NLP)   \n",
       "6                                Sr . Data Scientist   \n",
       "7                                 Sr. Data Scientist   \n",
       "8               Senior Data Scientist, Data Sciences   \n",
       "9                                Lead Data Scientist   \n",
       "\n",
       "                                    Company Name  \\\n",
       "0                                        Siemens   \n",
       "1  o9 Solutions Management India Private Limited   \n",
       "2  o9 Solutions Management India Private Limited   \n",
       "3                                          Shell   \n",
       "4                                      GSK India   \n",
       "5                      Samya.AI A FRACTAL Entity   \n",
       "6                                           RKSV   \n",
       "7                           NutaNXT Technologies   \n",
       "8                                         Vmware   \n",
       "9                          Gadgeon Smart Systems   \n",
       "\n",
       "                                            Location  \n",
       "0                                Bangalore/Bengaluru  \n",
       "1                                Bangalore/Bengaluru  \n",
       "2                                Bangalore/Bengaluru  \n",
       "3                       Chennai, Bangalore/Bengaluru  \n",
       "4                                Bangalore/Bengaluru  \n",
       "5            Bangalore/Bengaluru\\n(WFH during Covid)  \n",
       "6                        Mumbai, Bangalore/Bengaluru  \n",
       "7  Pune, Bangalore/Bengaluru, Mumbai (All Areas)\\...  \n",
       "8                                Bangalore/Bengaluru  \n",
       "9            Bangalore/Bengaluru\\n(WFH during Covid)  "
      ]
     },
     "execution_count": 21,
     "metadata": {},
     "output_type": "execute_result"
    }
   ],
   "source": [
    "df=pd.DataFrame({\"Job Title\":titles,\"Company Name\": company_name,\"Location\":location})\n",
    "df"
   ]
  },
  {
   "cell_type": "code",
   "execution_count": null,
   "id": "4566484a",
   "metadata": {},
   "outputs": [],
   "source": []
  }
 ],
 "metadata": {
  "kernelspec": {
   "display_name": "Python 3",
   "language": "python",
   "name": "python3"
  },
  "language_info": {
   "codemirror_mode": {
    "name": "ipython",
    "version": 3
   },
   "file_extension": ".py",
   "mimetype": "text/x-python",
   "name": "python",
   "nbconvert_exporter": "python",
   "pygments_lexer": "ipython3",
   "version": "3.8.8"
  }
 },
 "nbformat": 4,
 "nbformat_minor": 5
}
