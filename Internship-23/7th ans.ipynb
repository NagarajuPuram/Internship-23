{
 "cells": [
  {
   "cell_type": "raw",
   "id": "33ac9052",
   "metadata": {},
   "source": [
    "Q7: Go to the link - https://www.myntra.com/shoes\n",
    "Set Price filter to “Rs. 7149 to Rs. 14099 ” , Color filter to “Black”, as shown inthe below image.\n",
    "Andthen scrape First 100 shoes data you get. The data should include “Brand” of the shoes , Short Shoe description, price of the shoe."
   ]
  },
  {
   "cell_type": "code",
   "execution_count": 1,
   "id": "5fb52e68",
   "metadata": {},
   "outputs": [],
   "source": [
    "# import reqired library\n",
    "import selenium\n",
    "from selenium import webdriver\n",
    "import pandas as pd\n",
    "import warnings\n",
    "warnings.filterwarnings(\"ignore\")"
   ]
  },
  {
   "cell_type": "code",
   "execution_count": 2,
   "id": "45017603",
   "metadata": {},
   "outputs": [],
   "source": [
    "# coonection to webdriver\n",
    "driver=webdriver.Chrome(\"D:\\Internship Problems\\selenium\\chromedriver_win32\\chromedriver.exe\")"
   ]
  },
  {
   "cell_type": "code",
   "execution_count": 3,
   "id": "bc0cf358",
   "metadata": {},
   "outputs": [],
   "source": [
    "# connecting to url of site \n",
    "url=\"https://www.myntra.com/shoes\"\n",
    "driver.get(url)"
   ]
  },
  {
   "cell_type": "code",
   "execution_count": 4,
   "id": "f2a0105f",
   "metadata": {},
   "outputs": [
    {
     "data": {
      "text/plain": [
       "<selenium.webdriver.remote.webelement.WebElement (session=\"4deb2ba547e1ce4d9dd7dca87f42256f\", element=\"148e2cfc-b59f-491b-83e7-e570006aac58\")>"
      ]
     },
     "execution_count": 4,
     "metadata": {},
     "output_type": "execute_result"
    }
   ],
   "source": [
    "# clicking on price filter check box using xpath\n",
    "price_filter=driver.find_element_by_xpath('/html/body/div[2]/div/div[1]/main/div[3]/div[1]/section/div/div[5]/ul/li[2]/label/div')\n",
    "price_filter"
   ]
  },
  {
   "cell_type": "code",
   "execution_count": 5,
   "id": "ac300a7a",
   "metadata": {},
   "outputs": [],
   "source": [
    "# clicking on filter\n",
    "price_filter.click()"
   ]
  },
  {
   "cell_type": "code",
   "execution_count": 6,
   "id": "2664eef6",
   "metadata": {},
   "outputs": [
    {
     "data": {
      "text/plain": [
       "<selenium.webdriver.remote.webelement.WebElement (session=\"4deb2ba547e1ce4d9dd7dca87f42256f\", element=\"f99a10ff-f327-4215-8973-f881af929b64\")>"
      ]
     },
     "execution_count": 6,
     "metadata": {},
     "output_type": "execute_result"
    }
   ],
   "source": [
    "# clicking on price filter check box using xpath\n",
    "colour_filter=driver.find_element_by_xpath('/html/body/div[2]/div/div[1]/main/div[3]/div[1]/section/div/div[6]/ul/li[1]/label/div')\n",
    "colour_filter"
   ]
  },
  {
   "cell_type": "code",
   "execution_count": 7,
   "id": "c35ba9bd",
   "metadata": {},
   "outputs": [],
   "source": [
    "# clicking on filter\n",
    "colour_filter.click()"
   ]
  },
  {
   "cell_type": "code",
   "execution_count": 8,
   "id": "fe669656",
   "metadata": {},
   "outputs": [
    {
     "data": {
      "text/plain": [
       "50"
      ]
     },
     "execution_count": 8,
     "metadata": {},
     "output_type": "execute_result"
    }
   ],
   "source": [
    "# scrapping product names usign xpath\n",
    "product_names1=driver.find_elements_by_xpath('//div[@class=\"product-productMetaInfo\"]')\n",
    "len(product_names1)"
   ]
  },
  {
   "cell_type": "code",
   "execution_count": 9,
   "id": "5fd29ddc",
   "metadata": {},
   "outputs": [
    {
     "data": {
      "text/plain": [
       "['Puma,Men Running Shoes,Rs. 7149Rs. 12999(45% OFF),Only Few Left!',\n",
       " 'Puma,Men Magnify Nitro Running,Rs. 8449Rs. 12999(35% OFF)',\n",
       " 'Puma,Men Electrify Nitro Running,Rs. 7499Rs. 9999(25% OFF)',\n",
       " 'Saint G,Men Mid-Top Chelsea Boots,Rs. 9810Rs. 10900(10% OFF)',\n",
       " 'Puma,Women Magnify Nitro Shoes,Rs. 7799Rs. 12999(40% OFF)',\n",
       " 'RARE RABBIT,Men Leather Flat Boots,Rs. 7999Rs. 9999(20% OFF)',\n",
       " 'Bugatti,Men Running Shoes,Rs. 7999Rs. 9999(20% OFF)',\n",
       " 'Cole Haan,Men GENERATION ZEROGRAND STITCHLITE,Rs. 11999,Only Few Left!',\n",
       " 'DAVINCHI,Men Textured Formal Leather Loafers,Rs. 8990',\n",
       " 'ASICS,Men Colourblocked PU Sneakers,Rs. 9999',\n",
       " 'Geox,Men Leather Flat Boots,Rs. 8399Rs. 11999(30% OFF),Only Few Left!',\n",
       " 'Saint G,Men Leather Chelsea Boots,Rs. 10710Rs. 11900(10% OFF)',\n",
       " 'DAVINCHI,Men Solid Leather Formal Derbys,Rs. 8990',\n",
       " 'Geox,Women Leather Pumps,Rs. 8999,Only Few Left!',\n",
       " 'Bugatti,Men Textured Leather High-Top Flat Boots,Rs. 8399Rs. 11999(30% OFF)',\n",
       " 'J.FONTINI,Men Textured Leather Loafers,Rs. 7990',\n",
       " 'RARE RABBIT,Men Textured Leather Loafers,Rs. 7149Rs. 10999(35% OFF)',\n",
       " 'Saint G,Women Leather Loafers,Rs. 7500Rs. 9500(Rs. 2000 OFF),Only Few Left!',\n",
       " 'Heel & Buckle London,Men Formal Leather Derby,Rs. 7990',\n",
       " 'Saint G,Leather Wedge Heeled Boots with Buckles,Rs. 13410Rs. 14900(10% OFF)',\n",
       " 'Saint G,Embellished Leather Block Heeled Boots,Rs. 9546Rs. 12900(26% OFF)',\n",
       " 'Puma,Women Velocity NITRO Runners,Rs. 7149Rs. 10999(35% OFF),Only Few Left!',\n",
       " 'Tommy Hilfiger,Women Hybrid Leather Sneakers,Rs. 7999,Only Few Left!',\n",
       " 'Bugatti,Men Black Walking Shoes,Rs. 7199Rs. 8999(20% OFF),Only Few Left!',\n",
       " 'Louis Philippe,Men Leather Formal Slip-Ons,Rs. 8499,Only Few Left!',\n",
       " 'J.FONTINI,Men Textured Leather Loafers,Rs. 7990',\n",
       " 'Xtep,Men Running Shoes,Rs. 7699,Only Few Left!',\n",
       " 'J.FONTINI,Men Black Leather Loafers,Rs. 8490',\n",
       " 'DAVINCHI,Ustraa black,Rs. 8990',\n",
       " 'Geox,Men Leather Loafers,Rs. 9999,Only Few Left!',\n",
       " 'DAVINCHI,Men Formal Leather Slip-Ons,Rs. 8990',\n",
       " 'Geox,Women Solid Leather Pumps,Rs. 7999,Only Few Left!',\n",
       " 'Geox,Women Solid Leather Pumps,Rs. 10990,Only Few Left!',\n",
       " 'DAVINCHI,Men Textured Formal Leather Loafers,Rs. 8990',\n",
       " 'Pavers England,Men Leather Driving Shoes,Rs. 7499,Only Few Left!',\n",
       " 'Saint G,Women Leather Heeled Boots,Rs. 10710Rs. 11900(10% OFF),Only Few Left!',\n",
       " 'Cole Haan,Women Open Toe Flats,Rs. 11999',\n",
       " 'Geox,Women Solid Leather Ballerinas,Rs. 8999',\n",
       " 'Cole Haan,Women Solid Leather Ballerinas,Rs. 13999',\n",
       " 'DAVINCHI,Men Textured Leather Formal Slip-Ons,Rs. 8990,Only Few Left!',\n",
       " 'Pavers England,Men Solid Leather Formal Loafers,Rs. 7999,Only Few Left!',\n",
       " 'Pavers England,Men Textured Leather Formal Slip-On Shoes,Rs. 9999,Only Few Left!',\n",
       " 'Saint G,Leather Block Heeled Boots,Rs. 8550Rs. 9500(Rs. 950 OFF),Only Few Left!',\n",
       " 'Pavers England,Men Solid Leather Formal Derbys,Rs. 8999,Only Few Left!',\n",
       " 'Saint G,Leather Kitten Heeled Boots,Rs. 8910Rs. 9900(Rs. 990 OFF),Only Few Left!',\n",
       " 'Saint G,Leather Block Heeled Boots with Bows,Rs. 12510Rs. 13900(10% OFF),Only Few Left!',\n",
       " 'Saint G,Suede Party High-Top Block Heeled Boots,Rs. 9450Rs. 10500(10% OFF)',\n",
       " 'Saint G,Suede High-Top Flatform Heeled Boots,Rs. 12150Rs. 13500(10% OFF)',\n",
       " 'Saint G,Leather Platform Heeled Boots,Rs. 9810Rs. 10900(10% OFF),Only Few Left!',\n",
       " 'Geox,Women Chunky Sneakers,Rs. 9999,Only Few Left!']"
      ]
     },
     "execution_count": 9,
     "metadata": {},
     "output_type": "execute_result"
    }
   ],
   "source": [
    "product_1=[]\n",
    "for i in product_names1:\n",
    "    product_1.append(i.text.replace('\\n',(',')))\n",
    "len(product_1)\n",
    "\n",
    "product_1=product_1\n",
    "product_1"
   ]
  },
  {
   "cell_type": "code",
   "execution_count": null,
   "id": "a0a1819f",
   "metadata": {},
   "outputs": [],
   "source": []
  },
  {
   "cell_type": "code",
   "execution_count": null,
   "id": "019bc713",
   "metadata": {},
   "outputs": [],
   "source": []
  }
 ],
 "metadata": {
  "kernelspec": {
   "display_name": "Python 3",
   "language": "python",
   "name": "python3"
  },
  "language_info": {
   "codemirror_mode": {
    "name": "ipython",
    "version": 3
   },
   "file_extension": ".py",
   "mimetype": "text/x-python",
   "name": "python",
   "nbconvert_exporter": "python",
   "pygments_lexer": "ipython3",
   "version": "3.8.8"
  }
 },
 "nbformat": 4,
 "nbformat_minor": 5
}
