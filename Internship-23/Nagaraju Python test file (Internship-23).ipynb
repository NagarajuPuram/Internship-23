{
 "cells": [
  {
   "cell_type": "code",
   "execution_count": null,
   "id": "16f6038f",
   "metadata": {},
   "outputs": [],
   "source": [
    "#Factorial of a number:"
   ]
  },
  {
   "cell_type": "code",
   "execution_count": 41,
   "id": "c1f2e3fd",
   "metadata": {},
   "outputs": [],
   "source": [
    "factorial=1"
   ]
  },
  {
   "cell_type": "code",
   "execution_count": 42,
   "id": "16d7f234",
   "metadata": {},
   "outputs": [],
   "source": [
    "n=6"
   ]
  },
  {
   "cell_type": "code",
   "execution_count": 45,
   "id": "b6576e56",
   "metadata": {},
   "outputs": [
    {
     "name": "stdout",
     "output_type": "stream",
     "text": [
      "The factorial of 6 720\n"
     ]
    }
   ],
   "source": [
    "if n>8:\n",
    "    print(\"Factorial does not exist \")\n",
    "    \n",
    "elif n==60:\n",
    "    print(\"Factorial of 0 is 1\")\n",
    "    \n",
    "else:\n",
    "    for i in range(1,n+1):\n",
    "        factorial=factorial*i\n",
    "    print(\"The factorial of\",n, factorial)"
   ]
  },
  {
   "cell_type": "code",
   "execution_count": null,
   "id": "9971e80e",
   "metadata": {},
   "outputs": [],
   "source": [
    "#Prime or Composite"
   ]
  },
  {
   "cell_type": "code",
   "execution_count": 73,
   "id": "16dff11d",
   "metadata": {},
   "outputs": [
    {
     "name": "stdout",
     "output_type": "stream",
     "text": [
      "Enter any positive number2\n",
      "2 is a prime number\n"
     ]
    }
   ],
   "source": [
    "num=int(input(\"Enter any positive number\"))\n",
    "if num>1:\n",
    "    for i in range(2,num):\n",
    "        if (num%i)==0:\n",
    "            print(num, \"is not a prime number\")\n",
    "        break\n",
    "    else:\n",
    "        print(num, \"is a prime number\")\n",
    "else:\n",
    "    print(num, \"is not a prime number\")"
   ]
  },
  {
   "cell_type": "code",
   "execution_count": null,
   "id": "36510bd9",
   "metadata": {},
   "outputs": [],
   "source": [
    "#Given string is palindrome or not"
   ]
  },
  {
   "cell_type": "code",
   "execution_count": 77,
   "id": "ef59c76c",
   "metadata": {},
   "outputs": [
    {
     "name": "stdout",
     "output_type": "stream",
     "text": [
      "Enter any stringindia\n",
      "india\n",
      "Not a Palindrome\n"
     ]
    }
   ],
   "source": [
    "s=input(\"Enter any string\")\n",
    "print(s[:])\n",
    "\n",
    "revstr=(s[::-1])\n",
    "if revstr==s:\n",
    "    print(\"Palindrome\")    \n",
    "else:\n",
    "    print(\"Not a Palindrome\")"
   ]
  },
  {
   "cell_type": "code",
   "execution_count": 85,
   "id": "29b20d8e",
   "metadata": {},
   "outputs": [
    {
     "name": "stdout",
     "output_type": "stream",
     "text": [
      "Enter the string: NAGARAJU\n",
      "Please enter the char to find frequency of ta character\n",
      "A\n",
      "The frequency of the  A in the string is:  3\n"
     ]
    }
   ],
   "source": [
    "#Frequency of each of the characters present in a given string\n",
    "string=input(\"Enter the string: \")\n",
    "char=input(\"Please enter the char to find frequency of ta character\\n\")\n",
    "\n",
    "count=0\n",
    "for i in range(len(string)):\n",
    "    if(string[i]==char):\n",
    "        count=count+1\n",
    "print(\"The frequency of the \",char,\"in the string is: \",count)"
   ]
  },
  {
   "cell_type": "code",
   "execution_count": 88,
   "id": "b23a2f3c",
   "metadata": {},
   "outputs": [
    {
     "name": "stdout",
     "output_type": "stream",
     "text": [
      "Input lengths of shorter triangle sides:\n",
      "a: 7\n",
      "b: 9\n",
      "The length of the hypotenuse is: 11.40175425099138\n"
     ]
    }
   ],
   "source": [
    "from math import sqrt\n",
    "print(\"Input lengths of shorter triangle sides:\")\n",
    "a = float(input(\"a: \"))\n",
    "b = float(input(\"b: \"))\n",
    "c = sqrt(a**2 + b**2)\n",
    "print(\"The length of the hypotenuse is:\", c )"
   ]
  },
  {
   "cell_type": "code",
   "execution_count": null,
   "id": "b7851227",
   "metadata": {},
   "outputs": [],
   "source": []
  }
 ],
 "metadata": {
  "kernelspec": {
   "display_name": "Python 3 (ipykernel)",
   "language": "python",
   "name": "python3"
  },
  "language_info": {
   "codemirror_mode": {
    "name": "ipython",
    "version": 3
   },
   "file_extension": ".py",
   "mimetype": "text/x-python",
   "name": "python",
   "nbconvert_exporter": "python",
   "pygments_lexer": "ipython3",
   "version": "3.9.7"
  }
 },
 "nbformat": 4,
 "nbformat_minor": 5
}
