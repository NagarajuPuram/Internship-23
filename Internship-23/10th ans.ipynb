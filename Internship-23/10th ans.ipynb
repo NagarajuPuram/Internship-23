{
 "cells": [
  {
   "cell_type": "markdown",
   "id": "3d56d18c",
   "metadata": {},
   "source": [
    "Q10: Write a python program to scrape the salary data for Data Scientist designation.\n",
    "You have to scrape Company name, Number of salaries, Average salary, Minsalary, Max Salary. The above task will be, done as shown in the below steps:\n",
    "1. First get the webpage https://www.ambitionbox.com/\n",
    "2. Click on the salaries option as shown in the image.\n",
    "3. After reaching to the following webpage, In place of “Search Job Profile” enters “Data Scientist” and then click on “Data Scientist”.\n",
    "You have to scrape the data ticked in the above image.\n",
    "4. Scrape the data for the first 10 companies. Scrape the company name, total salary record, average salary, minimum salary, maximum salary, experience required.\n",
    "5. Store the data in a dataframe.\n",
    "Note: All the steps required during scraping should be done through code only and not manually."
   ]
  },
  {
   "cell_type": "markdown",
   "id": "35b77cbb",
   "metadata": {},
   "source": [
    "## import required liabraries"
   ]
  },
  {
   "cell_type": "code",
   "execution_count": 4,
   "id": "1770082f",
   "metadata": {},
   "outputs": [],
   "source": [
    "import selenium\n",
    "from selenium import webdriver\n",
    "import pandas as pd \n",
    "import numpy as np\n",
    "import warnings \n",
    "warnings.filterwarnings('ignore')"
   ]
  },
  {
   "cell_type": "markdown",
   "id": "6623a4af",
   "metadata": {},
   "source": [
    "## Connection to the webdriver"
   ]
  },
  {
   "cell_type": "code",
   "execution_count": 5,
   "id": "c0f78241",
   "metadata": {},
   "outputs": [],
   "source": [
    "driver=webdriver.Chrome(\"D:\\Internship Problems\\selenium\\chromedriver_win32\\chromedriver.exe\")"
   ]
  },
  {
   "cell_type": "markdown",
   "id": "e4e185a7",
   "metadata": {},
   "source": [
    "## connection to the url "
   ]
  },
  {
   "cell_type": "code",
   "execution_count": 6,
   "id": "47923317",
   "metadata": {},
   "outputs": [],
   "source": [
    "url='https://www.ambitionbox.com/'\n",
    "driver.get(url)"
   ]
  },
  {
   "cell_type": "code",
   "execution_count": 9,
   "id": "bd442491",
   "metadata": {},
   "outputs": [
    {
     "data": {
      "text/plain": [
       "<selenium.webdriver.remote.webelement.WebElement (session=\"aae45ea8165c61a2bfbcd8d564c23d4c\", element=\"d840add7-dd0e-466e-b65d-a90bebe163e5\")>"
      ]
     },
     "execution_count": 9,
     "metadata": {},
     "output_type": "execute_result"
    }
   ],
   "source": [
    "# clicking on salaries tab using xpath\n",
    "salary_tab=driver.find_element_by_xpath('/html/body/div[1]/nav/nav/a[4]')\n",
    "salary_tab"
   ]
  },
  {
   "cell_type": "code",
   "execution_count": 10,
   "id": "1d0c9ef2",
   "metadata": {},
   "outputs": [],
   "source": [
    "# clicking on the salary tab\n",
    "salary_tab.click()"
   ]
  },
  {
   "cell_type": "code",
   "execution_count": 27,
   "id": "d27e5a3c",
   "metadata": {},
   "outputs": [
    {
     "data": {
      "text/plain": [
       "<selenium.webdriver.remote.webelement.WebElement (session=\"aae45ea8165c61a2bfbcd8d564c23d4c\", element=\"05e2ccfd-8476-4e5a-895d-92b98c9f3956\")>"
      ]
     },
     "execution_count": 27,
     "metadata": {},
     "output_type": "execute_result"
    }
   ],
   "source": [
    "# find job element search id using xpath\n",
    "search_job_tab=driver.find_element_by_xpath('/html/body/div/div/div/main/section[1]/div[2]/div[1]/span/input')\n",
    "search_job_tab"
   ]
  },
  {
   "cell_type": "code",
   "execution_count": 28,
   "id": "33632b8e",
   "metadata": {},
   "outputs": [],
   "source": [
    "# writing in search tab\n",
    "search_job_tab.send_keys(\"Data scientist\")"
   ]
  },
  {
   "cell_type": "code",
   "execution_count": 33,
   "id": "f0aa78dd",
   "metadata": {},
   "outputs": [
    {
     "data": {
      "text/plain": [
       "<selenium.webdriver.remote.webelement.WebElement (session=\"aae45ea8165c61a2bfbcd8d564c23d4c\", element=\"51a08cba-71c9-4dc2-a46a-360d0a930678\")>"
      ]
     },
     "execution_count": 33,
     "metadata": {},
     "output_type": "execute_result"
    }
   ],
   "source": [
    "# clicking on search tab using xpath\n",
    "search_tab=driver.find_element_by_xpath('/html/body/div/div/div/main/section[1]/div[2]/div[1]/span/div')\n",
    "search_tab"
   ]
  },
  {
   "cell_type": "code",
   "execution_count": 49,
   "id": "4b7cb033",
   "metadata": {},
   "outputs": [
    {
     "data": {
      "text/plain": [
       "[<selenium.webdriver.remote.webelement.WebElement (session=\"aae45ea8165c61a2bfbcd8d564c23d4c\", element=\"9b837170-fc63-46bc-b899-f1298de6ffc8\")>,\n",
       " <selenium.webdriver.remote.webelement.WebElement (session=\"aae45ea8165c61a2bfbcd8d564c23d4c\", element=\"edd0b0fa-e749-43d9-b0bd-c016747c5e3a\")>,\n",
       " <selenium.webdriver.remote.webelement.WebElement (session=\"aae45ea8165c61a2bfbcd8d564c23d4c\", element=\"3c9284ab-e83d-49e9-86aa-c91b03e00fdc\")>,\n",
       " <selenium.webdriver.remote.webelement.WebElement (session=\"aae45ea8165c61a2bfbcd8d564c23d4c\", element=\"1099aee5-4825-4442-83c5-425127243278\")>,\n",
       " <selenium.webdriver.remote.webelement.WebElement (session=\"aae45ea8165c61a2bfbcd8d564c23d4c\", element=\"f2e02cec-cfc2-43f2-9412-42fa6ef85d10\")>,\n",
       " <selenium.webdriver.remote.webelement.WebElement (session=\"aae45ea8165c61a2bfbcd8d564c23d4c\", element=\"d1597efa-29af-41a7-bb8f-bf2b42aeaadd\")>,\n",
       " <selenium.webdriver.remote.webelement.WebElement (session=\"aae45ea8165c61a2bfbcd8d564c23d4c\", element=\"8bf0b720-ceda-4338-a25b-eca9199d3818\")>,\n",
       " <selenium.webdriver.remote.webelement.WebElement (session=\"aae45ea8165c61a2bfbcd8d564c23d4c\", element=\"80b93fa2-dd35-46c7-ab49-8bad2f714e34\")>,\n",
       " <selenium.webdriver.remote.webelement.WebElement (session=\"aae45ea8165c61a2bfbcd8d564c23d4c\", element=\"932e56fe-8389-4266-b8b9-b176d9d9d9ad\")>,\n",
       " <selenium.webdriver.remote.webelement.WebElement (session=\"aae45ea8165c61a2bfbcd8d564c23d4c\", element=\"4a18d248-7d01-4dfe-a115-c18b5431a8a6\")>]"
      ]
     },
     "execution_count": 49,
     "metadata": {},
     "output_type": "execute_result"
    }
   ],
   "source": [
    "# scrapping company name using xpath\n",
    "company_name=driver.find_elements_by_xpath('//div[@class=\"name\"]')\n",
    "company_name"
   ]
  },
  {
   "cell_type": "code",
   "execution_count": 58,
   "id": "fcbca8bb",
   "metadata": {},
   "outputs": [
    {
     "data": {
      "text/plain": [
       "['Walmart based on 10 salaries',\n",
       " 'Ab Inbev based on 22 salaries',\n",
       " 'ZS based on 14 salaries',\n",
       " 'Fractal Analytics based on 72 salaries',\n",
       " 'Optum based on 23 salaries',\n",
       " 'UnitedHealth based on 49 salaries',\n",
       " 'Tiger Analytics based on 27 salaries',\n",
       " 'Verizon based on 14 salaries',\n",
       " 'Ganit Business Solutions based on 13 salaries',\n",
       " 'Ericsson based on 42 salaries']"
      ]
     },
     "execution_count": 58,
     "metadata": {},
     "output_type": "execute_result"
    }
   ],
   "source": [
    "# scrapping all company names\n",
    "company=[]          # empty list to store\n",
    "for i in company_name:\n",
    "    company.append(i.text.replace('\\n',(\" \")))\n",
    "company"
   ]
  },
  {
   "cell_type": "code",
   "execution_count": 83,
   "id": "46f5fbc3",
   "metadata": {},
   "outputs": [
    {
     "data": {
      "text/plain": [
       "[<selenium.webdriver.remote.webelement.WebElement (session=\"aae45ea8165c61a2bfbcd8d564c23d4c\", element=\"e5e50556-c8f1-4f12-8864-22cad8e35d94\")>,\n",
       " <selenium.webdriver.remote.webelement.WebElement (session=\"aae45ea8165c61a2bfbcd8d564c23d4c\", element=\"01ca8527-ae6b-4755-ba18-f39c7a6279e2\")>,\n",
       " <selenium.webdriver.remote.webelement.WebElement (session=\"aae45ea8165c61a2bfbcd8d564c23d4c\", element=\"7d24a2ba-13f5-4b69-94f0-ed5cf8b7f7e7\")>,\n",
       " <selenium.webdriver.remote.webelement.WebElement (session=\"aae45ea8165c61a2bfbcd8d564c23d4c\", element=\"df01cf3d-8b0d-4584-9516-66bafaec7d2a\")>,\n",
       " <selenium.webdriver.remote.webelement.WebElement (session=\"aae45ea8165c61a2bfbcd8d564c23d4c\", element=\"f84445b7-04fc-48ab-b7aa-abcbd8139830\")>,\n",
       " <selenium.webdriver.remote.webelement.WebElement (session=\"aae45ea8165c61a2bfbcd8d564c23d4c\", element=\"50be770c-fe37-4cba-ba95-f5f16e07d5ca\")>,\n",
       " <selenium.webdriver.remote.webelement.WebElement (session=\"aae45ea8165c61a2bfbcd8d564c23d4c\", element=\"b1056e90-61f1-4fe0-bc2e-fec39e587fff\")>,\n",
       " <selenium.webdriver.remote.webelement.WebElement (session=\"aae45ea8165c61a2bfbcd8d564c23d4c\", element=\"b6e175a6-b10f-441b-ae1d-d981e99893d0\")>,\n",
       " <selenium.webdriver.remote.webelement.WebElement (session=\"aae45ea8165c61a2bfbcd8d564c23d4c\", element=\"384c3a2e-2915-41b8-8d3f-737e39600bee\")>,\n",
       " <selenium.webdriver.remote.webelement.WebElement (session=\"aae45ea8165c61a2bfbcd8d564c23d4c\", element=\"4a5d279f-cc98-45cd-b9f4-7d4d9d32403d\")>]"
      ]
     },
     "execution_count": 83,
     "metadata": {},
     "output_type": "execute_result"
    }
   ],
   "source": [
    "# scrapping experience using xpath\n",
    "exp=driver.find_elements_by_xpath('//div[@class=\"salaries sbold-list-header\"]')\n",
    "exp"
   ]
  },
  {
   "cell_type": "code",
   "execution_count": 89,
   "id": "c2008cd1",
   "metadata": {},
   "outputs": [
    {
     "data": {
      "text/plain": [
       "['Data Scientist 3 yrs exp',\n",
       " 'Data Scientist 3-4 yrs exp',\n",
       " 'Data Scientist 2 yrs exp',\n",
       " 'Data Scientist 2-4 yrs exp',\n",
       " 'Data Scientist 3-4 yrs exp',\n",
       " 'Data Scientist 2-4 yrs exp',\n",
       " 'Data Scientist 3-4 yrs exp',\n",
       " 'Data Scientist 4 yrs exp',\n",
       " 'Data Scientist 4 yrs exp',\n",
       " 'Data Scientist 3-4 yrs exp']"
      ]
     },
     "execution_count": 89,
     "metadata": {},
     "output_type": "execute_result"
    }
   ],
   "source": [
    "# scrapp all data\n",
    "exp_=[]\n",
    "for i in exp:\n",
    "    exp_.append(i.text.replace('\\n . \\n',(\" \")))\n",
    "exp_"
   ]
  },
  {
   "cell_type": "code",
   "execution_count": 67,
   "id": "a36b1a7e",
   "metadata": {},
   "outputs": [
    {
     "data": {
      "text/plain": [
       "[<selenium.webdriver.remote.webelement.WebElement (session=\"aae45ea8165c61a2bfbcd8d564c23d4c\", element=\"2840ab88-7ac4-4a2e-b74a-34500c65b4db\")>,\n",
       " <selenium.webdriver.remote.webelement.WebElement (session=\"aae45ea8165c61a2bfbcd8d564c23d4c\", element=\"fe4ef79d-7c2e-404e-87b1-36d7c83ec041\")>,\n",
       " <selenium.webdriver.remote.webelement.WebElement (session=\"aae45ea8165c61a2bfbcd8d564c23d4c\", element=\"917e364a-4bde-4bf6-a71c-77d661fd1148\")>,\n",
       " <selenium.webdriver.remote.webelement.WebElement (session=\"aae45ea8165c61a2bfbcd8d564c23d4c\", element=\"4fe4556f-c9d4-48b8-ba0c-6567379d3bea\")>,\n",
       " <selenium.webdriver.remote.webelement.WebElement (session=\"aae45ea8165c61a2bfbcd8d564c23d4c\", element=\"1008d282-c1c1-48e5-b52d-6d1769e48772\")>,\n",
       " <selenium.webdriver.remote.webelement.WebElement (session=\"aae45ea8165c61a2bfbcd8d564c23d4c\", element=\"56ad2c86-ca7a-4b9a-9800-13de03d5a9ad\")>,\n",
       " <selenium.webdriver.remote.webelement.WebElement (session=\"aae45ea8165c61a2bfbcd8d564c23d4c\", element=\"134a0ad4-166d-4902-8987-3485ebe9464a\")>,\n",
       " <selenium.webdriver.remote.webelement.WebElement (session=\"aae45ea8165c61a2bfbcd8d564c23d4c\", element=\"2e199a85-1477-4567-906b-803fd3f6df52\")>,\n",
       " <selenium.webdriver.remote.webelement.WebElement (session=\"aae45ea8165c61a2bfbcd8d564c23d4c\", element=\"b1a28d6b-f484-49de-8785-11fbe7699321\")>,\n",
       " <selenium.webdriver.remote.webelement.WebElement (session=\"aae45ea8165c61a2bfbcd8d564c23d4c\", element=\"4c370e96-4c98-4709-a011-bdde1b884157\")>,\n",
       " <selenium.webdriver.remote.webelement.WebElement (session=\"aae45ea8165c61a2bfbcd8d564c23d4c\", element=\"c5e45153-016a-4ca1-979f-252401b4f948\")>,\n",
       " <selenium.webdriver.remote.webelement.WebElement (session=\"aae45ea8165c61a2bfbcd8d564c23d4c\", element=\"31e56b21-aa1d-42b0-9c1f-3065c9a7b0ef\")>,\n",
       " <selenium.webdriver.remote.webelement.WebElement (session=\"aae45ea8165c61a2bfbcd8d564c23d4c\", element=\"0441b096-0f28-4ffd-bbbf-b28b648eee02\")>,\n",
       " <selenium.webdriver.remote.webelement.WebElement (session=\"aae45ea8165c61a2bfbcd8d564c23d4c\", element=\"0c87e1c0-d217-4925-b0b2-9c39fc94b681\")>,\n",
       " <selenium.webdriver.remote.webelement.WebElement (session=\"aae45ea8165c61a2bfbcd8d564c23d4c\", element=\"e20ba7d4-9acf-406a-aafe-b3f1543ca0f7\")>,\n",
       " <selenium.webdriver.remote.webelement.WebElement (session=\"aae45ea8165c61a2bfbcd8d564c23d4c\", element=\"50f1a73e-ddaa-44d1-9c6c-9dcef8efecfe\")>,\n",
       " <selenium.webdriver.remote.webelement.WebElement (session=\"aae45ea8165c61a2bfbcd8d564c23d4c\", element=\"41504c8b-4507-41ef-b9eb-a664cf645153\")>,\n",
       " <selenium.webdriver.remote.webelement.WebElement (session=\"aae45ea8165c61a2bfbcd8d564c23d4c\", element=\"cd490347-2628-49f3-af9d-7f06f9350cae\")>,\n",
       " <selenium.webdriver.remote.webelement.WebElement (session=\"aae45ea8165c61a2bfbcd8d564c23d4c\", element=\"6db6718a-3c08-4f6c-89e0-e61ba10e270b\")>,\n",
       " <selenium.webdriver.remote.webelement.WebElement (session=\"aae45ea8165c61a2bfbcd8d564c23d4c\", element=\"da4f6caa-631f-4e80-9f89-d391f627ab26\")>]"
      ]
     },
     "execution_count": 67,
     "metadata": {},
     "output_type": "execute_result"
    }
   ],
   "source": [
    "low_salary=driver.find_elements_by_xpath('//div[@class=\"value body-medium\"]')\n",
    "low_salary"
   ]
  },
  {
   "cell_type": "code",
   "execution_count": 72,
   "id": "ddde52a5",
   "metadata": {},
   "outputs": [
    {
     "data": {
      "text/plain": [
       "['₹ 17.7L',\n",
       " '₹ 15.0L',\n",
       " '₹ 9.8L',\n",
       " '₹ 9.5L',\n",
       " '₹ 11.0L',\n",
       " '₹ 7.2L',\n",
       " '₹ 8.3L',\n",
       " '₹ 10.0L',\n",
       " '₹ 8.5L',\n",
       " '₹ 5.8L']"
      ]
     },
     "execution_count": 72,
     "metadata": {},
     "output_type": "execute_result"
    }
   ],
   "source": [
    "salary1=[]\n",
    "for i in low_salary:\n",
    "    salary1.append(i.text)\n",
    "salary2=salary1[::2]\n",
    "salary2"
   ]
  },
  {
   "cell_type": "code",
   "execution_count": 73,
   "id": "caff0ab9",
   "metadata": {},
   "outputs": [
    {
     "data": {
      "text/plain": [
       "['₹ 35.0L',\n",
       " '₹ 25.0L',\n",
       " '₹ 20.0L',\n",
       " '₹ 22.0L',\n",
       " '₹ 21.3L',\n",
       " '₹ 20.5L',\n",
       " '₹ 18.5L',\n",
       " '₹ 21.0L',\n",
       " '₹ 15.0L',\n",
       " '₹ 21.5L']"
      ]
     },
     "execution_count": 73,
     "metadata": {},
     "output_type": "execute_result"
    }
   ],
   "source": [
    "# scrapping highest salary\n",
    "salary3=salary1[1::2]\n",
    "salary3"
   ]
  },
  {
   "cell_type": "code",
   "execution_count": 80,
   "id": "1a303363",
   "metadata": {},
   "outputs": [
    {
     "data": {
      "text/plain": [
       "[<selenium.webdriver.remote.webelement.WebElement (session=\"aae45ea8165c61a2bfbcd8d564c23d4c\", element=\"7b633434-9bac-44d3-9658-500fc372fced\")>,\n",
       " <selenium.webdriver.remote.webelement.WebElement (session=\"aae45ea8165c61a2bfbcd8d564c23d4c\", element=\"655f98fe-4b9f-449e-bd95-0399f7d4159b\")>,\n",
       " <selenium.webdriver.remote.webelement.WebElement (session=\"aae45ea8165c61a2bfbcd8d564c23d4c\", element=\"f25a7ffd-b347-429d-b5b4-034645ed7e36\")>,\n",
       " <selenium.webdriver.remote.webelement.WebElement (session=\"aae45ea8165c61a2bfbcd8d564c23d4c\", element=\"0980a107-cec2-4d23-9653-b3ccc2c0fb7d\")>,\n",
       " <selenium.webdriver.remote.webelement.WebElement (session=\"aae45ea8165c61a2bfbcd8d564c23d4c\", element=\"f027e085-0c60-44a8-b75a-7415bc95beb5\")>,\n",
       " <selenium.webdriver.remote.webelement.WebElement (session=\"aae45ea8165c61a2bfbcd8d564c23d4c\", element=\"b852d8c8-24d4-4fd7-afc2-2acfa6260cfb\")>,\n",
       " <selenium.webdriver.remote.webelement.WebElement (session=\"aae45ea8165c61a2bfbcd8d564c23d4c\", element=\"cd299ecb-9204-4a2d-abf7-8ef9fedd63d6\")>,\n",
       " <selenium.webdriver.remote.webelement.WebElement (session=\"aae45ea8165c61a2bfbcd8d564c23d4c\", element=\"ae815a2b-af42-428a-999e-90e90878ae3c\")>,\n",
       " <selenium.webdriver.remote.webelement.WebElement (session=\"aae45ea8165c61a2bfbcd8d564c23d4c\", element=\"7706a18b-5653-4403-b24a-cf2020a06e27\")>,\n",
       " <selenium.webdriver.remote.webelement.WebElement (session=\"aae45ea8165c61a2bfbcd8d564c23d4c\", element=\"3ab0e663-2ddf-40a0-9fcb-f36d9c9b3e38\")>]"
      ]
     },
     "execution_count": 80,
     "metadata": {},
     "output_type": "execute_result"
    }
   ],
   "source": [
    "# scrapping average salary\n",
    "avg_salary=driver.find_elements_by_xpath('//p[@class=\"averageCtc\"]')\n",
    "avg_salary"
   ]
  },
  {
   "cell_type": "code",
   "execution_count": 82,
   "id": "153ebbc2",
   "metadata": {},
   "outputs": [
    {
     "data": {
      "text/plain": [
       "['₹ 28.7L',\n",
       " '₹ 19.5L',\n",
       " '₹ 15.8L',\n",
       " '₹ 15.0L',\n",
       " '₹ 15.0L',\n",
       " '₹ 13.5L',\n",
       " '₹ 13.5L',\n",
       " '₹ 12.7L',\n",
       " '₹ 12.4L',\n",
       " '₹ 11.9L']"
      ]
     },
     "execution_count": 82,
     "metadata": {},
     "output_type": "execute_result"
    }
   ],
   "source": [
    "avg_salar=[]\n",
    "for i in avg_salary:\n",
    "    avg_salar.append(i.text)\n",
    "avg_salar"
   ]
  },
  {
   "cell_type": "code",
   "execution_count": 90,
   "id": "5cffe373",
   "metadata": {},
   "outputs": [
    {
     "data": {
      "text/html": [
       "<div>\n",
       "<style scoped>\n",
       "    .dataframe tbody tr th:only-of-type {\n",
       "        vertical-align: middle;\n",
       "    }\n",
       "\n",
       "    .dataframe tbody tr th {\n",
       "        vertical-align: top;\n",
       "    }\n",
       "\n",
       "    .dataframe thead th {\n",
       "        text-align: right;\n",
       "    }\n",
       "</style>\n",
       "<table border=\"1\" class=\"dataframe\">\n",
       "  <thead>\n",
       "    <tr style=\"text-align: right;\">\n",
       "      <th></th>\n",
       "      <th>Company Name No of salaries</th>\n",
       "      <th>Post__Exp</th>\n",
       "      <th>Lowest salary</th>\n",
       "      <th>Highest salary</th>\n",
       "      <th>Average salary</th>\n",
       "    </tr>\n",
       "  </thead>\n",
       "  <tbody>\n",
       "    <tr>\n",
       "      <th>0</th>\n",
       "      <td>Walmart based on 10 salaries</td>\n",
       "      <td>Data Scientist 3 yrs exp</td>\n",
       "      <td>₹ 17.7L</td>\n",
       "      <td>₹ 35.0L</td>\n",
       "      <td>₹ 28.7L</td>\n",
       "    </tr>\n",
       "    <tr>\n",
       "      <th>1</th>\n",
       "      <td>Ab Inbev based on 22 salaries</td>\n",
       "      <td>Data Scientist 3-4 yrs exp</td>\n",
       "      <td>₹ 15.0L</td>\n",
       "      <td>₹ 25.0L</td>\n",
       "      <td>₹ 19.5L</td>\n",
       "    </tr>\n",
       "    <tr>\n",
       "      <th>2</th>\n",
       "      <td>ZS based on 14 salaries</td>\n",
       "      <td>Data Scientist 2 yrs exp</td>\n",
       "      <td>₹ 9.8L</td>\n",
       "      <td>₹ 20.0L</td>\n",
       "      <td>₹ 15.8L</td>\n",
       "    </tr>\n",
       "    <tr>\n",
       "      <th>3</th>\n",
       "      <td>Fractal Analytics based on 72 salaries</td>\n",
       "      <td>Data Scientist 2-4 yrs exp</td>\n",
       "      <td>₹ 9.5L</td>\n",
       "      <td>₹ 22.0L</td>\n",
       "      <td>₹ 15.0L</td>\n",
       "    </tr>\n",
       "    <tr>\n",
       "      <th>4</th>\n",
       "      <td>Optum based on 23 salaries</td>\n",
       "      <td>Data Scientist 3-4 yrs exp</td>\n",
       "      <td>₹ 11.0L</td>\n",
       "      <td>₹ 21.3L</td>\n",
       "      <td>₹ 15.0L</td>\n",
       "    </tr>\n",
       "    <tr>\n",
       "      <th>5</th>\n",
       "      <td>UnitedHealth based on 49 salaries</td>\n",
       "      <td>Data Scientist 2-4 yrs exp</td>\n",
       "      <td>₹ 7.2L</td>\n",
       "      <td>₹ 20.5L</td>\n",
       "      <td>₹ 13.5L</td>\n",
       "    </tr>\n",
       "    <tr>\n",
       "      <th>6</th>\n",
       "      <td>Tiger Analytics based on 27 salaries</td>\n",
       "      <td>Data Scientist 3-4 yrs exp</td>\n",
       "      <td>₹ 8.3L</td>\n",
       "      <td>₹ 18.5L</td>\n",
       "      <td>₹ 13.5L</td>\n",
       "    </tr>\n",
       "    <tr>\n",
       "      <th>7</th>\n",
       "      <td>Verizon based on 14 salaries</td>\n",
       "      <td>Data Scientist 4 yrs exp</td>\n",
       "      <td>₹ 10.0L</td>\n",
       "      <td>₹ 21.0L</td>\n",
       "      <td>₹ 12.7L</td>\n",
       "    </tr>\n",
       "    <tr>\n",
       "      <th>8</th>\n",
       "      <td>Ganit Business Solutions based on 13 salaries</td>\n",
       "      <td>Data Scientist 4 yrs exp</td>\n",
       "      <td>₹ 8.5L</td>\n",
       "      <td>₹ 15.0L</td>\n",
       "      <td>₹ 12.4L</td>\n",
       "    </tr>\n",
       "    <tr>\n",
       "      <th>9</th>\n",
       "      <td>Ericsson based on 42 salaries</td>\n",
       "      <td>Data Scientist 3-4 yrs exp</td>\n",
       "      <td>₹ 5.8L</td>\n",
       "      <td>₹ 21.5L</td>\n",
       "      <td>₹ 11.9L</td>\n",
       "    </tr>\n",
       "  </tbody>\n",
       "</table>\n",
       "</div>"
      ],
      "text/plain": [
       "                     Company Name No of salaries                   Post__Exp  \\\n",
       "0                   Walmart based on 10 salaries    Data Scientist 3 yrs exp   \n",
       "1                  Ab Inbev based on 22 salaries  Data Scientist 3-4 yrs exp   \n",
       "2                        ZS based on 14 salaries    Data Scientist 2 yrs exp   \n",
       "3         Fractal Analytics based on 72 salaries  Data Scientist 2-4 yrs exp   \n",
       "4                     Optum based on 23 salaries  Data Scientist 3-4 yrs exp   \n",
       "5              UnitedHealth based on 49 salaries  Data Scientist 2-4 yrs exp   \n",
       "6           Tiger Analytics based on 27 salaries  Data Scientist 3-4 yrs exp   \n",
       "7                   Verizon based on 14 salaries    Data Scientist 4 yrs exp   \n",
       "8  Ganit Business Solutions based on 13 salaries    Data Scientist 4 yrs exp   \n",
       "9                  Ericsson based on 42 salaries  Data Scientist 3-4 yrs exp   \n",
       "\n",
       "  Lowest salary Highest salary Average salary  \n",
       "0       ₹ 17.7L        ₹ 35.0L        ₹ 28.7L  \n",
       "1       ₹ 15.0L        ₹ 25.0L        ₹ 19.5L  \n",
       "2        ₹ 9.8L        ₹ 20.0L        ₹ 15.8L  \n",
       "3        ₹ 9.5L        ₹ 22.0L        ₹ 15.0L  \n",
       "4       ₹ 11.0L        ₹ 21.3L        ₹ 15.0L  \n",
       "5        ₹ 7.2L        ₹ 20.5L        ₹ 13.5L  \n",
       "6        ₹ 8.3L        ₹ 18.5L        ₹ 13.5L  \n",
       "7       ₹ 10.0L        ₹ 21.0L        ₹ 12.7L  \n",
       "8        ₹ 8.5L        ₹ 15.0L        ₹ 12.4L  \n",
       "9        ₹ 5.8L        ₹ 21.5L        ₹ 11.9L  "
      ]
     },
     "execution_count": 90,
     "metadata": {},
     "output_type": "execute_result"
    }
   ],
   "source": [
    "# create dataframe\n",
    "df=pd.DataFrame({\"Company Name No of salaries\":company,\"Post__Exp\":exp_,\"Lowest salary\":salary2,\"Highest salary\":salary3,\"Average salary\":avg_salar})\n",
    "df"
   ]
  },
  {
   "cell_type": "code",
   "execution_count": null,
   "id": "dad8718c",
   "metadata": {},
   "outputs": [],
   "source": []
  }
 ],
 "metadata": {
  "kernelspec": {
   "display_name": "Python 3",
   "language": "python",
   "name": "python3"
  },
  "language_info": {
   "codemirror_mode": {
    "name": "ipython",
    "version": 3
   },
   "file_extension": ".py",
   "mimetype": "text/x-python",
   "name": "python",
   "nbconvert_exporter": "python",
   "pygments_lexer": "ipython3",
   "version": "3.8.8"
  }
 },
 "nbformat": 4,
 "nbformat_minor": 5
}
