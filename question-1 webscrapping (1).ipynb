{
 "cells": [
  {
   "cell_type": "markdown",
   "id": "d46da60b",
   "metadata": {},
   "source": [
    "# Q1. Python program to display all the header tags from wikipedia.org"
   ]
  },
  {
   "cell_type": "code",
   "execution_count": 3,
   "id": "45c4f5e1",
   "metadata": {},
   "outputs": [
    {
     "name": "stdout",
     "output_type": "stream",
     "text": [
      "Requirement already satisfied: bs4 in c:\\programdata\\anaconda3\\lib\\site-packages (0.0.1)\n",
      "Requirement already satisfied: beautifulsoup4 in c:\\programdata\\anaconda3\\lib\\site-packages (from bs4) (4.10.0)\n",
      "Requirement already satisfied: soupsieve>1.2 in c:\\programdata\\anaconda3\\lib\\site-packages (from beautifulsoup4->bs4) (2.2.1)\n",
      "Requirement already satisfied: requests in c:\\programdata\\anaconda3\\lib\\site-packages (2.26.0)\n",
      "Requirement already satisfied: charset-normalizer~=2.0.0 in c:\\programdata\\anaconda3\\lib\\site-packages (from requests) (2.0.4)\n",
      "Requirement already satisfied: urllib3<1.27,>=1.21.1 in c:\\programdata\\anaconda3\\lib\\site-packages (from requests) (1.26.7)\n",
      "Requirement already satisfied: certifi>=2017.4.17 in c:\\programdata\\anaconda3\\lib\\site-packages (from requests) (2021.10.8)\n",
      "Requirement already satisfied: idna<4,>=2.5 in c:\\programdata\\anaconda3\\lib\\site-packages (from requests) (3.2)\n"
     ]
    }
   ],
   "source": [
    "!pip install bs4               \n",
    "!pip install requests            "
   ]
  },
  {
   "cell_type": "code",
   "execution_count": 4,
   "id": "f8a1f526",
   "metadata": {},
   "outputs": [],
   "source": [
    "from bs4 import BeautifulSoup as bs\n",
    "import requests"
   ]
  },
  {
   "cell_type": "code",
   "execution_count": 5,
   "id": "a93ed8bc",
   "metadata": {},
   "outputs": [
    {
     "data": {
      "text/plain": [
       "<Response [200]>"
      ]
     },
     "execution_count": 5,
     "metadata": {},
     "output_type": "execute_result"
    }
   ],
   "source": [
    "page=requests.get(\"https://en.wikipedia.org/wiki/Main_Page\")\n",
    "page"
   ]
  },
  {
   "cell_type": "code",
   "execution_count": 6,
   "id": "37bb7252",
   "metadata": {},
   "outputs": [
    {
     "data": {
      "text/plain": [
       "'\\n\\n\\nWikipedia, the free encyclopedia\\n\\n\\n\\n\\n\\n\\n\\n\\n\\n\\n\\n\\n\\n\\n\\n\\n\\n\\n\\n\\n\\n\\n\\n\\n\\n\\n\\n\\n\\n\\n\\n\\n\\n\\n\\n\\n\\n\\n\\n\\n\\n\\n\\nMain Page\\n\\nFrom Wikipedia, the free encyclopedia\\n\\n\\n\\nJump to navigation\\nJump to search\\n\\n\\n\\nWelcome to Wikipedia,\\nthe free encyclopedia that anyone can edit.\\n6,432,353 articles in English\\n\\n\\nThe arts\\nBiography\\nGeography\\nHistory\\nMathematics\\nScience\\nSociety\\nTechnology\\nAll portals\\n\\n\\n\\n\\n\\nFrom today\\'s featured article\\n\\n\\nJohn Neal\\n\\nSeventy-Six is a historical fiction novel by American writer John Neal (pictured). Published in Baltimore in 1823, it is the fourth novel written about the American Revolutionary War. Historically distinguished for its pioneering use of colloquial language, the Yankee dialect, battle scene realism, high characterization, stream of consciousness narrative, profanity, and depictions of sex and romance, the novel foreshadowed and influenced later American fiction. With narrative prose that resembles spoken American English more than any other period literature, it was the first work of American fiction to use the phrase son-of-a-bitch. It explores male pain and self-loathing resulting from violent acts committed in war and duels. Inspired by his own historical research, Neal took only twenty-seven days to write the 528-page novel, reporting that \"I tumbled out of my chair\" because \"I had fainted,\\xa0– swooned,\\xa0– from overwork.\" (Full\\xa0article...)\\n\\n\\nRecently featured: \\nBlack-and-red broadbill\\n2010 PapaJohns.com Bowl\\nJamiroquai\\n\\n\\nArchive\\nBy email\\nMore featured articles\\n\\nDid you know\\xa0...\\n\\n\\n\\nIndividual E.\\xa0persephone with 1,306 legs\\n\\n... that with 1,000 or more legs, Eumillipes persephone (example pictured) is the first known \"true\" millipede?\\n... that the USFL is in talks with officials from Birmingham, Alabama, with the goal of hosting the entirety of the 2022 USFL season in the city?\\n... that when flying ace Julius Busa\\'s aircraft was hit at 3,000 metres (9,800\\xa0ft), his observer leapt overboard without a parachute?\\n... that Ethel Barrymore, Marilyn Miller, Mary Pickford, and Rosa Ponselle have been standing at 1552\\xa0Broadway since 1929?\\n... that blind botanist John Grimshaw Wilkinson used his tongue to tell the difference between plants?\\n... that the world\\'s only museum devoted to American actor Phil Silvers is located in Coventry, England?\\n... that Sumitro Djojohadikusumo expected the majority of the beneficiaries of his economic policy might turn out to be \"parasites\"?\\n... that about three million people employed Dr.\\xa0Halo between 1984 and 1993?\\n\\nArchive\\nStart a new article\\nNominate an article\\n\\n\\n\\n\\n\\n\\nIn the news\\n\\n\\nBetty White\\n\\nAmerican actress and comedian Betty White (pictured) dies at the age of 99.\\nIn Hong Kong, Stand News closes down after its staff are arrested for sedition.\\nThe Supreme Court of Russia orders the closure of Memorial, Russia\\'s oldest human rights group, for violations of the foreign agent law.\\nIn cricket, Australia retains the Ashes after winning the first three Tests against England.\\n\\nOngoing: \\nCOVID-19 pandemic\\nRecent deaths: \\nDan Reeves\\nPaul B. Kidd\\nWilliam Moncrief\\nNaren Gupta\\nJonathan Spence\\nManikka Vinayagam\\n\\nNominate an article\\nOn this day\\n\\nJanuary 2: Feast day of Saint Gregory of Nazianzus and Saint Basil of Caesarea (Roman Rite Catholicism, Anglicanism)\\n\\n\\n\\nUrbain Le Verrier\\n\\n533 – Mercurius, a Roman priest, was elected Pope John\\xa0II; he was apparently the first pope to adopt a new name upon elevation to the papacy.\\n1680 – Trunajaya rebellion: Amangkurat\\xa0II of Mataram of Java and his courtiers stabbed Trunajaya to death a week after the rebel leader surrendered to VOC forces.\\n1860 – French mathematician Urbain Le Verrier (pictured) announced the putative discovery of the planet Vulcan at a meeting at the French Academy of Sciences in Paris.\\n1944 – World War\\xa0II: The United States and Australia successfully landed 13,000 troops in Papua New Guinea in an attempt to cut off a Japanese retreat.\\n1963 – Vietnam War: The Viet Cong won its first major victory at the Battle of Ap Bac.\\nLodomer  (d.\\xa01298)Tex Rickard  (b.\\xa01870)Dnyaneshwar Agashe   (d.\\xa02009)\\n\\nMore anniversaries: \\nJanuary 1\\nJanuary 2\\nJanuary 3\\n\\n\\nArchive\\nBy email\\nList of days of the year\\n\\n\\n\\n\\nToday\\'s featured picture\\n\\n\\n\\n\\n\\n\\nThe turkey vulture (Cathartes aura) is the most widespread of the New World vultures, with a range extending from southern Canada to the southernmost tip of South America. It feeds primarily on a wide variety of carrion, from small mammals to large herbivores, preferring those recently dead to putrefying carcasses; it rarely kills prey itself. Populations appear to be stable, and it is listed as a least-concern species by the International Union for Conservation of Nature. This photograph shows a turkey vulture in flight in Cuba. It employs static soaring flight, in which it flaps its wings infrequently, and takes advantage of rising thermals to stay aloft.\\n\\nPhotograph credit: Charles James Sharp\\n\\nRecently featured: \\nEuro sign\\nThe Tales of Hoffmann\\nGrass snake\\n\\n\\nArchive\\nMore featured pictures\\n\\n\\n\\n\\n\\nOther areas of Wikipedia\\n\\nCommunity portal – Bulletin board, projects, resources and activities covering a wide range of Wikipedia areas.\\nHelp desk – Ask questions about using Wikipedia.\\nReference desk – Serving as virtual librarians, Wikipedia volunteers tackle your questions on a wide range of subjects.\\nSite news – Announcements, updates, articles and press releases on Wikipedia and the Wikimedia Foundation.\\nTeahouse – To ask your first basic questions about contributing to Wikipedia.\\nVillage pump – For discussions about Wikipedia itself, including areas for technical issues and policies.\\n\\nWikipedia\\'s sister projects\\n\\nWikipedia is hosted by the Wikimedia Foundation, a non-profit organization that also hosts a range of other projects:\\n\\n\\n\\n\\n\\nCommonsFree media repository\\n\\n\\n\\nMediaWikiWiki software development\\n\\n\\n\\nMeta-WikiWikimedia project coordination\\n\\n\\n\\nWikibooksFree textbooks and manuals\\n\\n\\n\\nWikidataFree knowledge base\\n\\n\\n\\nWikinewsFree-content news\\n\\n\\n\\nWikiquoteCollection of quotations\\n\\n\\n\\nWikisourceFree-content library\\n\\n\\n\\nWikispeciesDirectory of species\\n\\n\\n\\nWikiversityFree learning tools\\n\\n\\n\\nWikivoyageFree travel guide\\n\\n\\n\\nWiktionaryDictionary and thesaurus\\n\\n\\n\\nWikipedia languages\\n\\n\\nThis Wikipedia is written in English. Many other Wikipedias are available; some of the largest are listed below.\\n\\n\\n\\n\\n\\n1,000,000+ articles\\n\\n\\n\\nالعربية\\nDeutsch\\nEspañol\\nFrançais\\nItaliano\\nNederlands\\n日本語\\nPolski\\nPortuguês\\nРусский\\nSvenska\\nУкраїнська\\nTiếng Việt\\n中文\\n\\n\\n\\n\\n\\n250,000+ articles\\n\\n\\n\\nBahasa Indonesia\\nBahasa Melayu\\nBân-lâm-gú\\nБългарски\\nCatalà\\nČeština\\nDansk\\nEsperanto\\nEuskara\\nفارسی\\u200e\\nעברית\\n한국어\\nMagyar\\nNorsk Bokmål\\nRomână\\nSrpski\\nSrpskohrvatski\\nSuomi\\nTürkçe\\n\\n\\n\\n\\n\\n50,000+ articles\\n\\n\\n\\nAsturianu\\nBosanski\\nEesti\\nΕλληνικά\\nSimple English\\nGalego\\nHrvatski\\nLatviešu\\nLietuvių\\nമലയാളം\\nМакедонски\\nNorsk nynorsk\\nShqip\\nSlovenčina\\nSlovenščina\\nไทย\\n\\n\\n\\n\\n\\n\\n\\n\\n\\nRetrieved from \"https://en.wikipedia.org/w/index.php?title=Main_Page&oldid=1004593520\"\\n\\n\\n\\n\\n\\n\\n\\nNavigation menu\\n\\n\\n\\nPersonal tools\\n\\n\\nNot logged inTalkContributionsCreate accountLog in\\n\\n\\n\\n\\n\\nNamespaces\\n\\n\\nMain PageTalk\\n\\n\\n\\n\\n\\nVariants\\nexpanded\\ncollapsed\\n\\n\\n\\n\\n\\n\\n\\n\\n\\nViews\\n\\n\\nReadView sourceView history\\n\\n\\n\\n\\n\\nMore\\nexpanded\\ncollapsed\\n\\n\\n\\n\\n\\n\\n\\n\\nSearch\\n\\n\\n\\n\\n\\n\\n\\n\\n\\n\\n\\n\\n\\n\\n\\n\\n\\n\\n\\nNavigation\\n\\n\\nMain pageContentsCurrent eventsRandom articleAbout WikipediaContact usDonate\\n\\n\\n\\n\\nContribute\\n\\n\\nHelpLearn to editCommunity portalRecent changesUpload file\\n\\n\\n\\n\\nTools\\n\\n\\nWhat links hereRelated changesUpload fileSpecial pagesPermanent linkPage informationCite this pageWikidata item\\n\\n\\n\\n\\nPrint/export\\n\\n\\nDownload as PDFPrintable version\\n\\n\\n\\n\\nIn other projects\\n\\n\\nWikimedia CommonsMediaWikiMeta-WikiMultilingual WikisourceWikispeciesWikibooksWikidataWikimaniaWikinewsWikiquoteWikisourceWikiversityWikivoyageWiktionary\\n\\n\\n\\n\\nLanguages\\n\\n\\nالعربيةবাংলাБългарскиBosanskiCatalàČeštinaDanskDeutschEestiΕλληνικάEspañolEsperantoEuskaraفارسیFrançaisGalego한국어HrvatskiBahasa IndonesiaItalianoעבריתქართულიLatviešuLietuviųMagyarМакедонскиBahasa MelayuNederlands日本語Norsk bokmålNorsk nynorskPolskiPortuguêsRomânăРусскийSimple EnglishSlovenčinaSlovenščinaСрпски / srpskiSrpskohrvatski / српскохрватскиSuomiSvenskaไทยTürkçeУкраїнськаTiếng Việt中文\\n\\n\\n\\n\\n\\n\\n This page was last edited on 3 February 2021, at 11:11\\xa0(UTC).\\nText is available under the Creative Commons Attribution-ShareAlike License;\\nadditional terms may apply.  By using this site, you agree to the Terms of Use and Privacy Policy. Wikipedia® is a registered trademark of the Wikimedia Foundation, Inc., a non-profit organization.\\n\\n\\nPrivacy policy\\nAbout Wikipedia\\nDisclaimers\\nContact Wikipedia\\nMobile view\\nDevelopers\\nStatistics\\nCookie statement\\n\\n\\n\\n\\n\\n\\n\\n\\n\\n\\n'"
      ]
     },
     "execution_count": 6,
     "metadata": {},
     "output_type": "execute_result"
    }
   ],
   "source": [
    "page_cnt=bs(page.content)\n",
    "page_cnt.text"
   ]
  },
  {
   "cell_type": "code",
   "execution_count": 7,
   "id": "c9150632",
   "metadata": {},
   "outputs": [
    {
     "data": {
      "text/plain": [
       "\"From today's featured article\""
      ]
     },
     "execution_count": 7,
     "metadata": {},
     "output_type": "execute_result"
    }
   ],
   "source": [
    "head_tag=page_cnt.find(\"span\",class_=\"mw-headline\")\n",
    "head_tag.text"
   ]
  },
  {
   "cell_type": "code",
   "execution_count": 8,
   "id": "37f6be32",
   "metadata": {},
   "outputs": [
    {
     "data": {
      "text/plain": [
       "[\"From today's featured article\",\n",
       " 'Did you know\\xa0...',\n",
       " 'In the news',\n",
       " 'On this day',\n",
       " \"Today's featured picture\",\n",
       " 'Other areas of Wikipedia',\n",
       " \"Wikipedia's sister projects\",\n",
       " 'Wikipedia languages']"
      ]
     },
     "execution_count": 8,
     "metadata": {},
     "output_type": "execute_result"
    }
   ],
   "source": [
    "header_all_tag=[]\n",
    "for i in page_cnt.find_all(\"span\",class_=\"mw-headline\"):\n",
    "    header_all_tag.append(i.text)      \n",
    "header_all_tag"
   ]
  },
  {
   "cell_type": "code",
   "execution_count": 9,
   "id": "7db58019",
   "metadata": {},
   "outputs": [
    {
     "data": {
      "text/html": [
       "<div>\n",
       "<style scoped>\n",
       "    .dataframe tbody tr th:only-of-type {\n",
       "        vertical-align: middle;\n",
       "    }\n",
       "\n",
       "    .dataframe tbody tr th {\n",
       "        vertical-align: top;\n",
       "    }\n",
       "\n",
       "    .dataframe thead th {\n",
       "        text-align: right;\n",
       "    }\n",
       "</style>\n",
       "<table border=\"1\" class=\"dataframe\">\n",
       "  <thead>\n",
       "    <tr style=\"text-align: right;\">\n",
       "      <th></th>\n",
       "      <th>Header Tag</th>\n",
       "    </tr>\n",
       "  </thead>\n",
       "  <tbody>\n",
       "    <tr>\n",
       "      <th>0</th>\n",
       "      <td>From today's featured article</td>\n",
       "    </tr>\n",
       "    <tr>\n",
       "      <th>1</th>\n",
       "      <td>Did you know ...</td>\n",
       "    </tr>\n",
       "    <tr>\n",
       "      <th>2</th>\n",
       "      <td>In the news</td>\n",
       "    </tr>\n",
       "    <tr>\n",
       "      <th>3</th>\n",
       "      <td>On this day</td>\n",
       "    </tr>\n",
       "    <tr>\n",
       "      <th>4</th>\n",
       "      <td>Today's featured picture</td>\n",
       "    </tr>\n",
       "    <tr>\n",
       "      <th>5</th>\n",
       "      <td>Other areas of Wikipedia</td>\n",
       "    </tr>\n",
       "    <tr>\n",
       "      <th>6</th>\n",
       "      <td>Wikipedia's sister projects</td>\n",
       "    </tr>\n",
       "    <tr>\n",
       "      <th>7</th>\n",
       "      <td>Wikipedia languages</td>\n",
       "    </tr>\n",
       "  </tbody>\n",
       "</table>\n",
       "</div>"
      ],
      "text/plain": [
       "                      Header Tag\n",
       "0  From today's featured article\n",
       "1               Did you know ...\n",
       "2                    In the news\n",
       "3                    On this day\n",
       "4       Today's featured picture\n",
       "5       Other areas of Wikipedia\n",
       "6    Wikipedia's sister projects\n",
       "7            Wikipedia languages"
      ]
     },
     "execution_count": 9,
     "metadata": {},
     "output_type": "execute_result"
    }
   ],
   "source": [
    "import pandas as pd  \n",
    "\n",
    "df1=pd.DataFrame({\"Header Tag\":header_all_tag})\n",
    "\n",
    "df1"
   ]
  },
  {
   "cell_type": "code",
   "execution_count": null,
   "id": "fae07900",
   "metadata": {},
   "outputs": [],
   "source": []
  }
 ],
 "metadata": {
  "kernelspec": {
   "display_name": "Python 3 (ipykernel)",
   "language": "python",
   "name": "python3"
  },
  "language_info": {
   "codemirror_mode": {
    "name": "ipython",
    "version": 3
   },
   "file_extension": ".py",
   "mimetype": "text/x-python",
   "name": "python",
   "nbconvert_exporter": "python",
   "pygments_lexer": "ipython3",
   "version": "3.9.7"
  }
 },
 "nbformat": 4,
 "nbformat_minor": 5
}
